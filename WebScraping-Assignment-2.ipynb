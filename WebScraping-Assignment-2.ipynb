{
 "cells": [
  {
   "cell_type": "markdown",
   "metadata": {},
   "source": [
    "# Q1: Write a python program to scrape data for “Data Analyst” Job position in “Bangalore” location."
   ]
  },
  {
   "cell_type": "code",
   "execution_count": 1,
   "metadata": {},
   "outputs": [
    {
     "name": "stdout",
     "output_type": "stream",
     "text": [
      "Requirement already satisfied: selenium in c:\\users\\nitish\\anaconda3\\lib\\site-packages (3.141.0)\n",
      "Requirement already satisfied: urllib3 in c:\\users\\nitish\\anaconda3\\lib\\site-packages (from selenium) (1.25.11)\n"
     ]
    }
   ],
   "source": [
    "# installing selenium library\n",
    "!pip install selenium"
   ]
  },
  {
   "cell_type": "code",
   "execution_count": 2,
   "metadata": {},
   "outputs": [],
   "source": [
    "# importing libraries\n",
    "import selenium\n",
    "import pandas as pd\n",
    "from selenium import webdriver"
   ]
  },
  {
   "cell_type": "code",
   "execution_count": 3,
   "metadata": {},
   "outputs": [],
   "source": [
    "# connecting to webdriver\n",
    "driver = webdriver.Chrome(r\"C:\\Users\\Nitish\\Downloads\\Compressed\\chromedriver.exe\")"
   ]
  },
  {
   "cell_type": "code",
   "execution_count": 22,
   "metadata": {},
   "outputs": [],
   "source": [
    "# send get request to the webpage server to get the source code of the page\n",
    "url = 'https://www.naukri.com/'\n",
    "driver.get(url) "
   ]
  },
  {
   "cell_type": "code",
   "execution_count": 23,
   "metadata": {},
   "outputs": [
    {
     "data": {
      "text/plain": [
       "<selenium.webdriver.remote.webelement.WebElement (session=\"a9a8a880205f50405b61f048457121d0\", element=\"1a9c140f-675c-4704-b071-22d7ab81442e\")>"
      ]
     },
     "execution_count": 23,
     "metadata": {},
     "output_type": "execute_result"
    }
   ],
   "source": [
    "search_job = driver.find_element_by_id('qsb-keyword-sugg')\n",
    "search_job"
   ]
  },
  {
   "cell_type": "code",
   "execution_count": 24,
   "metadata": {},
   "outputs": [],
   "source": [
    "# write on search bar\n",
    "search_job.send_keys(\"Data Analyst\")"
   ]
  },
  {
   "cell_type": "code",
   "execution_count": 25,
   "metadata": {},
   "outputs": [],
   "source": [
    "# finding element for job location bar\n",
    "search_loc = driver.find_element_by_id(\"qsb-location-sugg\")\n",
    "search_loc.send_keys(\"Bangalore\")"
   ]
  },
  {
   "cell_type": "code",
   "execution_count": 26,
   "metadata": {},
   "outputs": [],
   "source": [
    "# do click using xpath function\n",
    "search_btn = driver.find_element_by_xpath(\"//button[@class='btn']\")\n",
    "search_btn.click()"
   ]
  },
  {
   "cell_type": "code",
   "execution_count": 27,
   "metadata": {},
   "outputs": [
    {
     "data": {
      "text/plain": [
       "[<selenium.webdriver.remote.webelement.WebElement (session=\"a9a8a880205f50405b61f048457121d0\", element=\"491f7fc1-87e2-4835-8f42-16d76a50b412\")>,\n",
       " <selenium.webdriver.remote.webelement.WebElement (session=\"a9a8a880205f50405b61f048457121d0\", element=\"a59475fd-bb1a-4598-b33c-4e5a41162b94\")>,\n",
       " <selenium.webdriver.remote.webelement.WebElement (session=\"a9a8a880205f50405b61f048457121d0\", element=\"9c2358f3-c7f4-4afc-8691-3fc0ed0743a0\")>,\n",
       " <selenium.webdriver.remote.webelement.WebElement (session=\"a9a8a880205f50405b61f048457121d0\", element=\"7aaec400-a380-4eda-9236-7f2c751812a7\")>,\n",
       " <selenium.webdriver.remote.webelement.WebElement (session=\"a9a8a880205f50405b61f048457121d0\", element=\"91edad1f-27e5-4f57-acd8-146742841f4c\")>,\n",
       " <selenium.webdriver.remote.webelement.WebElement (session=\"a9a8a880205f50405b61f048457121d0\", element=\"b0474ca1-6fab-4387-82f4-57d5b11214ef\")>,\n",
       " <selenium.webdriver.remote.webelement.WebElement (session=\"a9a8a880205f50405b61f048457121d0\", element=\"4febafc5-a28b-42df-a420-a33b187cb716\")>,\n",
       " <selenium.webdriver.remote.webelement.WebElement (session=\"a9a8a880205f50405b61f048457121d0\", element=\"c8a3c72f-4c3f-4f88-a64c-69a6a7017266\")>,\n",
       " <selenium.webdriver.remote.webelement.WebElement (session=\"a9a8a880205f50405b61f048457121d0\", element=\"af20cf44-163c-4ca7-bd8a-f7acd7888690\")>,\n",
       " <selenium.webdriver.remote.webelement.WebElement (session=\"a9a8a880205f50405b61f048457121d0\", element=\"d32ac690-c676-410e-81c9-83793fa40592\")>,\n",
       " <selenium.webdriver.remote.webelement.WebElement (session=\"a9a8a880205f50405b61f048457121d0\", element=\"084ff632-662c-4d99-9e49-c29539301d5f\")>,\n",
       " <selenium.webdriver.remote.webelement.WebElement (session=\"a9a8a880205f50405b61f048457121d0\", element=\"15aada6a-aa73-4619-a97d-f1801ab1ca3b\")>,\n",
       " <selenium.webdriver.remote.webelement.WebElement (session=\"a9a8a880205f50405b61f048457121d0\", element=\"83ecd106-acf9-4ff2-8462-1760d8e14040\")>,\n",
       " <selenium.webdriver.remote.webelement.WebElement (session=\"a9a8a880205f50405b61f048457121d0\", element=\"ff73681d-0b50-4aea-9dc3-e5591aa5f62d\")>,\n",
       " <selenium.webdriver.remote.webelement.WebElement (session=\"a9a8a880205f50405b61f048457121d0\", element=\"a0159ebe-3ff6-42de-ba92-e943911ef70b\")>,\n",
       " <selenium.webdriver.remote.webelement.WebElement (session=\"a9a8a880205f50405b61f048457121d0\", element=\"a6d048d2-ce80-41f5-b734-2a746882e835\")>,\n",
       " <selenium.webdriver.remote.webelement.WebElement (session=\"a9a8a880205f50405b61f048457121d0\", element=\"2b2f108f-ac2e-46d1-a3a0-2a4250fc586a\")>,\n",
       " <selenium.webdriver.remote.webelement.WebElement (session=\"a9a8a880205f50405b61f048457121d0\", element=\"63e6f36c-801e-48ae-a592-beb83be0101f\")>,\n",
       " <selenium.webdriver.remote.webelement.WebElement (session=\"a9a8a880205f50405b61f048457121d0\", element=\"bbd51a80-c9d3-479c-8143-09f755123eb0\")>,\n",
       " <selenium.webdriver.remote.webelement.WebElement (session=\"a9a8a880205f50405b61f048457121d0\", element=\"c155e0e8-effc-4b39-87c7-414543b24f8d\")>]"
      ]
     },
     "execution_count": 27,
     "metadata": {},
     "output_type": "execute_result"
    }
   ],
   "source": [
    "# extracting tags havings job titles\n",
    "title_tags = driver.find_elements_by_xpath(\"//a[@class='title fw500 ellipsis']\")\n",
    "title_tags"
   ]
  },
  {
   "cell_type": "code",
   "execution_count": 28,
   "metadata": {},
   "outputs": [
    {
     "data": {
      "text/plain": [
       "['Data Scientist / Data Analyst -Business Analyst',\n",
       " 'Network Design & Data Analyst',\n",
       " 'Senior Security Specialist - CS Awareness & Data Analyst',\n",
       " 'Data Analyst',\n",
       " 'Data Analyst',\n",
       " 'Senior Data Analyst',\n",
       " 'Data analysts',\n",
       " 'Data analysts',\n",
       " 'Data Analyst',\n",
       " 'Data Analyst (Data Stewards)//Immediate Joiners//Bangalore']"
      ]
     },
     "execution_count": 28,
     "metadata": {},
     "output_type": "execute_result"
    }
   ],
   "source": [
    "job_titles = [] # creating empty list to store values\n",
    "for i in title_tags:   # running loop\n",
    "    job_titles.append(i.text)\n",
    "    \n",
    "job_titles[:10] # Using indexing to scrape first 10 job titles"
   ]
  },
  {
   "cell_type": "code",
   "execution_count": 29,
   "metadata": {},
   "outputs": [],
   "source": [
    "# extracting tags havings job locations\n",
    "loc_tags = driver.find_elements_by_xpath(\"//span[@class='ellipsis fleft fs12 lh16']\")"
   ]
  },
  {
   "cell_type": "code",
   "execution_count": 30,
   "metadata": {},
   "outputs": [
    {
     "data": {
      "text/plain": [
       "['0-3 Yrs',\n",
       " '3,50,000 - 4,50,000 PA.',\n",
       " 'Hyderabad/Secunderabad, Chennai, Bangalore/Bengaluru',\n",
       " '0-2 Yrs',\n",
       " 'Not disclosed',\n",
       " 'Bangalore/Bengaluru',\n",
       " '4-7 Yrs',\n",
       " 'Not disclosed',\n",
       " 'Bangalore/Bengaluru',\n",
       " '0-2 Yrs']"
      ]
     },
     "execution_count": 30,
     "metadata": {},
     "output_type": "execute_result"
    }
   ],
   "source": [
    "location_tags = [] # creating empty list to store values\n",
    "for i in loc_tags: # running loop\n",
    "    location_tags.append(i.text)\n",
    "    \n",
    "location_tags[:10]"
   ]
  },
  {
   "cell_type": "code",
   "execution_count": 31,
   "metadata": {},
   "outputs": [],
   "source": [
    "location = [] # empty list\n",
    "for i in range(2,len(location_tags),3):\n",
    "    location.append(location_tags[i].strip()) # to scrape only location data"
   ]
  },
  {
   "cell_type": "code",
   "execution_count": 32,
   "metadata": {},
   "outputs": [
    {
     "data": {
      "text/plain": [
       "['Hyderabad/Secunderabad, Chennai, Bangalore/Bengaluru',\n",
       " 'Bangalore/Bengaluru',\n",
       " 'Bangalore/Bengaluru',\n",
       " 'Bangalore/Bengaluru',\n",
       " 'Chennai, Bangalore/Bengaluru, Mumbai (All Areas)',\n",
       " 'Bangalore/Bengaluru',\n",
       " 'Bangalore/Bengaluru',\n",
       " 'Bengaluru/Bangalore',\n",
       " 'Bangalore/Bengaluru',\n",
       " 'Bangalore/Bengaluru']"
      ]
     },
     "execution_count": 32,
     "metadata": {},
     "output_type": "execute_result"
    }
   ],
   "source": [
    "location[:10] # using indexing to get first 10 job locations"
   ]
  },
  {
   "cell_type": "code",
   "execution_count": 33,
   "metadata": {},
   "outputs": [
    {
     "data": {
      "text/plain": [
       "['0-3 Yrs',\n",
       " '0-2 Yrs',\n",
       " '4-7 Yrs',\n",
       " '0-2 Yrs',\n",
       " '0-0 Yrs',\n",
       " '4-5 Yrs',\n",
       " '3-5 Yrs',\n",
       " '5-6 Yrs',\n",
       " '0-4 Yrs',\n",
       " '5-10 Yrs']"
      ]
     },
     "execution_count": 33,
     "metadata": {},
     "output_type": "execute_result"
    }
   ],
   "source": [
    "experience = [] # empty list\n",
    "for i in range(0,len(location_tags),3):\n",
    "    experience.append(location_tags[i].strip()) # to scrape only experience data\n",
    "    \n",
    "experience[:10] # using indexing to get first 10 experience "
   ]
  },
  {
   "cell_type": "code",
   "execution_count": 35,
   "metadata": {},
   "outputs": [
    {
     "data": {
      "text/plain": [
       "[<selenium.webdriver.remote.webelement.WebElement (session=\"a9a8a880205f50405b61f048457121d0\", element=\"77b8581c-44df-45c2-b9d1-5cbe79673941\")>,\n",
       " <selenium.webdriver.remote.webelement.WebElement (session=\"a9a8a880205f50405b61f048457121d0\", element=\"c40d3b9e-ca59-4076-820f-afee617c5aad\")>,\n",
       " <selenium.webdriver.remote.webelement.WebElement (session=\"a9a8a880205f50405b61f048457121d0\", element=\"7100b321-277a-4db4-a1d4-458873917423\")>,\n",
       " <selenium.webdriver.remote.webelement.WebElement (session=\"a9a8a880205f50405b61f048457121d0\", element=\"8156d23b-ae93-46ed-9a71-928af097f018\")>,\n",
       " <selenium.webdriver.remote.webelement.WebElement (session=\"a9a8a880205f50405b61f048457121d0\", element=\"c9720ddc-eb89-4f3b-8e48-4f8b39e9b50b\")>,\n",
       " <selenium.webdriver.remote.webelement.WebElement (session=\"a9a8a880205f50405b61f048457121d0\", element=\"764d16d5-b31e-4d4c-b0b0-192f1ec8ae90\")>,\n",
       " <selenium.webdriver.remote.webelement.WebElement (session=\"a9a8a880205f50405b61f048457121d0\", element=\"76256966-ce9c-4467-93cd-f460a739ac9e\")>,\n",
       " <selenium.webdriver.remote.webelement.WebElement (session=\"a9a8a880205f50405b61f048457121d0\", element=\"7b4bb5c2-dd49-4c7e-9f89-5405e9fd73df\")>,\n",
       " <selenium.webdriver.remote.webelement.WebElement (session=\"a9a8a880205f50405b61f048457121d0\", element=\"ff8df698-7db7-4640-8591-f6f61bb43276\")>,\n",
       " <selenium.webdriver.remote.webelement.WebElement (session=\"a9a8a880205f50405b61f048457121d0\", element=\"04d62b79-ff19-4e17-be4c-4d732b3ed4e3\")>]"
      ]
     },
     "execution_count": 35,
     "metadata": {},
     "output_type": "execute_result"
    }
   ],
   "source": [
    "# extracting web elements\n",
    "company = driver.find_elements_by_xpath(\"//a[@class='subTitle ellipsis fleft']\")\n",
    "company[:10]"
   ]
  },
  {
   "cell_type": "code",
   "execution_count": 36,
   "metadata": {},
   "outputs": [
    {
     "data": {
      "text/plain": [
       "['Inflexion Analytix Private Limited',\n",
       " 'Dell International Services India Private Limited',\n",
       " 'Cognizant Technology Solutions India Pvt Ltd',\n",
       " 'Bright Money',\n",
       " 'Edubrigde',\n",
       " 'Flipkart Internet Private Limited',\n",
       " 'IBM India Pvt. Limited',\n",
       " 'IBM India Pvt. Limited',\n",
       " 'Zilingo.com',\n",
       " 'Tech Mahindra Ltd.']"
      ]
     },
     "execution_count": 36,
     "metadata": {},
     "output_type": "execute_result"
    }
   ],
   "source": [
    "company_name = [] # empty list\n",
    "for i in company: \n",
    "        company_name.append(i.text.replace('\\n',''))\n",
    "\n",
    "company_name [:10]"
   ]
  },
  {
   "cell_type": "code",
   "execution_count": 37,
   "metadata": {},
   "outputs": [],
   "source": [
    "naukri=pd.DataFrame({})            # making dataframe\n",
    "naukri['Job Title']=job_titles\n",
    "naukri['Job location']=location\n",
    "naukri['Company Name']=company_name\n",
    "naukri['Experience Required']=experience"
   ]
  },
  {
   "cell_type": "code",
   "execution_count": 38,
   "metadata": {},
   "outputs": [
    {
     "data": {
      "text/html": [
       "<div>\n",
       "<style scoped>\n",
       "    .dataframe tbody tr th:only-of-type {\n",
       "        vertical-align: middle;\n",
       "    }\n",
       "\n",
       "    .dataframe tbody tr th {\n",
       "        vertical-align: top;\n",
       "    }\n",
       "\n",
       "    .dataframe thead th {\n",
       "        text-align: right;\n",
       "    }\n",
       "</style>\n",
       "<table border=\"1\" class=\"dataframe\">\n",
       "  <thead>\n",
       "    <tr style=\"text-align: right;\">\n",
       "      <th></th>\n",
       "      <th>Job Title</th>\n",
       "      <th>Job location</th>\n",
       "      <th>Company Name</th>\n",
       "      <th>Experience Required</th>\n",
       "    </tr>\n",
       "  </thead>\n",
       "  <tbody>\n",
       "    <tr>\n",
       "      <th>0</th>\n",
       "      <td>Data Scientist / Data Analyst -Business Analyst</td>\n",
       "      <td>Hyderabad/Secunderabad, Chennai, Bangalore/Ben...</td>\n",
       "      <td>Inflexion Analytix Private Limited</td>\n",
       "      <td>0-3 Yrs</td>\n",
       "    </tr>\n",
       "    <tr>\n",
       "      <th>1</th>\n",
       "      <td>Network Design &amp; Data Analyst</td>\n",
       "      <td>Bangalore/Bengaluru</td>\n",
       "      <td>Dell International Services India Private Limited</td>\n",
       "      <td>0-2 Yrs</td>\n",
       "    </tr>\n",
       "    <tr>\n",
       "      <th>2</th>\n",
       "      <td>Senior Security Specialist - CS Awareness &amp; Da...</td>\n",
       "      <td>Bangalore/Bengaluru</td>\n",
       "      <td>Cognizant Technology Solutions India Pvt Ltd</td>\n",
       "      <td>4-7 Yrs</td>\n",
       "    </tr>\n",
       "    <tr>\n",
       "      <th>3</th>\n",
       "      <td>Data Analyst</td>\n",
       "      <td>Bangalore/Bengaluru</td>\n",
       "      <td>Bright Money</td>\n",
       "      <td>0-2 Yrs</td>\n",
       "    </tr>\n",
       "    <tr>\n",
       "      <th>4</th>\n",
       "      <td>Data Analyst</td>\n",
       "      <td>Chennai, Bangalore/Bengaluru, Mumbai (All Areas)</td>\n",
       "      <td>Edubrigde</td>\n",
       "      <td>0-0 Yrs</td>\n",
       "    </tr>\n",
       "    <tr>\n",
       "      <th>5</th>\n",
       "      <td>Senior Data Analyst</td>\n",
       "      <td>Bangalore/Bengaluru</td>\n",
       "      <td>Flipkart Internet Private Limited</td>\n",
       "      <td>4-5 Yrs</td>\n",
       "    </tr>\n",
       "    <tr>\n",
       "      <th>6</th>\n",
       "      <td>Data analysts</td>\n",
       "      <td>Bangalore/Bengaluru</td>\n",
       "      <td>IBM India Pvt. Limited</td>\n",
       "      <td>3-5 Yrs</td>\n",
       "    </tr>\n",
       "    <tr>\n",
       "      <th>7</th>\n",
       "      <td>Data analysts</td>\n",
       "      <td>Bengaluru/Bangalore</td>\n",
       "      <td>IBM India Pvt. Limited</td>\n",
       "      <td>5-6 Yrs</td>\n",
       "    </tr>\n",
       "    <tr>\n",
       "      <th>8</th>\n",
       "      <td>Data Analyst</td>\n",
       "      <td>Bangalore/Bengaluru</td>\n",
       "      <td>Zilingo.com</td>\n",
       "      <td>0-4 Yrs</td>\n",
       "    </tr>\n",
       "    <tr>\n",
       "      <th>9</th>\n",
       "      <td>Data Analyst (Data Stewards)//Immediate Joiner...</td>\n",
       "      <td>Bangalore/Bengaluru</td>\n",
       "      <td>Tech Mahindra Ltd.</td>\n",
       "      <td>5-10 Yrs</td>\n",
       "    </tr>\n",
       "  </tbody>\n",
       "</table>\n",
       "</div>"
      ],
      "text/plain": [
       "                                           Job Title  \\\n",
       "0    Data Scientist / Data Analyst -Business Analyst   \n",
       "1                      Network Design & Data Analyst   \n",
       "2  Senior Security Specialist - CS Awareness & Da...   \n",
       "3                                       Data Analyst   \n",
       "4                                       Data Analyst   \n",
       "5                                Senior Data Analyst   \n",
       "6                                      Data analysts   \n",
       "7                                      Data analysts   \n",
       "8                                       Data Analyst   \n",
       "9  Data Analyst (Data Stewards)//Immediate Joiner...   \n",
       "\n",
       "                                        Job location  \\\n",
       "0  Hyderabad/Secunderabad, Chennai, Bangalore/Ben...   \n",
       "1                                Bangalore/Bengaluru   \n",
       "2                                Bangalore/Bengaluru   \n",
       "3                                Bangalore/Bengaluru   \n",
       "4   Chennai, Bangalore/Bengaluru, Mumbai (All Areas)   \n",
       "5                                Bangalore/Bengaluru   \n",
       "6                                Bangalore/Bengaluru   \n",
       "7                                Bengaluru/Bangalore   \n",
       "8                                Bangalore/Bengaluru   \n",
       "9                                Bangalore/Bengaluru   \n",
       "\n",
       "                                        Company Name Experience Required  \n",
       "0                 Inflexion Analytix Private Limited             0-3 Yrs  \n",
       "1  Dell International Services India Private Limited             0-2 Yrs  \n",
       "2       Cognizant Technology Solutions India Pvt Ltd             4-7 Yrs  \n",
       "3                                       Bright Money             0-2 Yrs  \n",
       "4                                          Edubrigde             0-0 Yrs  \n",
       "5                  Flipkart Internet Private Limited             4-5 Yrs  \n",
       "6                             IBM India Pvt. Limited             3-5 Yrs  \n",
       "7                             IBM India Pvt. Limited             5-6 Yrs  \n",
       "8                                        Zilingo.com             0-4 Yrs  \n",
       "9                                 Tech Mahindra Ltd.            5-10 Yrs  "
      ]
     },
     "execution_count": 38,
     "metadata": {},
     "output_type": "execute_result"
    }
   ],
   "source": [
    "naukri [:10] #created dataframe "
   ]
  },
  {
   "cell_type": "code",
   "execution_count": 39,
   "metadata": {},
   "outputs": [],
   "source": [
    "driver.close()"
   ]
  },
  {
   "cell_type": "code",
   "execution_count": null,
   "metadata": {},
   "outputs": [],
   "source": []
  },
  {
   "cell_type": "markdown",
   "metadata": {},
   "source": [
    "# Q2: Write a python program to scrape data for “Data Scientist” Job position in “Bangalore” location."
   ]
  },
  {
   "cell_type": "code",
   "execution_count": 40,
   "metadata": {},
   "outputs": [],
   "source": [
    "# connecting to web driver\n",
    "driver = webdriver.Chrome(r\"C:\\Users\\Nitish\\Downloads\\Compressed\\chromedriver.exe\")"
   ]
  },
  {
   "cell_type": "code",
   "execution_count": 41,
   "metadata": {},
   "outputs": [],
   "source": [
    "# send get request to the webpage server to get the source code of the page\n",
    "url = 'https://www.naukri.com/'\n",
    "driver.get(url) "
   ]
  },
  {
   "cell_type": "code",
   "execution_count": 42,
   "metadata": {},
   "outputs": [
    {
     "data": {
      "text/plain": [
       "<selenium.webdriver.remote.webelement.WebElement (session=\"4ee7cb58c94c889ceb64ebe73ad8c614\", element=\"b2c3c66d-719e-4631-b14b-b23c92dccf8d\")>"
      ]
     },
     "execution_count": 42,
     "metadata": {},
     "output_type": "execute_result"
    }
   ],
   "source": [
    "search_job = driver.find_element_by_id('qsb-keyword-sugg')\n",
    "search_job"
   ]
  },
  {
   "cell_type": "code",
   "execution_count": 43,
   "metadata": {},
   "outputs": [],
   "source": [
    "# write on search bar\n",
    "search_job.send_keys(\"Data Scientist\")"
   ]
  },
  {
   "cell_type": "code",
   "execution_count": 44,
   "metadata": {},
   "outputs": [],
   "source": [
    "# finding element for job location bar\n",
    "search_loc = driver.find_element_by_id(\"qsb-location-sugg\")\n",
    "search_loc.send_keys(\"Bangalore\")"
   ]
  },
  {
   "cell_type": "code",
   "execution_count": 45,
   "metadata": {},
   "outputs": [],
   "source": [
    "search_btn = driver.find_element_by_xpath(\"//button[@class='btn']\")\n",
    "search_btn.click()"
   ]
  },
  {
   "cell_type": "code",
   "execution_count": 47,
   "metadata": {},
   "outputs": [
    {
     "data": {
      "text/plain": [
       "[<selenium.webdriver.remote.webelement.WebElement (session=\"4ee7cb58c94c889ceb64ebe73ad8c614\", element=\"c6f21097-f968-4bd9-b99b-60007aca42b6\")>,\n",
       " <selenium.webdriver.remote.webelement.WebElement (session=\"4ee7cb58c94c889ceb64ebe73ad8c614\", element=\"7ffe87ff-6429-4229-9307-1abfcb85f4a4\")>,\n",
       " <selenium.webdriver.remote.webelement.WebElement (session=\"4ee7cb58c94c889ceb64ebe73ad8c614\", element=\"0b492efa-88a4-401d-ab25-3edeb1b8f3b9\")>,\n",
       " <selenium.webdriver.remote.webelement.WebElement (session=\"4ee7cb58c94c889ceb64ebe73ad8c614\", element=\"67790c3c-fd4f-40f7-b977-6317a0e7ce31\")>,\n",
       " <selenium.webdriver.remote.webelement.WebElement (session=\"4ee7cb58c94c889ceb64ebe73ad8c614\", element=\"a3f9dbb2-9db5-4805-910a-fb0481cf3a3c\")>,\n",
       " <selenium.webdriver.remote.webelement.WebElement (session=\"4ee7cb58c94c889ceb64ebe73ad8c614\", element=\"4eef04a4-5f60-4b91-9c71-796358ab1689\")>,\n",
       " <selenium.webdriver.remote.webelement.WebElement (session=\"4ee7cb58c94c889ceb64ebe73ad8c614\", element=\"456732d0-d8e6-4a5d-b0e5-01add671a381\")>,\n",
       " <selenium.webdriver.remote.webelement.WebElement (session=\"4ee7cb58c94c889ceb64ebe73ad8c614\", element=\"22781799-9cc9-4d88-87b5-0e302d083ef1\")>,\n",
       " <selenium.webdriver.remote.webelement.WebElement (session=\"4ee7cb58c94c889ceb64ebe73ad8c614\", element=\"845a6baa-c376-495c-95e2-64f39037f683\")>,\n",
       " <selenium.webdriver.remote.webelement.WebElement (session=\"4ee7cb58c94c889ceb64ebe73ad8c614\", element=\"3f802e2b-3bb3-4a22-b6a0-dfbca7a7aa9f\")>]"
      ]
     },
     "execution_count": 47,
     "metadata": {},
     "output_type": "execute_result"
    }
   ],
   "source": [
    "# extracting tags havings job titles\n",
    "title_tags = driver.find_elements_by_xpath(\"//a[@class='title fw500 ellipsis']\")\n",
    "title_tags[:10]"
   ]
  },
  {
   "cell_type": "code",
   "execution_count": 48,
   "metadata": {},
   "outputs": [
    {
     "data": {
      "text/plain": [
       "['Data Scientist / Data Analyst -Business Analyst',\n",
       " 'Senior Data Scientist',\n",
       " 'Senior/Lead Data Scientist - Machine Learning/Deep Learning',\n",
       " 'Senior Data Scientist',\n",
       " 'Senior Data Scientist',\n",
       " 'Lead Data Scientist - Machine Learning/ Data Mining',\n",
       " 'Data Scientist',\n",
       " 'Data Scientist - Consumer Analytics',\n",
       " 'Data Scientist I',\n",
       " 'Data Scientist IV']"
      ]
     },
     "execution_count": 48,
     "metadata": {},
     "output_type": "execute_result"
    }
   ],
   "source": [
    "job_titles = [] # creating empty list to store values\n",
    "for i in title_tags:   # running loop\n",
    "    job_titles.append(i.text)\n",
    "    \n",
    "job_titles[:10] # Using indexing to scrape first 10 job titles"
   ]
  },
  {
   "cell_type": "code",
   "execution_count": 49,
   "metadata": {},
   "outputs": [
    {
     "data": {
      "text/plain": [
       "[<selenium.webdriver.remote.webelement.WebElement (session=\"4ee7cb58c94c889ceb64ebe73ad8c614\", element=\"40aebb68-fbe8-4bd0-b9d2-9f9b016fadb3\")>,\n",
       " <selenium.webdriver.remote.webelement.WebElement (session=\"4ee7cb58c94c889ceb64ebe73ad8c614\", element=\"7ef7f55d-a4d7-47c0-870f-167e67143623\")>,\n",
       " <selenium.webdriver.remote.webelement.WebElement (session=\"4ee7cb58c94c889ceb64ebe73ad8c614\", element=\"fde82ea7-c6fd-4bce-b662-ce22d2a75676\")>,\n",
       " <selenium.webdriver.remote.webelement.WebElement (session=\"4ee7cb58c94c889ceb64ebe73ad8c614\", element=\"c1f47fd4-dd9d-4e01-8c4e-7b8fc4abe3f9\")>,\n",
       " <selenium.webdriver.remote.webelement.WebElement (session=\"4ee7cb58c94c889ceb64ebe73ad8c614\", element=\"7e0ed96a-230c-4ce3-b6d8-78981ba580ed\")>,\n",
       " <selenium.webdriver.remote.webelement.WebElement (session=\"4ee7cb58c94c889ceb64ebe73ad8c614\", element=\"a5e5e921-7398-4d89-88a7-4bbf46398c22\")>,\n",
       " <selenium.webdriver.remote.webelement.WebElement (session=\"4ee7cb58c94c889ceb64ebe73ad8c614\", element=\"f037f000-c2ce-4186-bdc0-81f2f7dd4276\")>,\n",
       " <selenium.webdriver.remote.webelement.WebElement (session=\"4ee7cb58c94c889ceb64ebe73ad8c614\", element=\"a4345b51-d7e4-4732-bd26-8c6a5d7e6b8f\")>,\n",
       " <selenium.webdriver.remote.webelement.WebElement (session=\"4ee7cb58c94c889ceb64ebe73ad8c614\", element=\"feb00dc6-4cee-40f0-887a-7d88c2003c6e\")>,\n",
       " <selenium.webdriver.remote.webelement.WebElement (session=\"4ee7cb58c94c889ceb64ebe73ad8c614\", element=\"7162ce06-de8b-4929-a4f1-023356e65fb7\")>,\n",
       " <selenium.webdriver.remote.webelement.WebElement (session=\"4ee7cb58c94c889ceb64ebe73ad8c614\", element=\"5c1e2539-159b-4b53-9c3b-af953e94d2e7\")>,\n",
       " <selenium.webdriver.remote.webelement.WebElement (session=\"4ee7cb58c94c889ceb64ebe73ad8c614\", element=\"f59ab3f2-f979-4791-ba92-277851e07f58\")>,\n",
       " <selenium.webdriver.remote.webelement.WebElement (session=\"4ee7cb58c94c889ceb64ebe73ad8c614\", element=\"6e4eead6-4e2a-493a-8b34-990bc5088ba1\")>,\n",
       " <selenium.webdriver.remote.webelement.WebElement (session=\"4ee7cb58c94c889ceb64ebe73ad8c614\", element=\"0150aacf-2fe6-4719-98a4-4984ee2ca986\")>,\n",
       " <selenium.webdriver.remote.webelement.WebElement (session=\"4ee7cb58c94c889ceb64ebe73ad8c614\", element=\"f30aa6dd-d346-4f16-bb61-9fe279922ad5\")>,\n",
       " <selenium.webdriver.remote.webelement.WebElement (session=\"4ee7cb58c94c889ceb64ebe73ad8c614\", element=\"50c46298-6323-4499-a39a-cb798cbfed21\")>,\n",
       " <selenium.webdriver.remote.webelement.WebElement (session=\"4ee7cb58c94c889ceb64ebe73ad8c614\", element=\"8a806219-ca6b-412f-b667-eb64abf34723\")>,\n",
       " <selenium.webdriver.remote.webelement.WebElement (session=\"4ee7cb58c94c889ceb64ebe73ad8c614\", element=\"3acbe953-5f58-4cb3-abdd-2a0c33166f95\")>,\n",
       " <selenium.webdriver.remote.webelement.WebElement (session=\"4ee7cb58c94c889ceb64ebe73ad8c614\", element=\"9396a237-c0aa-47fc-b84b-c1b06e873274\")>,\n",
       " <selenium.webdriver.remote.webelement.WebElement (session=\"4ee7cb58c94c889ceb64ebe73ad8c614\", element=\"52949f84-bdac-46bf-bb85-ae3fd61eb3c3\")>,\n",
       " <selenium.webdriver.remote.webelement.WebElement (session=\"4ee7cb58c94c889ceb64ebe73ad8c614\", element=\"e9d2d5c4-7bba-4e5c-8056-9d155bc1cb11\")>,\n",
       " <selenium.webdriver.remote.webelement.WebElement (session=\"4ee7cb58c94c889ceb64ebe73ad8c614\", element=\"d30a07b9-4f41-4a83-9176-d7c8c73307e7\")>,\n",
       " <selenium.webdriver.remote.webelement.WebElement (session=\"4ee7cb58c94c889ceb64ebe73ad8c614\", element=\"3c32349e-872d-4100-83e6-ae097b6e93e2\")>,\n",
       " <selenium.webdriver.remote.webelement.WebElement (session=\"4ee7cb58c94c889ceb64ebe73ad8c614\", element=\"29724845-b9ea-4e6c-a651-579587d4cdfc\")>,\n",
       " <selenium.webdriver.remote.webelement.WebElement (session=\"4ee7cb58c94c889ceb64ebe73ad8c614\", element=\"936e4aa6-39e7-46e7-95bb-f4a889254db8\")>,\n",
       " <selenium.webdriver.remote.webelement.WebElement (session=\"4ee7cb58c94c889ceb64ebe73ad8c614\", element=\"7e85920b-c939-4323-a86a-f2e1df9a94f5\")>,\n",
       " <selenium.webdriver.remote.webelement.WebElement (session=\"4ee7cb58c94c889ceb64ebe73ad8c614\", element=\"fd877181-28d8-4694-9a46-0d90b5749a9a\")>,\n",
       " <selenium.webdriver.remote.webelement.WebElement (session=\"4ee7cb58c94c889ceb64ebe73ad8c614\", element=\"c5e86774-4757-4b96-a555-9f247fc3501c\")>,\n",
       " <selenium.webdriver.remote.webelement.WebElement (session=\"4ee7cb58c94c889ceb64ebe73ad8c614\", element=\"114a45bd-0691-40ae-ae25-055d7d76c6bc\")>,\n",
       " <selenium.webdriver.remote.webelement.WebElement (session=\"4ee7cb58c94c889ceb64ebe73ad8c614\", element=\"b8da968c-f74f-425c-92cf-be3ebd919dc9\")>,\n",
       " <selenium.webdriver.remote.webelement.WebElement (session=\"4ee7cb58c94c889ceb64ebe73ad8c614\", element=\"6f349dd4-9459-4788-8b06-bb97c2ec770a\")>,\n",
       " <selenium.webdriver.remote.webelement.WebElement (session=\"4ee7cb58c94c889ceb64ebe73ad8c614\", element=\"9051fc6f-7e9f-416c-90e6-49d4b0473b35\")>,\n",
       " <selenium.webdriver.remote.webelement.WebElement (session=\"4ee7cb58c94c889ceb64ebe73ad8c614\", element=\"5fedaa2f-f2ae-4d3e-a2e0-fc1981709999\")>,\n",
       " <selenium.webdriver.remote.webelement.WebElement (session=\"4ee7cb58c94c889ceb64ebe73ad8c614\", element=\"19e4c335-703c-4ead-aece-f573e1854232\")>,\n",
       " <selenium.webdriver.remote.webelement.WebElement (session=\"4ee7cb58c94c889ceb64ebe73ad8c614\", element=\"3c6a04f9-fd2b-46bb-9710-5ad64faff2a0\")>,\n",
       " <selenium.webdriver.remote.webelement.WebElement (session=\"4ee7cb58c94c889ceb64ebe73ad8c614\", element=\"970afdd9-bcf8-492f-95bd-632d5dee708b\")>,\n",
       " <selenium.webdriver.remote.webelement.WebElement (session=\"4ee7cb58c94c889ceb64ebe73ad8c614\", element=\"90bb8d8d-1241-416d-8c7e-746a3222c80b\")>,\n",
       " <selenium.webdriver.remote.webelement.WebElement (session=\"4ee7cb58c94c889ceb64ebe73ad8c614\", element=\"19010c2a-4d08-403f-98c9-bb155030814f\")>,\n",
       " <selenium.webdriver.remote.webelement.WebElement (session=\"4ee7cb58c94c889ceb64ebe73ad8c614\", element=\"2c9e0c69-3de2-451e-a8ec-ea42a54a970f\")>,\n",
       " <selenium.webdriver.remote.webelement.WebElement (session=\"4ee7cb58c94c889ceb64ebe73ad8c614\", element=\"d39f312c-6cd0-44da-845f-a3c1137d81de\")>,\n",
       " <selenium.webdriver.remote.webelement.WebElement (session=\"4ee7cb58c94c889ceb64ebe73ad8c614\", element=\"5660ded2-f9df-4c1c-aaae-f650526900b8\")>,\n",
       " <selenium.webdriver.remote.webelement.WebElement (session=\"4ee7cb58c94c889ceb64ebe73ad8c614\", element=\"de281d63-f4cc-4c2e-964a-fda7c0c7f7ce\")>,\n",
       " <selenium.webdriver.remote.webelement.WebElement (session=\"4ee7cb58c94c889ceb64ebe73ad8c614\", element=\"18f84117-e742-4e58-8b64-32fde316f5a0\")>,\n",
       " <selenium.webdriver.remote.webelement.WebElement (session=\"4ee7cb58c94c889ceb64ebe73ad8c614\", element=\"fd4a3b79-a29b-4e03-95ab-0c101ad6ce56\")>,\n",
       " <selenium.webdriver.remote.webelement.WebElement (session=\"4ee7cb58c94c889ceb64ebe73ad8c614\", element=\"8fed1515-ead5-45a0-bac4-d4eda791be6b\")>,\n",
       " <selenium.webdriver.remote.webelement.WebElement (session=\"4ee7cb58c94c889ceb64ebe73ad8c614\", element=\"e33ea1cb-5d9d-47aa-81b2-1c7f61738355\")>,\n",
       " <selenium.webdriver.remote.webelement.WebElement (session=\"4ee7cb58c94c889ceb64ebe73ad8c614\", element=\"938a308c-ff1c-4dfe-bbbe-43458136aa87\")>,\n",
       " <selenium.webdriver.remote.webelement.WebElement (session=\"4ee7cb58c94c889ceb64ebe73ad8c614\", element=\"757c56ad-521c-4451-a89c-675d2cd8db35\")>,\n",
       " <selenium.webdriver.remote.webelement.WebElement (session=\"4ee7cb58c94c889ceb64ebe73ad8c614\", element=\"0a6ab292-530b-48dd-9e01-7182581fa4ee\")>,\n",
       " <selenium.webdriver.remote.webelement.WebElement (session=\"4ee7cb58c94c889ceb64ebe73ad8c614\", element=\"3a37dac4-b9e7-41fb-8079-addc220a0ef3\")>,\n",
       " <selenium.webdriver.remote.webelement.WebElement (session=\"4ee7cb58c94c889ceb64ebe73ad8c614\", element=\"1b95b810-9a07-4db4-b97b-d39d9d38bd4b\")>,\n",
       " <selenium.webdriver.remote.webelement.WebElement (session=\"4ee7cb58c94c889ceb64ebe73ad8c614\", element=\"eade40cd-c3ba-4612-929b-3115f04d4417\")>,\n",
       " <selenium.webdriver.remote.webelement.WebElement (session=\"4ee7cb58c94c889ceb64ebe73ad8c614\", element=\"eb94bd28-6e3c-46fb-9312-5da1f0c7ffee\")>,\n",
       " <selenium.webdriver.remote.webelement.WebElement (session=\"4ee7cb58c94c889ceb64ebe73ad8c614\", element=\"bf9b57cc-52aa-482a-9a50-277ef72da269\")>,\n",
       " <selenium.webdriver.remote.webelement.WebElement (session=\"4ee7cb58c94c889ceb64ebe73ad8c614\", element=\"0f3f4ba6-9022-4b9d-a5d8-2eca9fbb6684\")>,\n",
       " <selenium.webdriver.remote.webelement.WebElement (session=\"4ee7cb58c94c889ceb64ebe73ad8c614\", element=\"e5ca42d8-cff7-462c-b67c-03f4c92d535a\")>,\n",
       " <selenium.webdriver.remote.webelement.WebElement (session=\"4ee7cb58c94c889ceb64ebe73ad8c614\", element=\"f49d9845-2735-425c-b4f3-3d758e2b3704\")>,\n",
       " <selenium.webdriver.remote.webelement.WebElement (session=\"4ee7cb58c94c889ceb64ebe73ad8c614\", element=\"5492d4ca-8049-4516-bf8d-550b725508a6\")>,\n",
       " <selenium.webdriver.remote.webelement.WebElement (session=\"4ee7cb58c94c889ceb64ebe73ad8c614\", element=\"bd67c8a7-98b6-4f13-99e2-9e5be9a0871c\")>,\n",
       " <selenium.webdriver.remote.webelement.WebElement (session=\"4ee7cb58c94c889ceb64ebe73ad8c614\", element=\"b7b54542-9944-4c96-984b-bf45d27f2580\")>]"
      ]
     },
     "execution_count": 49,
     "metadata": {},
     "output_type": "execute_result"
    }
   ],
   "source": [
    "# extracting tags havings job locations\n",
    "loc_tags = driver.find_elements_by_xpath(\"//span[@class='ellipsis fleft fs12 lh16']\")\n",
    "loc_tags"
   ]
  },
  {
   "cell_type": "code",
   "execution_count": 50,
   "metadata": {},
   "outputs": [
    {
     "data": {
      "text/plain": [
       "['0-3 Yrs',\n",
       " '3,50,000 - 4,50,000 PA.',\n",
       " 'Hyderabad/Secunderabad, Chennai, Bangalore/Bengaluru',\n",
       " '5-10 Yrs',\n",
       " 'Not disclosed',\n",
       " 'Bangalore/Bengaluru',\n",
       " '1-6 Yrs',\n",
       " 'Not disclosed',\n",
       " 'Bangalore/Bengaluru',\n",
       " '4-8 Yrs',\n",
       " 'Not disclosed',\n",
       " 'Mumbai, Gurgaon/Gurugram, Bangalore/Bengaluru',\n",
       " '3-5 Yrs',\n",
       " 'Not disclosed',\n",
       " 'Chennai, Bangalore/Bengaluru, Vadodara',\n",
       " '6-11 Yrs',\n",
       " 'Not disclosed',\n",
       " 'Bangalore/Bengaluru',\n",
       " '2-6 Yrs',\n",
       " 'Not disclosed',\n",
       " 'Bangalore/Bengaluru',\n",
       " '4-6 Yrs',\n",
       " 'Not disclosed',\n",
       " 'Bangalore/Bengaluru',\n",
       " '3-7 Yrs',\n",
       " 'Not disclosed',\n",
       " 'Bangalore/Bengaluru',\n",
       " '10-15 Yrs',\n",
       " 'Not disclosed',\n",
       " 'Bangalore/Bengaluru',\n",
       " '5-9 Yrs',\n",
       " '12,00,000 - 22,00,000 PA.',\n",
       " 'Noida, Bangalore/Bengaluru',\n",
       " '5-10 Yrs',\n",
       " 'Not disclosed',\n",
       " 'Hyderabad/Secunderabad, Bangalore/Bengaluru, Pune',\n",
       " '10-15 Yrs',\n",
       " 'Not disclosed',\n",
       " 'Hyderabad/Secunderabad, Pune, Chennai, Bangalore/Bengaluru',\n",
       " '2-4 Yrs',\n",
       " 'Not disclosed',\n",
       " 'Bangalore/Bengaluru',\n",
       " '5-8 Yrs',\n",
       " 'Not disclosed',\n",
       " 'Bangalore/Bengaluru',\n",
       " '3-5 Yrs',\n",
       " 'Not disclosed',\n",
       " 'Bangalore/Bengaluru',\n",
       " '5-10 Yrs',\n",
       " 'Not disclosed',\n",
       " 'Bangalore/Bengaluru',\n",
       " '2-5 Yrs',\n",
       " 'Not disclosed',\n",
       " 'Bangalore/Bengaluru',\n",
       " '6-7 Yrs',\n",
       " 'Not disclosed',\n",
       " 'Bangalore/Bengaluru',\n",
       " '3-6 Yrs',\n",
       " 'Not disclosed',\n",
       " 'Bangalore/Bengaluru']"
      ]
     },
     "execution_count": 50,
     "metadata": {},
     "output_type": "execute_result"
    }
   ],
   "source": [
    "location_tags = [] # creating empty list to store values\n",
    "for i in loc_tags: # running loop\n",
    "    location_tags.append(i.text)\n",
    "    \n",
    "location_tags"
   ]
  },
  {
   "cell_type": "code",
   "execution_count": 51,
   "metadata": {},
   "outputs": [],
   "source": [
    "location = [] # empty list\n",
    "for i in range(2,len(location_tags),3):\n",
    "    location.append(location_tags[i].strip()) "
   ]
  },
  {
   "cell_type": "code",
   "execution_count": 52,
   "metadata": {},
   "outputs": [
    {
     "data": {
      "text/plain": [
       "['Hyderabad/Secunderabad, Chennai, Bangalore/Bengaluru',\n",
       " 'Bangalore/Bengaluru',\n",
       " 'Bangalore/Bengaluru',\n",
       " 'Mumbai, Gurgaon/Gurugram, Bangalore/Bengaluru',\n",
       " 'Chennai, Bangalore/Bengaluru, Vadodara',\n",
       " 'Bangalore/Bengaluru',\n",
       " 'Bangalore/Bengaluru',\n",
       " 'Bangalore/Bengaluru',\n",
       " 'Bangalore/Bengaluru',\n",
       " 'Bangalore/Bengaluru']"
      ]
     },
     "execution_count": 52,
     "metadata": {},
     "output_type": "execute_result"
    }
   ],
   "source": [
    "location[:10]"
   ]
  },
  {
   "cell_type": "code",
   "execution_count": 53,
   "metadata": {},
   "outputs": [
    {
     "data": {
      "text/plain": [
       "[<selenium.webdriver.remote.webelement.WebElement (session=\"4ee7cb58c94c889ceb64ebe73ad8c614\", element=\"d3cb9e69-6a80-46a2-8caf-1d0415851f72\")>,\n",
       " <selenium.webdriver.remote.webelement.WebElement (session=\"4ee7cb58c94c889ceb64ebe73ad8c614\", element=\"fc87a4d0-2f48-4e7a-a945-e3b544e3a7e2\")>,\n",
       " <selenium.webdriver.remote.webelement.WebElement (session=\"4ee7cb58c94c889ceb64ebe73ad8c614\", element=\"6d0ad749-1452-4e0d-9f56-eaf7b4cc6133\")>,\n",
       " <selenium.webdriver.remote.webelement.WebElement (session=\"4ee7cb58c94c889ceb64ebe73ad8c614\", element=\"191c3d76-b3b3-405e-ae6a-2bf8bae4407e\")>,\n",
       " <selenium.webdriver.remote.webelement.WebElement (session=\"4ee7cb58c94c889ceb64ebe73ad8c614\", element=\"914fcd34-4011-4e7d-aecb-1262760d07e4\")>,\n",
       " <selenium.webdriver.remote.webelement.WebElement (session=\"4ee7cb58c94c889ceb64ebe73ad8c614\", element=\"bfc5e5f3-101f-4ded-9bcf-4764246be296\")>,\n",
       " <selenium.webdriver.remote.webelement.WebElement (session=\"4ee7cb58c94c889ceb64ebe73ad8c614\", element=\"550923c1-4465-4f90-abc5-93713c39312b\")>,\n",
       " <selenium.webdriver.remote.webelement.WebElement (session=\"4ee7cb58c94c889ceb64ebe73ad8c614\", element=\"1cd17111-8681-4416-a0de-19a7d2170205\")>,\n",
       " <selenium.webdriver.remote.webelement.WebElement (session=\"4ee7cb58c94c889ceb64ebe73ad8c614\", element=\"bd590e51-8fb7-4abf-aaa2-1915ed2edb34\")>,\n",
       " <selenium.webdriver.remote.webelement.WebElement (session=\"4ee7cb58c94c889ceb64ebe73ad8c614\", element=\"2e65b5fd-daf4-432a-a5a1-d76a552e530e\")>,\n",
       " <selenium.webdriver.remote.webelement.WebElement (session=\"4ee7cb58c94c889ceb64ebe73ad8c614\", element=\"33b88f55-e471-484b-b881-2ac9b14319b2\")>,\n",
       " <selenium.webdriver.remote.webelement.WebElement (session=\"4ee7cb58c94c889ceb64ebe73ad8c614\", element=\"d740df51-3fb1-45ad-9493-da1f4498e859\")>,\n",
       " <selenium.webdriver.remote.webelement.WebElement (session=\"4ee7cb58c94c889ceb64ebe73ad8c614\", element=\"322d461f-9806-47ce-a323-0d20e98a1337\")>,\n",
       " <selenium.webdriver.remote.webelement.WebElement (session=\"4ee7cb58c94c889ceb64ebe73ad8c614\", element=\"9b43cd1a-814d-4bd2-ab81-13d0f61d28c4\")>,\n",
       " <selenium.webdriver.remote.webelement.WebElement (session=\"4ee7cb58c94c889ceb64ebe73ad8c614\", element=\"ae2ae00f-7f1f-4cc0-8f12-da8acf13acdf\")>,\n",
       " <selenium.webdriver.remote.webelement.WebElement (session=\"4ee7cb58c94c889ceb64ebe73ad8c614\", element=\"286ea678-5e54-4b3f-8294-c30b63aa9c37\")>,\n",
       " <selenium.webdriver.remote.webelement.WebElement (session=\"4ee7cb58c94c889ceb64ebe73ad8c614\", element=\"c6e93413-7e4e-4116-be80-5327b9fb934d\")>,\n",
       " <selenium.webdriver.remote.webelement.WebElement (session=\"4ee7cb58c94c889ceb64ebe73ad8c614\", element=\"92d441a4-54e1-4024-82cd-1d9a17020c20\")>,\n",
       " <selenium.webdriver.remote.webelement.WebElement (session=\"4ee7cb58c94c889ceb64ebe73ad8c614\", element=\"5be010e1-bdd0-4148-aef4-31e6c6db60bf\")>,\n",
       " <selenium.webdriver.remote.webelement.WebElement (session=\"4ee7cb58c94c889ceb64ebe73ad8c614\", element=\"ebd88332-0544-4329-bea9-6f86dad28573\")>]"
      ]
     },
     "execution_count": 53,
     "metadata": {},
     "output_type": "execute_result"
    }
   ],
   "source": [
    "# extracting web elements\n",
    "company = driver.find_elements_by_xpath(\"//a[@class='subTitle ellipsis fleft']\")\n",
    "company"
   ]
  },
  {
   "cell_type": "code",
   "execution_count": 54,
   "metadata": {},
   "outputs": [
    {
     "data": {
      "text/plain": [
       "['Inflexion Analytix Private Limited',\n",
       " '24/7 Customer',\n",
       " 'Squareroot Consulting Pvt Ltd.',\n",
       " 'Fractal Analytics',\n",
       " 'Nielsen',\n",
       " 'Wrackle Technologies Pvt Ltd',\n",
       " 'Baker Hughes Incorporated',\n",
       " 'Eli Lilly and Company',\n",
       " 'ANI Technologies Pvt Ltd (Olacabs)',\n",
       " 'Conduent']"
      ]
     },
     "execution_count": 54,
     "metadata": {},
     "output_type": "execute_result"
    }
   ],
   "source": [
    "company_name = [] # empty list\n",
    "for i in company: \n",
    "        company_name.append(i.text.replace('\\n',''))\n",
    "\n",
    "company_name[:10]"
   ]
  },
  {
   "cell_type": "code",
   "execution_count": 55,
   "metadata": {},
   "outputs": [
    {
     "data": {
      "text/plain": [
       "['https://www.naukri.com/job-listings-data-scientist-data-analyst-business-analyst-inflexion-analytix-private-limited-hyderabad-secunderabad-chennai-bangalore-bengaluru-0-to-3-years-020721003625?src=jobsearchDesk&sid=16255020101626723&xp=1&px=1',\n",
       " 'https://www.naukri.com/job-listings-senior-data-scientist-24-7-customer-private-ltd-bangalore-bengaluru-5-to-10-years-280621501037?src=jobsearchDesk&sid=16255020101626723&xp=2&px=1',\n",
       " 'https://www.naukri.com/job-listings-senior-lead-data-scientist-machine-learning-deep-learning-squareroot-consulting-pvt-ltd-bangalore-bengaluru-1-to-6-years-010320600083?src=jobsearchDesk&sid=16255020101626723&xp=3&px=1',\n",
       " 'https://www.naukri.com/job-listings-senior-data-scientist-fractal-analytics-ltd-mumbai-gurgaon-gurugram-bangalore-bengaluru-4-to-8-years-290621500776?src=jobsearchDesk&sid=16255020101626723&xp=4&px=1',\n",
       " 'https://www.naukri.com/job-listings-senior-data-scientist-nielsen-india-private-limited-chennai-bangalore-bengaluru-vadodara-baroda-3-to-5-years-290621001647?src=jobsearchDesk&sid=16255020101626723&xp=5&px=1',\n",
       " 'https://www.naukri.com/job-listings-lead-data-scientist-machine-learning-data-mining-wrackle-technologies-pvt-ltd-bangalore-bengaluru-6-to-11-years-080221900886?src=jobsearchDesk&sid=16255020101626723&xp=6&px=1',\n",
       " 'https://www.naukri.com/job-listings-data-scientist-baker-hughes-incorporated-bangalore-bengaluru-2-to-6-years-050721500685?src=jobsearchDesk&sid=16255020101626723&xp=7&px=1',\n",
       " 'https://www.naukri.com/job-listings-data-scientist-consumer-analytics-eli-lilly-and-company-bangalore-bengaluru-4-to-6-years-050721500501?src=jobsearchDesk&sid=16255020101626723&xp=8&px=1',\n",
       " 'https://www.naukri.com/job-listings-data-scientist-i-ani-technologies-pvt-ltd-olacabs-bangalore-bengaluru-3-to-7-years-050721500669?src=jobsearchDesk&sid=16255020101626723&xp=9&px=1',\n",
       " 'https://www.naukri.com/job-listings-data-scientist-iv-conduent-bangalore-bengaluru-10-to-15-years-030721500406?src=jobsearchDesk&sid=16255020101626723&xp=10&px=1',\n",
       " 'https://www.naukri.com/job-listings-data-scientist-oracle-india-pvt-ltd-noida-bangalore-bengaluru-5-to-9-years-010621004567?src=jobsearchDesk&sid=16255020101626723&xp=11&px=1',\n",
       " 'https://www.naukri.com/job-listings-data-scientist-wipro-limited-hyderabad-secunderabad-bangalore-bengaluru-pune-5-to-10-years-280621014912?src=jobsearchDesk&sid=16255020101626723&xp=12&px=1',\n",
       " 'https://www.naukri.com/job-listings-lead-data-scientist-winfort-services-pvt-ltd-hyderabad-secunderabad-pune-chennai-bangalore-bengaluru-10-to-15-years-290621005092?src=jobsearchDesk&sid=16255020101626723&xp=13&px=1',\n",
       " 'https://www.naukri.com/job-listings-senior-data-scientist-pluto7-bangalore-bengaluru-2-to-4-years-280621500617?src=jobsearchDesk&sid=16255020101626723&xp=14&px=1',\n",
       " 'https://www.naukri.com/job-listings-senior-data-scientist-roppen-transportation-services-private-limited-bangalore-bengaluru-5-to-8-years-010721000825?src=jobsearchDesk&sid=16255020101626723&xp=15&px=1',\n",
       " 'https://www.naukri.com/job-listings-sr-data-scientist-nielseniq-bangalore-bengaluru-3-to-5-years-300621501250?src=jobsearchDesk&sid=16255020101626723&xp=16&px=1',\n",
       " 'https://www.naukri.com/job-listings-senior-data-scientist-go-jek-india-bangalore-bengaluru-5-to-10-years-300621500214?src=jobsearchDesk&sid=16255020101626723&xp=17&px=1',\n",
       " 'https://www.naukri.com/job-listings-senior-data-scientist-publicis-groupe-bangalore-bengaluru-2-to-5-years-290621500896?src=jobsearchDesk&sid=16255020101626723&xp=18&px=1',\n",
       " 'https://www.naukri.com/job-listings-senior-data-scientist-fabhotel-aay-kay-model-town-bangalore-bengaluru-6-to-7-years-020721501495?src=jobsearchDesk&sid=16255020101626723&xp=19&px=1',\n",
       " 'https://www.naukri.com/job-listings-senior-data-scientist-gojek-tech-bangalore-bengaluru-3-to-6-years-300621500215?src=jobsearchDesk&sid=16255020101626723&xp=20&px=1']"
      ]
     },
     "execution_count": 55,
     "metadata": {},
     "output_type": "execute_result"
    }
   ],
   "source": [
    "# extracting urls for job description\n",
    "job = []\n",
    "url = driver.find_elements_by_xpath('//a[@class=\"title fw500 ellipsis\"]')\n",
    "for i in url:\n",
    "    job.append(i.get_attribute('href'))\n",
    "job"
   ]
  },
  {
   "cell_type": "code",
   "execution_count": 56,
   "metadata": {},
   "outputs": [
    {
     "data": {
      "text/plain": [
       "[\"Job description  Job Role: Data Scientist/Data Analyst /Business Analyst  Location: Chennai/Bangalore/Hyderabad  Greetings from CAIA - Center for Artificial Intelligence & Advanced Analytics 43% of companies experienced a high deficit of skilled resources with Advanced Analytical skills and AI implementing capabilities in the year 2020. CAIA gives you a great opportunity to enter the world of future technologies and Innovations- Data Science, Analytics, AI, Data Visualization, and Cloud Computing.  While 2020 was a year like no other, we are living in an interesting times where data is reshaping the world, and businesses are rapidly adopting technology to gain an edge over others. Hence, there's a substantial increase in demand for technology professionals who can implement systems in data science, machine learning, and AI in Tier 1 and Tier 2 organizations working closely with us.  To help you build a sustainable career we would like you to utilize data, software and Analytical approaches in Data Science and AI to upskill and get recruited into an organization appreciating your skilling journey. Applications invited from all Freshers and experienced candidates (0-3 yrs) aspiring to make a career in Artificial Intelligence and Advanced Analytics and Data Science. If you wish to make a shift in your career or undergo a career transition, upskilling is essential since it allows you to learn more about the domain and acquire the required skills.  Call to schedule interview Monday -Saturday from 10:00 am to 7 Pm  Koodesh B- +91 73395 11107 Manigandan B - +91 93444 57360  Email :  careerguidance.koodes@centerforaia.com manigandan@centerforaia.com  What is needed from you? Freshers who wish to start their career in Analytics and AI and professionals who wish to upskill or change their domain to analytics and emerging technologies are free to apply. Educational background in any one of the following- BE/B.Tech, ME/M Tech, MSc, BSc/MSc Math's and Statistics, B Com, BCA, BSc CS, BSC IT, MSC IT, MCA Skills relating to Mathematics/Statistics. Natural passion towards numbers, business, coding, Analytics, and Artificial Intelligence, Machine Learning, visualization Good verbal and written communication skills Ability to understand domains in businesses across various sectors  Selection procedure includes Aptitude Test & Communication Exam - Online / Offline SQL/Python test - Online / Offline Candidates who clear the above will have one-one discussions with our Career Guidance Manager for further evaluation and processing of your Resume.  All the Shortlisted candidates will be eligible to continue the corporate training with CAIA What you can expect from us?  You will get trained on the following modules for a period of 12-14 weeks: SQL & PLSQL Data Wrangling using Python Data Visualization Using Power-BI Statistics for Machine Learning Artificial Intelligence, Data Interpretation Supervised & Unsupervised Learning, NLP & Deep Learning Cloud Data Lake Business intelligence & Data Visualization Simulation Projects Expected Outcome?  At the end of the Training you are expected to be well versed with the following: Analysis of large and complex data sets from multiple sources Development and evaluation of data analytics models, algorithms, and solutions Understanding/implementation of ML algorithms, performance tuning, and reporting Implementation of algorithms to mine targeted data and the ability to convert data into a business story Translation of business requirements into technical requirements; Data extraction, preparation, and transformation Identification, development, and implementation of statistical techniques and algorithms that address business challenges and adds value to the organization Requirement Analysis and communication of findings in the form of a meaningful story with the stakeholders Finding analytical solutions to abstract business issues. Apply objective analysis of facts before coming to a conclusion\",\n",
       " 'Brief about the Role The Platforms team of the Data Science Group at [24]7.ai builds scalable AI to aid in conversational AI, agent assist solutions, and ad personalization for the Cloud. We are looking for a highly motivated and qualified data scientist to build some of our AI initiatives. This role is ideal for candidates with strong, hands-on skills in machine learning and natural language processing. Educational Qualifications: Bachelors, Master’s or PhD degree from reputed universities or institutes in one of the following disciplines: Artificial Intelligence / Machine Learning Data Science Cognitive Computing Computational Linguistics Computer Science Requirements 4+ years of experience with general purpose programming languages e.g., Python, C/C++, Java 4+ years of hands-on experience in machine learning Experience in various deep learning models, e.g., transformers, LSTMs, RNNs Experience in solving problems related to Natural Language Processing (NLP), Natural Language Understanding (NLU), and Natural Language Generation (NLG) Experience with machine learning platforms such as TensorFlow, TensorFlow Extended, PyTorch Experience building and deploying machine learning models on the Cloud (Google Cloud, Azure, AWS) Experience with production architecture of machine learning systems Good to have exposure to conversational AI, AI-based question-answering systems, AI-based compliance and monitoring systems, and ad personalization Good to have exposure to MLOps pipelines and Kubeflow Excellent communication skills Ability to collaborate cross-functionally Good presentation skills Attention to detail Responsibilities Collaborate with the Engineering and Product teams to implement machine learning models into the products and offerings of [24]7.ai Collaborate with your team members. Be responsible for implementing the machine learning models, testing them, refining them, and taking them to production Collaborate within the Data Science Group to review and refine your work to ensure the highest quality Take end-to-end ownership of AI initiatives Proactively discuss ideas for feature enhancements with the data science leadership and product leadership',\n",
       " 'Roles and Responsibilities Hiring for US based Start-up AI Fintech which is building Digital Banking platform for North American region.  Experience for the Role : Data Scientist (1+ Yrs) & Senior/ Lead Data Scientist (3+ Yrs)  Location : Bangalore (HSR Layout)  Looking expert machine learning and a statistical mastermind and who are keen to make a difference in a unique way.  We expect a Data Scientist & ML Engineer to take the onus of creating and leveraging the state-of-the-art algorithms in machine learning, deep learning and AI which will impact billions of people.  Main Responsibilities :  As an ML Engineer / Data Scientist, you will work on cutting edge problems in Natural Language Processing using Deep Learning.  - Perform exploratory data analysis to understand the problem  - Implement and experiment with different features and architectures for Deep-Learning models for NLP  - Do literature review and come up with possible solutions  - Do visualisation for understanding the problem and showcasing models  - Make the model faster for real-time predictions  - Build tools to help the team build models and deploy them  What We are looking:  - B.Tech, M.Tech or Ph.D in Computer Science or equivalent work experience  - Knowledgeable on common data structures and algorithms  - Knowledgeable in one or more of the following : Machine Learning / Information Retrieval / Deep Learning / NLP  - 1 to 5 year experience working with real world datasets  - Strong interest in solving real world problems in Machine Learning  - Programming experience (in any programming language) is a must  - Good familiarity with Python and its scientific computing / ML ecosystem is preferable.',\n",
       " 'The Artificial Intelligence and Machine Learning (AIML) group at Fractal Analytics is actively involved in helping Fortune 500 companies by enabling them to discover how they can leverage their data using advanced and sophisticated AI/ML algorithms for which we are looking for Data Scientists with the capability to work on independent statistical and machine learning research/ projects. If you are a problem solver with a curiosity for exploring new techniques and technologies in AIML space, then we would like to talk with you. Job Responsibilities Ability to understand a problem statement and implement analytical solutions techniques independently with independently / proactively / thought-leadership. Work with stakeholders throughout the organization to identify opportunities for leveraging company/client data to drive business solutions. Fast learner: ability to learn and pick up a new language/tool/ platform quickly. Conceptualize, design, and deliver high-quality solutions and insightful analysis. Conduct research and prototyping innovations; data and requirements gathering; solution scoping and architecture; consulting clients and client facing teams on advanced statistical and machine learning problems. Collaborate and Coordinate with different functional teams(engineering and product development) to implement models and monitor outcomes. Ability to deliver AIML based solutions around a host of domains and problems, with some of them being: Customer Segmentation Targeting, Propensity Modeling, Churn Modeling, Lifetime Value Estimation, Forecasting, Recommender Systems, Modeling Response to Incentives, Marketing Mix Optimization, Price Optimization Experience Required: Expert level proficiency in at least one of R and Python. Ability to create efficient solutions to complex problems. Strong skills in data-structures and ML algorithms. Experience of working on end-to-end data science pipeline: problem scoping, data gathering, EDA, modelling, insights, visualizations, monitoring and maintenance. Problem-solving: Ability to break the problem into small parts and applying relevant techniques to drive required outcomes. Intermediate to advanced knowledge of machine learning, probability theory, statistics, and algorithms. You will be required to discuss and use various algorithms and approaches on a daily basis. We use regression, Bayesian methods, tree-based learners, SVM, RF, XGBOOST, time series modeling, dimensionality reduction, SEM, GLM, GLMM, clustering, Deep learning etc. on a regular basis. If you know few of them you are good to go. Good to Have: Experience in one of the upcoming technologies like deep learning, NLP, image processing, recommender systems Experience of working in on one or more domains: CPG: pricing and promotion analytics, marketing analytics, trade promotions, supply chain management BFSI: cross-sell, up-sell, campaign analytics, treasury analytics, fraud detection Healthcare: medical adherence, medical risk profiling, EHR data, fraud-waste-abuse Experience in working with Linux computing environment and use of command line tools like sed/awk Good grasp on databases including RDBMS, NoSQL, MongoDB etc. Education Qualification B.Tech / M.Tech in Computer Science / Mathematics / Signal Processing or related fields.',\n",
       " 'ABOUT THIS JOB NielsenIQ Advanced Analytics team develops and promotes a portfolio of global products. Leveraging NielsenIQs unparalleled data and global platforms, the Advanced Analytics team creates solutions to enable our clients to make better business decisions every day.  We partner with Product Owners and Core Technology Teams to build scalable, always on,  analytic products using relevant modeling/ML techniques. We’re looking for a passionate and talented Senior Data Scientist to join our growing team. In this role, you’ll have the chance to roll up your sleeves and apply data science methods and analytics to sustain NielsenIQ Analytics growth. Successful candidates are intellectually curious builders and active learners who are biased toward action, new problem solving. Roles & Responsibilities : Understand business issues, stakeholder requirement and expectations Perform relevant modeling analysis and POC exploring multiple techniques Ensure Analytics model quality Document and present findings and recommendations on methodology in a structured way to various stakeholder or partnering teams (Engineering, Tech, Product leader). Work closely with the Engineering and Tech team to convert those POC into fully scalable products. Active and effective collaboration with other project team members (other Data Scientist, Data Steward, Technology Engineer) Collaboratively manage projects from timeline creation to project completion, managing expectations with leaders and colleagues Encourage team building, best practices sharing especially with more junior team members. Stay abreast of developments in the area to ensure bringing the most appropriate solutions to our business About You You’ve built a decent track record in research and data analytics. And you have the communication chops to translate it all into conversations. While you’ve worked with global cross-functional teams, you can also put your head down and focus on independent projects. Seeing the big picture takes attention to detail. Keeping up with the fast-changing world of technology takes someone who recognizes that. You know what’s happening in big data and you’re ready to influence what’s next. Qualifications Masters degree in Data Sciences, mathematics or a closely related field 3 to 5 years of experience as a Data Scientist in the business Strong knowledge of statistical modelling, machine learning. Experience in machine learning, supervised and unsupervised: Forecasting, Classification, Data/Text Mining, NLP, Decision Trees, Adaptive Decision Algorithms, Random Forest, Search Algorithms, Neural Networks, Deep Learning Algorithms Experience with Optimisation techniques: linear programming, integer programming, genetic algorithm, constrained optimisation Experience in working on distributed or cloud computing platforms such as Google Cloud or Microsoft Azure Proficiency in Data Science coding languages like Python, PySpark, SQL, R in a cloud environment like DataBricks Experience using collaborative development tools (git). Experience working with Agile methodologies (SCRUM) Strong problem solving and excellent communication skills, independent working style Experience in an FMCG company is a strong plus',\n",
       " 'Roles and Responsibilities Requirements :  - 6-9 years of strong experience in data mining, machine learning and statistical analysis.  - BS/ MS/ PhD in Computer Science, Statistics, Applied Math, or related areas from Premier institutes ( only IITs / IISc / BITS / Top NITs or top US university should apply)  - Ability to lead and deliver in a fast-paced start-up environment.  - Fluency in tools such as Python/ R/ Matlab etc.  - Strong intuition for data and Keen aptitude on large scale data analysis  - Excellent written and verbal communication skills.  - Ability to collaborate across teams and strong interpersonal skills.',\n",
       " 'As a Data Scientist, you would be working with subject matter experts in energy production. You will help in building models on reliability, predictive analysis, production optimizations and other interesting industry problems. As a Data Scientist, you will be responsible for: Contributing in development and deployment of applied, predictive and prescriptive analytics. Develop self-learning systems that can predict failures and autocorrect based on data Gathering analysing data, devising data science solutions for high-performance models in scalable code. Propose innovative algorithms and pursue patents where appropriate. Working with engineering teams to incorporate solutions and create intuitive UX stories. Partner with data engineers on data quality assessment, cleansing and analytics. Researching and evaluating emerging technology and market trends to assist in project development and operational support for multiple teams or complex scenarios. Contributing to the development of software and data delivery platforms that are service-oriented with reusable components across multiple teams. Creating reports and other artifacts to document your work and outcomes. Communicating methods, findings, and hypotheses with stakeholders. Fuel your passion To be successful in this role you will: Have a Bachelor s Degree in Computer Science or in STEM, Majors. 3+ years as data scientist and technical hands-on coding experience. Have experience in Machine Learning/AI techniques including Deep learning (RNN, CNN, GAN, etc), Support Vector Machines; Regularization Techniques; Boosting, Random Forests, Ensemble Methods, image/video/audio processing, Bayesian and time series modelling. Have experience in Parallel programming frameworks for GPUs, TPUs and developed containerized solutions (Docker/Mesos etc). Have good implementation experience with R, Python, Perl, Ruby, Scala, Apache Spark, Storm, SAS and ability to work with a variety of Deep learning frameworks including TensorFlow, Keras, Caffe, CNTK, etc Have hands-on skills in sourcing, manipulating and analysing large volumes of data including SQL and NoSQL databases Have proven experience in using well-established supervised and unsupervised machine learning methods for large industry-strength data analysis problems. Reviews, analyses and develops architectural requirements at domain level, aligning architectural requirements with software development strategy. Leads and facilitates the domains architecture governance process based on EAs governance structure.',\n",
       " 'Core Responsibilities Model data to help create reporting infrastructure/dashboards for descriptive, predictive and forecasting analyses which drive key business decisions for the Consumer marketing teams of Eli Lilly brands in the US Use advanced analytical and statistical techniques to build models to help marketing teams make more informed decisions Writing and tuning complex SQL queries in a highly dynamic environment to map different Consumer Marketing data sources like Google Ad Server, DCM, Double Click, Google Search/Ads Understanding tagging parameters and connect de-identified datasets over multiple sources. Marketing metadata, Consumer data and taxonomy governance. Automating data governance Maintain stable and scalable solutions to extract data from diverse systems, cleanse and transform extremely large data sets into actionable business information Highly analytical and dive deep into data to find patterns, root cause analysis, aggregate, measurement using advanced SQL/ Python/ Spark Perform detailed analysis of source systems and source system data and test model to meet quality required for automated statistical models and analytics Continuous learning and experimenting new possibilities for Consumer Marketing Analytics and Analysis Work with cross functional teams and external consultants to help review their work and translate this work to data analysts and visualization experts Required 4-6 years of in-depth hands-on experience in data warehousing Redshift or any OLAP to support business/data analytics, business intelligence (BI) Exploring large, complex data sets on cloud systems like AWS S3 and Redshift. Previous experience required in OLTP and OLAP databases like SQL Server/ Oracle Proficiency in Joins, aggregations, measurement, create views and stored procedures Advanced proficiency in SQL, Glue, Spark, Sage Maker (and other technologies for AWS), test and enhance code fine tuning for processing spee Expert level data analysis, data preparation to inform predictive, forecasting and time series models through Advanced SQL and connect to Power BI using combination of SQL, R or spark Experience in gathering business requirements, using industry standard business intelligence tool(s) to extract data, formulate metrics and build reports Proficient in SQL and R or Python Strong prior experience with attribution modelling Creative problem solving, organization, attention to detail, flexibility and adaptability Comfort with ambiguity and a willingness to work with a high degree of autonomy Demonstrated ability to meet deadlines while managing multiple large-scale projects in a fast-paced and rapidly changing environment Good communication skills (written and verbal) English Should be adaptable and open to picking up new technical skills and data processes Preferred Qualifications Experience in Data Engineering for Healthcare/Retail/BFSI/Digital native companies Familiarity with cloud technology such as AWS and knowledge of AWS Sagemaker, Redshift and Rekognition preferred Website pixel tagging, basic HTML R Development, API and OOPS preferred Education Bachelor s degree or master s degree in technology, Statistics or Computer Science',\n",
       " 'The Data Science Machine Learning team at Ola works on building intelligent systems using techniques in machine learning, optimization, signal analysis, and statistics. At Ola, we have an incredible amount of data that captures a comprehensive view of our customers and driver partners. Very few companies in the world have this diversity and scale of data, and hence the breadth of problems available to solve in a data-driven fashion is immense. We tackle real-life problems on a daily basis and not only get to impact company revenue but also deliver a richer experience to our customers and driver partners alike. This requires us to be product driven while the complexity of problems requires us to always push the state-of-the-art. In fact, beneath every tap you make on our app, there is a data-driven, intelligent layer trying to achieve a business metric. We are looking for great problem solvers who can tap into the potential of data and deliver scalable and robust data products. Job Roles and Responsibilities: PhD or Masters (with 2+ years of relevant experience) or BTech (with 4+ years of relevant experience), Operations Research, Applied Mathematics / Statistics / Econometrics , Electrical or Systems Engineering, Physics or similarly highly quantitative field. Ability to transform business requirements into data science formulations and implement the solutions in an efficient and scalable fashion Excellent interpersonal and stakeholder management skills Ability to handle multiple projects as an individual contributor and/or as a mentor to team members Proficient in Python, Scala, Java or similar languages Extensive experience in building production quality models using state-of-the-art technologies (for eg, tensorflow, scikit-learn, spark)  ',\n",
       " 'We are looking for an Azure Data Architect with Azure and data technology expertise who will be part of our Analytics Practice and will be expected to actively work in a multi-disciplinary fast paced environment. This role requires a broad range of skills and the ability to step into different roles depending on the size and scope of the project; its primary responsibility is to provide guidance on data architecture and data modeling. Responsibilities: Design and drive end to end data and Analytics solution architecture from concept to delivery Design, develop, and support conceptual/logical/physical data models for analytics solutions. Work closely with the rest of the teams to provide data services for our analytics solutions, including modeling, stored procedures, replication, and other assistance to progress and meet technical and business goals. Ensures that industry-accepted data architecture principles, standards, guidelines and concepts are integrated with those of allied disciplines and coordinated roll-out and adoption strategies are in place.   Drive the design, sizing, setup, etc. of Azure environments and related services Assist in and/or lead the development and implementation of data collection systems as necessary Provide mentoring on data architecture design and requirements to development and business teams   Reviews the solution requirements and architecture to ensure selection of appropriate technology, efficient use of resources and integration of multiple systems and technology.   Support presentations to Customers and Partners Advising on new technology trends and possible adoption to maintain competitive advantage 10-15 years industry experience and at least 5 years of experience in data architect role is required along with at least 3-5 years experience designing and building analytics solutions in Azure. Demonstrated experience delivering multiple data solutions as architect. A BS or master s degree in computer science or related technical discipline is required Demonstrated experience with ETL development both on-premises and in the cloud using SSIS, Data Factory, and related Microsoft and other ETL technologies.   Demonstrated in depth skills with SQL Server, HDInsight s, Azure Data Lake with the ability to configure and administrate all aspects of SQL Server. Fully versed and prepared to demonstrate a technical knowledge of database administration and management. Demonstrated experience with different data models like normalized, de-normalized, stars, and snowflake models. Worked with transactional, temporary, time series, and structured and unstructured data. Data Quality Management (Microsoft DQS and other data quality and governance tools) and Data Architecture standardization experience. Deep understanding of the operational dependencies of applications, networks, systems, security and policy (both on-premise and in the cloud; VMs, Networking, VPN (Express Route), Active Directory, Storage (Blob, etc.), Windows/Linux). Advanced study / knowledge in the field of computer science or software engineering along with advanced knowledge of software development and methodologies (Microsoft development life-cycle including OOP principles, Visual Studio, SDKs, PowerShell, CLI). Is familiar with the principles and practices involved in development and maintenance of software solutions and architectures and in-service delivery (Microsoft and Azure DevOps. Azure Automation). Has strong technical background and remains evergreen with technology and industry developments. Additional Requirements: Demonstrated ability to have successfully completed multiple, complex technical projects Prior experience with application delivery using an Onshore/Offshore model Experience with business processes across multiple Master data domains in a services-based company Demonstrates a rational and organized approach to the tasks undertaken and an awareness of the need to achieve quality. Demonstrates high standards of professional behavior in dealings with clients, colleagues and staff. Is able to make sound and far reaching decisions alone on major issues and to take full responsibility for them on a technical basis. Strong written communication skills.   Is effective and persuasive in both written and oral communication. Experience with gathering end user requirements and writing technical documentation Time management and multitasking skills to effectively meet deadlines under time-to-market pressure']"
      ]
     },
     "execution_count": 56,
     "metadata": {},
     "output_type": "execute_result"
    }
   ],
   "source": [
    "job_description = [] # empty list\n",
    "for i in job:\n",
    "    driver.get(i) \n",
    "    try:\n",
    "        job_descriptions = driver.find_element_by_xpath('//div[@class=\"dang-inner-html\"]')\n",
    "        job_description.append(job_descriptions.text.replace('\\n',\" \"))\n",
    "    except:\n",
    "        pass\n",
    "    \n",
    "job_description[:10]\n",
    "        "
   ]
  },
  {
   "cell_type": "code",
   "execution_count": 57,
   "metadata": {},
   "outputs": [],
   "source": [
    "ds=pd.DataFrame({})       # making dataframe\n",
    "ds['Job Title']=job_titles[:10]     # indexing all variables to make a proper dataframe of 10 jobs data\n",
    "ds['Job location']=location[:10]\n",
    "ds['Company Name']=company_name[:10]\n",
    "ds['Job Description']=job_description[:10]"
   ]
  },
  {
   "cell_type": "code",
   "execution_count": 58,
   "metadata": {},
   "outputs": [
    {
     "data": {
      "text/html": [
       "<div>\n",
       "<style scoped>\n",
       "    .dataframe tbody tr th:only-of-type {\n",
       "        vertical-align: middle;\n",
       "    }\n",
       "\n",
       "    .dataframe tbody tr th {\n",
       "        vertical-align: top;\n",
       "    }\n",
       "\n",
       "    .dataframe thead th {\n",
       "        text-align: right;\n",
       "    }\n",
       "</style>\n",
       "<table border=\"1\" class=\"dataframe\">\n",
       "  <thead>\n",
       "    <tr style=\"text-align: right;\">\n",
       "      <th></th>\n",
       "      <th>Job Title</th>\n",
       "      <th>Job location</th>\n",
       "      <th>Company Name</th>\n",
       "      <th>Job Description</th>\n",
       "    </tr>\n",
       "  </thead>\n",
       "  <tbody>\n",
       "    <tr>\n",
       "      <th>0</th>\n",
       "      <td>Data Scientist / Data Analyst -Business Analyst</td>\n",
       "      <td>Hyderabad/Secunderabad, Chennai, Bangalore/Ben...</td>\n",
       "      <td>Inflexion Analytix Private Limited</td>\n",
       "      <td>Job description  Job Role: Data Scientist/Data...</td>\n",
       "    </tr>\n",
       "    <tr>\n",
       "      <th>1</th>\n",
       "      <td>Senior Data Scientist</td>\n",
       "      <td>Bangalore/Bengaluru</td>\n",
       "      <td>24/7 Customer</td>\n",
       "      <td>Brief about the Role The Platforms team of the...</td>\n",
       "    </tr>\n",
       "    <tr>\n",
       "      <th>2</th>\n",
       "      <td>Senior/Lead Data Scientist - Machine Learning/...</td>\n",
       "      <td>Bangalore/Bengaluru</td>\n",
       "      <td>Squareroot Consulting Pvt Ltd.</td>\n",
       "      <td>Roles and Responsibilities Hiring for US based...</td>\n",
       "    </tr>\n",
       "    <tr>\n",
       "      <th>3</th>\n",
       "      <td>Senior Data Scientist</td>\n",
       "      <td>Mumbai, Gurgaon/Gurugram, Bangalore/Bengaluru</td>\n",
       "      <td>Fractal Analytics</td>\n",
       "      <td>The Artificial Intelligence and Machine Learni...</td>\n",
       "    </tr>\n",
       "    <tr>\n",
       "      <th>4</th>\n",
       "      <td>Senior Data Scientist</td>\n",
       "      <td>Chennai, Bangalore/Bengaluru, Vadodara</td>\n",
       "      <td>Nielsen</td>\n",
       "      <td>ABOUT THIS JOB NielsenIQ Advanced Analytics te...</td>\n",
       "    </tr>\n",
       "    <tr>\n",
       "      <th>5</th>\n",
       "      <td>Lead Data Scientist - Machine Learning/ Data M...</td>\n",
       "      <td>Bangalore/Bengaluru</td>\n",
       "      <td>Wrackle Technologies Pvt Ltd</td>\n",
       "      <td>Roles and Responsibilities Requirements :  - 6...</td>\n",
       "    </tr>\n",
       "    <tr>\n",
       "      <th>6</th>\n",
       "      <td>Data Scientist</td>\n",
       "      <td>Bangalore/Bengaluru</td>\n",
       "      <td>Baker Hughes Incorporated</td>\n",
       "      <td>As a Data Scientist, you would be working with...</td>\n",
       "    </tr>\n",
       "    <tr>\n",
       "      <th>7</th>\n",
       "      <td>Data Scientist - Consumer Analytics</td>\n",
       "      <td>Bangalore/Bengaluru</td>\n",
       "      <td>Eli Lilly and Company</td>\n",
       "      <td>Core Responsibilities Model data to help creat...</td>\n",
       "    </tr>\n",
       "    <tr>\n",
       "      <th>8</th>\n",
       "      <td>Data Scientist I</td>\n",
       "      <td>Bangalore/Bengaluru</td>\n",
       "      <td>ANI Technologies Pvt Ltd (Olacabs)</td>\n",
       "      <td>The Data Science Machine Learning team at Ola ...</td>\n",
       "    </tr>\n",
       "    <tr>\n",
       "      <th>9</th>\n",
       "      <td>Data Scientist IV</td>\n",
       "      <td>Bangalore/Bengaluru</td>\n",
       "      <td>Conduent</td>\n",
       "      <td>We are looking for an Azure Data Architect wit...</td>\n",
       "    </tr>\n",
       "  </tbody>\n",
       "</table>\n",
       "</div>"
      ],
      "text/plain": [
       "                                           Job Title  \\\n",
       "0    Data Scientist / Data Analyst -Business Analyst   \n",
       "1                              Senior Data Scientist   \n",
       "2  Senior/Lead Data Scientist - Machine Learning/...   \n",
       "3                              Senior Data Scientist   \n",
       "4                              Senior Data Scientist   \n",
       "5  Lead Data Scientist - Machine Learning/ Data M...   \n",
       "6                                     Data Scientist   \n",
       "7                Data Scientist - Consumer Analytics   \n",
       "8                                   Data Scientist I   \n",
       "9                                  Data Scientist IV   \n",
       "\n",
       "                                        Job location  \\\n",
       "0  Hyderabad/Secunderabad, Chennai, Bangalore/Ben...   \n",
       "1                                Bangalore/Bengaluru   \n",
       "2                                Bangalore/Bengaluru   \n",
       "3      Mumbai, Gurgaon/Gurugram, Bangalore/Bengaluru   \n",
       "4             Chennai, Bangalore/Bengaluru, Vadodara   \n",
       "5                                Bangalore/Bengaluru   \n",
       "6                                Bangalore/Bengaluru   \n",
       "7                                Bangalore/Bengaluru   \n",
       "8                                Bangalore/Bengaluru   \n",
       "9                                Bangalore/Bengaluru   \n",
       "\n",
       "                         Company Name  \\\n",
       "0  Inflexion Analytix Private Limited   \n",
       "1                       24/7 Customer   \n",
       "2      Squareroot Consulting Pvt Ltd.   \n",
       "3                   Fractal Analytics   \n",
       "4                             Nielsen   \n",
       "5        Wrackle Technologies Pvt Ltd   \n",
       "6           Baker Hughes Incorporated   \n",
       "7               Eli Lilly and Company   \n",
       "8  ANI Technologies Pvt Ltd (Olacabs)   \n",
       "9                            Conduent   \n",
       "\n",
       "                                     Job Description  \n",
       "0  Job description  Job Role: Data Scientist/Data...  \n",
       "1  Brief about the Role The Platforms team of the...  \n",
       "2  Roles and Responsibilities Hiring for US based...  \n",
       "3  The Artificial Intelligence and Machine Learni...  \n",
       "4  ABOUT THIS JOB NielsenIQ Advanced Analytics te...  \n",
       "5  Roles and Responsibilities Requirements :  - 6...  \n",
       "6  As a Data Scientist, you would be working with...  \n",
       "7  Core Responsibilities Model data to help creat...  \n",
       "8  The Data Science Machine Learning team at Ola ...  \n",
       "9  We are looking for an Azure Data Architect wit...  "
      ]
     },
     "execution_count": 58,
     "metadata": {},
     "output_type": "execute_result"
    }
   ],
   "source": [
    "ds"
   ]
  },
  {
   "cell_type": "code",
   "execution_count": 59,
   "metadata": {},
   "outputs": [],
   "source": [
    "driver.close()"
   ]
  },
  {
   "cell_type": "code",
   "execution_count": null,
   "metadata": {},
   "outputs": [],
   "source": []
  },
  {
   "cell_type": "markdown",
   "metadata": {},
   "source": [
    "# Q3 : Write python program to scrape data using filters"
   ]
  },
  {
   "cell_type": "code",
   "execution_count": 60,
   "metadata": {},
   "outputs": [],
   "source": [
    "# connecting to web driver\n",
    "driver = webdriver.Chrome(r\"C:\\Users\\Nitish\\Downloads\\Compressed\\chromedriver.exe\")"
   ]
  },
  {
   "cell_type": "code",
   "execution_count": 61,
   "metadata": {},
   "outputs": [],
   "source": [
    "# send get request to the webpage server to get the source code of the page\n",
    "url = 'https://www.naukri.com/'\n",
    "driver.get(url) "
   ]
  },
  {
   "cell_type": "code",
   "execution_count": 62,
   "metadata": {},
   "outputs": [
    {
     "data": {
      "text/plain": [
       "<selenium.webdriver.remote.webelement.WebElement (session=\"2fec1617be2d506ac7129e9dc12881c2\", element=\"30e128f6-f183-406c-badd-71aab1068389\")>"
      ]
     },
     "execution_count": 62,
     "metadata": {},
     "output_type": "execute_result"
    }
   ],
   "source": [
    "search_job = driver.find_element_by_id('qsb-keyword-sugg')\n",
    "search_job"
   ]
  },
  {
   "cell_type": "code",
   "execution_count": 63,
   "metadata": {},
   "outputs": [],
   "source": [
    "# write on search bar\n",
    "search_job.send_keys(\"Data Scientist\")"
   ]
  },
  {
   "cell_type": "code",
   "execution_count": 64,
   "metadata": {},
   "outputs": [],
   "source": [
    "search_btn = driver.find_element_by_xpath(\"//button[@class='btn']\")\n",
    "search_btn.click()"
   ]
  },
  {
   "cell_type": "code",
   "execution_count": 65,
   "metadata": {},
   "outputs": [],
   "source": [
    "# location filter applied by xpath \n",
    "location_filter = driver.find_element_by_xpath('/html/body/div[1]/div[3]/div[2]/section[1]/div[2]/div[2]/div[2]/div[2]/label/p/span[1]')\n",
    "location_filter.click()"
   ]
  },
  {
   "cell_type": "code",
   "execution_count": 66,
   "metadata": {},
   "outputs": [],
   "source": [
    "# salary filter applied by xpath\n",
    "salary_filter = driver.find_element_by_xpath('/html/body/div[1]/div[3]/div[2]/section[1]/div[2]/div[3]/div[2]/div[2]/label/p')\n",
    "salary_filter.click()"
   ]
  },
  {
   "cell_type": "code",
   "execution_count": 67,
   "metadata": {},
   "outputs": [
    {
     "data": {
      "text/plain": [
       "[<selenium.webdriver.remote.webelement.WebElement (session=\"2fec1617be2d506ac7129e9dc12881c2\", element=\"20c70b69-25ce-4873-bf33-74a5ceae772f\")>,\n",
       " <selenium.webdriver.remote.webelement.WebElement (session=\"2fec1617be2d506ac7129e9dc12881c2\", element=\"f9044790-317d-4b93-ba8a-e10359975a4e\")>,\n",
       " <selenium.webdriver.remote.webelement.WebElement (session=\"2fec1617be2d506ac7129e9dc12881c2\", element=\"ece274dc-f367-4398-94d1-4f27a2d42d45\")>,\n",
       " <selenium.webdriver.remote.webelement.WebElement (session=\"2fec1617be2d506ac7129e9dc12881c2\", element=\"56363a82-a372-40ae-81e0-3e177b96a71e\")>,\n",
       " <selenium.webdriver.remote.webelement.WebElement (session=\"2fec1617be2d506ac7129e9dc12881c2\", element=\"83a02148-a132-4158-acc4-9946e0257d9f\")>,\n",
       " <selenium.webdriver.remote.webelement.WebElement (session=\"2fec1617be2d506ac7129e9dc12881c2\", element=\"c11ad7b2-73a0-4cbd-bc55-26955d66418d\")>,\n",
       " <selenium.webdriver.remote.webelement.WebElement (session=\"2fec1617be2d506ac7129e9dc12881c2\", element=\"bac166a2-2daf-470c-9559-ca58f132c3ba\")>,\n",
       " <selenium.webdriver.remote.webelement.WebElement (session=\"2fec1617be2d506ac7129e9dc12881c2\", element=\"2d67f998-c9f9-4e68-a271-9116b33cfbd1\")>,\n",
       " <selenium.webdriver.remote.webelement.WebElement (session=\"2fec1617be2d506ac7129e9dc12881c2\", element=\"ff503476-226f-4cad-b928-e5b306d55a9f\")>,\n",
       " <selenium.webdriver.remote.webelement.WebElement (session=\"2fec1617be2d506ac7129e9dc12881c2\", element=\"cbff924c-0f90-4bdc-aa34-9367b2f56c97\")>,\n",
       " <selenium.webdriver.remote.webelement.WebElement (session=\"2fec1617be2d506ac7129e9dc12881c2\", element=\"dd1be8d4-96b4-430d-bbe3-d4c265d6e5f5\")>,\n",
       " <selenium.webdriver.remote.webelement.WebElement (session=\"2fec1617be2d506ac7129e9dc12881c2\", element=\"01f4727d-72cc-43cb-8db4-a6a71f5eab60\")>,\n",
       " <selenium.webdriver.remote.webelement.WebElement (session=\"2fec1617be2d506ac7129e9dc12881c2\", element=\"2cb2a45c-bf98-4c5b-b3ee-668380eec61a\")>,\n",
       " <selenium.webdriver.remote.webelement.WebElement (session=\"2fec1617be2d506ac7129e9dc12881c2\", element=\"0b201379-d0f1-4cfd-b738-7ab341ef1fe2\")>,\n",
       " <selenium.webdriver.remote.webelement.WebElement (session=\"2fec1617be2d506ac7129e9dc12881c2\", element=\"c7fb0d55-d21c-4393-a5f0-760f5b018697\")>,\n",
       " <selenium.webdriver.remote.webelement.WebElement (session=\"2fec1617be2d506ac7129e9dc12881c2\", element=\"bbdc1156-7b64-45bd-b320-fd8f7922a5e7\")>,\n",
       " <selenium.webdriver.remote.webelement.WebElement (session=\"2fec1617be2d506ac7129e9dc12881c2\", element=\"d0ccf377-750e-43a7-87fd-875416dfa4ce\")>,\n",
       " <selenium.webdriver.remote.webelement.WebElement (session=\"2fec1617be2d506ac7129e9dc12881c2\", element=\"93a0e04e-55f2-4dd4-8e99-7deeb881035b\")>,\n",
       " <selenium.webdriver.remote.webelement.WebElement (session=\"2fec1617be2d506ac7129e9dc12881c2\", element=\"7ad667e7-fad3-465d-bbcb-8f35477776d8\")>,\n",
       " <selenium.webdriver.remote.webelement.WebElement (session=\"2fec1617be2d506ac7129e9dc12881c2\", element=\"d7a64d22-a3c0-4802-8415-2ba2141a5dbf\")>]"
      ]
     },
     "execution_count": 67,
     "metadata": {},
     "output_type": "execute_result"
    }
   ],
   "source": [
    "# extracting tags havings job titles\n",
    "title_tags = driver.find_elements_by_xpath(\"//a[@class='title fw500 ellipsis']\")\n",
    "title_tags"
   ]
  },
  {
   "cell_type": "code",
   "execution_count": 68,
   "metadata": {},
   "outputs": [
    {
     "data": {
      "text/plain": [
       "['Data Scientist/Data Analyst /Business Analyst',\n",
       " 'Only Fresher / Data Scientist / Data Analyst / Analytics - MNC Jobs',\n",
       " 'Advanced Analytics -Data Scientist',\n",
       " 'Data Scientist - Machine Learning/ NLP',\n",
       " 'Data Scientist || Python || C2H',\n",
       " 'Data Scientist || Python || C2H',\n",
       " 'Data Scientist - Text NLP | Noida',\n",
       " 'Data Scientist (Early Joiner)',\n",
       " 'Data Scientist - Machine Learning/NLP',\n",
       " 'Data analytics / Data scientist intern (work from Home)']"
      ]
     },
     "execution_count": 68,
     "metadata": {},
     "output_type": "execute_result"
    }
   ],
   "source": [
    "job_titles = [] # creating empty list to store values\n",
    "for i in title_tags:   # running loop\n",
    "    job_titles.append(i.text)\n",
    "    \n",
    "job_titles[:10] # Using indexing to scrape first 10 job titles"
   ]
  },
  {
   "cell_type": "code",
   "execution_count": 69,
   "metadata": {},
   "outputs": [
    {
     "data": {
      "text/plain": [
       "[<selenium.webdriver.remote.webelement.WebElement (session=\"2fec1617be2d506ac7129e9dc12881c2\", element=\"b901f826-5c56-46be-a7da-e695e223c123\")>,\n",
       " <selenium.webdriver.remote.webelement.WebElement (session=\"2fec1617be2d506ac7129e9dc12881c2\", element=\"b34fcbae-90fb-45e7-bf59-d8569d4cf529\")>,\n",
       " <selenium.webdriver.remote.webelement.WebElement (session=\"2fec1617be2d506ac7129e9dc12881c2\", element=\"7abdc402-614c-4c64-8a16-f7d9935fd230\")>,\n",
       " <selenium.webdriver.remote.webelement.WebElement (session=\"2fec1617be2d506ac7129e9dc12881c2\", element=\"709458f6-23ec-4758-8099-2352ddedcfb4\")>,\n",
       " <selenium.webdriver.remote.webelement.WebElement (session=\"2fec1617be2d506ac7129e9dc12881c2\", element=\"2d5af976-14bc-41bc-acee-23d5319a39e4\")>,\n",
       " <selenium.webdriver.remote.webelement.WebElement (session=\"2fec1617be2d506ac7129e9dc12881c2\", element=\"89932471-f3b7-4774-9b8f-88ea878e108d\")>,\n",
       " <selenium.webdriver.remote.webelement.WebElement (session=\"2fec1617be2d506ac7129e9dc12881c2\", element=\"583aadb9-ee9b-4067-8481-e798461d84fe\")>,\n",
       " <selenium.webdriver.remote.webelement.WebElement (session=\"2fec1617be2d506ac7129e9dc12881c2\", element=\"e7372fc3-7ca8-49a2-ab8c-0e0b6b6f8213\")>,\n",
       " <selenium.webdriver.remote.webelement.WebElement (session=\"2fec1617be2d506ac7129e9dc12881c2\", element=\"be7d8bab-2610-4399-89f6-6ded4fc0fac1\")>,\n",
       " <selenium.webdriver.remote.webelement.WebElement (session=\"2fec1617be2d506ac7129e9dc12881c2\", element=\"b79ee778-8c77-4a3f-a688-a094c9e31492\")>,\n",
       " <selenium.webdriver.remote.webelement.WebElement (session=\"2fec1617be2d506ac7129e9dc12881c2\", element=\"4c7c3617-7575-47cf-acfc-6a79190c7e79\")>,\n",
       " <selenium.webdriver.remote.webelement.WebElement (session=\"2fec1617be2d506ac7129e9dc12881c2\", element=\"e8af3579-222a-4455-980c-d80a33cb5230\")>,\n",
       " <selenium.webdriver.remote.webelement.WebElement (session=\"2fec1617be2d506ac7129e9dc12881c2\", element=\"299097e2-26df-4709-bf2a-1959ddaab509\")>,\n",
       " <selenium.webdriver.remote.webelement.WebElement (session=\"2fec1617be2d506ac7129e9dc12881c2\", element=\"c1217b87-605d-4c75-a31d-22af800d5bfe\")>,\n",
       " <selenium.webdriver.remote.webelement.WebElement (session=\"2fec1617be2d506ac7129e9dc12881c2\", element=\"9f05dedf-0cbd-46d6-be3e-a45bb8130529\")>,\n",
       " <selenium.webdriver.remote.webelement.WebElement (session=\"2fec1617be2d506ac7129e9dc12881c2\", element=\"87b225b6-b0e5-4686-9128-10d7b548f263\")>,\n",
       " <selenium.webdriver.remote.webelement.WebElement (session=\"2fec1617be2d506ac7129e9dc12881c2\", element=\"2a0d8e83-7527-479e-bd4b-2241e2a5e5dc\")>,\n",
       " <selenium.webdriver.remote.webelement.WebElement (session=\"2fec1617be2d506ac7129e9dc12881c2\", element=\"5163ff04-4ae1-4855-9400-49eba73cff11\")>,\n",
       " <selenium.webdriver.remote.webelement.WebElement (session=\"2fec1617be2d506ac7129e9dc12881c2\", element=\"81120b41-a1ef-4894-ba4b-9c68a7e46e24\")>,\n",
       " <selenium.webdriver.remote.webelement.WebElement (session=\"2fec1617be2d506ac7129e9dc12881c2\", element=\"c12b53fc-b91c-4d7d-8211-bd6275561603\")>,\n",
       " <selenium.webdriver.remote.webelement.WebElement (session=\"2fec1617be2d506ac7129e9dc12881c2\", element=\"50eb9820-4180-4247-bfd9-2dbc880df32b\")>,\n",
       " <selenium.webdriver.remote.webelement.WebElement (session=\"2fec1617be2d506ac7129e9dc12881c2\", element=\"e49d2299-8f64-4bf4-8876-1581cab969e3\")>,\n",
       " <selenium.webdriver.remote.webelement.WebElement (session=\"2fec1617be2d506ac7129e9dc12881c2\", element=\"1fd14a0c-b95a-46a8-93f8-4d464de310a3\")>,\n",
       " <selenium.webdriver.remote.webelement.WebElement (session=\"2fec1617be2d506ac7129e9dc12881c2\", element=\"9c946aa4-4a48-4a63-b738-f360b536fef2\")>,\n",
       " <selenium.webdriver.remote.webelement.WebElement (session=\"2fec1617be2d506ac7129e9dc12881c2\", element=\"9477130b-008e-498d-92e3-730e49983c72\")>,\n",
       " <selenium.webdriver.remote.webelement.WebElement (session=\"2fec1617be2d506ac7129e9dc12881c2\", element=\"c8457d27-5192-4f26-a849-00ee307422c7\")>,\n",
       " <selenium.webdriver.remote.webelement.WebElement (session=\"2fec1617be2d506ac7129e9dc12881c2\", element=\"6710fce0-7ca8-40b6-870f-c7cec6130310\")>,\n",
       " <selenium.webdriver.remote.webelement.WebElement (session=\"2fec1617be2d506ac7129e9dc12881c2\", element=\"240a9853-2de8-45a0-a71a-5eb314fb7a45\")>,\n",
       " <selenium.webdriver.remote.webelement.WebElement (session=\"2fec1617be2d506ac7129e9dc12881c2\", element=\"79f0390a-7cc2-4287-a65c-bd4fb76691f5\")>,\n",
       " <selenium.webdriver.remote.webelement.WebElement (session=\"2fec1617be2d506ac7129e9dc12881c2\", element=\"e609ccd9-12c4-48a1-ac84-d81b03ed8494\")>,\n",
       " <selenium.webdriver.remote.webelement.WebElement (session=\"2fec1617be2d506ac7129e9dc12881c2\", element=\"0398a1b2-38ce-4df7-bcb3-a1635bd301b2\")>,\n",
       " <selenium.webdriver.remote.webelement.WebElement (session=\"2fec1617be2d506ac7129e9dc12881c2\", element=\"80c78ecc-4241-44ef-9720-75dfd70eefa6\")>,\n",
       " <selenium.webdriver.remote.webelement.WebElement (session=\"2fec1617be2d506ac7129e9dc12881c2\", element=\"cd98a3fa-7df3-407a-9a92-10f36a8e741b\")>,\n",
       " <selenium.webdriver.remote.webelement.WebElement (session=\"2fec1617be2d506ac7129e9dc12881c2\", element=\"e464c018-eef3-4563-b93b-f4a07a678c74\")>,\n",
       " <selenium.webdriver.remote.webelement.WebElement (session=\"2fec1617be2d506ac7129e9dc12881c2\", element=\"d1a84da5-1acc-43a0-8cba-9a4a32edda0f\")>,\n",
       " <selenium.webdriver.remote.webelement.WebElement (session=\"2fec1617be2d506ac7129e9dc12881c2\", element=\"8cedb0f4-bc03-4d84-a498-6d002c16f894\")>,\n",
       " <selenium.webdriver.remote.webelement.WebElement (session=\"2fec1617be2d506ac7129e9dc12881c2\", element=\"fe1df82d-f084-4af0-b335-3591b86475b4\")>,\n",
       " <selenium.webdriver.remote.webelement.WebElement (session=\"2fec1617be2d506ac7129e9dc12881c2\", element=\"c057788e-1be9-43c7-a176-f3e22a068fa6\")>,\n",
       " <selenium.webdriver.remote.webelement.WebElement (session=\"2fec1617be2d506ac7129e9dc12881c2\", element=\"493f8895-6505-4cd3-8b38-cd6747c96b2d\")>,\n",
       " <selenium.webdriver.remote.webelement.WebElement (session=\"2fec1617be2d506ac7129e9dc12881c2\", element=\"dcd0b8b5-8ef9-4950-bd40-98e6250b9570\")>,\n",
       " <selenium.webdriver.remote.webelement.WebElement (session=\"2fec1617be2d506ac7129e9dc12881c2\", element=\"66142550-d76a-4333-8b83-0e2487f7824e\")>,\n",
       " <selenium.webdriver.remote.webelement.WebElement (session=\"2fec1617be2d506ac7129e9dc12881c2\", element=\"ef3e3cbe-f563-4324-a918-08fe9e562686\")>,\n",
       " <selenium.webdriver.remote.webelement.WebElement (session=\"2fec1617be2d506ac7129e9dc12881c2\", element=\"ffd4acf3-d715-4c35-a8c4-fdaaad0d5d69\")>,\n",
       " <selenium.webdriver.remote.webelement.WebElement (session=\"2fec1617be2d506ac7129e9dc12881c2\", element=\"46296580-dece-4658-bd6b-8fd84d1a431f\")>,\n",
       " <selenium.webdriver.remote.webelement.WebElement (session=\"2fec1617be2d506ac7129e9dc12881c2\", element=\"9260f512-117e-4810-9e13-f2289814d27b\")>,\n",
       " <selenium.webdriver.remote.webelement.WebElement (session=\"2fec1617be2d506ac7129e9dc12881c2\", element=\"5b6afc90-75ae-453c-9145-4544bf6c3f8b\")>,\n",
       " <selenium.webdriver.remote.webelement.WebElement (session=\"2fec1617be2d506ac7129e9dc12881c2\", element=\"50cf253e-5062-444b-bd04-18905c5c6630\")>,\n",
       " <selenium.webdriver.remote.webelement.WebElement (session=\"2fec1617be2d506ac7129e9dc12881c2\", element=\"cffb578f-5369-4d3e-9c1f-feccc1bf3f02\")>,\n",
       " <selenium.webdriver.remote.webelement.WebElement (session=\"2fec1617be2d506ac7129e9dc12881c2\", element=\"7c415c23-e709-4b2d-8a68-97ffbb7e5b48\")>,\n",
       " <selenium.webdriver.remote.webelement.WebElement (session=\"2fec1617be2d506ac7129e9dc12881c2\", element=\"145b32d5-8461-4bad-b58c-89ff91fc0d86\")>,\n",
       " <selenium.webdriver.remote.webelement.WebElement (session=\"2fec1617be2d506ac7129e9dc12881c2\", element=\"aea959da-133b-47b8-9e1e-17fdf9d814b6\")>,\n",
       " <selenium.webdriver.remote.webelement.WebElement (session=\"2fec1617be2d506ac7129e9dc12881c2\", element=\"bf9e3f5b-695b-437e-8c27-40af891d3e9d\")>,\n",
       " <selenium.webdriver.remote.webelement.WebElement (session=\"2fec1617be2d506ac7129e9dc12881c2\", element=\"e7ece219-e1e6-4ce4-bd17-79933a20afb0\")>,\n",
       " <selenium.webdriver.remote.webelement.WebElement (session=\"2fec1617be2d506ac7129e9dc12881c2\", element=\"54970bdc-bba7-4fa5-aef8-b989d99be1b7\")>,\n",
       " <selenium.webdriver.remote.webelement.WebElement (session=\"2fec1617be2d506ac7129e9dc12881c2\", element=\"704a3f34-e1bc-4b22-adf0-c956b94d45cc\")>,\n",
       " <selenium.webdriver.remote.webelement.WebElement (session=\"2fec1617be2d506ac7129e9dc12881c2\", element=\"54f6b659-e9f0-4b79-907a-d689d4736d1a\")>,\n",
       " <selenium.webdriver.remote.webelement.WebElement (session=\"2fec1617be2d506ac7129e9dc12881c2\", element=\"4599bfb5-257a-4731-af62-0552ff84d79a\")>,\n",
       " <selenium.webdriver.remote.webelement.WebElement (session=\"2fec1617be2d506ac7129e9dc12881c2\", element=\"53f655e8-c7e9-48e4-9e8b-96d556cac65f\")>,\n",
       " <selenium.webdriver.remote.webelement.WebElement (session=\"2fec1617be2d506ac7129e9dc12881c2\", element=\"0a35c032-9d7a-421b-8bda-c78e45220203\")>,\n",
       " <selenium.webdriver.remote.webelement.WebElement (session=\"2fec1617be2d506ac7129e9dc12881c2\", element=\"93920987-e15d-43a5-b455-9c32a2b9915f\")>]"
      ]
     },
     "execution_count": 69,
     "metadata": {},
     "output_type": "execute_result"
    }
   ],
   "source": [
    "# extracting tags havings job locations\n",
    "loc_tags = driver.find_elements_by_xpath(\"//span[@class='ellipsis fleft fs12 lh16']\")\n",
    "loc_tags"
   ]
  },
  {
   "cell_type": "code",
   "execution_count": 70,
   "metadata": {},
   "outputs": [
    {
     "data": {
      "text/plain": [
       "['0-3 Yrs',\n",
       " '3,50,000 - 4,50,000 PA.',\n",
       " 'Pune, Delhi / NCR, Mumbai (All Areas)',\n",
       " '0-0 Yrs',\n",
       " '2,25,000 - 4,75,000 PA.',\n",
       " 'Noida, Greater Noida, Delhi / NCR',\n",
       " '3-7 Yrs',\n",
       " '3,00,000 - 8,00,000 PA.',\n",
       " 'New Delhi, Hyderabad/Secunderabad',\n",
       " '2-6 Yrs',\n",
       " 'Not disclosed',\n",
       " 'Gurgaon/Gurugram',\n",
       " '4-6 Yrs',\n",
       " '4,75,000 - 7,00,000 PA.',\n",
       " 'Noida, Kolkata, Gurgaon/Gurugram, Bangalore/Bengaluru',\n",
       " '4-6 Yrs',\n",
       " '4,75,000 - 7,00,000 PA.',\n",
       " 'Noida, Kolkata, Gurgaon/Gurugram, Bangalore/Bengaluru',\n",
       " '3-5 Yrs',\n",
       " 'Not disclosed',\n",
       " 'Noida',\n",
       " '4-8 Yrs',\n",
       " 'Not disclosed',\n",
       " 'Noida(Sector-59 Noida)',\n",
       " '2-6 Yrs',\n",
       " 'Not disclosed',\n",
       " 'Gurgaon/Gurugram',\n",
       " '0-5 Yrs',\n",
       " '2,00,000 - 3,00,000 PA.',\n",
       " 'Kolkata, Bangalore/Bengaluru, Delhi / NCR',\n",
       " '0-5 Yrs',\n",
       " 'Not disclosed',\n",
       " 'New Delhi',\n",
       " '5-8 Yrs',\n",
       " 'Not disclosed',\n",
       " 'New Delhi',\n",
       " '3-7 Yrs',\n",
       " 'Not disclosed',\n",
       " 'Mumbai, Gurgaon/Gurugram, Bangalore/Bengaluru',\n",
       " '0-0 Yrs',\n",
       " '2,25,000 - 4,75,000 PA.',\n",
       " 'Noida, Gurgaon/Gurugram, Delhi / NCR',\n",
       " '4-7 Yrs',\n",
       " 'Not disclosed',\n",
       " 'Noida, Gurgaon/Gurugram, Delhi / NCR',\n",
       " '1-5 Yrs',\n",
       " 'Not disclosed',\n",
       " 'Delhi',\n",
       " '3-7 Yrs',\n",
       " 'Not disclosed',\n",
       " 'Gurgaon/Gurugram, Bangalore/Bengaluru',\n",
       " '1-3 Yrs',\n",
       " 'Not disclosed',\n",
       " 'Bharuch, Jaipur, Bhopal, Mumbai, Jhansi, Nagpur, Ghaziabad, Jaunpur, Kanpur, New Delhi, Lucknow, Agra, Gurgaon/Gurugram, Rajkot, Bangalore/Bengaluru',\n",
       " '2-6 Yrs',\n",
       " 'Not disclosed',\n",
       " 'New Delhi',\n",
       " '2-6 Yrs',\n",
       " 'Not disclosed',\n",
       " 'Delhi']"
      ]
     },
     "execution_count": 70,
     "metadata": {},
     "output_type": "execute_result"
    }
   ],
   "source": [
    "location_tags = [] # creating empty list to store values\n",
    "for i in loc_tags: # running loop\n",
    "    location_tags.append(i.text)\n",
    "    \n",
    "location_tags"
   ]
  },
  {
   "cell_type": "code",
   "execution_count": 71,
   "metadata": {},
   "outputs": [],
   "source": [
    "location = [] # empty list\n",
    "for i in range(2,len(location_tags),3):\n",
    "    location.append(location_tags[i].strip())"
   ]
  },
  {
   "cell_type": "code",
   "execution_count": 72,
   "metadata": {},
   "outputs": [
    {
     "data": {
      "text/plain": [
       "['Pune, Delhi / NCR, Mumbai (All Areas)',\n",
       " 'Noida, Greater Noida, Delhi / NCR',\n",
       " 'New Delhi, Hyderabad/Secunderabad',\n",
       " 'Gurgaon/Gurugram',\n",
       " 'Noida, Kolkata, Gurgaon/Gurugram, Bangalore/Bengaluru',\n",
       " 'Noida, Kolkata, Gurgaon/Gurugram, Bangalore/Bengaluru',\n",
       " 'Noida',\n",
       " 'Noida(Sector-59 Noida)',\n",
       " 'Gurgaon/Gurugram',\n",
       " 'Kolkata, Bangalore/Bengaluru, Delhi / NCR']"
      ]
     },
     "execution_count": 72,
     "metadata": {},
     "output_type": "execute_result"
    }
   ],
   "source": [
    "location[:10]"
   ]
  },
  {
   "cell_type": "code",
   "execution_count": 73,
   "metadata": {},
   "outputs": [
    {
     "data": {
      "text/plain": [
       "[<selenium.webdriver.remote.webelement.WebElement (session=\"2fec1617be2d506ac7129e9dc12881c2\", element=\"b0eaba10-0814-4a1e-9b9b-85d067391417\")>,\n",
       " <selenium.webdriver.remote.webelement.WebElement (session=\"2fec1617be2d506ac7129e9dc12881c2\", element=\"ee8e0225-99e0-4c0d-b087-09500e191430\")>,\n",
       " <selenium.webdriver.remote.webelement.WebElement (session=\"2fec1617be2d506ac7129e9dc12881c2\", element=\"48110103-d713-4411-9a4f-a0ad75d6bff9\")>,\n",
       " <selenium.webdriver.remote.webelement.WebElement (session=\"2fec1617be2d506ac7129e9dc12881c2\", element=\"832a94ff-23d4-4428-9b09-ef8275fbdc24\")>,\n",
       " <selenium.webdriver.remote.webelement.WebElement (session=\"2fec1617be2d506ac7129e9dc12881c2\", element=\"6ece6c65-131d-4b64-94c3-38d7ee771f7e\")>,\n",
       " <selenium.webdriver.remote.webelement.WebElement (session=\"2fec1617be2d506ac7129e9dc12881c2\", element=\"f0195a54-67b3-4c7c-8a6f-5538165be99a\")>,\n",
       " <selenium.webdriver.remote.webelement.WebElement (session=\"2fec1617be2d506ac7129e9dc12881c2\", element=\"e8e4f338-2886-4019-8048-4a8251211330\")>,\n",
       " <selenium.webdriver.remote.webelement.WebElement (session=\"2fec1617be2d506ac7129e9dc12881c2\", element=\"8d071a06-3468-4873-8a35-09eb0633d60c\")>,\n",
       " <selenium.webdriver.remote.webelement.WebElement (session=\"2fec1617be2d506ac7129e9dc12881c2\", element=\"5900f2f0-0828-4edf-bd62-502d421ffa81\")>,\n",
       " <selenium.webdriver.remote.webelement.WebElement (session=\"2fec1617be2d506ac7129e9dc12881c2\", element=\"97f7b066-8e83-4bd4-b038-3a86a98d43e1\")>,\n",
       " <selenium.webdriver.remote.webelement.WebElement (session=\"2fec1617be2d506ac7129e9dc12881c2\", element=\"30d491c1-c10a-4fc4-a4f7-ad8725a652e0\")>,\n",
       " <selenium.webdriver.remote.webelement.WebElement (session=\"2fec1617be2d506ac7129e9dc12881c2\", element=\"cd4720a7-ed93-4928-b34b-7637e4da552b\")>,\n",
       " <selenium.webdriver.remote.webelement.WebElement (session=\"2fec1617be2d506ac7129e9dc12881c2\", element=\"d532f53a-e44d-4084-9241-c8240f15969b\")>,\n",
       " <selenium.webdriver.remote.webelement.WebElement (session=\"2fec1617be2d506ac7129e9dc12881c2\", element=\"b7e4e24d-6bbd-4de9-9384-e64266ccedc9\")>,\n",
       " <selenium.webdriver.remote.webelement.WebElement (session=\"2fec1617be2d506ac7129e9dc12881c2\", element=\"9264c8d5-d207-451c-b194-e6024b2af0f3\")>,\n",
       " <selenium.webdriver.remote.webelement.WebElement (session=\"2fec1617be2d506ac7129e9dc12881c2\", element=\"713137be-00bc-4a70-ab9c-c5700d42aec9\")>,\n",
       " <selenium.webdriver.remote.webelement.WebElement (session=\"2fec1617be2d506ac7129e9dc12881c2\", element=\"a6222edc-dbd9-4433-8fab-46f7d79b60fe\")>,\n",
       " <selenium.webdriver.remote.webelement.WebElement (session=\"2fec1617be2d506ac7129e9dc12881c2\", element=\"64f41f00-e292-405c-be99-749c2dca4d81\")>,\n",
       " <selenium.webdriver.remote.webelement.WebElement (session=\"2fec1617be2d506ac7129e9dc12881c2\", element=\"a7ce8d51-6d27-4fc1-b3cd-e88924da8ab6\")>,\n",
       " <selenium.webdriver.remote.webelement.WebElement (session=\"2fec1617be2d506ac7129e9dc12881c2\", element=\"e6e61c59-b347-4e6b-8e43-430b3fc517e5\")>]"
      ]
     },
     "execution_count": 73,
     "metadata": {},
     "output_type": "execute_result"
    }
   ],
   "source": [
    "# extracting web elements\n",
    "company = driver.find_elements_by_xpath(\"//a[@class='subTitle ellipsis fleft']\")\n",
    "company"
   ]
  },
  {
   "cell_type": "code",
   "execution_count": 74,
   "metadata": {},
   "outputs": [
    {
     "data": {
      "text/plain": [
       "['Inflexion Analytix Private Limited',\n",
       " 'GABA Consultancy services',\n",
       " 'ERM Placement Services (P) Ltd.',\n",
       " 'TalPro',\n",
       " 'Growel Softech Pvt. Ltd.',\n",
       " 'Growel Softech Pvt. Ltd.',\n",
       " 'Acidaes Solutions Pvt. Ltd.',\n",
       " 'R Systems International Ltd.',\n",
       " 'TalPro',\n",
       " 'TalkValley LLC']"
      ]
     },
     "execution_count": 74,
     "metadata": {},
     "output_type": "execute_result"
    }
   ],
   "source": [
    "company_name = [] # empty list\n",
    "for i in company: \n",
    "        company_name.append(i.text.replace('\\n',''))\n",
    "\n",
    "company_name[:10]"
   ]
  },
  {
   "cell_type": "code",
   "execution_count": 75,
   "metadata": {},
   "outputs": [
    {
     "data": {
      "text/plain": [
       "['0-3 Yrs',\n",
       " '0-0 Yrs',\n",
       " '3-7 Yrs',\n",
       " '2-6 Yrs',\n",
       " '4-6 Yrs',\n",
       " '4-6 Yrs',\n",
       " '3-5 Yrs',\n",
       " '4-8 Yrs',\n",
       " '2-6 Yrs',\n",
       " '0-5 Yrs']"
      ]
     },
     "execution_count": 75,
     "metadata": {},
     "output_type": "execute_result"
    }
   ],
   "source": [
    "experience = [] # empty list\n",
    "for i in range(0,len(location_tags),3):\n",
    "    experience.append(location_tags[i].strip())\n",
    "    \n",
    "experience[:10] # using indexing to get first 10 experience "
   ]
  },
  {
   "cell_type": "code",
   "execution_count": 76,
   "metadata": {},
   "outputs": [],
   "source": [
    "job_portal=pd.DataFrame({})            # making dataframe\n",
    "job_portal['Job Title']=job_titles\n",
    "job_portal['Job location']=location\n",
    "job_portal['Company Name']=company_name\n",
    "job_portal['Experience Required']=experience"
   ]
  },
  {
   "cell_type": "code",
   "execution_count": 77,
   "metadata": {},
   "outputs": [
    {
     "data": {
      "text/html": [
       "<div>\n",
       "<style scoped>\n",
       "    .dataframe tbody tr th:only-of-type {\n",
       "        vertical-align: middle;\n",
       "    }\n",
       "\n",
       "    .dataframe tbody tr th {\n",
       "        vertical-align: top;\n",
       "    }\n",
       "\n",
       "    .dataframe thead th {\n",
       "        text-align: right;\n",
       "    }\n",
       "</style>\n",
       "<table border=\"1\" class=\"dataframe\">\n",
       "  <thead>\n",
       "    <tr style=\"text-align: right;\">\n",
       "      <th></th>\n",
       "      <th>Job Title</th>\n",
       "      <th>Job location</th>\n",
       "      <th>Company Name</th>\n",
       "      <th>Experience Required</th>\n",
       "    </tr>\n",
       "  </thead>\n",
       "  <tbody>\n",
       "    <tr>\n",
       "      <th>0</th>\n",
       "      <td>Data Scientist/Data Analyst /Business Analyst</td>\n",
       "      <td>Pune, Delhi / NCR, Mumbai (All Areas)</td>\n",
       "      <td>Inflexion Analytix Private Limited</td>\n",
       "      <td>0-3 Yrs</td>\n",
       "    </tr>\n",
       "    <tr>\n",
       "      <th>1</th>\n",
       "      <td>Only Fresher / Data Scientist / Data Analyst /...</td>\n",
       "      <td>Noida, Greater Noida, Delhi / NCR</td>\n",
       "      <td>GABA Consultancy services</td>\n",
       "      <td>0-0 Yrs</td>\n",
       "    </tr>\n",
       "    <tr>\n",
       "      <th>2</th>\n",
       "      <td>Advanced Analytics -Data Scientist</td>\n",
       "      <td>New Delhi, Hyderabad/Secunderabad</td>\n",
       "      <td>ERM Placement Services (P) Ltd.</td>\n",
       "      <td>3-7 Yrs</td>\n",
       "    </tr>\n",
       "    <tr>\n",
       "      <th>3</th>\n",
       "      <td>Data Scientist - Machine Learning/ NLP</td>\n",
       "      <td>Gurgaon/Gurugram</td>\n",
       "      <td>TalPro</td>\n",
       "      <td>2-6 Yrs</td>\n",
       "    </tr>\n",
       "    <tr>\n",
       "      <th>4</th>\n",
       "      <td>Data Scientist || Python || C2H</td>\n",
       "      <td>Noida, Kolkata, Gurgaon/Gurugram, Bangalore/Be...</td>\n",
       "      <td>Growel Softech Pvt. Ltd.</td>\n",
       "      <td>4-6 Yrs</td>\n",
       "    </tr>\n",
       "    <tr>\n",
       "      <th>5</th>\n",
       "      <td>Data Scientist || Python || C2H</td>\n",
       "      <td>Noida, Kolkata, Gurgaon/Gurugram, Bangalore/Be...</td>\n",
       "      <td>Growel Softech Pvt. Ltd.</td>\n",
       "      <td>4-6 Yrs</td>\n",
       "    </tr>\n",
       "    <tr>\n",
       "      <th>6</th>\n",
       "      <td>Data Scientist - Text NLP | Noida</td>\n",
       "      <td>Noida</td>\n",
       "      <td>Acidaes Solutions Pvt. Ltd.</td>\n",
       "      <td>3-5 Yrs</td>\n",
       "    </tr>\n",
       "    <tr>\n",
       "      <th>7</th>\n",
       "      <td>Data Scientist (Early Joiner)</td>\n",
       "      <td>Noida(Sector-59 Noida)</td>\n",
       "      <td>R Systems International Ltd.</td>\n",
       "      <td>4-8 Yrs</td>\n",
       "    </tr>\n",
       "    <tr>\n",
       "      <th>8</th>\n",
       "      <td>Data Scientist - Machine Learning/NLP</td>\n",
       "      <td>Gurgaon/Gurugram</td>\n",
       "      <td>TalPro</td>\n",
       "      <td>2-6 Yrs</td>\n",
       "    </tr>\n",
       "    <tr>\n",
       "      <th>9</th>\n",
       "      <td>Data analytics / Data scientist intern (work f...</td>\n",
       "      <td>Kolkata, Bangalore/Bengaluru, Delhi / NCR</td>\n",
       "      <td>TalkValley LLC</td>\n",
       "      <td>0-5 Yrs</td>\n",
       "    </tr>\n",
       "  </tbody>\n",
       "</table>\n",
       "</div>"
      ],
      "text/plain": [
       "                                           Job Title  \\\n",
       "0      Data Scientist/Data Analyst /Business Analyst   \n",
       "1  Only Fresher / Data Scientist / Data Analyst /...   \n",
       "2                 Advanced Analytics -Data Scientist   \n",
       "3             Data Scientist - Machine Learning/ NLP   \n",
       "4                    Data Scientist || Python || C2H   \n",
       "5                    Data Scientist || Python || C2H   \n",
       "6                  Data Scientist - Text NLP | Noida   \n",
       "7                      Data Scientist (Early Joiner)   \n",
       "8              Data Scientist - Machine Learning/NLP   \n",
       "9  Data analytics / Data scientist intern (work f...   \n",
       "\n",
       "                                        Job location  \\\n",
       "0              Pune, Delhi / NCR, Mumbai (All Areas)   \n",
       "1                  Noida, Greater Noida, Delhi / NCR   \n",
       "2                  New Delhi, Hyderabad/Secunderabad   \n",
       "3                                   Gurgaon/Gurugram   \n",
       "4  Noida, Kolkata, Gurgaon/Gurugram, Bangalore/Be...   \n",
       "5  Noida, Kolkata, Gurgaon/Gurugram, Bangalore/Be...   \n",
       "6                                              Noida   \n",
       "7                             Noida(Sector-59 Noida)   \n",
       "8                                   Gurgaon/Gurugram   \n",
       "9          Kolkata, Bangalore/Bengaluru, Delhi / NCR   \n",
       "\n",
       "                         Company Name Experience Required  \n",
       "0  Inflexion Analytix Private Limited             0-3 Yrs  \n",
       "1           GABA Consultancy services             0-0 Yrs  \n",
       "2     ERM Placement Services (P) Ltd.             3-7 Yrs  \n",
       "3                              TalPro             2-6 Yrs  \n",
       "4            Growel Softech Pvt. Ltd.             4-6 Yrs  \n",
       "5            Growel Softech Pvt. Ltd.             4-6 Yrs  \n",
       "6         Acidaes Solutions Pvt. Ltd.             3-5 Yrs  \n",
       "7        R Systems International Ltd.             4-8 Yrs  \n",
       "8                              TalPro             2-6 Yrs  \n",
       "9                      TalkValley LLC             0-5 Yrs  "
      ]
     },
     "execution_count": 77,
     "metadata": {},
     "output_type": "execute_result"
    }
   ],
   "source": [
    "job_portal[:10]"
   ]
  },
  {
   "cell_type": "code",
   "execution_count": 78,
   "metadata": {},
   "outputs": [],
   "source": [
    "driver.close()"
   ]
  },
  {
   "cell_type": "code",
   "execution_count": null,
   "metadata": {},
   "outputs": [],
   "source": []
  },
  {
   "cell_type": "markdown",
   "metadata": {},
   "source": [
    "# Q4: Write a python program to scrape data for first 10 job results for Data scientist designation in Noida location. You have to scrape company_name, No. of days ago when job was posted, Rating of the company."
   ]
  },
  {
   "cell_type": "code",
   "execution_count": 79,
   "metadata": {},
   "outputs": [],
   "source": [
    "# connecting to webdriver\n",
    "driver = webdriver.Chrome(r\"C:\\Users\\Nitish\\Downloads\\Compressed\\chromedriver.exe\")"
   ]
  },
  {
   "cell_type": "code",
   "execution_count": 80,
   "metadata": {},
   "outputs": [],
   "source": [
    "# send get request to the webpage server to get the source code of the page\n",
    "url = 'https://www.glassdoor.co.in/index.htm'\n",
    "driver.get(url)"
   ]
  },
  {
   "cell_type": "code",
   "execution_count": 84,
   "metadata": {},
   "outputs": [
    {
     "data": {
      "text/plain": [
       "<selenium.webdriver.remote.webelement.WebElement (session=\"1a1b8518ae2885a2f0bbfb1f2b1a6267\", element=\"22dd5871-3c99-4754-9f88-2b8067774cdb\")>"
      ]
     },
     "execution_count": 84,
     "metadata": {},
     "output_type": "execute_result"
    }
   ],
   "source": [
    "sign_in = driver.find_element_by_xpath(\"//button[@class='d-flex align-items-center justify-content-center order-1 order-md-2 mr-auto mr-md-0 p-0 LockedHomeHeaderStyles__signInButton']\")\n",
    "sign_in"
   ]
  },
  {
   "cell_type": "code",
   "execution_count": 86,
   "metadata": {},
   "outputs": [],
   "source": [
    "sign_in.click()"
   ]
  },
  {
   "cell_type": "code",
   "execution_count": 88,
   "metadata": {},
   "outputs": [
    {
     "data": {
      "text/plain": [
       "<selenium.webdriver.remote.webelement.WebElement (session=\"1a1b8518ae2885a2f0bbfb1f2b1a6267\", element=\"733af340-038c-4401-a61d-9e777247971e\")>"
      ]
     },
     "execution_count": 88,
     "metadata": {},
     "output_type": "execute_result"
    }
   ],
   "source": [
    "open_form = driver.find_element_by_xpath('/html/body/header/nav[1]/div/div/div/div[4]/div[1]/button')\n",
    "open_form"
   ]
  },
  {
   "cell_type": "code",
   "execution_count": 89,
   "metadata": {},
   "outputs": [],
   "source": [
    "open_form.click()"
   ]
  },
  {
   "cell_type": "code",
   "execution_count": 90,
   "metadata": {},
   "outputs": [
    {
     "data": {
      "text/plain": [
       "<selenium.webdriver.remote.webelement.WebElement (session=\"1a1b8518ae2885a2f0bbfb1f2b1a6267\", element=\"1eaa4a23-7426-477d-8ed7-a4ead5c5abca\")>"
      ]
     },
     "execution_count": 90,
     "metadata": {},
     "output_type": "execute_result"
    }
   ],
   "source": [
    "job_title = driver.find_element_by_id('scKeyword')\n",
    "job_title"
   ]
  },
  {
   "cell_type": "code",
   "execution_count": 91,
   "metadata": {},
   "outputs": [],
   "source": [
    "# write on search bar\n",
    "job_title.send_keys(\"Data Scientist\")"
   ]
  },
  {
   "cell_type": "code",
   "execution_count": 92,
   "metadata": {},
   "outputs": [
    {
     "data": {
      "text/plain": [
       "<selenium.webdriver.remote.webelement.WebElement (session=\"1a1b8518ae2885a2f0bbfb1f2b1a6267\", element=\"981ca7ef-6c57-45ad-81a6-ebbca3ef50b5\")>"
      ]
     },
     "execution_count": 92,
     "metadata": {},
     "output_type": "execute_result"
    }
   ],
   "source": [
    "location_tag = driver.find_element_by_id('scLocation')\n",
    "location_tag"
   ]
  },
  {
   "cell_type": "code",
   "execution_count": 93,
   "metadata": {},
   "outputs": [],
   "source": [
    "# write on search bar\n",
    "location_tag.send_keys(\"Noida\")"
   ]
  },
  {
   "cell_type": "code",
   "execution_count": 94,
   "metadata": {},
   "outputs": [],
   "source": [
    "search_btn = driver.find_element_by_xpath(\"//button[@class='pl-0 pr-xsm SearchStyles__searchKeywordSubmit']\")\n",
    "search_btn.click()"
   ]
  },
  {
   "cell_type": "code",
   "execution_count": 95,
   "metadata": {},
   "outputs": [
    {
     "data": {
      "text/plain": [
       "[<selenium.webdriver.remote.webelement.WebElement (session=\"1a1b8518ae2885a2f0bbfb1f2b1a6267\", element=\"c8b821fe-f64a-4a55-9cd5-2ba6f597bbaa\")>,\n",
       " <selenium.webdriver.remote.webelement.WebElement (session=\"1a1b8518ae2885a2f0bbfb1f2b1a6267\", element=\"41c2c22b-69e9-4c9b-8f72-444b74cd26b1\")>,\n",
       " <selenium.webdriver.remote.webelement.WebElement (session=\"1a1b8518ae2885a2f0bbfb1f2b1a6267\", element=\"91f3d50a-a3eb-4a8b-8920-43bca70964bd\")>,\n",
       " <selenium.webdriver.remote.webelement.WebElement (session=\"1a1b8518ae2885a2f0bbfb1f2b1a6267\", element=\"4d9bbba0-ff6c-4133-9d35-60c7597d3f1e\")>,\n",
       " <selenium.webdriver.remote.webelement.WebElement (session=\"1a1b8518ae2885a2f0bbfb1f2b1a6267\", element=\"ecbabd1a-0ef8-4e79-a96b-6a2c868f7211\")>,\n",
       " <selenium.webdriver.remote.webelement.WebElement (session=\"1a1b8518ae2885a2f0bbfb1f2b1a6267\", element=\"a1075ddf-fa3f-42c2-877f-46c3fe095b40\")>,\n",
       " <selenium.webdriver.remote.webelement.WebElement (session=\"1a1b8518ae2885a2f0bbfb1f2b1a6267\", element=\"fe88be8b-a8ca-4433-8188-bace352c0352\")>,\n",
       " <selenium.webdriver.remote.webelement.WebElement (session=\"1a1b8518ae2885a2f0bbfb1f2b1a6267\", element=\"04214f58-8f32-4a1f-bf7f-0e42b315126a\")>,\n",
       " <selenium.webdriver.remote.webelement.WebElement (session=\"1a1b8518ae2885a2f0bbfb1f2b1a6267\", element=\"ac0b83d7-1556-43c9-9d51-7fd567f1e1c2\")>,\n",
       " <selenium.webdriver.remote.webelement.WebElement (session=\"1a1b8518ae2885a2f0bbfb1f2b1a6267\", element=\"c0a90f4b-0213-469b-bb2d-5c8a9b868c9f\")>,\n",
       " <selenium.webdriver.remote.webelement.WebElement (session=\"1a1b8518ae2885a2f0bbfb1f2b1a6267\", element=\"b3814bd2-8816-4613-a96c-3309b9f341b5\")>,\n",
       " <selenium.webdriver.remote.webelement.WebElement (session=\"1a1b8518ae2885a2f0bbfb1f2b1a6267\", element=\"38768d6b-e44f-4ef2-8457-e9f580062f95\")>,\n",
       " <selenium.webdriver.remote.webelement.WebElement (session=\"1a1b8518ae2885a2f0bbfb1f2b1a6267\", element=\"cb0c6aa1-5b01-4539-bf42-b7fd2d79e639\")>,\n",
       " <selenium.webdriver.remote.webelement.WebElement (session=\"1a1b8518ae2885a2f0bbfb1f2b1a6267\", element=\"f689cc12-7850-4a7d-999f-5c0f2e3a68cd\")>,\n",
       " <selenium.webdriver.remote.webelement.WebElement (session=\"1a1b8518ae2885a2f0bbfb1f2b1a6267\", element=\"328c13de-cadf-459b-8ef6-550d1ba4f67d\")>,\n",
       " <selenium.webdriver.remote.webelement.WebElement (session=\"1a1b8518ae2885a2f0bbfb1f2b1a6267\", element=\"e4dd03c0-da3e-478f-8eff-e7cca6ced7c2\")>,\n",
       " <selenium.webdriver.remote.webelement.WebElement (session=\"1a1b8518ae2885a2f0bbfb1f2b1a6267\", element=\"25021d08-0839-43ea-81e8-bd6e5aa0ee9f\")>,\n",
       " <selenium.webdriver.remote.webelement.WebElement (session=\"1a1b8518ae2885a2f0bbfb1f2b1a6267\", element=\"0936315e-150d-4d9e-80c0-eb11a5b870b2\")>,\n",
       " <selenium.webdriver.remote.webelement.WebElement (session=\"1a1b8518ae2885a2f0bbfb1f2b1a6267\", element=\"277b40c9-5b77-495e-a416-447803e88d30\")>,\n",
       " <selenium.webdriver.remote.webelement.WebElement (session=\"1a1b8518ae2885a2f0bbfb1f2b1a6267\", element=\"f2f56b7d-527d-44cc-b072-e34c23630480\")>,\n",
       " <selenium.webdriver.remote.webelement.WebElement (session=\"1a1b8518ae2885a2f0bbfb1f2b1a6267\", element=\"4da9aa18-dd14-4168-9485-ff715fe5b219\")>,\n",
       " <selenium.webdriver.remote.webelement.WebElement (session=\"1a1b8518ae2885a2f0bbfb1f2b1a6267\", element=\"2ed163c1-fcfa-468f-ba95-6b3cc02454e3\")>,\n",
       " <selenium.webdriver.remote.webelement.WebElement (session=\"1a1b8518ae2885a2f0bbfb1f2b1a6267\", element=\"da47e10d-4a22-4bcd-85c6-128a796cea01\")>,\n",
       " <selenium.webdriver.remote.webelement.WebElement (session=\"1a1b8518ae2885a2f0bbfb1f2b1a6267\", element=\"3c8413b0-64eb-4538-85c2-a8d6ac0894d0\")>,\n",
       " <selenium.webdriver.remote.webelement.WebElement (session=\"1a1b8518ae2885a2f0bbfb1f2b1a6267\", element=\"6f48b438-76c6-48a4-8f3a-6404c8688381\")>,\n",
       " <selenium.webdriver.remote.webelement.WebElement (session=\"1a1b8518ae2885a2f0bbfb1f2b1a6267\", element=\"96db9ba4-6d0b-478f-85f5-120755cc35ee\")>,\n",
       " <selenium.webdriver.remote.webelement.WebElement (session=\"1a1b8518ae2885a2f0bbfb1f2b1a6267\", element=\"8f5b3356-87ae-4471-ad76-1198c710a5ef\")>,\n",
       " <selenium.webdriver.remote.webelement.WebElement (session=\"1a1b8518ae2885a2f0bbfb1f2b1a6267\", element=\"c5e534be-40e0-48e2-bbc6-fcc5a690eacc\")>,\n",
       " <selenium.webdriver.remote.webelement.WebElement (session=\"1a1b8518ae2885a2f0bbfb1f2b1a6267\", element=\"829c16f0-3794-4fe7-8165-32bc96a4a42b\")>,\n",
       " <selenium.webdriver.remote.webelement.WebElement (session=\"1a1b8518ae2885a2f0bbfb1f2b1a6267\", element=\"93b26fab-971c-4c4c-aed3-a36da8d7a3e0\")>]"
      ]
     },
     "execution_count": 95,
     "metadata": {},
     "output_type": "execute_result"
    }
   ],
   "source": [
    "# extracting tags havings company names\n",
    "company_tags = driver.find_elements_by_xpath(\"//div[@class='d-flex justify-content-between align-items-start']\")\n",
    "company_tags"
   ]
  },
  {
   "cell_type": "code",
   "execution_count": 96,
   "metadata": {},
   "outputs": [
    {
     "data": {
      "text/plain": [
       "['BreathX Technologies Pvt Ltd, A Canary Global Inc. company',\n",
       " 'Applied Materials Inc.',\n",
       " 'Indeed',\n",
       " 'Infosys Limited',\n",
       " 'Digitivy Software and Services India Pvt Ltd',\n",
       " 'OXO Solutions',\n",
       " 'Flipkart',\n",
       " 'Honeywell',\n",
       " 'IElevate Institute',\n",
       " 'Amploy']"
      ]
     },
     "execution_count": 96,
     "metadata": {},
     "output_type": "execute_result"
    }
   ],
   "source": [
    "company_name = [] # creating empty list to store values\n",
    "for i in company_tags:   # running loop\n",
    "    company_name.append(i.text)\n",
    "    \n",
    "company_name[:10] # Using indexing to scrape first 10 job titles"
   ]
  },
  {
   "cell_type": "code",
   "execution_count": 97,
   "metadata": {},
   "outputs": [
    {
     "data": {
      "text/plain": [
       "[<selenium.webdriver.remote.webelement.WebElement (session=\"1a1b8518ae2885a2f0bbfb1f2b1a6267\", element=\"01c5426c-4d4e-49bb-a138-75b73108cbbc\")>,\n",
       " <selenium.webdriver.remote.webelement.WebElement (session=\"1a1b8518ae2885a2f0bbfb1f2b1a6267\", element=\"277ae9d2-bf1c-4107-8f61-2b92690910d5\")>,\n",
       " <selenium.webdriver.remote.webelement.WebElement (session=\"1a1b8518ae2885a2f0bbfb1f2b1a6267\", element=\"7dfb6f91-d6e0-4f4c-8617-bd8e33d2a563\")>,\n",
       " <selenium.webdriver.remote.webelement.WebElement (session=\"1a1b8518ae2885a2f0bbfb1f2b1a6267\", element=\"28dcf019-8330-4e25-a2c5-d0da00861677\")>,\n",
       " <selenium.webdriver.remote.webelement.WebElement (session=\"1a1b8518ae2885a2f0bbfb1f2b1a6267\", element=\"718d6165-e94e-486e-a486-7cb45200393a\")>,\n",
       " <selenium.webdriver.remote.webelement.WebElement (session=\"1a1b8518ae2885a2f0bbfb1f2b1a6267\", element=\"0ef28b01-35da-43cc-abb5-c1de715ecf0d\")>,\n",
       " <selenium.webdriver.remote.webelement.WebElement (session=\"1a1b8518ae2885a2f0bbfb1f2b1a6267\", element=\"582c923c-c774-4cc8-b0b4-6b678b7fb29d\")>,\n",
       " <selenium.webdriver.remote.webelement.WebElement (session=\"1a1b8518ae2885a2f0bbfb1f2b1a6267\", element=\"2d91cf08-7f01-4e57-b746-d80d85924a5a\")>,\n",
       " <selenium.webdriver.remote.webelement.WebElement (session=\"1a1b8518ae2885a2f0bbfb1f2b1a6267\", element=\"4f21c162-0756-4239-8d01-c06ca0d4fe5b\")>,\n",
       " <selenium.webdriver.remote.webelement.WebElement (session=\"1a1b8518ae2885a2f0bbfb1f2b1a6267\", element=\"ae5e02c1-139a-460a-9f58-f0498e6dec33\")>,\n",
       " <selenium.webdriver.remote.webelement.WebElement (session=\"1a1b8518ae2885a2f0bbfb1f2b1a6267\", element=\"e5452891-9f57-4d5d-8b33-412dbe5e3084\")>,\n",
       " <selenium.webdriver.remote.webelement.WebElement (session=\"1a1b8518ae2885a2f0bbfb1f2b1a6267\", element=\"19ecc750-5657-427f-a9f8-118d6b2ba10d\")>,\n",
       " <selenium.webdriver.remote.webelement.WebElement (session=\"1a1b8518ae2885a2f0bbfb1f2b1a6267\", element=\"c47b96f1-5623-459a-95e4-cd12699cdd4b\")>,\n",
       " <selenium.webdriver.remote.webelement.WebElement (session=\"1a1b8518ae2885a2f0bbfb1f2b1a6267\", element=\"30a80786-8b05-4546-afdf-73ff49c87df6\")>,\n",
       " <selenium.webdriver.remote.webelement.WebElement (session=\"1a1b8518ae2885a2f0bbfb1f2b1a6267\", element=\"70ebe2f3-f922-43be-b1af-0b0138007748\")>,\n",
       " <selenium.webdriver.remote.webelement.WebElement (session=\"1a1b8518ae2885a2f0bbfb1f2b1a6267\", element=\"3d77f382-84e4-49a8-8885-e82a5348fd63\")>,\n",
       " <selenium.webdriver.remote.webelement.WebElement (session=\"1a1b8518ae2885a2f0bbfb1f2b1a6267\", element=\"8e585f0c-6cdf-4633-97bf-8bc29902f293\")>,\n",
       " <selenium.webdriver.remote.webelement.WebElement (session=\"1a1b8518ae2885a2f0bbfb1f2b1a6267\", element=\"1e1dfab2-481d-40af-87a0-ef00ca1c320e\")>,\n",
       " <selenium.webdriver.remote.webelement.WebElement (session=\"1a1b8518ae2885a2f0bbfb1f2b1a6267\", element=\"83f88588-295a-4f89-a6e5-dc950146c9f2\")>,\n",
       " <selenium.webdriver.remote.webelement.WebElement (session=\"1a1b8518ae2885a2f0bbfb1f2b1a6267\", element=\"87385414-752e-418e-8815-b1703a92a7b5\")>,\n",
       " <selenium.webdriver.remote.webelement.WebElement (session=\"1a1b8518ae2885a2f0bbfb1f2b1a6267\", element=\"fb550ee4-09f9-4883-b6f8-5a27bc592486\")>,\n",
       " <selenium.webdriver.remote.webelement.WebElement (session=\"1a1b8518ae2885a2f0bbfb1f2b1a6267\", element=\"1278dba2-512c-486f-a391-e9097fca4757\")>,\n",
       " <selenium.webdriver.remote.webelement.WebElement (session=\"1a1b8518ae2885a2f0bbfb1f2b1a6267\", element=\"6b9e7907-41be-47c9-9b6e-60f4dcb03e45\")>,\n",
       " <selenium.webdriver.remote.webelement.WebElement (session=\"1a1b8518ae2885a2f0bbfb1f2b1a6267\", element=\"200b3a79-0616-4bb3-8c53-b2e1c914ccf6\")>,\n",
       " <selenium.webdriver.remote.webelement.WebElement (session=\"1a1b8518ae2885a2f0bbfb1f2b1a6267\", element=\"50c6975e-3c7f-45df-80d9-8d81349fefad\")>,\n",
       " <selenium.webdriver.remote.webelement.WebElement (session=\"1a1b8518ae2885a2f0bbfb1f2b1a6267\", element=\"58ab7f76-6057-4ab6-8369-02a7ef218a59\")>,\n",
       " <selenium.webdriver.remote.webelement.WebElement (session=\"1a1b8518ae2885a2f0bbfb1f2b1a6267\", element=\"5d612178-952b-4b79-b8e7-ce2e58633207\")>,\n",
       " <selenium.webdriver.remote.webelement.WebElement (session=\"1a1b8518ae2885a2f0bbfb1f2b1a6267\", element=\"978a6192-4bc2-43ce-93bf-e2b52a5e85dc\")>,\n",
       " <selenium.webdriver.remote.webelement.WebElement (session=\"1a1b8518ae2885a2f0bbfb1f2b1a6267\", element=\"f3ad055b-e93e-40ce-9eb7-c57d1a578cb2\")>,\n",
       " <selenium.webdriver.remote.webelement.WebElement (session=\"1a1b8518ae2885a2f0bbfb1f2b1a6267\", element=\"eaac5439-dc43-4035-8d50-463bbf311cc7\")>]"
      ]
     },
     "execution_count": 97,
     "metadata": {},
     "output_type": "execute_result"
    }
   ],
   "source": [
    "# extracting tags havings job age\n",
    "job_age = driver.find_elements_by_xpath(\"//div[@class='d-flex align-items-end pl-std css-mi55ob']\")\n",
    "job_age"
   ]
  },
  {
   "cell_type": "code",
   "execution_count": 98,
   "metadata": {},
   "outputs": [
    {
     "data": {
      "text/plain": [
       "['5d', '30d+', '30d+', '24d', '4d', '4d', '1d', '24h', '24h', '30d+']"
      ]
     },
     "execution_count": 98,
     "metadata": {},
     "output_type": "execute_result"
    }
   ],
   "source": [
    "job_post = [] # creating empty list to store values\n",
    "for i in job_age:   # running loop\n",
    "    job_post.append(i.text)\n",
    "    \n",
    "job_post[:10] "
   ]
  },
  {
   "cell_type": "code",
   "execution_count": 99,
   "metadata": {},
   "outputs": [
    {
     "data": {
      "text/plain": [
       "[<selenium.webdriver.remote.webelement.WebElement (session=\"1a1b8518ae2885a2f0bbfb1f2b1a6267\", element=\"0efd8765-5c84-4bba-8c9e-8b7100af9973\")>,\n",
       " <selenium.webdriver.remote.webelement.WebElement (session=\"1a1b8518ae2885a2f0bbfb1f2b1a6267\", element=\"8967a17d-024f-442b-9d93-a9589b550add\")>,\n",
       " <selenium.webdriver.remote.webelement.WebElement (session=\"1a1b8518ae2885a2f0bbfb1f2b1a6267\", element=\"0670559f-44d9-4ac0-9713-c370e9100114\")>,\n",
       " <selenium.webdriver.remote.webelement.WebElement (session=\"1a1b8518ae2885a2f0bbfb1f2b1a6267\", element=\"0bf08956-95e3-4a21-aa51-0c59e3ad3e27\")>,\n",
       " <selenium.webdriver.remote.webelement.WebElement (session=\"1a1b8518ae2885a2f0bbfb1f2b1a6267\", element=\"1e6d382c-2b17-4c9c-b06d-844804f8b54f\")>,\n",
       " <selenium.webdriver.remote.webelement.WebElement (session=\"1a1b8518ae2885a2f0bbfb1f2b1a6267\", element=\"43733929-dfef-4dda-b19d-4b5cad43858e\")>,\n",
       " <selenium.webdriver.remote.webelement.WebElement (session=\"1a1b8518ae2885a2f0bbfb1f2b1a6267\", element=\"a57e7d8b-fb52-483a-99e2-df17187ca514\")>,\n",
       " <selenium.webdriver.remote.webelement.WebElement (session=\"1a1b8518ae2885a2f0bbfb1f2b1a6267\", element=\"43e60d6e-72e3-4475-99e3-d096fad68584\")>,\n",
       " <selenium.webdriver.remote.webelement.WebElement (session=\"1a1b8518ae2885a2f0bbfb1f2b1a6267\", element=\"d8bf45b2-19f0-4dc4-96d8-e1883f79a6a0\")>,\n",
       " <selenium.webdriver.remote.webelement.WebElement (session=\"1a1b8518ae2885a2f0bbfb1f2b1a6267\", element=\"cdad8fdd-3708-4d15-b6f2-ba5dc0925500\")>,\n",
       " <selenium.webdriver.remote.webelement.WebElement (session=\"1a1b8518ae2885a2f0bbfb1f2b1a6267\", element=\"06119156-2918-46fc-ac6a-d033fbd0ac5d\")>,\n",
       " <selenium.webdriver.remote.webelement.WebElement (session=\"1a1b8518ae2885a2f0bbfb1f2b1a6267\", element=\"be358139-963a-4654-8614-7b15be1f1116\")>,\n",
       " <selenium.webdriver.remote.webelement.WebElement (session=\"1a1b8518ae2885a2f0bbfb1f2b1a6267\", element=\"013c90f3-7f56-4776-a6f4-eaf69c1ad04a\")>,\n",
       " <selenium.webdriver.remote.webelement.WebElement (session=\"1a1b8518ae2885a2f0bbfb1f2b1a6267\", element=\"f9136b07-cb91-4db7-9d33-87a0ba09c876\")>,\n",
       " <selenium.webdriver.remote.webelement.WebElement (session=\"1a1b8518ae2885a2f0bbfb1f2b1a6267\", element=\"e4220789-5df4-4e16-af0d-337a0563e415\")>,\n",
       " <selenium.webdriver.remote.webelement.WebElement (session=\"1a1b8518ae2885a2f0bbfb1f2b1a6267\", element=\"3a8cd850-79d7-4f82-9207-98fa2b6744b7\")>,\n",
       " <selenium.webdriver.remote.webelement.WebElement (session=\"1a1b8518ae2885a2f0bbfb1f2b1a6267\", element=\"6412e6d9-3039-40db-a70f-b4cb98469b52\")>,\n",
       " <selenium.webdriver.remote.webelement.WebElement (session=\"1a1b8518ae2885a2f0bbfb1f2b1a6267\", element=\"67ab5b0b-ff56-4742-86f5-6184bd259287\")>,\n",
       " <selenium.webdriver.remote.webelement.WebElement (session=\"1a1b8518ae2885a2f0bbfb1f2b1a6267\", element=\"ef51f721-fbcc-4445-a691-a746368d7d21\")>]"
      ]
     },
     "execution_count": 99,
     "metadata": {},
     "output_type": "execute_result"
    }
   ],
   "source": [
    "# extracting tags havings ratings\n",
    "rating_company = driver.find_elements_by_xpath(\"//span[@class='css-19pjha7 e1cjmv6j1']\")\n",
    "rating_company"
   ]
  },
  {
   "cell_type": "code",
   "execution_count": 100,
   "metadata": {},
   "outputs": [
    {
     "data": {
      "text/plain": [
       "['4.0', '4.3', '3.9', '5.0', '4.2', '3.7', '3.6', '3.9', '3.4', '3.9']"
      ]
     },
     "execution_count": 100,
     "metadata": {},
     "output_type": "execute_result"
    }
   ],
   "source": [
    "rating = [] # creating empty list to store values\n",
    "for i in rating_company:   # running loop\n",
    "    rating.append(i.text)\n",
    "    \n",
    "rating[:10] "
   ]
  },
  {
   "cell_type": "code",
   "execution_count": 101,
   "metadata": {},
   "outputs": [],
   "source": [
    "glassdoor=pd.DataFrame({})            # making dataframe\n",
    "glassdoor['Company Name']=company_name[:10]\n",
    "glassdoor['No of days ago when job was posted']=job_post[:10]\n",
    "glassdoor['Rating of Company']=rating[:10]"
   ]
  },
  {
   "cell_type": "code",
   "execution_count": 102,
   "metadata": {},
   "outputs": [
    {
     "data": {
      "text/html": [
       "<div>\n",
       "<style scoped>\n",
       "    .dataframe tbody tr th:only-of-type {\n",
       "        vertical-align: middle;\n",
       "    }\n",
       "\n",
       "    .dataframe tbody tr th {\n",
       "        vertical-align: top;\n",
       "    }\n",
       "\n",
       "    .dataframe thead th {\n",
       "        text-align: right;\n",
       "    }\n",
       "</style>\n",
       "<table border=\"1\" class=\"dataframe\">\n",
       "  <thead>\n",
       "    <tr style=\"text-align: right;\">\n",
       "      <th></th>\n",
       "      <th>Company Name</th>\n",
       "      <th>No of days ago when job was posted</th>\n",
       "      <th>Rating of Company</th>\n",
       "    </tr>\n",
       "  </thead>\n",
       "  <tbody>\n",
       "    <tr>\n",
       "      <th>0</th>\n",
       "      <td>BreathX Technologies Pvt Ltd, A Canary Global ...</td>\n",
       "      <td>5d</td>\n",
       "      <td>4.0</td>\n",
       "    </tr>\n",
       "    <tr>\n",
       "      <th>1</th>\n",
       "      <td>Applied Materials Inc.</td>\n",
       "      <td>30d+</td>\n",
       "      <td>4.3</td>\n",
       "    </tr>\n",
       "    <tr>\n",
       "      <th>2</th>\n",
       "      <td>Indeed</td>\n",
       "      <td>30d+</td>\n",
       "      <td>3.9</td>\n",
       "    </tr>\n",
       "    <tr>\n",
       "      <th>3</th>\n",
       "      <td>Infosys Limited</td>\n",
       "      <td>24d</td>\n",
       "      <td>5.0</td>\n",
       "    </tr>\n",
       "    <tr>\n",
       "      <th>4</th>\n",
       "      <td>Digitivy Software and Services India Pvt Ltd</td>\n",
       "      <td>4d</td>\n",
       "      <td>4.2</td>\n",
       "    </tr>\n",
       "    <tr>\n",
       "      <th>5</th>\n",
       "      <td>OXO Solutions</td>\n",
       "      <td>4d</td>\n",
       "      <td>3.7</td>\n",
       "    </tr>\n",
       "    <tr>\n",
       "      <th>6</th>\n",
       "      <td>Flipkart</td>\n",
       "      <td>1d</td>\n",
       "      <td>3.6</td>\n",
       "    </tr>\n",
       "    <tr>\n",
       "      <th>7</th>\n",
       "      <td>Honeywell</td>\n",
       "      <td>24h</td>\n",
       "      <td>3.9</td>\n",
       "    </tr>\n",
       "    <tr>\n",
       "      <th>8</th>\n",
       "      <td>IElevate Institute</td>\n",
       "      <td>24h</td>\n",
       "      <td>3.4</td>\n",
       "    </tr>\n",
       "    <tr>\n",
       "      <th>9</th>\n",
       "      <td>Amploy</td>\n",
       "      <td>30d+</td>\n",
       "      <td>3.9</td>\n",
       "    </tr>\n",
       "  </tbody>\n",
       "</table>\n",
       "</div>"
      ],
      "text/plain": [
       "                                        Company Name  \\\n",
       "0  BreathX Technologies Pvt Ltd, A Canary Global ...   \n",
       "1                             Applied Materials Inc.   \n",
       "2                                             Indeed   \n",
       "3                                    Infosys Limited   \n",
       "4       Digitivy Software and Services India Pvt Ltd   \n",
       "5                                      OXO Solutions   \n",
       "6                                           Flipkart   \n",
       "7                                          Honeywell   \n",
       "8                                 IElevate Institute   \n",
       "9                                             Amploy   \n",
       "\n",
       "  No of days ago when job was posted Rating of Company  \n",
       "0                                 5d               4.0  \n",
       "1                               30d+               4.3  \n",
       "2                               30d+               3.9  \n",
       "3                                24d               5.0  \n",
       "4                                 4d               4.2  \n",
       "5                                 4d               3.7  \n",
       "6                                 1d               3.6  \n",
       "7                                24h               3.9  \n",
       "8                                24h               3.4  \n",
       "9                               30d+               3.9  "
      ]
     },
     "execution_count": 102,
     "metadata": {},
     "output_type": "execute_result"
    }
   ],
   "source": [
    "glassdoor"
   ]
  },
  {
   "cell_type": "code",
   "execution_count": 103,
   "metadata": {},
   "outputs": [],
   "source": [
    "driver.close()"
   ]
  },
  {
   "cell_type": "code",
   "execution_count": null,
   "metadata": {},
   "outputs": [],
   "source": []
  },
  {
   "cell_type": "markdown",
   "metadata": {},
   "source": [
    "# Q5: Write a python program to scrape the salary data for Data Scientist designation in Noida location"
   ]
  },
  {
   "cell_type": "code",
   "execution_count": 104,
   "metadata": {},
   "outputs": [],
   "source": [
    "# connecting to webdriver\n",
    "driver = webdriver.Chrome(r\"C:\\Users\\Nitish\\Downloads\\Compressed\\chromedriver.exe\")"
   ]
  },
  {
   "cell_type": "code",
   "execution_count": 105,
   "metadata": {},
   "outputs": [],
   "source": [
    "# send get request to the webpage server to get the source code of the page\n",
    "url = 'https://www.glassdoor.co.in/Salaries/index.htm'\n",
    "driver.get(url)"
   ]
  },
  {
   "cell_type": "code",
   "execution_count": 106,
   "metadata": {},
   "outputs": [
    {
     "data": {
      "text/plain": [
       "<selenium.webdriver.remote.webelement.WebElement (session=\"66bdec43f1316b06b8401c876907a5d2\", element=\"e8bd25ec-c9db-4c98-b71d-5bb30df5fe0a\")>"
      ]
     },
     "execution_count": 106,
     "metadata": {},
     "output_type": "execute_result"
    }
   ],
   "source": [
    "job_title = driver.find_element_by_id('KeywordSearch')\n",
    "job_title"
   ]
  },
  {
   "cell_type": "code",
   "execution_count": 107,
   "metadata": {},
   "outputs": [],
   "source": [
    "# write on search bar\n",
    "job_title.send_keys(\"Data Scientist\")"
   ]
  },
  {
   "cell_type": "code",
   "execution_count": 108,
   "metadata": {},
   "outputs": [
    {
     "data": {
      "text/plain": [
       "<selenium.webdriver.remote.webelement.WebElement (session=\"66bdec43f1316b06b8401c876907a5d2\", element=\"853aa444-c0ba-4e26-8771-acbb0a9dd2b1\")>"
      ]
     },
     "execution_count": 108,
     "metadata": {},
     "output_type": "execute_result"
    }
   ],
   "source": [
    "location_tag = driver.find_element_by_id('LocationSearch')\n",
    "location_tag"
   ]
  },
  {
   "cell_type": "code",
   "execution_count": 109,
   "metadata": {},
   "outputs": [],
   "source": [
    "# write on search bar\n",
    "location_tag.send_keys(\"Noida\")"
   ]
  },
  {
   "cell_type": "code",
   "execution_count": 110,
   "metadata": {},
   "outputs": [],
   "source": [
    "search_btn = driver.find_element_by_xpath(\"//button[@class='gd-btn-mkt']\")\n",
    "search_btn.click()"
   ]
  },
  {
   "cell_type": "code",
   "execution_count": 112,
   "metadata": {},
   "outputs": [
    {
     "data": {
      "text/plain": [
       "[<selenium.webdriver.remote.webelement.WebElement (session=\"66bdec43f1316b06b8401c876907a5d2\", element=\"1e1d7f1a-1b0c-4465-afab-c6e17db9ed91\")>,\n",
       " <selenium.webdriver.remote.webelement.WebElement (session=\"66bdec43f1316b06b8401c876907a5d2\", element=\"ded68a3e-9765-43e4-92cf-d73f01ed2e40\")>,\n",
       " <selenium.webdriver.remote.webelement.WebElement (session=\"66bdec43f1316b06b8401c876907a5d2\", element=\"a24111f6-7ee9-43e0-92da-dd1edf314270\")>,\n",
       " <selenium.webdriver.remote.webelement.WebElement (session=\"66bdec43f1316b06b8401c876907a5d2\", element=\"1133ddb8-b505-40be-a0bb-b06b9999d779\")>,\n",
       " <selenium.webdriver.remote.webelement.WebElement (session=\"66bdec43f1316b06b8401c876907a5d2\", element=\"dacf990e-5873-49b8-86ae-86037beb0774\")>,\n",
       " <selenium.webdriver.remote.webelement.WebElement (session=\"66bdec43f1316b06b8401c876907a5d2\", element=\"3926bc4d-86d2-41cf-ba22-d67d81d42967\")>,\n",
       " <selenium.webdriver.remote.webelement.WebElement (session=\"66bdec43f1316b06b8401c876907a5d2\", element=\"b3176167-6693-424a-b545-c0e9427602e6\")>,\n",
       " <selenium.webdriver.remote.webelement.WebElement (session=\"66bdec43f1316b06b8401c876907a5d2\", element=\"d99f0fef-6fff-49c6-8db6-76c8f2c49027\")>,\n",
       " <selenium.webdriver.remote.webelement.WebElement (session=\"66bdec43f1316b06b8401c876907a5d2\", element=\"7b1da47e-06f6-43c1-95c8-8495dc902afd\")>,\n",
       " <selenium.webdriver.remote.webelement.WebElement (session=\"66bdec43f1316b06b8401c876907a5d2\", element=\"ecfe0722-de2d-42e1-9236-c1a011dd3db5\")>,\n",
       " <selenium.webdriver.remote.webelement.WebElement (session=\"66bdec43f1316b06b8401c876907a5d2\", element=\"74530a6c-10f7-4021-be70-2c1e087a485f\")>,\n",
       " <selenium.webdriver.remote.webelement.WebElement (session=\"66bdec43f1316b06b8401c876907a5d2\", element=\"3d5fa638-54e3-4c96-b121-368c1d4bccc9\")>,\n",
       " <selenium.webdriver.remote.webelement.WebElement (session=\"66bdec43f1316b06b8401c876907a5d2\", element=\"4600845b-6848-404e-ade2-3ee58040ad9a\")>,\n",
       " <selenium.webdriver.remote.webelement.WebElement (session=\"66bdec43f1316b06b8401c876907a5d2\", element=\"034b266e-7941-490f-b736-48b3f54bedbc\")>,\n",
       " <selenium.webdriver.remote.webelement.WebElement (session=\"66bdec43f1316b06b8401c876907a5d2\", element=\"332f935b-976e-467c-8517-be38de024d8f\")>,\n",
       " <selenium.webdriver.remote.webelement.WebElement (session=\"66bdec43f1316b06b8401c876907a5d2\", element=\"69945565-a9dd-4140-a955-b945316864e9\")>,\n",
       " <selenium.webdriver.remote.webelement.WebElement (session=\"66bdec43f1316b06b8401c876907a5d2\", element=\"52c55cb9-0fde-42e4-a953-988e97e74835\")>,\n",
       " <selenium.webdriver.remote.webelement.WebElement (session=\"66bdec43f1316b06b8401c876907a5d2\", element=\"e108e7f2-f726-4e98-8624-e034e2c49ec1\")>,\n",
       " <selenium.webdriver.remote.webelement.WebElement (session=\"66bdec43f1316b06b8401c876907a5d2\", element=\"dab607b9-34f4-4325-8646-5667215c8fb1\")>,\n",
       " <selenium.webdriver.remote.webelement.WebElement (session=\"66bdec43f1316b06b8401c876907a5d2\", element=\"a080058e-9185-4458-823f-3949477e0804\")>]"
      ]
     },
     "execution_count": 112,
     "metadata": {},
     "output_type": "execute_result"
    }
   ],
   "source": [
    "# extracting web elements having company names\n",
    "company_tags = driver.find_elements_by_xpath(\"//a[@class='css-f3vw95 e1aj7ssy3']\")\n",
    "company_tags"
   ]
  },
  {
   "cell_type": "code",
   "execution_count": 113,
   "metadata": {},
   "outputs": [
    {
     "data": {
      "text/plain": [
       "['IBM',\n",
       " 'Tata Consultancy Services',\n",
       " 'Accenture',\n",
       " 'Delhivery',\n",
       " 'Ericsson-Worldwide',\n",
       " 'UnitedHealth Group',\n",
       " 'Valiance Solutions',\n",
       " 'Optum Global Solutions',\n",
       " 'ZS Associates',\n",
       " 'EXL Service']"
      ]
     },
     "execution_count": 113,
     "metadata": {},
     "output_type": "execute_result"
    }
   ],
   "source": [
    "company_name = [] # creating empty list to store values\n",
    "for i in company_tags:   # running loop\n",
    "    company_name.append(i.text)\n",
    "    \n",
    "company_name[:10] # Using indexing to scrape first 10 company names"
   ]
  },
  {
   "cell_type": "code",
   "execution_count": 114,
   "metadata": {},
   "outputs": [
    {
     "data": {
      "text/plain": [
       "[<selenium.webdriver.remote.webelement.WebElement (session=\"66bdec43f1316b06b8401c876907a5d2\", element=\"a3107b17-abdd-4eb6-88d3-dfdf5b554302\")>,\n",
       " <selenium.webdriver.remote.webelement.WebElement (session=\"66bdec43f1316b06b8401c876907a5d2\", element=\"2f6780e8-7aa0-4074-a32c-b8e99ebd8ae3\")>,\n",
       " <selenium.webdriver.remote.webelement.WebElement (session=\"66bdec43f1316b06b8401c876907a5d2\", element=\"6803c22a-0039-4ade-8aca-0dfecb23b189\")>,\n",
       " <selenium.webdriver.remote.webelement.WebElement (session=\"66bdec43f1316b06b8401c876907a5d2\", element=\"c81bcf54-e9eb-4c6f-a5d5-2341357b47ef\")>,\n",
       " <selenium.webdriver.remote.webelement.WebElement (session=\"66bdec43f1316b06b8401c876907a5d2\", element=\"b47c1a0d-d045-4937-87c2-9a0130c69215\")>,\n",
       " <selenium.webdriver.remote.webelement.WebElement (session=\"66bdec43f1316b06b8401c876907a5d2\", element=\"0255a339-5f7d-4d72-b199-b697ba66ed95\")>,\n",
       " <selenium.webdriver.remote.webelement.WebElement (session=\"66bdec43f1316b06b8401c876907a5d2\", element=\"1b98af6f-6ac2-431c-ac85-2e187294a924\")>,\n",
       " <selenium.webdriver.remote.webelement.WebElement (session=\"66bdec43f1316b06b8401c876907a5d2\", element=\"ddb20d5a-fe97-4274-99dd-9ee0ac78bc68\")>,\n",
       " <selenium.webdriver.remote.webelement.WebElement (session=\"66bdec43f1316b06b8401c876907a5d2\", element=\"e8470c15-1dc4-4080-a413-e391a7732615\")>,\n",
       " <selenium.webdriver.remote.webelement.WebElement (session=\"66bdec43f1316b06b8401c876907a5d2\", element=\"40cc84ea-631a-4b7b-aff4-d836434d516f\")>,\n",
       " <selenium.webdriver.remote.webelement.WebElement (session=\"66bdec43f1316b06b8401c876907a5d2\", element=\"99460d47-12c0-45b3-b7b7-fb475e709201\")>,\n",
       " <selenium.webdriver.remote.webelement.WebElement (session=\"66bdec43f1316b06b8401c876907a5d2\", element=\"0dcb882b-72ac-40f2-9e2e-f0b23eff5ce8\")>,\n",
       " <selenium.webdriver.remote.webelement.WebElement (session=\"66bdec43f1316b06b8401c876907a5d2\", element=\"7d6b7ed3-71c7-468b-9320-dd4a94f178fb\")>,\n",
       " <selenium.webdriver.remote.webelement.WebElement (session=\"66bdec43f1316b06b8401c876907a5d2\", element=\"c099bb93-3057-488c-8ad8-160f77fcdbc0\")>,\n",
       " <selenium.webdriver.remote.webelement.WebElement (session=\"66bdec43f1316b06b8401c876907a5d2\", element=\"52a98312-05b7-4e45-a42a-61743b4b0786\")>,\n",
       " <selenium.webdriver.remote.webelement.WebElement (session=\"66bdec43f1316b06b8401c876907a5d2\", element=\"9f05acfe-22c2-4ba9-b726-da3e718e8409\")>,\n",
       " <selenium.webdriver.remote.webelement.WebElement (session=\"66bdec43f1316b06b8401c876907a5d2\", element=\"41cb4684-35c3-49e3-bdcd-bdba45809016\")>,\n",
       " <selenium.webdriver.remote.webelement.WebElement (session=\"66bdec43f1316b06b8401c876907a5d2\", element=\"06330609-1726-46f5-91d8-1fc687007b18\")>,\n",
       " <selenium.webdriver.remote.webelement.WebElement (session=\"66bdec43f1316b06b8401c876907a5d2\", element=\"ee446b9c-fa30-4f23-8a85-cb729d4e2e17\")>,\n",
       " <selenium.webdriver.remote.webelement.WebElement (session=\"66bdec43f1316b06b8401c876907a5d2\", element=\"665c70dc-942b-46e6-b77f-ec68f6980adf\")>,\n",
       " <selenium.webdriver.remote.webelement.WebElement (session=\"66bdec43f1316b06b8401c876907a5d2\", element=\"7116f598-01e7-4df1-bd58-af72b2d962e2\")>,\n",
       " <selenium.webdriver.remote.webelement.WebElement (session=\"66bdec43f1316b06b8401c876907a5d2\", element=\"98d5a31b-8d95-45cb-a44e-c355041409bb\")>]"
      ]
     },
     "execution_count": 114,
     "metadata": {},
     "output_type": "execute_result"
    }
   ],
   "source": [
    "# extracting web elements having salary \n",
    "salary_tags = driver.find_elements_by_xpath(\"//span[@class='m-0 css-1b6bxoo']\")\n",
    "salary_tags"
   ]
  },
  {
   "cell_type": "code",
   "execution_count": 115,
   "metadata": {},
   "outputs": [
    {
     "data": {
      "text/plain": [
       "['18 salaries',\n",
       " '17 salaries',\n",
       " '15 salaries',\n",
       " '15 salaries',\n",
       " '14 salaries',\n",
       " '12 salaries',\n",
       " '10 salaries',\n",
       " '9 salaries',\n",
       " '8 salaries',\n",
       " '8 salaries']"
      ]
     },
     "execution_count": 115,
     "metadata": {},
     "output_type": "execute_result"
    }
   ],
   "source": [
    "salary_no = [] # creating empty list to store values\n",
    "for i in salary_tags:   # running loop\n",
    "    salary_no.append(i.text)\n",
    "    \n",
    "salary_no[2:12] # Using indexing to scrape first 10 "
   ]
  },
  {
   "cell_type": "code",
   "execution_count": 116,
   "metadata": {},
   "outputs": [
    {
     "data": {
      "text/plain": [
       "[<selenium.webdriver.remote.webelement.WebElement (session=\"66bdec43f1316b06b8401c876907a5d2\", element=\"1e80a966-ac25-432a-af86-0ad6c31f2bd7\")>,\n",
       " <selenium.webdriver.remote.webelement.WebElement (session=\"66bdec43f1316b06b8401c876907a5d2\", element=\"36cf4782-c5a2-4439-ae2a-d8744cea47d9\")>,\n",
       " <selenium.webdriver.remote.webelement.WebElement (session=\"66bdec43f1316b06b8401c876907a5d2\", element=\"fdd1c62f-7d4d-45f2-8f55-eb5de83307f2\")>,\n",
       " <selenium.webdriver.remote.webelement.WebElement (session=\"66bdec43f1316b06b8401c876907a5d2\", element=\"ff665b11-045d-44aa-a565-c7b4ebe05fb9\")>,\n",
       " <selenium.webdriver.remote.webelement.WebElement (session=\"66bdec43f1316b06b8401c876907a5d2\", element=\"3b3e9394-9fd7-408c-ba6c-6f4569917b4a\")>,\n",
       " <selenium.webdriver.remote.webelement.WebElement (session=\"66bdec43f1316b06b8401c876907a5d2\", element=\"bb204ec5-9277-4f5c-9544-af102896e188\")>,\n",
       " <selenium.webdriver.remote.webelement.WebElement (session=\"66bdec43f1316b06b8401c876907a5d2\", element=\"bf88a350-8d92-4a57-bfdd-d01697bea588\")>,\n",
       " <selenium.webdriver.remote.webelement.WebElement (session=\"66bdec43f1316b06b8401c876907a5d2\", element=\"974c9c76-84a3-48b4-ac88-910a867a8ede\")>,\n",
       " <selenium.webdriver.remote.webelement.WebElement (session=\"66bdec43f1316b06b8401c876907a5d2\", element=\"8e9e0597-caed-44e7-b9a6-097e9f087c2c\")>,\n",
       " <selenium.webdriver.remote.webelement.WebElement (session=\"66bdec43f1316b06b8401c876907a5d2\", element=\"4942a5bd-cb09-4539-9dcb-d6234d5f711c\")>,\n",
       " <selenium.webdriver.remote.webelement.WebElement (session=\"66bdec43f1316b06b8401c876907a5d2\", element=\"50b0ea2b-b954-439c-91c6-f352016dd495\")>,\n",
       " <selenium.webdriver.remote.webelement.WebElement (session=\"66bdec43f1316b06b8401c876907a5d2\", element=\"7f39aeda-ef39-4e73-9b13-9f85f799746e\")>,\n",
       " <selenium.webdriver.remote.webelement.WebElement (session=\"66bdec43f1316b06b8401c876907a5d2\", element=\"c3102f5f-9e02-4959-90eb-23c14f86ea2e\")>,\n",
       " <selenium.webdriver.remote.webelement.WebElement (session=\"66bdec43f1316b06b8401c876907a5d2\", element=\"bea9a2f8-4857-4159-bf80-8798089da2b7\")>,\n",
       " <selenium.webdriver.remote.webelement.WebElement (session=\"66bdec43f1316b06b8401c876907a5d2\", element=\"f5fa4f56-1f78-4b21-83c7-1edd34b8321c\")>,\n",
       " <selenium.webdriver.remote.webelement.WebElement (session=\"66bdec43f1316b06b8401c876907a5d2\", element=\"6739de26-e3c0-4591-be0b-58755d61a404\")>,\n",
       " <selenium.webdriver.remote.webelement.WebElement (session=\"66bdec43f1316b06b8401c876907a5d2\", element=\"eeb8a76d-c7d0-4c83-9044-a22d4691c41c\")>,\n",
       " <selenium.webdriver.remote.webelement.WebElement (session=\"66bdec43f1316b06b8401c876907a5d2\", element=\"429410f3-40a3-45b3-b106-32d8837fb188\")>,\n",
       " <selenium.webdriver.remote.webelement.WebElement (session=\"66bdec43f1316b06b8401c876907a5d2\", element=\"51378450-2dc0-4226-b850-d1d046bed185\")>,\n",
       " <selenium.webdriver.remote.webelement.WebElement (session=\"66bdec43f1316b06b8401c876907a5d2\", element=\"5d1df445-c5dd-4282-95b5-bb4691c4b936\")>]"
      ]
     },
     "execution_count": 116,
     "metadata": {},
     "output_type": "execute_result"
    }
   ],
   "source": [
    "AvgSalary_tags = driver.find_elements_by_xpath(\"//div[@class='col-12 col-lg-4 px-lg-0 d-flex align-items-baseline']\")\n",
    "AvgSalary_tags"
   ]
  },
  {
   "cell_type": "code",
   "execution_count": 117,
   "metadata": {},
   "outputs": [
    {
     "data": {
      "text/plain": [
       "['₹9,00,000\\n /yr',\n",
       " '₹6,15,289\\n /yr',\n",
       " '₹11,63,336\\n /yr',\n",
       " '₹12,18,244\\n /yr',\n",
       " '₹7,39,238\\n /yr',\n",
       " '₹13,19,140\\n /yr',\n",
       " '₹8,63,750\\n /yr',\n",
       " '₹13,28,697\\n /yr',\n",
       " '₹11,42,356\\n /yr',\n",
       " '₹11,46,073\\n /yr']"
      ]
     },
     "execution_count": 117,
     "metadata": {},
     "output_type": "execute_result"
    }
   ],
   "source": [
    "average_salary = [] # creating empty list to store values\n",
    "for i in AvgSalary_tags:   # running loop\n",
    "    average_salary.append(i.text)\n",
    "    \n",
    "average_salary[:10]"
   ]
  },
  {
   "cell_type": "code",
   "execution_count": 118,
   "metadata": {},
   "outputs": [
    {
     "data": {
      "text/plain": [
       "[<selenium.webdriver.remote.webelement.WebElement (session=\"66bdec43f1316b06b8401c876907a5d2\", element=\"623d6817-f286-43d7-891f-452e09fa732c\")>,\n",
       " <selenium.webdriver.remote.webelement.WebElement (session=\"66bdec43f1316b06b8401c876907a5d2\", element=\"a0c1cf87-3899-478c-9203-80e67eb38355\")>,\n",
       " <selenium.webdriver.remote.webelement.WebElement (session=\"66bdec43f1316b06b8401c876907a5d2\", element=\"fe64d88e-6570-4cd0-88e3-fa9ab0db2cdc\")>,\n",
       " <selenium.webdriver.remote.webelement.WebElement (session=\"66bdec43f1316b06b8401c876907a5d2\", element=\"f49ea991-3a78-4184-aff3-b9f99b48de41\")>,\n",
       " <selenium.webdriver.remote.webelement.WebElement (session=\"66bdec43f1316b06b8401c876907a5d2\", element=\"9e04a4e6-99e1-4b13-b584-99d95e01987e\")>,\n",
       " <selenium.webdriver.remote.webelement.WebElement (session=\"66bdec43f1316b06b8401c876907a5d2\", element=\"30fff7ab-9362-46d6-9a1b-50a31ede7347\")>,\n",
       " <selenium.webdriver.remote.webelement.WebElement (session=\"66bdec43f1316b06b8401c876907a5d2\", element=\"bb448254-1e13-4119-a537-118ea5545876\")>,\n",
       " <selenium.webdriver.remote.webelement.WebElement (session=\"66bdec43f1316b06b8401c876907a5d2\", element=\"6d3b45b1-7214-4397-85bb-9c662136470f\")>,\n",
       " <selenium.webdriver.remote.webelement.WebElement (session=\"66bdec43f1316b06b8401c876907a5d2\", element=\"f7350685-1b58-40ab-85a4-ff2c9b1f9f7a\")>,\n",
       " <selenium.webdriver.remote.webelement.WebElement (session=\"66bdec43f1316b06b8401c876907a5d2\", element=\"367b8872-4b5d-44e1-b7c9-29c4c15a4b52\")>,\n",
       " <selenium.webdriver.remote.webelement.WebElement (session=\"66bdec43f1316b06b8401c876907a5d2\", element=\"41a01d2d-b5a0-49d7-b4a4-e138b6b81400\")>,\n",
       " <selenium.webdriver.remote.webelement.WebElement (session=\"66bdec43f1316b06b8401c876907a5d2\", element=\"ff4d4421-85d7-4877-883f-5b1347a84eb7\")>,\n",
       " <selenium.webdriver.remote.webelement.WebElement (session=\"66bdec43f1316b06b8401c876907a5d2\", element=\"6209c272-e1cd-4d08-9b9b-3aaefe85fca8\")>,\n",
       " <selenium.webdriver.remote.webelement.WebElement (session=\"66bdec43f1316b06b8401c876907a5d2\", element=\"c5d67984-9b5d-442b-85e6-09b71d38328d\")>,\n",
       " <selenium.webdriver.remote.webelement.WebElement (session=\"66bdec43f1316b06b8401c876907a5d2\", element=\"a625973b-1e31-4ac4-9646-2bf1ab954d72\")>,\n",
       " <selenium.webdriver.remote.webelement.WebElement (session=\"66bdec43f1316b06b8401c876907a5d2\", element=\"b91de632-be09-4346-9657-d9cd79cc8969\")>,\n",
       " <selenium.webdriver.remote.webelement.WebElement (session=\"66bdec43f1316b06b8401c876907a5d2\", element=\"45678a93-ae42-4d63-9aa3-3c0c3827a13d\")>,\n",
       " <selenium.webdriver.remote.webelement.WebElement (session=\"66bdec43f1316b06b8401c876907a5d2\", element=\"bc82427b-5393-4fa0-8c61-85d1b634e5f6\")>,\n",
       " <selenium.webdriver.remote.webelement.WebElement (session=\"66bdec43f1316b06b8401c876907a5d2\", element=\"92f815a3-103e-456d-baa0-2d809ef627bd\")>,\n",
       " <selenium.webdriver.remote.webelement.WebElement (session=\"66bdec43f1316b06b8401c876907a5d2\", element=\"2d32d86d-cee1-4d01-a2cb-2846a7627360\")>,\n",
       " <selenium.webdriver.remote.webelement.WebElement (session=\"66bdec43f1316b06b8401c876907a5d2\", element=\"812458fe-921f-4f7d-ae25-320ecbc1de3b\")>,\n",
       " <selenium.webdriver.remote.webelement.WebElement (session=\"66bdec43f1316b06b8401c876907a5d2\", element=\"308137cf-cca7-43de-9cba-a2c4e7dce093\")>,\n",
       " <selenium.webdriver.remote.webelement.WebElement (session=\"66bdec43f1316b06b8401c876907a5d2\", element=\"b3056c23-70fe-4298-b613-6303ac501572\")>,\n",
       " <selenium.webdriver.remote.webelement.WebElement (session=\"66bdec43f1316b06b8401c876907a5d2\", element=\"bdfb41d8-11eb-48b0-ba15-458bb2fd9ab8\")>,\n",
       " <selenium.webdriver.remote.webelement.WebElement (session=\"66bdec43f1316b06b8401c876907a5d2\", element=\"27263894-08ba-437c-8df8-c0847cf55039\")>,\n",
       " <selenium.webdriver.remote.webelement.WebElement (session=\"66bdec43f1316b06b8401c876907a5d2\", element=\"52e9d5a3-6a69-4d98-9296-913e5f8faf3e\")>,\n",
       " <selenium.webdriver.remote.webelement.WebElement (session=\"66bdec43f1316b06b8401c876907a5d2\", element=\"e43484f7-ba00-4331-a2d8-04528419bb7d\")>,\n",
       " <selenium.webdriver.remote.webelement.WebElement (session=\"66bdec43f1316b06b8401c876907a5d2\", element=\"9158e226-ed73-4661-be7a-701c0f63da36\")>,\n",
       " <selenium.webdriver.remote.webelement.WebElement (session=\"66bdec43f1316b06b8401c876907a5d2\", element=\"a0571798-e752-49fb-a8b9-13e9b49321c8\")>,\n",
       " <selenium.webdriver.remote.webelement.WebElement (session=\"66bdec43f1316b06b8401c876907a5d2\", element=\"ea5c1b75-3d52-45ef-b6b1-850a526de7fd\")>,\n",
       " <selenium.webdriver.remote.webelement.WebElement (session=\"66bdec43f1316b06b8401c876907a5d2\", element=\"8c97ab42-e034-4bde-af9d-a38c157e7534\")>,\n",
       " <selenium.webdriver.remote.webelement.WebElement (session=\"66bdec43f1316b06b8401c876907a5d2\", element=\"b75615b9-e9d0-427c-9023-e5f0b953cbf0\")>,\n",
       " <selenium.webdriver.remote.webelement.WebElement (session=\"66bdec43f1316b06b8401c876907a5d2\", element=\"ebacd2c6-80d0-4c7a-97cf-0c2ee75ef467\")>,\n",
       " <selenium.webdriver.remote.webelement.WebElement (session=\"66bdec43f1316b06b8401c876907a5d2\", element=\"a001bb7d-347f-4d32-9e63-1c1f94c3b73b\")>,\n",
       " <selenium.webdriver.remote.webelement.WebElement (session=\"66bdec43f1316b06b8401c876907a5d2\", element=\"5043ac15-cad3-47e1-ab50-152a58e0aed7\")>,\n",
       " <selenium.webdriver.remote.webelement.WebElement (session=\"66bdec43f1316b06b8401c876907a5d2\", element=\"d38d0eca-3c98-4e2a-9e98-1dd5671a6c1f\")>,\n",
       " <selenium.webdriver.remote.webelement.WebElement (session=\"66bdec43f1316b06b8401c876907a5d2\", element=\"d7e02c9d-b451-4758-8625-67ccf47a27f1\")>,\n",
       " <selenium.webdriver.remote.webelement.WebElement (session=\"66bdec43f1316b06b8401c876907a5d2\", element=\"6a4b333d-7c61-4bb9-9ae8-5a2e5846b7d6\")>,\n",
       " <selenium.webdriver.remote.webelement.WebElement (session=\"66bdec43f1316b06b8401c876907a5d2\", element=\"798df451-37a9-431b-b34d-f4b3fd378476\")>,\n",
       " <selenium.webdriver.remote.webelement.WebElement (session=\"66bdec43f1316b06b8401c876907a5d2\", element=\"24df2207-38a2-4c38-9d94-eb9ea563177a\")>,\n",
       " <selenium.webdriver.remote.webelement.WebElement (session=\"66bdec43f1316b06b8401c876907a5d2\", element=\"f9686adc-b3fb-4dde-b349-65d9f9f26e8e\")>,\n",
       " <selenium.webdriver.remote.webelement.WebElement (session=\"66bdec43f1316b06b8401c876907a5d2\", element=\"8dbd4226-cbd0-4903-b376-9d30df2fd50d\")>,\n",
       " <selenium.webdriver.remote.webelement.WebElement (session=\"66bdec43f1316b06b8401c876907a5d2\", element=\"daf350ad-db2f-42eb-8f3c-552b5a8e8633\")>,\n",
       " <selenium.webdriver.remote.webelement.WebElement (session=\"66bdec43f1316b06b8401c876907a5d2\", element=\"82c8cb54-b129-4e2a-8b77-c693d5bad5a6\")>,\n",
       " <selenium.webdriver.remote.webelement.WebElement (session=\"66bdec43f1316b06b8401c876907a5d2\", element=\"e7ac5374-46bb-46c1-8990-3830640ac8be\")>,\n",
       " <selenium.webdriver.remote.webelement.WebElement (session=\"66bdec43f1316b06b8401c876907a5d2\", element=\"dbd3a70a-80af-4050-992b-b046de479d77\")>,\n",
       " <selenium.webdriver.remote.webelement.WebElement (session=\"66bdec43f1316b06b8401c876907a5d2\", element=\"b3d80932-0981-499d-9a23-baac6af63700\")>,\n",
       " <selenium.webdriver.remote.webelement.WebElement (session=\"66bdec43f1316b06b8401c876907a5d2\", element=\"aaa7a650-29ad-47fa-8ed7-5b12619d1bc9\")>,\n",
       " <selenium.webdriver.remote.webelement.WebElement (session=\"66bdec43f1316b06b8401c876907a5d2\", element=\"767bda84-4440-4e2d-a18b-20f673023e6a\")>,\n",
       " <selenium.webdriver.remote.webelement.WebElement (session=\"66bdec43f1316b06b8401c876907a5d2\", element=\"dba03fa6-ef02-44ea-8ed8-85cb1a758c2f\")>,\n",
       " <selenium.webdriver.remote.webelement.WebElement (session=\"66bdec43f1316b06b8401c876907a5d2\", element=\"7c6cd76a-976b-496e-b54a-3a4c032d3fc1\")>,\n",
       " <selenium.webdriver.remote.webelement.WebElement (session=\"66bdec43f1316b06b8401c876907a5d2\", element=\"18e76c8f-8efa-4273-82c5-8acca2154d13\")>,\n",
       " <selenium.webdriver.remote.webelement.WebElement (session=\"66bdec43f1316b06b8401c876907a5d2\", element=\"bb8c8473-1bbc-49c8-a263-6ea641089efa\")>,\n",
       " <selenium.webdriver.remote.webelement.WebElement (session=\"66bdec43f1316b06b8401c876907a5d2\", element=\"97e2fb8b-dd25-400e-a776-01778e7c2562\")>,\n",
       " <selenium.webdriver.remote.webelement.WebElement (session=\"66bdec43f1316b06b8401c876907a5d2\", element=\"045b9acf-4ce5-40da-8daa-9efcb365e077\")>,\n",
       " <selenium.webdriver.remote.webelement.WebElement (session=\"66bdec43f1316b06b8401c876907a5d2\", element=\"674b5055-4300-43d8-938e-d951d06da3e5\")>,\n",
       " <selenium.webdriver.remote.webelement.WebElement (session=\"66bdec43f1316b06b8401c876907a5d2\", element=\"fcd0bcdc-75eb-4be2-8517-4bf300e30f1b\")>,\n",
       " <selenium.webdriver.remote.webelement.WebElement (session=\"66bdec43f1316b06b8401c876907a5d2\", element=\"a8d53a72-1596-478e-955c-542c617994f2\")>,\n",
       " <selenium.webdriver.remote.webelement.WebElement (session=\"66bdec43f1316b06b8401c876907a5d2\", element=\"0870eee6-ab8b-4271-abf8-fa6ac06e9d67\")>,\n",
       " <selenium.webdriver.remote.webelement.WebElement (session=\"66bdec43f1316b06b8401c876907a5d2\", element=\"cfde8244-a23c-42c3-acaa-d105ea2a0be4\")>,\n",
       " <selenium.webdriver.remote.webelement.WebElement (session=\"66bdec43f1316b06b8401c876907a5d2\", element=\"b67ee667-1619-46a3-bd3f-c28e2004e172\")>,\n",
       " <selenium.webdriver.remote.webelement.WebElement (session=\"66bdec43f1316b06b8401c876907a5d2\", element=\"d96f0070-0ac0-4fb3-9fd1-928b9a4c4011\")>,\n",
       " <selenium.webdriver.remote.webelement.WebElement (session=\"66bdec43f1316b06b8401c876907a5d2\", element=\"c9b22be6-e026-4842-a7e2-44f6ef881df7\")>,\n",
       " <selenium.webdriver.remote.webelement.WebElement (session=\"66bdec43f1316b06b8401c876907a5d2\", element=\"7803497e-981a-4ce7-9f62-8eab1f96c6b7\")>,\n",
       " <selenium.webdriver.remote.webelement.WebElement (session=\"66bdec43f1316b06b8401c876907a5d2\", element=\"e57f5939-7e60-4e95-9f9f-0f06ce8fe08b\")>,\n",
       " <selenium.webdriver.remote.webelement.WebElement (session=\"66bdec43f1316b06b8401c876907a5d2\", element=\"6abcf180-b3ce-40c1-9fae-3cd9f6f11c48\")>,\n",
       " <selenium.webdriver.remote.webelement.WebElement (session=\"66bdec43f1316b06b8401c876907a5d2\", element=\"ce3eb635-9929-4677-b2e8-9e06ded24ee8\")>,\n",
       " <selenium.webdriver.remote.webelement.WebElement (session=\"66bdec43f1316b06b8401c876907a5d2\", element=\"4b5f1610-198d-44ba-9b5a-cff817538767\")>,\n",
       " <selenium.webdriver.remote.webelement.WebElement (session=\"66bdec43f1316b06b8401c876907a5d2\", element=\"3fff33fd-e161-401e-af6d-47eea4f4e4a6\")>,\n",
       " <selenium.webdriver.remote.webelement.WebElement (session=\"66bdec43f1316b06b8401c876907a5d2\", element=\"c59aa6f7-406b-427d-9035-b9ffc43e62f7\")>,\n",
       " <selenium.webdriver.remote.webelement.WebElement (session=\"66bdec43f1316b06b8401c876907a5d2\", element=\"d4b161c1-bc1f-4cdf-83fa-ea167d38b2a8\")>,\n",
       " <selenium.webdriver.remote.webelement.WebElement (session=\"66bdec43f1316b06b8401c876907a5d2\", element=\"adf5317c-0514-48f5-b2f8-3deb40ac05b8\")>,\n",
       " <selenium.webdriver.remote.webelement.WebElement (session=\"66bdec43f1316b06b8401c876907a5d2\", element=\"c6b09bb5-36cf-4666-904a-b86a969c3f85\")>,\n",
       " <selenium.webdriver.remote.webelement.WebElement (session=\"66bdec43f1316b06b8401c876907a5d2\", element=\"3e998c6f-d576-4814-8a17-bbdcbfb79328\")>,\n",
       " <selenium.webdriver.remote.webelement.WebElement (session=\"66bdec43f1316b06b8401c876907a5d2\", element=\"c0390e0f-f233-4fb4-9202-49197edb11a8\")>,\n",
       " <selenium.webdriver.remote.webelement.WebElement (session=\"66bdec43f1316b06b8401c876907a5d2\", element=\"bf8c2adb-afda-44b0-a996-7b238eb6d0aa\")>,\n",
       " <selenium.webdriver.remote.webelement.WebElement (session=\"66bdec43f1316b06b8401c876907a5d2\", element=\"966adf84-6345-4473-a3db-3ae24eb54410\")>,\n",
       " <selenium.webdriver.remote.webelement.WebElement (session=\"66bdec43f1316b06b8401c876907a5d2\", element=\"86a6a3d4-5791-43e7-8539-a00a5f3b4a1e\")>,\n",
       " <selenium.webdriver.remote.webelement.WebElement (session=\"66bdec43f1316b06b8401c876907a5d2\", element=\"5ec2c711-5684-4b33-b145-a3933d2f1e6f\")>]"
      ]
     },
     "execution_count": 118,
     "metadata": {},
     "output_type": "execute_result"
    }
   ],
   "source": [
    "min_tag = driver.find_elements_by_xpath(\"//p[@class='m-0 css-1vkj9it']\")\n",
    "min_tag"
   ]
  },
  {
   "cell_type": "code",
   "execution_count": 119,
   "metadata": {},
   "outputs": [
    {
     "data": {
      "text/plain": [
       "['₹6L', '₹3L', '₹6L', '₹5L', '₹4L', '₹11L', '₹5L', '₹4L', '₹2L', '₹6L']"
      ]
     },
     "execution_count": 119,
     "metadata": {},
     "output_type": "execute_result"
    }
   ],
   "source": [
    "min_salary = [] # creating empty list to store values\n",
    "for i in min_tag:   # running loop\n",
    "    min_salary.append(i.text)\n",
    "    \n",
    "min_salary[19:48:3]"
   ]
  },
  {
   "cell_type": "code",
   "execution_count": 120,
   "metadata": {},
   "outputs": [
    {
     "data": {
      "text/plain": [
       "[<selenium.webdriver.remote.webelement.WebElement (session=\"66bdec43f1316b06b8401c876907a5d2\", element=\"623d6817-f286-43d7-891f-452e09fa732c\")>,\n",
       " <selenium.webdriver.remote.webelement.WebElement (session=\"66bdec43f1316b06b8401c876907a5d2\", element=\"a0c1cf87-3899-478c-9203-80e67eb38355\")>,\n",
       " <selenium.webdriver.remote.webelement.WebElement (session=\"66bdec43f1316b06b8401c876907a5d2\", element=\"fe64d88e-6570-4cd0-88e3-fa9ab0db2cdc\")>,\n",
       " <selenium.webdriver.remote.webelement.WebElement (session=\"66bdec43f1316b06b8401c876907a5d2\", element=\"f49ea991-3a78-4184-aff3-b9f99b48de41\")>,\n",
       " <selenium.webdriver.remote.webelement.WebElement (session=\"66bdec43f1316b06b8401c876907a5d2\", element=\"9e04a4e6-99e1-4b13-b584-99d95e01987e\")>,\n",
       " <selenium.webdriver.remote.webelement.WebElement (session=\"66bdec43f1316b06b8401c876907a5d2\", element=\"30fff7ab-9362-46d6-9a1b-50a31ede7347\")>,\n",
       " <selenium.webdriver.remote.webelement.WebElement (session=\"66bdec43f1316b06b8401c876907a5d2\", element=\"bb448254-1e13-4119-a537-118ea5545876\")>,\n",
       " <selenium.webdriver.remote.webelement.WebElement (session=\"66bdec43f1316b06b8401c876907a5d2\", element=\"6d3b45b1-7214-4397-85bb-9c662136470f\")>,\n",
       " <selenium.webdriver.remote.webelement.WebElement (session=\"66bdec43f1316b06b8401c876907a5d2\", element=\"f7350685-1b58-40ab-85a4-ff2c9b1f9f7a\")>,\n",
       " <selenium.webdriver.remote.webelement.WebElement (session=\"66bdec43f1316b06b8401c876907a5d2\", element=\"367b8872-4b5d-44e1-b7c9-29c4c15a4b52\")>,\n",
       " <selenium.webdriver.remote.webelement.WebElement (session=\"66bdec43f1316b06b8401c876907a5d2\", element=\"41a01d2d-b5a0-49d7-b4a4-e138b6b81400\")>,\n",
       " <selenium.webdriver.remote.webelement.WebElement (session=\"66bdec43f1316b06b8401c876907a5d2\", element=\"ff4d4421-85d7-4877-883f-5b1347a84eb7\")>,\n",
       " <selenium.webdriver.remote.webelement.WebElement (session=\"66bdec43f1316b06b8401c876907a5d2\", element=\"6209c272-e1cd-4d08-9b9b-3aaefe85fca8\")>,\n",
       " <selenium.webdriver.remote.webelement.WebElement (session=\"66bdec43f1316b06b8401c876907a5d2\", element=\"c5d67984-9b5d-442b-85e6-09b71d38328d\")>,\n",
       " <selenium.webdriver.remote.webelement.WebElement (session=\"66bdec43f1316b06b8401c876907a5d2\", element=\"a625973b-1e31-4ac4-9646-2bf1ab954d72\")>,\n",
       " <selenium.webdriver.remote.webelement.WebElement (session=\"66bdec43f1316b06b8401c876907a5d2\", element=\"b91de632-be09-4346-9657-d9cd79cc8969\")>,\n",
       " <selenium.webdriver.remote.webelement.WebElement (session=\"66bdec43f1316b06b8401c876907a5d2\", element=\"45678a93-ae42-4d63-9aa3-3c0c3827a13d\")>,\n",
       " <selenium.webdriver.remote.webelement.WebElement (session=\"66bdec43f1316b06b8401c876907a5d2\", element=\"bc82427b-5393-4fa0-8c61-85d1b634e5f6\")>,\n",
       " <selenium.webdriver.remote.webelement.WebElement (session=\"66bdec43f1316b06b8401c876907a5d2\", element=\"92f815a3-103e-456d-baa0-2d809ef627bd\")>,\n",
       " <selenium.webdriver.remote.webelement.WebElement (session=\"66bdec43f1316b06b8401c876907a5d2\", element=\"2d32d86d-cee1-4d01-a2cb-2846a7627360\")>,\n",
       " <selenium.webdriver.remote.webelement.WebElement (session=\"66bdec43f1316b06b8401c876907a5d2\", element=\"812458fe-921f-4f7d-ae25-320ecbc1de3b\")>,\n",
       " <selenium.webdriver.remote.webelement.WebElement (session=\"66bdec43f1316b06b8401c876907a5d2\", element=\"308137cf-cca7-43de-9cba-a2c4e7dce093\")>,\n",
       " <selenium.webdriver.remote.webelement.WebElement (session=\"66bdec43f1316b06b8401c876907a5d2\", element=\"b3056c23-70fe-4298-b613-6303ac501572\")>,\n",
       " <selenium.webdriver.remote.webelement.WebElement (session=\"66bdec43f1316b06b8401c876907a5d2\", element=\"bdfb41d8-11eb-48b0-ba15-458bb2fd9ab8\")>,\n",
       " <selenium.webdriver.remote.webelement.WebElement (session=\"66bdec43f1316b06b8401c876907a5d2\", element=\"27263894-08ba-437c-8df8-c0847cf55039\")>,\n",
       " <selenium.webdriver.remote.webelement.WebElement (session=\"66bdec43f1316b06b8401c876907a5d2\", element=\"52e9d5a3-6a69-4d98-9296-913e5f8faf3e\")>,\n",
       " <selenium.webdriver.remote.webelement.WebElement (session=\"66bdec43f1316b06b8401c876907a5d2\", element=\"e43484f7-ba00-4331-a2d8-04528419bb7d\")>,\n",
       " <selenium.webdriver.remote.webelement.WebElement (session=\"66bdec43f1316b06b8401c876907a5d2\", element=\"9158e226-ed73-4661-be7a-701c0f63da36\")>,\n",
       " <selenium.webdriver.remote.webelement.WebElement (session=\"66bdec43f1316b06b8401c876907a5d2\", element=\"a0571798-e752-49fb-a8b9-13e9b49321c8\")>,\n",
       " <selenium.webdriver.remote.webelement.WebElement (session=\"66bdec43f1316b06b8401c876907a5d2\", element=\"ea5c1b75-3d52-45ef-b6b1-850a526de7fd\")>,\n",
       " <selenium.webdriver.remote.webelement.WebElement (session=\"66bdec43f1316b06b8401c876907a5d2\", element=\"8c97ab42-e034-4bde-af9d-a38c157e7534\")>,\n",
       " <selenium.webdriver.remote.webelement.WebElement (session=\"66bdec43f1316b06b8401c876907a5d2\", element=\"b75615b9-e9d0-427c-9023-e5f0b953cbf0\")>,\n",
       " <selenium.webdriver.remote.webelement.WebElement (session=\"66bdec43f1316b06b8401c876907a5d2\", element=\"ebacd2c6-80d0-4c7a-97cf-0c2ee75ef467\")>,\n",
       " <selenium.webdriver.remote.webelement.WebElement (session=\"66bdec43f1316b06b8401c876907a5d2\", element=\"a001bb7d-347f-4d32-9e63-1c1f94c3b73b\")>,\n",
       " <selenium.webdriver.remote.webelement.WebElement (session=\"66bdec43f1316b06b8401c876907a5d2\", element=\"5043ac15-cad3-47e1-ab50-152a58e0aed7\")>,\n",
       " <selenium.webdriver.remote.webelement.WebElement (session=\"66bdec43f1316b06b8401c876907a5d2\", element=\"d38d0eca-3c98-4e2a-9e98-1dd5671a6c1f\")>,\n",
       " <selenium.webdriver.remote.webelement.WebElement (session=\"66bdec43f1316b06b8401c876907a5d2\", element=\"d7e02c9d-b451-4758-8625-67ccf47a27f1\")>,\n",
       " <selenium.webdriver.remote.webelement.WebElement (session=\"66bdec43f1316b06b8401c876907a5d2\", element=\"6a4b333d-7c61-4bb9-9ae8-5a2e5846b7d6\")>,\n",
       " <selenium.webdriver.remote.webelement.WebElement (session=\"66bdec43f1316b06b8401c876907a5d2\", element=\"798df451-37a9-431b-b34d-f4b3fd378476\")>,\n",
       " <selenium.webdriver.remote.webelement.WebElement (session=\"66bdec43f1316b06b8401c876907a5d2\", element=\"24df2207-38a2-4c38-9d94-eb9ea563177a\")>,\n",
       " <selenium.webdriver.remote.webelement.WebElement (session=\"66bdec43f1316b06b8401c876907a5d2\", element=\"f9686adc-b3fb-4dde-b349-65d9f9f26e8e\")>,\n",
       " <selenium.webdriver.remote.webelement.WebElement (session=\"66bdec43f1316b06b8401c876907a5d2\", element=\"8dbd4226-cbd0-4903-b376-9d30df2fd50d\")>,\n",
       " <selenium.webdriver.remote.webelement.WebElement (session=\"66bdec43f1316b06b8401c876907a5d2\", element=\"daf350ad-db2f-42eb-8f3c-552b5a8e8633\")>,\n",
       " <selenium.webdriver.remote.webelement.WebElement (session=\"66bdec43f1316b06b8401c876907a5d2\", element=\"82c8cb54-b129-4e2a-8b77-c693d5bad5a6\")>,\n",
       " <selenium.webdriver.remote.webelement.WebElement (session=\"66bdec43f1316b06b8401c876907a5d2\", element=\"e7ac5374-46bb-46c1-8990-3830640ac8be\")>,\n",
       " <selenium.webdriver.remote.webelement.WebElement (session=\"66bdec43f1316b06b8401c876907a5d2\", element=\"dbd3a70a-80af-4050-992b-b046de479d77\")>,\n",
       " <selenium.webdriver.remote.webelement.WebElement (session=\"66bdec43f1316b06b8401c876907a5d2\", element=\"b3d80932-0981-499d-9a23-baac6af63700\")>,\n",
       " <selenium.webdriver.remote.webelement.WebElement (session=\"66bdec43f1316b06b8401c876907a5d2\", element=\"aaa7a650-29ad-47fa-8ed7-5b12619d1bc9\")>,\n",
       " <selenium.webdriver.remote.webelement.WebElement (session=\"66bdec43f1316b06b8401c876907a5d2\", element=\"767bda84-4440-4e2d-a18b-20f673023e6a\")>,\n",
       " <selenium.webdriver.remote.webelement.WebElement (session=\"66bdec43f1316b06b8401c876907a5d2\", element=\"dba03fa6-ef02-44ea-8ed8-85cb1a758c2f\")>,\n",
       " <selenium.webdriver.remote.webelement.WebElement (session=\"66bdec43f1316b06b8401c876907a5d2\", element=\"7c6cd76a-976b-496e-b54a-3a4c032d3fc1\")>,\n",
       " <selenium.webdriver.remote.webelement.WebElement (session=\"66bdec43f1316b06b8401c876907a5d2\", element=\"18e76c8f-8efa-4273-82c5-8acca2154d13\")>,\n",
       " <selenium.webdriver.remote.webelement.WebElement (session=\"66bdec43f1316b06b8401c876907a5d2\", element=\"bb8c8473-1bbc-49c8-a263-6ea641089efa\")>,\n",
       " <selenium.webdriver.remote.webelement.WebElement (session=\"66bdec43f1316b06b8401c876907a5d2\", element=\"97e2fb8b-dd25-400e-a776-01778e7c2562\")>,\n",
       " <selenium.webdriver.remote.webelement.WebElement (session=\"66bdec43f1316b06b8401c876907a5d2\", element=\"045b9acf-4ce5-40da-8daa-9efcb365e077\")>,\n",
       " <selenium.webdriver.remote.webelement.WebElement (session=\"66bdec43f1316b06b8401c876907a5d2\", element=\"674b5055-4300-43d8-938e-d951d06da3e5\")>,\n",
       " <selenium.webdriver.remote.webelement.WebElement (session=\"66bdec43f1316b06b8401c876907a5d2\", element=\"fcd0bcdc-75eb-4be2-8517-4bf300e30f1b\")>,\n",
       " <selenium.webdriver.remote.webelement.WebElement (session=\"66bdec43f1316b06b8401c876907a5d2\", element=\"a8d53a72-1596-478e-955c-542c617994f2\")>,\n",
       " <selenium.webdriver.remote.webelement.WebElement (session=\"66bdec43f1316b06b8401c876907a5d2\", element=\"0870eee6-ab8b-4271-abf8-fa6ac06e9d67\")>,\n",
       " <selenium.webdriver.remote.webelement.WebElement (session=\"66bdec43f1316b06b8401c876907a5d2\", element=\"cfde8244-a23c-42c3-acaa-d105ea2a0be4\")>,\n",
       " <selenium.webdriver.remote.webelement.WebElement (session=\"66bdec43f1316b06b8401c876907a5d2\", element=\"b67ee667-1619-46a3-bd3f-c28e2004e172\")>,\n",
       " <selenium.webdriver.remote.webelement.WebElement (session=\"66bdec43f1316b06b8401c876907a5d2\", element=\"d96f0070-0ac0-4fb3-9fd1-928b9a4c4011\")>,\n",
       " <selenium.webdriver.remote.webelement.WebElement (session=\"66bdec43f1316b06b8401c876907a5d2\", element=\"c9b22be6-e026-4842-a7e2-44f6ef881df7\")>,\n",
       " <selenium.webdriver.remote.webelement.WebElement (session=\"66bdec43f1316b06b8401c876907a5d2\", element=\"7803497e-981a-4ce7-9f62-8eab1f96c6b7\")>,\n",
       " <selenium.webdriver.remote.webelement.WebElement (session=\"66bdec43f1316b06b8401c876907a5d2\", element=\"e57f5939-7e60-4e95-9f9f-0f06ce8fe08b\")>,\n",
       " <selenium.webdriver.remote.webelement.WebElement (session=\"66bdec43f1316b06b8401c876907a5d2\", element=\"6abcf180-b3ce-40c1-9fae-3cd9f6f11c48\")>,\n",
       " <selenium.webdriver.remote.webelement.WebElement (session=\"66bdec43f1316b06b8401c876907a5d2\", element=\"ce3eb635-9929-4677-b2e8-9e06ded24ee8\")>,\n",
       " <selenium.webdriver.remote.webelement.WebElement (session=\"66bdec43f1316b06b8401c876907a5d2\", element=\"4b5f1610-198d-44ba-9b5a-cff817538767\")>,\n",
       " <selenium.webdriver.remote.webelement.WebElement (session=\"66bdec43f1316b06b8401c876907a5d2\", element=\"3fff33fd-e161-401e-af6d-47eea4f4e4a6\")>,\n",
       " <selenium.webdriver.remote.webelement.WebElement (session=\"66bdec43f1316b06b8401c876907a5d2\", element=\"c59aa6f7-406b-427d-9035-b9ffc43e62f7\")>,\n",
       " <selenium.webdriver.remote.webelement.WebElement (session=\"66bdec43f1316b06b8401c876907a5d2\", element=\"d4b161c1-bc1f-4cdf-83fa-ea167d38b2a8\")>,\n",
       " <selenium.webdriver.remote.webelement.WebElement (session=\"66bdec43f1316b06b8401c876907a5d2\", element=\"adf5317c-0514-48f5-b2f8-3deb40ac05b8\")>,\n",
       " <selenium.webdriver.remote.webelement.WebElement (session=\"66bdec43f1316b06b8401c876907a5d2\", element=\"c6b09bb5-36cf-4666-904a-b86a969c3f85\")>,\n",
       " <selenium.webdriver.remote.webelement.WebElement (session=\"66bdec43f1316b06b8401c876907a5d2\", element=\"3e998c6f-d576-4814-8a17-bbdcbfb79328\")>,\n",
       " <selenium.webdriver.remote.webelement.WebElement (session=\"66bdec43f1316b06b8401c876907a5d2\", element=\"c0390e0f-f233-4fb4-9202-49197edb11a8\")>,\n",
       " <selenium.webdriver.remote.webelement.WebElement (session=\"66bdec43f1316b06b8401c876907a5d2\", element=\"bf8c2adb-afda-44b0-a996-7b238eb6d0aa\")>,\n",
       " <selenium.webdriver.remote.webelement.WebElement (session=\"66bdec43f1316b06b8401c876907a5d2\", element=\"966adf84-6345-4473-a3db-3ae24eb54410\")>,\n",
       " <selenium.webdriver.remote.webelement.WebElement (session=\"66bdec43f1316b06b8401c876907a5d2\", element=\"86a6a3d4-5791-43e7-8539-a00a5f3b4a1e\")>,\n",
       " <selenium.webdriver.remote.webelement.WebElement (session=\"66bdec43f1316b06b8401c876907a5d2\", element=\"5ec2c711-5684-4b33-b145-a3933d2f1e6f\")>]"
      ]
     },
     "execution_count": 120,
     "metadata": {},
     "output_type": "execute_result"
    }
   ],
   "source": [
    "max_tag = driver.find_elements_by_xpath(\"//p[@class='m-0 css-1vkj9it']\")\n",
    "max_tag"
   ]
  },
  {
   "cell_type": "code",
   "execution_count": 121,
   "metadata": {},
   "outputs": [
    {
     "data": {
      "text/plain": [
       "['₹27L',\n",
       " '₹13L',\n",
       " '₹22L',\n",
       " '₹1Cr',\n",
       " '₹16L',\n",
       " '₹15L',\n",
       " '₹15L',\n",
       " '₹22L',\n",
       " '₹18L',\n",
       " '₹15L']"
      ]
     },
     "execution_count": 121,
     "metadata": {},
     "output_type": "execute_result"
    }
   ],
   "source": [
    "max_salary = [] # creating empty list to store values\n",
    "for i in max_tag:   # running loop\n",
    "    max_salary.append(i.text)\n",
    "    \n",
    "max_salary[20:50:3]"
   ]
  },
  {
   "cell_type": "code",
   "execution_count": 122,
   "metadata": {},
   "outputs": [],
   "source": [
    "salary_data=pd.DataFrame({})            # making dataframe\n",
    "salary_data['Company Name']=company_name[:10]\n",
    "salary_data['Number of Salary']=salary_no[2:12]       # using indexing with start,end and step size to make a proper dataframe\n",
    "salary_data['Average Salary']=average_salary[:10]\n",
    "salary_data['Min Salary']=min_salary[19:48:3]\n",
    "salary_data['Max Salary']=max_salary[20:50:3]"
   ]
  },
  {
   "cell_type": "code",
   "execution_count": 123,
   "metadata": {},
   "outputs": [
    {
     "data": {
      "text/html": [
       "<div>\n",
       "<style scoped>\n",
       "    .dataframe tbody tr th:only-of-type {\n",
       "        vertical-align: middle;\n",
       "    }\n",
       "\n",
       "    .dataframe tbody tr th {\n",
       "        vertical-align: top;\n",
       "    }\n",
       "\n",
       "    .dataframe thead th {\n",
       "        text-align: right;\n",
       "    }\n",
       "</style>\n",
       "<table border=\"1\" class=\"dataframe\">\n",
       "  <thead>\n",
       "    <tr style=\"text-align: right;\">\n",
       "      <th></th>\n",
       "      <th>Company Name</th>\n",
       "      <th>Number of Salary</th>\n",
       "      <th>Average Salary</th>\n",
       "      <th>Min Salary</th>\n",
       "      <th>Max Salary</th>\n",
       "    </tr>\n",
       "  </thead>\n",
       "  <tbody>\n",
       "    <tr>\n",
       "      <th>0</th>\n",
       "      <td>IBM</td>\n",
       "      <td>18 salaries</td>\n",
       "      <td>₹9,00,000\\n /yr</td>\n",
       "      <td>₹6L</td>\n",
       "      <td>₹27L</td>\n",
       "    </tr>\n",
       "    <tr>\n",
       "      <th>1</th>\n",
       "      <td>Tata Consultancy Services</td>\n",
       "      <td>17 salaries</td>\n",
       "      <td>₹6,15,289\\n /yr</td>\n",
       "      <td>₹3L</td>\n",
       "      <td>₹13L</td>\n",
       "    </tr>\n",
       "    <tr>\n",
       "      <th>2</th>\n",
       "      <td>Accenture</td>\n",
       "      <td>15 salaries</td>\n",
       "      <td>₹11,63,336\\n /yr</td>\n",
       "      <td>₹6L</td>\n",
       "      <td>₹22L</td>\n",
       "    </tr>\n",
       "    <tr>\n",
       "      <th>3</th>\n",
       "      <td>Delhivery</td>\n",
       "      <td>15 salaries</td>\n",
       "      <td>₹12,18,244\\n /yr</td>\n",
       "      <td>₹5L</td>\n",
       "      <td>₹1Cr</td>\n",
       "    </tr>\n",
       "    <tr>\n",
       "      <th>4</th>\n",
       "      <td>Ericsson-Worldwide</td>\n",
       "      <td>14 salaries</td>\n",
       "      <td>₹7,39,238\\n /yr</td>\n",
       "      <td>₹4L</td>\n",
       "      <td>₹16L</td>\n",
       "    </tr>\n",
       "    <tr>\n",
       "      <th>5</th>\n",
       "      <td>UnitedHealth Group</td>\n",
       "      <td>12 salaries</td>\n",
       "      <td>₹13,19,140\\n /yr</td>\n",
       "      <td>₹11L</td>\n",
       "      <td>₹15L</td>\n",
       "    </tr>\n",
       "    <tr>\n",
       "      <th>6</th>\n",
       "      <td>Valiance Solutions</td>\n",
       "      <td>10 salaries</td>\n",
       "      <td>₹8,63,750\\n /yr</td>\n",
       "      <td>₹5L</td>\n",
       "      <td>₹15L</td>\n",
       "    </tr>\n",
       "    <tr>\n",
       "      <th>7</th>\n",
       "      <td>Optum Global Solutions</td>\n",
       "      <td>9 salaries</td>\n",
       "      <td>₹13,28,697\\n /yr</td>\n",
       "      <td>₹4L</td>\n",
       "      <td>₹22L</td>\n",
       "    </tr>\n",
       "    <tr>\n",
       "      <th>8</th>\n",
       "      <td>ZS Associates</td>\n",
       "      <td>8 salaries</td>\n",
       "      <td>₹11,42,356\\n /yr</td>\n",
       "      <td>₹2L</td>\n",
       "      <td>₹18L</td>\n",
       "    </tr>\n",
       "    <tr>\n",
       "      <th>9</th>\n",
       "      <td>EXL Service</td>\n",
       "      <td>8 salaries</td>\n",
       "      <td>₹11,46,073\\n /yr</td>\n",
       "      <td>₹6L</td>\n",
       "      <td>₹15L</td>\n",
       "    </tr>\n",
       "  </tbody>\n",
       "</table>\n",
       "</div>"
      ],
      "text/plain": [
       "                Company Name Number of Salary    Average Salary Min Salary  \\\n",
       "0                        IBM      18 salaries   ₹9,00,000\\n /yr        ₹6L   \n",
       "1  Tata Consultancy Services      17 salaries   ₹6,15,289\\n /yr        ₹3L   \n",
       "2                  Accenture      15 salaries  ₹11,63,336\\n /yr        ₹6L   \n",
       "3                  Delhivery      15 salaries  ₹12,18,244\\n /yr        ₹5L   \n",
       "4         Ericsson-Worldwide      14 salaries   ₹7,39,238\\n /yr        ₹4L   \n",
       "5         UnitedHealth Group      12 salaries  ₹13,19,140\\n /yr       ₹11L   \n",
       "6         Valiance Solutions      10 salaries   ₹8,63,750\\n /yr        ₹5L   \n",
       "7     Optum Global Solutions       9 salaries  ₹13,28,697\\n /yr        ₹4L   \n",
       "8              ZS Associates       8 salaries  ₹11,42,356\\n /yr        ₹2L   \n",
       "9                EXL Service       8 salaries  ₹11,46,073\\n /yr        ₹6L   \n",
       "\n",
       "  Max Salary  \n",
       "0       ₹27L  \n",
       "1       ₹13L  \n",
       "2       ₹22L  \n",
       "3       ₹1Cr  \n",
       "4       ₹16L  \n",
       "5       ₹15L  \n",
       "6       ₹15L  \n",
       "7       ₹22L  \n",
       "8       ₹18L  \n",
       "9       ₹15L  "
      ]
     },
     "execution_count": 123,
     "metadata": {},
     "output_type": "execute_result"
    }
   ],
   "source": [
    "salary_data"
   ]
  },
  {
   "cell_type": "code",
   "execution_count": 124,
   "metadata": {},
   "outputs": [],
   "source": [
    "driver.close()"
   ]
  },
  {
   "cell_type": "code",
   "execution_count": null,
   "metadata": {},
   "outputs": [],
   "source": []
  },
  {
   "cell_type": "markdown",
   "metadata": {},
   "source": [
    "# Q6 : Scrape data of first 100 sunglasses listings on flipkart.com."
   ]
  },
  {
   "cell_type": "code",
   "execution_count": 157,
   "metadata": {},
   "outputs": [],
   "source": [
    "# connecting to web driver\n",
    "driver = webdriver.Chrome(r\"C:\\Users\\Nitish\\Downloads\\Compressed\\chromedriver.exe\")"
   ]
  },
  {
   "cell_type": "code",
   "execution_count": 158,
   "metadata": {},
   "outputs": [],
   "source": [
    "# send get request to the webpage server to get the source code of the page\n",
    "url = 'https://www.flipkart.com/'\n",
    "driver.get(url) "
   ]
  },
  {
   "cell_type": "code",
   "execution_count": 159,
   "metadata": {},
   "outputs": [
    {
     "data": {
      "text/plain": [
       "<selenium.webdriver.remote.webelement.WebElement (session=\"6fa9980b0c91c3c56e0e94fd63563fd6\", element=\"22746414-cabf-49aa-bb7b-2fee5f481e73\")>"
      ]
     },
     "execution_count": 159,
     "metadata": {},
     "output_type": "execute_result"
    }
   ],
   "source": [
    "search_product = driver.find_element_by_xpath('//input[@class=\"_3704LK\"]')\n",
    "search_product"
   ]
  },
  {
   "cell_type": "code",
   "execution_count": 160,
   "metadata": {},
   "outputs": [],
   "source": [
    "# write on search bar\n",
    "search_product.send_keys(\"sunglasses\")"
   ]
  },
  {
   "cell_type": "code",
   "execution_count": 162,
   "metadata": {},
   "outputs": [],
   "source": [
    "search_btn = driver.find_element_by_xpath(\"//button[@class='L0Z3Pu']\")\n",
    "search_btn.click()"
   ]
  },
  {
   "cell_type": "code",
   "execution_count": 163,
   "metadata": {},
   "outputs": [
    {
     "data": {
      "text/plain": [
       "[<selenium.webdriver.remote.webelement.WebElement (session=\"6fa9980b0c91c3c56e0e94fd63563fd6\", element=\"9025b4e7-23bf-4d9f-b47e-d0c5c174861b\")>,\n",
       " <selenium.webdriver.remote.webelement.WebElement (session=\"6fa9980b0c91c3c56e0e94fd63563fd6\", element=\"ebd9910f-29c4-4bdb-9b8f-4456c81feefe\")>,\n",
       " <selenium.webdriver.remote.webelement.WebElement (session=\"6fa9980b0c91c3c56e0e94fd63563fd6\", element=\"f3877ebc-f691-4814-acfa-ffd04614b51d\")>,\n",
       " <selenium.webdriver.remote.webelement.WebElement (session=\"6fa9980b0c91c3c56e0e94fd63563fd6\", element=\"f66c4370-1e33-447d-85cd-fe013dccf78e\")>,\n",
       " <selenium.webdriver.remote.webelement.WebElement (session=\"6fa9980b0c91c3c56e0e94fd63563fd6\", element=\"75db08e0-0a9c-49c5-a6d2-ba2f3942e7d2\")>,\n",
       " <selenium.webdriver.remote.webelement.WebElement (session=\"6fa9980b0c91c3c56e0e94fd63563fd6\", element=\"e680c99e-ef19-4a3c-971b-a05be7bc51fe\")>,\n",
       " <selenium.webdriver.remote.webelement.WebElement (session=\"6fa9980b0c91c3c56e0e94fd63563fd6\", element=\"7f4d8ffa-8272-48bb-a7e8-b445f1b061bc\")>,\n",
       " <selenium.webdriver.remote.webelement.WebElement (session=\"6fa9980b0c91c3c56e0e94fd63563fd6\", element=\"07668c00-e0bb-4237-a796-b854a0c88d7a\")>,\n",
       " <selenium.webdriver.remote.webelement.WebElement (session=\"6fa9980b0c91c3c56e0e94fd63563fd6\", element=\"2d67632e-ffba-4d79-af47-30e7499f9e3b\")>,\n",
       " <selenium.webdriver.remote.webelement.WebElement (session=\"6fa9980b0c91c3c56e0e94fd63563fd6\", element=\"60715c79-f22b-4c4f-97ce-284676ef2833\")>,\n",
       " <selenium.webdriver.remote.webelement.WebElement (session=\"6fa9980b0c91c3c56e0e94fd63563fd6\", element=\"8f86c588-54ca-4295-b000-c134052bde28\")>,\n",
       " <selenium.webdriver.remote.webelement.WebElement (session=\"6fa9980b0c91c3c56e0e94fd63563fd6\", element=\"f5aaed13-f0c4-406e-87e2-49511af432ce\")>,\n",
       " <selenium.webdriver.remote.webelement.WebElement (session=\"6fa9980b0c91c3c56e0e94fd63563fd6\", element=\"cc59b3a1-65e9-4e0c-83d1-500001163e98\")>,\n",
       " <selenium.webdriver.remote.webelement.WebElement (session=\"6fa9980b0c91c3c56e0e94fd63563fd6\", element=\"f0d89a10-2438-40c5-a5b8-cf4dadbb52ff\")>,\n",
       " <selenium.webdriver.remote.webelement.WebElement (session=\"6fa9980b0c91c3c56e0e94fd63563fd6\", element=\"020b99e8-f7a3-4b8a-8004-629534da2bc9\")>,\n",
       " <selenium.webdriver.remote.webelement.WebElement (session=\"6fa9980b0c91c3c56e0e94fd63563fd6\", element=\"1d9c0377-ce44-4bed-8315-028e698660b5\")>,\n",
       " <selenium.webdriver.remote.webelement.WebElement (session=\"6fa9980b0c91c3c56e0e94fd63563fd6\", element=\"662dc8f6-9ae7-4f86-b453-65d243dd794e\")>,\n",
       " <selenium.webdriver.remote.webelement.WebElement (session=\"6fa9980b0c91c3c56e0e94fd63563fd6\", element=\"c10c2c93-d9f6-4a31-948e-7a2823c57adc\")>,\n",
       " <selenium.webdriver.remote.webelement.WebElement (session=\"6fa9980b0c91c3c56e0e94fd63563fd6\", element=\"a77744f1-eb78-49eb-adf0-517fbc819123\")>,\n",
       " <selenium.webdriver.remote.webelement.WebElement (session=\"6fa9980b0c91c3c56e0e94fd63563fd6\", element=\"8b680bcb-2183-47ff-a405-09311a585198\")>,\n",
       " <selenium.webdriver.remote.webelement.WebElement (session=\"6fa9980b0c91c3c56e0e94fd63563fd6\", element=\"ac645140-4371-4f84-b92c-c64614fd319e\")>,\n",
       " <selenium.webdriver.remote.webelement.WebElement (session=\"6fa9980b0c91c3c56e0e94fd63563fd6\", element=\"58276d7b-e5b7-471d-a831-bb3346f7c8b3\")>,\n",
       " <selenium.webdriver.remote.webelement.WebElement (session=\"6fa9980b0c91c3c56e0e94fd63563fd6\", element=\"d1a55429-9efb-4ede-ab01-bd21e604be91\")>,\n",
       " <selenium.webdriver.remote.webelement.WebElement (session=\"6fa9980b0c91c3c56e0e94fd63563fd6\", element=\"6ae2ae9c-8262-4452-8dc7-9af8703687a0\")>,\n",
       " <selenium.webdriver.remote.webelement.WebElement (session=\"6fa9980b0c91c3c56e0e94fd63563fd6\", element=\"9128b194-0600-4fad-803e-0d323478afd3\")>,\n",
       " <selenium.webdriver.remote.webelement.WebElement (session=\"6fa9980b0c91c3c56e0e94fd63563fd6\", element=\"53a4ae44-4fa6-4808-8876-06dac0f70412\")>,\n",
       " <selenium.webdriver.remote.webelement.WebElement (session=\"6fa9980b0c91c3c56e0e94fd63563fd6\", element=\"193dc35d-f3bb-4332-be31-42de4c23a4ef\")>,\n",
       " <selenium.webdriver.remote.webelement.WebElement (session=\"6fa9980b0c91c3c56e0e94fd63563fd6\", element=\"ed4acddb-4a30-48d7-abb8-2ea3ec5f5d46\")>,\n",
       " <selenium.webdriver.remote.webelement.WebElement (session=\"6fa9980b0c91c3c56e0e94fd63563fd6\", element=\"d12aebc5-1a7c-4d5b-86b4-b272730d40f3\")>,\n",
       " <selenium.webdriver.remote.webelement.WebElement (session=\"6fa9980b0c91c3c56e0e94fd63563fd6\", element=\"58a30891-f7be-4b26-92a5-10f0b435313c\")>,\n",
       " <selenium.webdriver.remote.webelement.WebElement (session=\"6fa9980b0c91c3c56e0e94fd63563fd6\", element=\"86238662-e68d-4cb6-a88d-62a67f7acfcd\")>,\n",
       " <selenium.webdriver.remote.webelement.WebElement (session=\"6fa9980b0c91c3c56e0e94fd63563fd6\", element=\"a21a0743-7715-4681-bad8-dec04ee1a5ca\")>,\n",
       " <selenium.webdriver.remote.webelement.WebElement (session=\"6fa9980b0c91c3c56e0e94fd63563fd6\", element=\"d71c50b4-3eba-4370-95c7-5550a6068eb0\")>,\n",
       " <selenium.webdriver.remote.webelement.WebElement (session=\"6fa9980b0c91c3c56e0e94fd63563fd6\", element=\"7d7f1c0f-6003-4ad8-a3a0-e00af0dd5399\")>,\n",
       " <selenium.webdriver.remote.webelement.WebElement (session=\"6fa9980b0c91c3c56e0e94fd63563fd6\", element=\"865c4be8-eb2a-48e0-863e-368ed7336080\")>,\n",
       " <selenium.webdriver.remote.webelement.WebElement (session=\"6fa9980b0c91c3c56e0e94fd63563fd6\", element=\"19b8cf1d-8115-46dd-9767-4edcf4e9ebe8\")>,\n",
       " <selenium.webdriver.remote.webelement.WebElement (session=\"6fa9980b0c91c3c56e0e94fd63563fd6\", element=\"05719aeb-fc98-43bf-93d6-4a47c5998bc8\")>,\n",
       " <selenium.webdriver.remote.webelement.WebElement (session=\"6fa9980b0c91c3c56e0e94fd63563fd6\", element=\"2045d6eb-1ced-4065-b669-6540542fe71c\")>,\n",
       " <selenium.webdriver.remote.webelement.WebElement (session=\"6fa9980b0c91c3c56e0e94fd63563fd6\", element=\"88e4de50-0572-4271-a906-91fdf34d9e76\")>,\n",
       " <selenium.webdriver.remote.webelement.WebElement (session=\"6fa9980b0c91c3c56e0e94fd63563fd6\", element=\"25a0953a-96f4-4ef4-8158-474b0648473a\")>]"
      ]
     },
     "execution_count": 163,
     "metadata": {},
     "output_type": "execute_result"
    }
   ],
   "source": [
    "# extracting web elements havings brands name\n",
    "brand_tag = driver.find_elements_by_xpath(\"//div[@class='_2WkVRV']\")\n",
    "brand_tag"
   ]
  },
  {
   "cell_type": "code",
   "execution_count": 164,
   "metadata": {},
   "outputs": [
    {
     "data": {
      "text/plain": [
       "['ROYAL SON',\n",
       " 'VINCENT CHASE',\n",
       " 'Fastrack',\n",
       " 'Fastrack',\n",
       " 'kingsunglasses',\n",
       " 'Fastrack',\n",
       " 'PIRASO',\n",
       " 'ROYAL SON',\n",
       " 'Fastrack',\n",
       " 'IRUS by IDEE',\n",
       " 'PHENOMENAL',\n",
       " 'VINCENT CHASE',\n",
       " 'kingsunglasses',\n",
       " 'Fastrack',\n",
       " 'Fastrack',\n",
       " 'AISLIN',\n",
       " 'PHENOMENAL',\n",
       " 'Fastrack',\n",
       " 'Fastrack',\n",
       " 'ROYAL SON',\n",
       " 'kingsunglasses',\n",
       " 'ROZZETTA CRAFT',\n",
       " 'Fastrack',\n",
       " 'ROYAL SON',\n",
       " 'GANSTA',\n",
       " 'DEIXELS',\n",
       " 'PIRASO',\n",
       " 'ROYAL SON',\n",
       " 'kingsunglasses',\n",
       " 'Fastrack',\n",
       " 'Fastrack',\n",
       " 'VINCENT CHASE',\n",
       " 'Fastrack',\n",
       " 'Fastrack',\n",
       " 'hipe',\n",
       " 'ROYAL SON',\n",
       " 'NuVew',\n",
       " 'kingsunglasses',\n",
       " 'ROZZETTA CRAFT',\n",
       " 'VINCENT CHASE']"
      ]
     },
     "execution_count": 164,
     "metadata": {},
     "output_type": "execute_result"
    }
   ],
   "source": [
    "brand = [] # creating empty list to store values\n",
    "for i in brand_tag:   # running loop\n",
    "    brand.append(i.text)\n",
    "    \n",
    "brand"
   ]
  },
  {
   "cell_type": "code",
   "execution_count": 165,
   "metadata": {},
   "outputs": [
    {
     "data": {
      "text/plain": [
       "40"
      ]
     },
     "execution_count": 165,
     "metadata": {},
     "output_type": "execute_result"
    }
   ],
   "source": [
    "len(brand)"
   ]
  },
  {
   "cell_type": "code",
   "execution_count": 166,
   "metadata": {},
   "outputs": [],
   "source": [
    "next_page = driver.find_element_by_xpath(\"//a[@class='_1LKTO3']\")\n",
    "next_page.click()"
   ]
  },
  {
   "cell_type": "code",
   "execution_count": 167,
   "metadata": {},
   "outputs": [
    {
     "data": {
      "text/plain": [
       "[<selenium.webdriver.remote.webelement.WebElement (session=\"6fa9980b0c91c3c56e0e94fd63563fd6\", element=\"2668b9a5-fc7c-4192-9b49-da735fe66134\")>,\n",
       " <selenium.webdriver.remote.webelement.WebElement (session=\"6fa9980b0c91c3c56e0e94fd63563fd6\", element=\"93096b57-f527-4baa-88bd-cba68dbf04da\")>,\n",
       " <selenium.webdriver.remote.webelement.WebElement (session=\"6fa9980b0c91c3c56e0e94fd63563fd6\", element=\"8fe1186c-dcdc-42fa-a7b2-ad0c13009d91\")>,\n",
       " <selenium.webdriver.remote.webelement.WebElement (session=\"6fa9980b0c91c3c56e0e94fd63563fd6\", element=\"6fa486e4-ace5-4236-9058-f54dceb7750e\")>,\n",
       " <selenium.webdriver.remote.webelement.WebElement (session=\"6fa9980b0c91c3c56e0e94fd63563fd6\", element=\"f5d99303-7836-4ca8-99bf-209f4efdaca8\")>,\n",
       " <selenium.webdriver.remote.webelement.WebElement (session=\"6fa9980b0c91c3c56e0e94fd63563fd6\", element=\"1de90ee4-ebe4-47b2-981a-c60df83daf65\")>,\n",
       " <selenium.webdriver.remote.webelement.WebElement (session=\"6fa9980b0c91c3c56e0e94fd63563fd6\", element=\"6eab2440-e543-4c8c-88b9-97faa1292574\")>,\n",
       " <selenium.webdriver.remote.webelement.WebElement (session=\"6fa9980b0c91c3c56e0e94fd63563fd6\", element=\"0bd1d42a-1fe4-4b97-8058-b5917f98309e\")>,\n",
       " <selenium.webdriver.remote.webelement.WebElement (session=\"6fa9980b0c91c3c56e0e94fd63563fd6\", element=\"250c4cd3-dbf4-46c6-944e-98ee8917a7d7\")>,\n",
       " <selenium.webdriver.remote.webelement.WebElement (session=\"6fa9980b0c91c3c56e0e94fd63563fd6\", element=\"240c77ea-d3c2-489b-8d5b-055537e2e5f5\")>,\n",
       " <selenium.webdriver.remote.webelement.WebElement (session=\"6fa9980b0c91c3c56e0e94fd63563fd6\", element=\"dded15b4-9333-422f-a695-0be80fd4b1e3\")>,\n",
       " <selenium.webdriver.remote.webelement.WebElement (session=\"6fa9980b0c91c3c56e0e94fd63563fd6\", element=\"766c876f-31ba-4a3b-984c-ac5894509207\")>,\n",
       " <selenium.webdriver.remote.webelement.WebElement (session=\"6fa9980b0c91c3c56e0e94fd63563fd6\", element=\"0cbdbfed-79ba-453a-b95f-4df92da22810\")>,\n",
       " <selenium.webdriver.remote.webelement.WebElement (session=\"6fa9980b0c91c3c56e0e94fd63563fd6\", element=\"b79f7ec7-87a3-4c57-91c4-b7ca6615ed54\")>,\n",
       " <selenium.webdriver.remote.webelement.WebElement (session=\"6fa9980b0c91c3c56e0e94fd63563fd6\", element=\"cedb7e99-5050-4202-9672-a1f6b2ff8d35\")>,\n",
       " <selenium.webdriver.remote.webelement.WebElement (session=\"6fa9980b0c91c3c56e0e94fd63563fd6\", element=\"e7fe08ce-9dff-4848-9c5d-db3b2671f605\")>,\n",
       " <selenium.webdriver.remote.webelement.WebElement (session=\"6fa9980b0c91c3c56e0e94fd63563fd6\", element=\"f87e5287-61f2-4c25-80e7-17e7de21ba9a\")>,\n",
       " <selenium.webdriver.remote.webelement.WebElement (session=\"6fa9980b0c91c3c56e0e94fd63563fd6\", element=\"4b1fef25-1f2b-4604-8196-e554bad3871f\")>,\n",
       " <selenium.webdriver.remote.webelement.WebElement (session=\"6fa9980b0c91c3c56e0e94fd63563fd6\", element=\"16ad63d2-d7f1-4efb-a7eb-316382dbefe1\")>,\n",
       " <selenium.webdriver.remote.webelement.WebElement (session=\"6fa9980b0c91c3c56e0e94fd63563fd6\", element=\"c0c71cc6-a768-4be8-affa-3f8955e584d8\")>,\n",
       " <selenium.webdriver.remote.webelement.WebElement (session=\"6fa9980b0c91c3c56e0e94fd63563fd6\", element=\"bf3f9b33-e843-48de-aa6a-fe09714aff07\")>,\n",
       " <selenium.webdriver.remote.webelement.WebElement (session=\"6fa9980b0c91c3c56e0e94fd63563fd6\", element=\"13cafb5f-012e-4bb5-8316-e719cf968723\")>,\n",
       " <selenium.webdriver.remote.webelement.WebElement (session=\"6fa9980b0c91c3c56e0e94fd63563fd6\", element=\"43bdcd32-213b-4dcc-b457-7754ebb2a2ef\")>,\n",
       " <selenium.webdriver.remote.webelement.WebElement (session=\"6fa9980b0c91c3c56e0e94fd63563fd6\", element=\"767b4bb8-df87-4c50-a16e-a680a766029f\")>,\n",
       " <selenium.webdriver.remote.webelement.WebElement (session=\"6fa9980b0c91c3c56e0e94fd63563fd6\", element=\"35f051fb-216a-4efb-bf29-893cc4cd004f\")>,\n",
       " <selenium.webdriver.remote.webelement.WebElement (session=\"6fa9980b0c91c3c56e0e94fd63563fd6\", element=\"4707362e-cb76-474f-96a3-c5f8fe8fa1ca\")>,\n",
       " <selenium.webdriver.remote.webelement.WebElement (session=\"6fa9980b0c91c3c56e0e94fd63563fd6\", element=\"75c7a620-adfe-41ba-8148-20394cc5f97c\")>,\n",
       " <selenium.webdriver.remote.webelement.WebElement (session=\"6fa9980b0c91c3c56e0e94fd63563fd6\", element=\"7bb59810-7c32-4c2a-bfbf-7e89b34df854\")>,\n",
       " <selenium.webdriver.remote.webelement.WebElement (session=\"6fa9980b0c91c3c56e0e94fd63563fd6\", element=\"6094f7c8-9b64-45fe-b5b4-65f1ec1ec0f1\")>,\n",
       " <selenium.webdriver.remote.webelement.WebElement (session=\"6fa9980b0c91c3c56e0e94fd63563fd6\", element=\"930a8195-4c7e-4e5e-828c-5d2fd3b8f205\")>,\n",
       " <selenium.webdriver.remote.webelement.WebElement (session=\"6fa9980b0c91c3c56e0e94fd63563fd6\", element=\"12b5c587-25e4-4930-8876-dd70e97d6ed9\")>,\n",
       " <selenium.webdriver.remote.webelement.WebElement (session=\"6fa9980b0c91c3c56e0e94fd63563fd6\", element=\"ddf3c0de-7c3e-44cd-9eab-6e692e6225be\")>,\n",
       " <selenium.webdriver.remote.webelement.WebElement (session=\"6fa9980b0c91c3c56e0e94fd63563fd6\", element=\"d3a21653-852e-4737-9bd6-983142703823\")>,\n",
       " <selenium.webdriver.remote.webelement.WebElement (session=\"6fa9980b0c91c3c56e0e94fd63563fd6\", element=\"96d1bf45-9c4d-497a-ad99-11784369c6b8\")>,\n",
       " <selenium.webdriver.remote.webelement.WebElement (session=\"6fa9980b0c91c3c56e0e94fd63563fd6\", element=\"9c5ab68b-cb14-4653-bae5-37694be8a891\")>,\n",
       " <selenium.webdriver.remote.webelement.WebElement (session=\"6fa9980b0c91c3c56e0e94fd63563fd6\", element=\"94492adf-6948-4049-b86e-287a18496706\")>,\n",
       " <selenium.webdriver.remote.webelement.WebElement (session=\"6fa9980b0c91c3c56e0e94fd63563fd6\", element=\"e77c2b76-c96f-41cc-8ce2-c5a7d59d42a4\")>,\n",
       " <selenium.webdriver.remote.webelement.WebElement (session=\"6fa9980b0c91c3c56e0e94fd63563fd6\", element=\"0e95969c-43d4-4c24-bf1f-490aeb481e53\")>,\n",
       " <selenium.webdriver.remote.webelement.WebElement (session=\"6fa9980b0c91c3c56e0e94fd63563fd6\", element=\"5714efb1-f53e-42d4-9859-30af122f11a9\")>,\n",
       " <selenium.webdriver.remote.webelement.WebElement (session=\"6fa9980b0c91c3c56e0e94fd63563fd6\", element=\"9bf90323-2429-4c24-9c37-db0d156c9906\")>]"
      ]
     },
     "execution_count": 167,
     "metadata": {},
     "output_type": "execute_result"
    }
   ],
   "source": [
    "# extracting tags havings brands\n",
    "brand_tags = driver.find_elements_by_xpath(\"//div[@class='_2WkVRV']\")\n",
    "brand_tags"
   ]
  },
  {
   "cell_type": "code",
   "execution_count": 168,
   "metadata": {},
   "outputs": [
    {
     "data": {
      "text/plain": [
       "['Fastrack',\n",
       " 'kingsunglasses',\n",
       " 'IDEE',\n",
       " 'ROYAL SON',\n",
       " 'HIPPON',\n",
       " 'Silver Kartz',\n",
       " 'ROZZETTA CRAFT',\n",
       " 'Villain',\n",
       " 'elegante',\n",
       " 'ROZZETTA CRAFT',\n",
       " 'Singco India',\n",
       " 'ROYAL SON',\n",
       " 'PHENOMENAL',\n",
       " 'PIRASO',\n",
       " 'ROYAL SON',\n",
       " 'Villain',\n",
       " 'Fastrack',\n",
       " 'ROZZETTA CRAFT',\n",
       " 'Singco',\n",
       " 'AISLIN',\n",
       " 'hipe',\n",
       " 'ROZZETTA CRAFT',\n",
       " 'Singco India',\n",
       " 'ROYAL SON',\n",
       " 'Singco',\n",
       " 'hipe',\n",
       " 'Fastrack',\n",
       " 'ROYAL SON',\n",
       " 'GANSTA',\n",
       " 'PIRASO',\n",
       " 'Fastrack',\n",
       " 'AISLIN',\n",
       " 'Singco India',\n",
       " 'hipe',\n",
       " 'PHENOMENAL',\n",
       " 'Cruze',\n",
       " 'ROYAL SON',\n",
       " 'Poland',\n",
       " 'Fastrack',\n",
       " 'GANSTA']"
      ]
     },
     "execution_count": 168,
     "metadata": {},
     "output_type": "execute_result"
    }
   ],
   "source": [
    "brands = [] # creating empty list to store values\n",
    "for i in brand_tags:   # running loop\n",
    "    brands.append(i.text)\n",
    "    \n",
    "brands"
   ]
  },
  {
   "cell_type": "code",
   "execution_count": 174,
   "metadata": {},
   "outputs": [],
   "source": [
    "#scrapping the required details\n",
    "\n",
    "start=0\n",
    "\n",
    "end=2\n",
    "\n",
    "for page in range(start,end):\n",
    "\n",
    "    brands=driver.find_elements_by_class_name('_2WkVRV')\n",
    "\n",
    "    for i in brands:\n",
    "\n",
    "        brand.append(i.text)"
   ]
  },
  {
   "cell_type": "code",
   "execution_count": 175,
   "metadata": {},
   "outputs": [
    {
     "data": {
      "text/plain": [
       "160"
      ]
     },
     "execution_count": 175,
     "metadata": {},
     "output_type": "execute_result"
    }
   ],
   "source": [
    "len(brand) # to display length of brand"
   ]
  },
  {
   "cell_type": "code",
   "execution_count": 176,
   "metadata": {},
   "outputs": [
    {
     "data": {
      "text/plain": [
       "[<selenium.webdriver.remote.webelement.WebElement (session=\"6fa9980b0c91c3c56e0e94fd63563fd6\", element=\"933073b5-3ba0-4d5c-b85a-81fe5bb06141\")>,\n",
       " <selenium.webdriver.remote.webelement.WebElement (session=\"6fa9980b0c91c3c56e0e94fd63563fd6\", element=\"27b312a3-fc4d-4168-ae0c-bb90165f1af4\")>,\n",
       " <selenium.webdriver.remote.webelement.WebElement (session=\"6fa9980b0c91c3c56e0e94fd63563fd6\", element=\"a2fe0066-ed55-4e80-beec-aa6afdf1002b\")>,\n",
       " <selenium.webdriver.remote.webelement.WebElement (session=\"6fa9980b0c91c3c56e0e94fd63563fd6\", element=\"b786c2b7-6ab7-44ef-87e7-3a1075537724\")>,\n",
       " <selenium.webdriver.remote.webelement.WebElement (session=\"6fa9980b0c91c3c56e0e94fd63563fd6\", element=\"7ffec1fd-da48-4282-bca7-b36944957491\")>,\n",
       " <selenium.webdriver.remote.webelement.WebElement (session=\"6fa9980b0c91c3c56e0e94fd63563fd6\", element=\"19fc8fdb-58e8-428e-b960-34e9139842c0\")>,\n",
       " <selenium.webdriver.remote.webelement.WebElement (session=\"6fa9980b0c91c3c56e0e94fd63563fd6\", element=\"4e55c834-316b-4a40-a0a6-c91023662ea6\")>,\n",
       " <selenium.webdriver.remote.webelement.WebElement (session=\"6fa9980b0c91c3c56e0e94fd63563fd6\", element=\"922a7c3e-149a-491b-a5bd-704e86cda97c\")>,\n",
       " <selenium.webdriver.remote.webelement.WebElement (session=\"6fa9980b0c91c3c56e0e94fd63563fd6\", element=\"fa355379-e81c-4f1f-8285-ad13ccb1f4c7\")>,\n",
       " <selenium.webdriver.remote.webelement.WebElement (session=\"6fa9980b0c91c3c56e0e94fd63563fd6\", element=\"da7a4d64-a775-4998-b946-cdc6edbed691\")>,\n",
       " <selenium.webdriver.remote.webelement.WebElement (session=\"6fa9980b0c91c3c56e0e94fd63563fd6\", element=\"53f79af2-bd84-4211-b24b-ea22f7201e7b\")>,\n",
       " <selenium.webdriver.remote.webelement.WebElement (session=\"6fa9980b0c91c3c56e0e94fd63563fd6\", element=\"becdc7dc-9c0d-457f-8fdd-aa987f3d3e8d\")>,\n",
       " <selenium.webdriver.remote.webelement.WebElement (session=\"6fa9980b0c91c3c56e0e94fd63563fd6\", element=\"2cd18570-5a2a-4942-9daf-8cfc7ba10c34\")>,\n",
       " <selenium.webdriver.remote.webelement.WebElement (session=\"6fa9980b0c91c3c56e0e94fd63563fd6\", element=\"d581d12e-544f-412f-b4dc-d6e065921f02\")>,\n",
       " <selenium.webdriver.remote.webelement.WebElement (session=\"6fa9980b0c91c3c56e0e94fd63563fd6\", element=\"24c4c863-814f-4d40-a2a3-0200b5fcf075\")>,\n",
       " <selenium.webdriver.remote.webelement.WebElement (session=\"6fa9980b0c91c3c56e0e94fd63563fd6\", element=\"6cbd9eec-caa0-458e-9842-45dc4514349c\")>,\n",
       " <selenium.webdriver.remote.webelement.WebElement (session=\"6fa9980b0c91c3c56e0e94fd63563fd6\", element=\"43db6d93-f31e-4533-9432-412c068ad268\")>,\n",
       " <selenium.webdriver.remote.webelement.WebElement (session=\"6fa9980b0c91c3c56e0e94fd63563fd6\", element=\"93fbfccf-5b6c-4714-b232-eba0ce83269c\")>,\n",
       " <selenium.webdriver.remote.webelement.WebElement (session=\"6fa9980b0c91c3c56e0e94fd63563fd6\", element=\"0c393b96-a2c7-4436-8eca-4e45213021f6\")>,\n",
       " <selenium.webdriver.remote.webelement.WebElement (session=\"6fa9980b0c91c3c56e0e94fd63563fd6\", element=\"257d566a-2885-4385-8277-f987eb4ee996\")>,\n",
       " <selenium.webdriver.remote.webelement.WebElement (session=\"6fa9980b0c91c3c56e0e94fd63563fd6\", element=\"d4c92c07-36d1-4b1f-9776-6d3968687fc6\")>,\n",
       " <selenium.webdriver.remote.webelement.WebElement (session=\"6fa9980b0c91c3c56e0e94fd63563fd6\", element=\"de491ab2-eb1c-4052-be97-174a4f8b6a2f\")>,\n",
       " <selenium.webdriver.remote.webelement.WebElement (session=\"6fa9980b0c91c3c56e0e94fd63563fd6\", element=\"6ede19d0-6473-42b2-b58e-0900a8790493\")>,\n",
       " <selenium.webdriver.remote.webelement.WebElement (session=\"6fa9980b0c91c3c56e0e94fd63563fd6\", element=\"b10046e7-c7f5-40fc-a5bd-de285726c058\")>,\n",
       " <selenium.webdriver.remote.webelement.WebElement (session=\"6fa9980b0c91c3c56e0e94fd63563fd6\", element=\"a1545b1d-24fa-4340-9533-3f76d695aae1\")>,\n",
       " <selenium.webdriver.remote.webelement.WebElement (session=\"6fa9980b0c91c3c56e0e94fd63563fd6\", element=\"74508546-6a46-46f2-bcce-96af0ebad40f\")>,\n",
       " <selenium.webdriver.remote.webelement.WebElement (session=\"6fa9980b0c91c3c56e0e94fd63563fd6\", element=\"9bb6e780-ae5c-4c71-a5f3-db25fd5b4398\")>,\n",
       " <selenium.webdriver.remote.webelement.WebElement (session=\"6fa9980b0c91c3c56e0e94fd63563fd6\", element=\"83f060a6-89a1-4eec-acd1-7ba9a05a6516\")>,\n",
       " <selenium.webdriver.remote.webelement.WebElement (session=\"6fa9980b0c91c3c56e0e94fd63563fd6\", element=\"277ceca7-58d1-48e4-a4a1-9483c567fcd9\")>,\n",
       " <selenium.webdriver.remote.webelement.WebElement (session=\"6fa9980b0c91c3c56e0e94fd63563fd6\", element=\"740c9543-43ef-4e1d-aa9a-b7a0032d0f83\")>,\n",
       " <selenium.webdriver.remote.webelement.WebElement (session=\"6fa9980b0c91c3c56e0e94fd63563fd6\", element=\"ea1d579e-ba38-498a-a6db-22ac82ed4efa\")>,\n",
       " <selenium.webdriver.remote.webelement.WebElement (session=\"6fa9980b0c91c3c56e0e94fd63563fd6\", element=\"53a7e507-ed9d-4a8d-b453-bee7fe0bf514\")>,\n",
       " <selenium.webdriver.remote.webelement.WebElement (session=\"6fa9980b0c91c3c56e0e94fd63563fd6\", element=\"f03137d8-aec0-4d3e-81cb-822fd8c7a504\")>,\n",
       " <selenium.webdriver.remote.webelement.WebElement (session=\"6fa9980b0c91c3c56e0e94fd63563fd6\", element=\"3f01bd33-cbbe-4d4c-bd1a-1a8c89936351\")>,\n",
       " <selenium.webdriver.remote.webelement.WebElement (session=\"6fa9980b0c91c3c56e0e94fd63563fd6\", element=\"738fab54-c931-4375-82e5-d02f8bd68ccd\")>,\n",
       " <selenium.webdriver.remote.webelement.WebElement (session=\"6fa9980b0c91c3c56e0e94fd63563fd6\", element=\"e8937421-734b-4700-99e3-b8141afe6e5e\")>,\n",
       " <selenium.webdriver.remote.webelement.WebElement (session=\"6fa9980b0c91c3c56e0e94fd63563fd6\", element=\"86a0a04b-ca4f-4dd5-9a8d-e9b8e08e7586\")>,\n",
       " <selenium.webdriver.remote.webelement.WebElement (session=\"6fa9980b0c91c3c56e0e94fd63563fd6\", element=\"a0deefb3-63b5-45c6-8c27-cb9bcd620022\")>,\n",
       " <selenium.webdriver.remote.webelement.WebElement (session=\"6fa9980b0c91c3c56e0e94fd63563fd6\", element=\"a08c9e20-7ee9-4cdf-bdd7-5876fdb3278c\")>,\n",
       " <selenium.webdriver.remote.webelement.WebElement (session=\"6fa9980b0c91c3c56e0e94fd63563fd6\", element=\"629a94cb-c7df-4d7b-b68f-8519cdcc224b\")>]"
      ]
     },
     "execution_count": 176,
     "metadata": {},
     "output_type": "execute_result"
    }
   ],
   "source": [
    "price_tag = driver.find_elements_by_xpath(\"//div[@class='_30jeq3']\")\n",
    "price_tag"
   ]
  },
  {
   "cell_type": "code",
   "execution_count": 177,
   "metadata": {},
   "outputs": [
    {
     "data": {
      "text/plain": [
       "['₹599',\n",
       " '₹1,344',\n",
       " '₹299',\n",
       " '₹682',\n",
       " '₹513',\n",
       " '₹529',\n",
       " '₹237',\n",
       " '₹899',\n",
       " '₹649',\n",
       " '₹499',\n",
       " '₹319',\n",
       " '₹749',\n",
       " '₹349',\n",
       " '₹647',\n",
       " '₹529',\n",
       " '₹1,120',\n",
       " '₹592',\n",
       " '₹499',\n",
       " '₹299',\n",
       " '₹449',\n",
       " '₹399',\n",
       " '₹499',\n",
       " '₹619',\n",
       " '₹759',\n",
       " '₹1,010',\n",
       " '₹558',\n",
       " '₹281',\n",
       " '₹845',\n",
       " '₹225',\n",
       " '₹200',\n",
       " '₹331',\n",
       " '₹699',\n",
       " '₹215',\n",
       " '₹299',\n",
       " '₹1,003',\n",
       " '₹664',\n",
       " '₹976',\n",
       " '₹210',\n",
       " '₹404',\n",
       " '₹1,234']"
      ]
     },
     "execution_count": 177,
     "metadata": {},
     "output_type": "execute_result"
    }
   ],
   "source": [
    "price = [] # to store empty values\n",
    "for i in price_tag:\n",
    "    price.append(i.text)\n",
    "    \n",
    "price"
   ]
  },
  {
   "cell_type": "code",
   "execution_count": 178,
   "metadata": {},
   "outputs": [
    {
     "data": {
      "text/plain": [
       "40"
      ]
     },
     "execution_count": 178,
     "metadata": {},
     "output_type": "execute_result"
    }
   ],
   "source": [
    "len(price) # to display length"
   ]
  },
  {
   "cell_type": "code",
   "execution_count": 179,
   "metadata": {},
   "outputs": [],
   "source": [
    "next_page = driver.find_element_by_xpath(\"//a[@class='_1LKTO3']\")\n",
    "next_page.click()"
   ]
  },
  {
   "cell_type": "code",
   "execution_count": 180,
   "metadata": {},
   "outputs": [
    {
     "data": {
      "text/plain": [
       "[<selenium.webdriver.remote.webelement.WebElement (session=\"6fa9980b0c91c3c56e0e94fd63563fd6\", element=\"e6fb7bb7-7de9-483b-81e8-8b558d20ce2b\")>,\n",
       " <selenium.webdriver.remote.webelement.WebElement (session=\"6fa9980b0c91c3c56e0e94fd63563fd6\", element=\"1a9f29bf-5ed3-420b-8256-1f19669acd2d\")>,\n",
       " <selenium.webdriver.remote.webelement.WebElement (session=\"6fa9980b0c91c3c56e0e94fd63563fd6\", element=\"ab7a3d64-0016-4fe2-a7cd-0db8ef8ca2e1\")>,\n",
       " <selenium.webdriver.remote.webelement.WebElement (session=\"6fa9980b0c91c3c56e0e94fd63563fd6\", element=\"5b0777a7-fcc6-4e82-b39c-b6330f7b52da\")>,\n",
       " <selenium.webdriver.remote.webelement.WebElement (session=\"6fa9980b0c91c3c56e0e94fd63563fd6\", element=\"609ebf96-9851-4597-acaa-6946afc6e818\")>,\n",
       " <selenium.webdriver.remote.webelement.WebElement (session=\"6fa9980b0c91c3c56e0e94fd63563fd6\", element=\"58c21dba-caba-4cbe-90b7-55c88426a6c2\")>,\n",
       " <selenium.webdriver.remote.webelement.WebElement (session=\"6fa9980b0c91c3c56e0e94fd63563fd6\", element=\"2f9701d6-e31f-41c4-9a96-6f55a5dbde3d\")>,\n",
       " <selenium.webdriver.remote.webelement.WebElement (session=\"6fa9980b0c91c3c56e0e94fd63563fd6\", element=\"de611f0b-119e-40f1-93cd-424bccf0d850\")>,\n",
       " <selenium.webdriver.remote.webelement.WebElement (session=\"6fa9980b0c91c3c56e0e94fd63563fd6\", element=\"d2d58d7f-93b4-49a7-b876-1527cffef1f4\")>,\n",
       " <selenium.webdriver.remote.webelement.WebElement (session=\"6fa9980b0c91c3c56e0e94fd63563fd6\", element=\"1f2b0fb1-e4f8-47fd-ab66-1dd7bcc62f7d\")>,\n",
       " <selenium.webdriver.remote.webelement.WebElement (session=\"6fa9980b0c91c3c56e0e94fd63563fd6\", element=\"7cc9a5f7-1d70-4a0c-91d9-ad49520ab683\")>,\n",
       " <selenium.webdriver.remote.webelement.WebElement (session=\"6fa9980b0c91c3c56e0e94fd63563fd6\", element=\"e53e47a3-17b2-44c6-b0ec-81fcac844e4e\")>,\n",
       " <selenium.webdriver.remote.webelement.WebElement (session=\"6fa9980b0c91c3c56e0e94fd63563fd6\", element=\"42ce309f-ceb3-4e7c-8300-ce3b68a93d93\")>,\n",
       " <selenium.webdriver.remote.webelement.WebElement (session=\"6fa9980b0c91c3c56e0e94fd63563fd6\", element=\"92c300ba-9117-4953-9a69-8f7406b44261\")>,\n",
       " <selenium.webdriver.remote.webelement.WebElement (session=\"6fa9980b0c91c3c56e0e94fd63563fd6\", element=\"97da43fc-fae3-4f95-b150-1b576b3c38b0\")>,\n",
       " <selenium.webdriver.remote.webelement.WebElement (session=\"6fa9980b0c91c3c56e0e94fd63563fd6\", element=\"44757843-d314-4bf5-a616-b14cf140602e\")>,\n",
       " <selenium.webdriver.remote.webelement.WebElement (session=\"6fa9980b0c91c3c56e0e94fd63563fd6\", element=\"11686f71-a734-40d6-8e2c-e9b099b5368f\")>,\n",
       " <selenium.webdriver.remote.webelement.WebElement (session=\"6fa9980b0c91c3c56e0e94fd63563fd6\", element=\"59ab6764-8cbc-4ba7-8803-0679d8abd7c3\")>,\n",
       " <selenium.webdriver.remote.webelement.WebElement (session=\"6fa9980b0c91c3c56e0e94fd63563fd6\", element=\"a4e67bb8-05f4-4d4d-a55a-024b6aedb168\")>,\n",
       " <selenium.webdriver.remote.webelement.WebElement (session=\"6fa9980b0c91c3c56e0e94fd63563fd6\", element=\"e2f56d9d-11ef-427a-bc34-b6085632ff3b\")>,\n",
       " <selenium.webdriver.remote.webelement.WebElement (session=\"6fa9980b0c91c3c56e0e94fd63563fd6\", element=\"8c3f89a6-bdda-45bd-895b-f56f314140cc\")>,\n",
       " <selenium.webdriver.remote.webelement.WebElement (session=\"6fa9980b0c91c3c56e0e94fd63563fd6\", element=\"4c112f4b-5434-47f2-a541-9e3b99bc95fd\")>,\n",
       " <selenium.webdriver.remote.webelement.WebElement (session=\"6fa9980b0c91c3c56e0e94fd63563fd6\", element=\"d982abe7-2a3a-4f7e-9c44-5ed24acd9cce\")>,\n",
       " <selenium.webdriver.remote.webelement.WebElement (session=\"6fa9980b0c91c3c56e0e94fd63563fd6\", element=\"e77ebecc-6f5b-4f07-94d3-f49163563e2f\")>,\n",
       " <selenium.webdriver.remote.webelement.WebElement (session=\"6fa9980b0c91c3c56e0e94fd63563fd6\", element=\"797aa096-5da7-4b8b-ae89-fd903d3a463a\")>,\n",
       " <selenium.webdriver.remote.webelement.WebElement (session=\"6fa9980b0c91c3c56e0e94fd63563fd6\", element=\"1f360c20-a935-4736-a8d7-0a00dfd527ea\")>,\n",
       " <selenium.webdriver.remote.webelement.WebElement (session=\"6fa9980b0c91c3c56e0e94fd63563fd6\", element=\"ab191e3e-5df2-471a-b6dd-cc736b2c092f\")>,\n",
       " <selenium.webdriver.remote.webelement.WebElement (session=\"6fa9980b0c91c3c56e0e94fd63563fd6\", element=\"98b1d3d3-d0ae-4887-b3fe-ea198ae636cd\")>,\n",
       " <selenium.webdriver.remote.webelement.WebElement (session=\"6fa9980b0c91c3c56e0e94fd63563fd6\", element=\"2bdc3d80-b38d-4e1e-88a2-45cf149748f3\")>,\n",
       " <selenium.webdriver.remote.webelement.WebElement (session=\"6fa9980b0c91c3c56e0e94fd63563fd6\", element=\"4ed8901a-d8df-46a6-b856-4d5440aa0c45\")>,\n",
       " <selenium.webdriver.remote.webelement.WebElement (session=\"6fa9980b0c91c3c56e0e94fd63563fd6\", element=\"13bd5c12-25df-40d1-8c10-07f345882a8f\")>,\n",
       " <selenium.webdriver.remote.webelement.WebElement (session=\"6fa9980b0c91c3c56e0e94fd63563fd6\", element=\"a401bf19-686c-48ca-af38-105b3363c074\")>,\n",
       " <selenium.webdriver.remote.webelement.WebElement (session=\"6fa9980b0c91c3c56e0e94fd63563fd6\", element=\"8387cde8-7699-4292-93d6-2772a4a27e47\")>,\n",
       " <selenium.webdriver.remote.webelement.WebElement (session=\"6fa9980b0c91c3c56e0e94fd63563fd6\", element=\"a554e57c-e87d-49a8-a4b1-969142ced0d7\")>,\n",
       " <selenium.webdriver.remote.webelement.WebElement (session=\"6fa9980b0c91c3c56e0e94fd63563fd6\", element=\"272af5bd-92c6-44b2-a191-809dc94d2e17\")>,\n",
       " <selenium.webdriver.remote.webelement.WebElement (session=\"6fa9980b0c91c3c56e0e94fd63563fd6\", element=\"04e1c03a-9cb7-4ae4-b7c2-21491e0244af\")>,\n",
       " <selenium.webdriver.remote.webelement.WebElement (session=\"6fa9980b0c91c3c56e0e94fd63563fd6\", element=\"28b52419-38cf-4cbf-92ca-b46e4893fc9f\")>,\n",
       " <selenium.webdriver.remote.webelement.WebElement (session=\"6fa9980b0c91c3c56e0e94fd63563fd6\", element=\"9c401978-c2b8-4be5-8bc2-72d2fa0e2be0\")>,\n",
       " <selenium.webdriver.remote.webelement.WebElement (session=\"6fa9980b0c91c3c56e0e94fd63563fd6\", element=\"e177ecba-cc1b-4c2c-ae93-42006526f409\")>,\n",
       " <selenium.webdriver.remote.webelement.WebElement (session=\"6fa9980b0c91c3c56e0e94fd63563fd6\", element=\"fbb95089-eb1f-42db-b3dd-a51bf338298c\")>]"
      ]
     },
     "execution_count": 180,
     "metadata": {},
     "output_type": "execute_result"
    }
   ],
   "source": [
    "# extracting tags having price\n",
    "price_tags = driver.find_elements_by_xpath(\"//div[@class='_30jeq3']\")\n",
    "price_tags"
   ]
  },
  {
   "cell_type": "code",
   "execution_count": 181,
   "metadata": {},
   "outputs": [
    {
     "data": {
      "text/plain": [
       "['₹1,189',\n",
       " '₹349',\n",
       " '₹849',\n",
       " '₹664',\n",
       " '₹251',\n",
       " '₹246',\n",
       " '₹426',\n",
       " '₹699',\n",
       " '₹189',\n",
       " '₹499',\n",
       " '₹252',\n",
       " '₹379',\n",
       " '₹379',\n",
       " '₹331',\n",
       " '₹217',\n",
       " '₹498',\n",
       " '₹949',\n",
       " '₹449',\n",
       " '₹331',\n",
       " '₹237',\n",
       " '₹197',\n",
       " '₹474',\n",
       " '₹352',\n",
       " '₹664',\n",
       " '₹252',\n",
       " '₹189',\n",
       " '₹679',\n",
       " '₹499',\n",
       " '₹224',\n",
       " '₹237',\n",
       " '₹639',\n",
       " '₹899',\n",
       " '₹212',\n",
       " '₹299',\n",
       " '₹319',\n",
       " '₹562',\n",
       " '₹474',\n",
       " '₹162',\n",
       " '₹987',\n",
       " '₹664']"
      ]
     },
     "execution_count": 181,
     "metadata": {},
     "output_type": "execute_result"
    }
   ],
   "source": [
    "prices = [] # creating empty list to store values\n",
    "for i in price_tags:   # running loop\n",
    "    prices.append(i.text)\n",
    "    \n",
    "prices"
   ]
  },
  {
   "cell_type": "code",
   "execution_count": 182,
   "metadata": {},
   "outputs": [],
   "source": [
    "#scrapping the required details\n",
    "\n",
    "start=0\n",
    "\n",
    "end=2\n",
    "\n",
    "for page in range(start,end):\n",
    "\n",
    "    prices=driver.find_elements_by_class_name('_30jeq3')\n",
    "\n",
    "    for i in prices:\n",
    "\n",
    "        price.append(i.text)"
   ]
  },
  {
   "cell_type": "code",
   "execution_count": 183,
   "metadata": {},
   "outputs": [
    {
     "data": {
      "text/plain": [
       "130"
      ]
     },
     "execution_count": 183,
     "metadata": {},
     "output_type": "execute_result"
    }
   ],
   "source": [
    "len(price)"
   ]
  },
  {
   "cell_type": "code",
   "execution_count": 187,
   "metadata": {},
   "outputs": [],
   "source": [
    "previous_page = driver.find_element_by_xpath(\"//a[@class='_1LKTO3']\")\n",
    "previous_page.click()"
   ]
  },
  {
   "cell_type": "code",
   "execution_count": 188,
   "metadata": {},
   "outputs": [
    {
     "data": {
      "text/plain": [
       "[<selenium.webdriver.remote.webelement.WebElement (session=\"6fa9980b0c91c3c56e0e94fd63563fd6\", element=\"fdb1190b-7933-4b73-9071-6f75533a22a6\")>,\n",
       " <selenium.webdriver.remote.webelement.WebElement (session=\"6fa9980b0c91c3c56e0e94fd63563fd6\", element=\"ea584edf-762e-4425-b293-18d57014041a\")>,\n",
       " <selenium.webdriver.remote.webelement.WebElement (session=\"6fa9980b0c91c3c56e0e94fd63563fd6\", element=\"e5f71b65-802a-407e-8448-aca2ff7b0f39\")>,\n",
       " <selenium.webdriver.remote.webelement.WebElement (session=\"6fa9980b0c91c3c56e0e94fd63563fd6\", element=\"f0fd6b4e-d09a-4894-b3e3-157c29fe6b5b\")>,\n",
       " <selenium.webdriver.remote.webelement.WebElement (session=\"6fa9980b0c91c3c56e0e94fd63563fd6\", element=\"dc4b0b83-c12a-44da-9e17-9b9d1c2a32a8\")>,\n",
       " <selenium.webdriver.remote.webelement.WebElement (session=\"6fa9980b0c91c3c56e0e94fd63563fd6\", element=\"f0849745-71f9-4848-8d04-94fdfee8ca7a\")>,\n",
       " <selenium.webdriver.remote.webelement.WebElement (session=\"6fa9980b0c91c3c56e0e94fd63563fd6\", element=\"61cac4ad-4fc9-445c-99a1-6ab8decdfdcb\")>,\n",
       " <selenium.webdriver.remote.webelement.WebElement (session=\"6fa9980b0c91c3c56e0e94fd63563fd6\", element=\"6115112b-122d-4c40-8cae-77ee0defcbff\")>,\n",
       " <selenium.webdriver.remote.webelement.WebElement (session=\"6fa9980b0c91c3c56e0e94fd63563fd6\", element=\"72d56d06-9a74-4a3f-8e97-924f07384899\")>,\n",
       " <selenium.webdriver.remote.webelement.WebElement (session=\"6fa9980b0c91c3c56e0e94fd63563fd6\", element=\"1bdf797b-d75e-4a4f-9b40-71dd054dacbd\")>,\n",
       " <selenium.webdriver.remote.webelement.WebElement (session=\"6fa9980b0c91c3c56e0e94fd63563fd6\", element=\"311c23ab-9b88-43cb-a34e-6aa64fc1b19a\")>,\n",
       " <selenium.webdriver.remote.webelement.WebElement (session=\"6fa9980b0c91c3c56e0e94fd63563fd6\", element=\"e455a9c6-d85b-45e6-b8b8-1ef8e32f1631\")>,\n",
       " <selenium.webdriver.remote.webelement.WebElement (session=\"6fa9980b0c91c3c56e0e94fd63563fd6\", element=\"493560da-4f02-4a11-9934-a801f1511b94\")>,\n",
       " <selenium.webdriver.remote.webelement.WebElement (session=\"6fa9980b0c91c3c56e0e94fd63563fd6\", element=\"6da6a60f-1a6a-4280-9901-c090edfa1e96\")>,\n",
       " <selenium.webdriver.remote.webelement.WebElement (session=\"6fa9980b0c91c3c56e0e94fd63563fd6\", element=\"9f6335bb-c195-4a39-a0ac-3a805b0da834\")>,\n",
       " <selenium.webdriver.remote.webelement.WebElement (session=\"6fa9980b0c91c3c56e0e94fd63563fd6\", element=\"578d996a-33e1-4228-bb01-4f312593051a\")>,\n",
       " <selenium.webdriver.remote.webelement.WebElement (session=\"6fa9980b0c91c3c56e0e94fd63563fd6\", element=\"53021062-4c8c-4392-ab14-a6199559e403\")>,\n",
       " <selenium.webdriver.remote.webelement.WebElement (session=\"6fa9980b0c91c3c56e0e94fd63563fd6\", element=\"ce33c1de-0457-4ce1-91b7-712d6ff97b4e\")>,\n",
       " <selenium.webdriver.remote.webelement.WebElement (session=\"6fa9980b0c91c3c56e0e94fd63563fd6\", element=\"e84ca0bb-df5c-4afa-9ec4-0fdfe3dff8fc\")>,\n",
       " <selenium.webdriver.remote.webelement.WebElement (session=\"6fa9980b0c91c3c56e0e94fd63563fd6\", element=\"713d35a9-d919-4bdb-b0fc-99d1f9c6afdf\")>,\n",
       " <selenium.webdriver.remote.webelement.WebElement (session=\"6fa9980b0c91c3c56e0e94fd63563fd6\", element=\"7a3b3171-a4bd-4447-89b9-1430bd00f384\")>,\n",
       " <selenium.webdriver.remote.webelement.WebElement (session=\"6fa9980b0c91c3c56e0e94fd63563fd6\", element=\"f1de963c-4da6-4c6f-bbce-103b92554baf\")>,\n",
       " <selenium.webdriver.remote.webelement.WebElement (session=\"6fa9980b0c91c3c56e0e94fd63563fd6\", element=\"0d1cb48d-a9df-4599-9e93-5cb4e3d3fb26\")>,\n",
       " <selenium.webdriver.remote.webelement.WebElement (session=\"6fa9980b0c91c3c56e0e94fd63563fd6\", element=\"3355b364-c327-4b9d-ab08-53d3424f8cbd\")>,\n",
       " <selenium.webdriver.remote.webelement.WebElement (session=\"6fa9980b0c91c3c56e0e94fd63563fd6\", element=\"fb15af3b-1ab7-4bd0-8f33-5a8a480f7ea7\")>,\n",
       " <selenium.webdriver.remote.webelement.WebElement (session=\"6fa9980b0c91c3c56e0e94fd63563fd6\", element=\"5c661e1b-026c-4124-9605-035475b23537\")>,\n",
       " <selenium.webdriver.remote.webelement.WebElement (session=\"6fa9980b0c91c3c56e0e94fd63563fd6\", element=\"4c8f04f3-d6f5-47ba-8e80-0f4d9c08529b\")>,\n",
       " <selenium.webdriver.remote.webelement.WebElement (session=\"6fa9980b0c91c3c56e0e94fd63563fd6\", element=\"6b4b4a35-1d50-4731-a9d4-3ae6c3363f5c\")>,\n",
       " <selenium.webdriver.remote.webelement.WebElement (session=\"6fa9980b0c91c3c56e0e94fd63563fd6\", element=\"bfb2afde-5d07-46b7-982e-c6ea22d84793\")>,\n",
       " <selenium.webdriver.remote.webelement.WebElement (session=\"6fa9980b0c91c3c56e0e94fd63563fd6\", element=\"bc4387f5-7ea2-4d1a-a8dc-3c634d869993\")>,\n",
       " <selenium.webdriver.remote.webelement.WebElement (session=\"6fa9980b0c91c3c56e0e94fd63563fd6\", element=\"53101c25-5a54-4e83-b974-997944de9ca5\")>,\n",
       " <selenium.webdriver.remote.webelement.WebElement (session=\"6fa9980b0c91c3c56e0e94fd63563fd6\", element=\"e15f301f-a976-4b59-9ff3-18d9b6edafb0\")>,\n",
       " <selenium.webdriver.remote.webelement.WebElement (session=\"6fa9980b0c91c3c56e0e94fd63563fd6\", element=\"10060dc1-5fe7-47ae-8c57-1c186bf19569\")>,\n",
       " <selenium.webdriver.remote.webelement.WebElement (session=\"6fa9980b0c91c3c56e0e94fd63563fd6\", element=\"c31c1e97-472d-4402-8ee9-ee7ce03d1abc\")>,\n",
       " <selenium.webdriver.remote.webelement.WebElement (session=\"6fa9980b0c91c3c56e0e94fd63563fd6\", element=\"709bb286-95f6-4f7e-a667-e80e2a279d4e\")>,\n",
       " <selenium.webdriver.remote.webelement.WebElement (session=\"6fa9980b0c91c3c56e0e94fd63563fd6\", element=\"a6ea5bce-4311-4521-92a1-5725d0079af1\")>,\n",
       " <selenium.webdriver.remote.webelement.WebElement (session=\"6fa9980b0c91c3c56e0e94fd63563fd6\", element=\"a1e373e4-b143-4582-b9f7-5d7f5e014894\")>,\n",
       " <selenium.webdriver.remote.webelement.WebElement (session=\"6fa9980b0c91c3c56e0e94fd63563fd6\", element=\"31c372b4-dc41-4135-93e5-c778a9cdc8f3\")>,\n",
       " <selenium.webdriver.remote.webelement.WebElement (session=\"6fa9980b0c91c3c56e0e94fd63563fd6\", element=\"250f2154-37b1-4214-a979-a9a1f095d10d\")>,\n",
       " <selenium.webdriver.remote.webelement.WebElement (session=\"6fa9980b0c91c3c56e0e94fd63563fd6\", element=\"7884f4d8-7df9-4b82-970a-f64f310becd1\")>]"
      ]
     },
     "execution_count": 188,
     "metadata": {},
     "output_type": "execute_result"
    }
   ],
   "source": [
    "# extracting web elements\n",
    "discount_tag = driver.find_elements_by_xpath(\"//div[@class='_3Ay6Sb']\")\n",
    "discount_tag"
   ]
  },
  {
   "cell_type": "code",
   "execution_count": 189,
   "metadata": {},
   "outputs": [
    {
     "data": {
      "text/plain": [
       "['66% off',\n",
       " '53% off',\n",
       " '24% off',\n",
       " '35% off',\n",
       " '88% off',\n",
       " '41% off',\n",
       " '85% off',\n",
       " '74% off',\n",
       " '27% off',\n",
       " '61% off',\n",
       " '86% off',\n",
       " '85% off',\n",
       " '78% off',\n",
       " '41% off',\n",
       " '28% off',\n",
       " '67% off',\n",
       " '34% off',\n",
       " '37% off',\n",
       " '80% off',\n",
       " '66% off',\n",
       " '88% off',\n",
       " '31% off',\n",
       " '22% off',\n",
       " '85% off',\n",
       " '77% off',\n",
       " '85% off',\n",
       " '79% off',\n",
       " '66% off',\n",
       " '30% off',\n",
       " '83% off',\n",
       " '79% off',\n",
       " '66% off',\n",
       " '40% off',\n",
       " '22% off',\n",
       " '24% off',\n",
       " '68% off',\n",
       " '72% off',\n",
       " '84% off',\n",
       " '76% off',\n",
       " '70% off']"
      ]
     },
     "execution_count": 189,
     "metadata": {},
     "output_type": "execute_result"
    }
   ],
   "source": [
    "discount = []\n",
    "for i in discount_tag:\n",
    "    discount.append(i.text)\n",
    "    \n",
    "discount"
   ]
  },
  {
   "cell_type": "code",
   "execution_count": 190,
   "metadata": {},
   "outputs": [
    {
     "data": {
      "text/plain": [
       "40"
      ]
     },
     "execution_count": 190,
     "metadata": {},
     "output_type": "execute_result"
    }
   ],
   "source": [
    "len(discount)"
   ]
  },
  {
   "cell_type": "code",
   "execution_count": 191,
   "metadata": {},
   "outputs": [],
   "source": [
    "next_page = driver.find_element_by_xpath(\"//a[@class='_1LKTO3']\")\n",
    "next_page.click()"
   ]
  },
  {
   "cell_type": "code",
   "execution_count": 192,
   "metadata": {},
   "outputs": [
    {
     "data": {
      "text/plain": [
       "[<selenium.webdriver.remote.webelement.WebElement (session=\"6fa9980b0c91c3c56e0e94fd63563fd6\", element=\"287511ec-4710-4ff7-8660-f98b67d50e05\")>,\n",
       " <selenium.webdriver.remote.webelement.WebElement (session=\"6fa9980b0c91c3c56e0e94fd63563fd6\", element=\"48ae67a6-103d-4d98-a905-b0c3e7a93bc6\")>,\n",
       " <selenium.webdriver.remote.webelement.WebElement (session=\"6fa9980b0c91c3c56e0e94fd63563fd6\", element=\"6c6e21e0-47ff-4341-b363-e795d64d63cb\")>,\n",
       " <selenium.webdriver.remote.webelement.WebElement (session=\"6fa9980b0c91c3c56e0e94fd63563fd6\", element=\"8fd7e5e0-f80d-4ad3-a213-de22df2d4089\")>,\n",
       " <selenium.webdriver.remote.webelement.WebElement (session=\"6fa9980b0c91c3c56e0e94fd63563fd6\", element=\"181a26ba-0e2b-4f01-9cbb-53901e2b1a54\")>,\n",
       " <selenium.webdriver.remote.webelement.WebElement (session=\"6fa9980b0c91c3c56e0e94fd63563fd6\", element=\"e4efc61a-32f9-4ea2-92b1-b804a09c2b0b\")>,\n",
       " <selenium.webdriver.remote.webelement.WebElement (session=\"6fa9980b0c91c3c56e0e94fd63563fd6\", element=\"57e43d30-fff7-4e11-9c81-9cd41fc8a652\")>,\n",
       " <selenium.webdriver.remote.webelement.WebElement (session=\"6fa9980b0c91c3c56e0e94fd63563fd6\", element=\"3f1adaf3-b224-4ab3-9285-e7a3fb0e157d\")>,\n",
       " <selenium.webdriver.remote.webelement.WebElement (session=\"6fa9980b0c91c3c56e0e94fd63563fd6\", element=\"722f071c-22ac-4dba-9fb8-528521334af8\")>,\n",
       " <selenium.webdriver.remote.webelement.WebElement (session=\"6fa9980b0c91c3c56e0e94fd63563fd6\", element=\"b286d8f0-8c55-4b10-a899-d78ce5d6cb2a\")>,\n",
       " <selenium.webdriver.remote.webelement.WebElement (session=\"6fa9980b0c91c3c56e0e94fd63563fd6\", element=\"2da6767d-5065-4ec9-ad5b-0839a9107f6a\")>,\n",
       " <selenium.webdriver.remote.webelement.WebElement (session=\"6fa9980b0c91c3c56e0e94fd63563fd6\", element=\"e21f3a56-92c8-4a16-a2cc-fd2f61aa028c\")>,\n",
       " <selenium.webdriver.remote.webelement.WebElement (session=\"6fa9980b0c91c3c56e0e94fd63563fd6\", element=\"760a6d9e-d08a-4537-b147-4e3934a46fd7\")>,\n",
       " <selenium.webdriver.remote.webelement.WebElement (session=\"6fa9980b0c91c3c56e0e94fd63563fd6\", element=\"af410503-644e-4765-be57-c15e29ab333f\")>,\n",
       " <selenium.webdriver.remote.webelement.WebElement (session=\"6fa9980b0c91c3c56e0e94fd63563fd6\", element=\"0169cd8a-87f9-48a6-b5af-29c3f2ce6701\")>,\n",
       " <selenium.webdriver.remote.webelement.WebElement (session=\"6fa9980b0c91c3c56e0e94fd63563fd6\", element=\"838d1d29-46e7-481e-ab03-b1519bfa4383\")>,\n",
       " <selenium.webdriver.remote.webelement.WebElement (session=\"6fa9980b0c91c3c56e0e94fd63563fd6\", element=\"58f888e3-878a-41dd-8fd2-d46a90244fbe\")>,\n",
       " <selenium.webdriver.remote.webelement.WebElement (session=\"6fa9980b0c91c3c56e0e94fd63563fd6\", element=\"875244d1-6ab8-4f3d-b266-1202deb8f0af\")>,\n",
       " <selenium.webdriver.remote.webelement.WebElement (session=\"6fa9980b0c91c3c56e0e94fd63563fd6\", element=\"69511cc8-a0b6-4191-8f25-f11a6c52e2d4\")>,\n",
       " <selenium.webdriver.remote.webelement.WebElement (session=\"6fa9980b0c91c3c56e0e94fd63563fd6\", element=\"97abc88a-d687-446c-8b25-5d27f184b183\")>,\n",
       " <selenium.webdriver.remote.webelement.WebElement (session=\"6fa9980b0c91c3c56e0e94fd63563fd6\", element=\"0c5c6f92-a0bd-473f-8c15-f9d21164bc08\")>,\n",
       " <selenium.webdriver.remote.webelement.WebElement (session=\"6fa9980b0c91c3c56e0e94fd63563fd6\", element=\"0f2fa18c-92b2-456c-954a-fd23273460ae\")>,\n",
       " <selenium.webdriver.remote.webelement.WebElement (session=\"6fa9980b0c91c3c56e0e94fd63563fd6\", element=\"a6df4e0e-d5e9-4a32-8f9e-79ffa1d0ad30\")>,\n",
       " <selenium.webdriver.remote.webelement.WebElement (session=\"6fa9980b0c91c3c56e0e94fd63563fd6\", element=\"5b12a10c-1e79-4139-825a-8389a9772bbd\")>,\n",
       " <selenium.webdriver.remote.webelement.WebElement (session=\"6fa9980b0c91c3c56e0e94fd63563fd6\", element=\"629f53e4-2365-4650-b3bf-0e20eed8c377\")>,\n",
       " <selenium.webdriver.remote.webelement.WebElement (session=\"6fa9980b0c91c3c56e0e94fd63563fd6\", element=\"761e1883-78d3-44f1-b995-d0706540ac09\")>,\n",
       " <selenium.webdriver.remote.webelement.WebElement (session=\"6fa9980b0c91c3c56e0e94fd63563fd6\", element=\"7a56c3e9-e7e6-4bf7-828d-a0da78ac4b6c\")>,\n",
       " <selenium.webdriver.remote.webelement.WebElement (session=\"6fa9980b0c91c3c56e0e94fd63563fd6\", element=\"ea12b76f-a192-4700-b0e0-c1c1f9866d8d\")>,\n",
       " <selenium.webdriver.remote.webelement.WebElement (session=\"6fa9980b0c91c3c56e0e94fd63563fd6\", element=\"74457841-7315-4d48-aad0-c88f7409b7b2\")>,\n",
       " <selenium.webdriver.remote.webelement.WebElement (session=\"6fa9980b0c91c3c56e0e94fd63563fd6\", element=\"c2fac849-2a2c-46c1-92e3-2da61eab8777\")>,\n",
       " <selenium.webdriver.remote.webelement.WebElement (session=\"6fa9980b0c91c3c56e0e94fd63563fd6\", element=\"1cab8cb8-ff1a-4ce1-a3c2-fafbe4a69fcf\")>,\n",
       " <selenium.webdriver.remote.webelement.WebElement (session=\"6fa9980b0c91c3c56e0e94fd63563fd6\", element=\"9ce84170-abbd-4095-9591-d350b59cd3e1\")>,\n",
       " <selenium.webdriver.remote.webelement.WebElement (session=\"6fa9980b0c91c3c56e0e94fd63563fd6\", element=\"130b3429-7c8f-4c0a-9bac-9b96889ef255\")>,\n",
       " <selenium.webdriver.remote.webelement.WebElement (session=\"6fa9980b0c91c3c56e0e94fd63563fd6\", element=\"75057722-a05e-4824-8e21-adfb80c77836\")>,\n",
       " <selenium.webdriver.remote.webelement.WebElement (session=\"6fa9980b0c91c3c56e0e94fd63563fd6\", element=\"b68237c1-1f7c-459d-9772-6cd5d1dc6c22\")>,\n",
       " <selenium.webdriver.remote.webelement.WebElement (session=\"6fa9980b0c91c3c56e0e94fd63563fd6\", element=\"4f790511-da9e-4fe7-a69c-58e2ed50a926\")>,\n",
       " <selenium.webdriver.remote.webelement.WebElement (session=\"6fa9980b0c91c3c56e0e94fd63563fd6\", element=\"d4d6f460-2b35-4a39-a3f0-68434747c5bc\")>,\n",
       " <selenium.webdriver.remote.webelement.WebElement (session=\"6fa9980b0c91c3c56e0e94fd63563fd6\", element=\"b2d8bed6-79cc-417d-9013-cf6118c27c86\")>,\n",
       " <selenium.webdriver.remote.webelement.WebElement (session=\"6fa9980b0c91c3c56e0e94fd63563fd6\", element=\"bf5f089b-dc76-44c9-825e-f781d81a0378\")>,\n",
       " <selenium.webdriver.remote.webelement.WebElement (session=\"6fa9980b0c91c3c56e0e94fd63563fd6\", element=\"b9ca2f32-c122-411d-b469-9a04fdeda221\")>]"
      ]
     },
     "execution_count": 192,
     "metadata": {},
     "output_type": "execute_result"
    }
   ],
   "source": [
    "discount_tags = driver.find_elements_by_xpath(\"//div[@class='_3Ay6Sb']\")\n",
    "discount_tags"
   ]
  },
  {
   "cell_type": "code",
   "execution_count": 193,
   "metadata": {},
   "outputs": [],
   "source": [
    "discounts = []\n",
    "for i in discount_tags:\n",
    "    discounts.append(i.text)"
   ]
  },
  {
   "cell_type": "code",
   "execution_count": 194,
   "metadata": {},
   "outputs": [
    {
     "data": {
      "text/plain": [
       "40"
      ]
     },
     "execution_count": 194,
     "metadata": {},
     "output_type": "execute_result"
    }
   ],
   "source": [
    "len(discounts)"
   ]
  },
  {
   "cell_type": "code",
   "execution_count": 195,
   "metadata": {},
   "outputs": [],
   "source": [
    "#scrapping the required details\n",
    "\n",
    "start=0\n",
    "\n",
    "end=2\n",
    "\n",
    "for page in range(start,end):\n",
    "\n",
    "    discounts=driver.find_elements_by_class_name('_3Ay6Sb')\n",
    "\n",
    "    for i in discounts:\n",
    "\n",
    "        discount.append(i.text)"
   ]
  },
  {
   "cell_type": "code",
   "execution_count": 196,
   "metadata": {},
   "outputs": [
    {
     "data": {
      "text/plain": [
       "130"
      ]
     },
     "execution_count": 196,
     "metadata": {},
     "output_type": "execute_result"
    }
   ],
   "source": [
    "len(discount)"
   ]
  },
  {
   "cell_type": "code",
   "execution_count": 198,
   "metadata": {},
   "outputs": [],
   "source": [
    "previous_page = driver.find_element_by_xpath(\"//a[@class='_1LKTO3']\")\n",
    "previous_page.click()"
   ]
  },
  {
   "cell_type": "code",
   "execution_count": 199,
   "metadata": {},
   "outputs": [
    {
     "data": {
      "text/plain": [
       "[<selenium.webdriver.remote.webelement.WebElement (session=\"6fa9980b0c91c3c56e0e94fd63563fd6\", element=\"b873ddc9-d39b-44f7-97d5-10063c41a592\")>,\n",
       " <selenium.webdriver.remote.webelement.WebElement (session=\"6fa9980b0c91c3c56e0e94fd63563fd6\", element=\"b47e0789-2828-4d1c-9d06-4a989578badb\")>,\n",
       " <selenium.webdriver.remote.webelement.WebElement (session=\"6fa9980b0c91c3c56e0e94fd63563fd6\", element=\"f34fd4fc-dca9-4c1f-bc10-d0d61f22ef70\")>,\n",
       " <selenium.webdriver.remote.webelement.WebElement (session=\"6fa9980b0c91c3c56e0e94fd63563fd6\", element=\"90068182-8c6e-41ef-91c7-12f1278528b2\")>,\n",
       " <selenium.webdriver.remote.webelement.WebElement (session=\"6fa9980b0c91c3c56e0e94fd63563fd6\", element=\"7a752a2d-2d85-4415-aab0-3c32ccb115fd\")>,\n",
       " <selenium.webdriver.remote.webelement.WebElement (session=\"6fa9980b0c91c3c56e0e94fd63563fd6\", element=\"373eb9d7-119b-4ea9-b70d-eade424e72dd\")>,\n",
       " <selenium.webdriver.remote.webelement.WebElement (session=\"6fa9980b0c91c3c56e0e94fd63563fd6\", element=\"bb7ae2ec-230e-4d99-91d2-9e7d8fb1329a\")>,\n",
       " <selenium.webdriver.remote.webelement.WebElement (session=\"6fa9980b0c91c3c56e0e94fd63563fd6\", element=\"e28bee99-1906-4f6d-bc5e-7105f2ba5fd7\")>,\n",
       " <selenium.webdriver.remote.webelement.WebElement (session=\"6fa9980b0c91c3c56e0e94fd63563fd6\", element=\"2d623458-1139-46f1-8749-7f39f11d4f8c\")>,\n",
       " <selenium.webdriver.remote.webelement.WebElement (session=\"6fa9980b0c91c3c56e0e94fd63563fd6\", element=\"4f8f7d7c-4b81-42a2-aa9c-81ec91511faf\")>,\n",
       " <selenium.webdriver.remote.webelement.WebElement (session=\"6fa9980b0c91c3c56e0e94fd63563fd6\", element=\"511bc274-e18e-4a3f-8196-c4ba50f9e361\")>,\n",
       " <selenium.webdriver.remote.webelement.WebElement (session=\"6fa9980b0c91c3c56e0e94fd63563fd6\", element=\"8e1ea996-3148-432a-9fef-3920fb752ff5\")>,\n",
       " <selenium.webdriver.remote.webelement.WebElement (session=\"6fa9980b0c91c3c56e0e94fd63563fd6\", element=\"597462a5-2643-473f-8bc0-e252a8eb9032\")>,\n",
       " <selenium.webdriver.remote.webelement.WebElement (session=\"6fa9980b0c91c3c56e0e94fd63563fd6\", element=\"2165c348-f103-48d8-b2c1-f6d487614bde\")>,\n",
       " <selenium.webdriver.remote.webelement.WebElement (session=\"6fa9980b0c91c3c56e0e94fd63563fd6\", element=\"717093d0-a651-4529-a5b4-672ccd869e2d\")>,\n",
       " <selenium.webdriver.remote.webelement.WebElement (session=\"6fa9980b0c91c3c56e0e94fd63563fd6\", element=\"9d4a17d5-6221-464a-96c4-fbd441cd17c5\")>,\n",
       " <selenium.webdriver.remote.webelement.WebElement (session=\"6fa9980b0c91c3c56e0e94fd63563fd6\", element=\"c125ffe5-a6d3-4705-bb12-b4e2ef563088\")>,\n",
       " <selenium.webdriver.remote.webelement.WebElement (session=\"6fa9980b0c91c3c56e0e94fd63563fd6\", element=\"93fe630f-f376-4bf9-8437-aff9ef177729\")>,\n",
       " <selenium.webdriver.remote.webelement.WebElement (session=\"6fa9980b0c91c3c56e0e94fd63563fd6\", element=\"3b4360fb-bbf3-4d9d-978c-125522d84750\")>,\n",
       " <selenium.webdriver.remote.webelement.WebElement (session=\"6fa9980b0c91c3c56e0e94fd63563fd6\", element=\"359074ca-562f-4389-a805-7b4a6aba1d77\")>,\n",
       " <selenium.webdriver.remote.webelement.WebElement (session=\"6fa9980b0c91c3c56e0e94fd63563fd6\", element=\"f2eed563-1c18-41f5-a5ec-4d87a3027a65\")>,\n",
       " <selenium.webdriver.remote.webelement.WebElement (session=\"6fa9980b0c91c3c56e0e94fd63563fd6\", element=\"f1264801-d7b5-47ad-a8e2-1bfb6ed8a7a8\")>,\n",
       " <selenium.webdriver.remote.webelement.WebElement (session=\"6fa9980b0c91c3c56e0e94fd63563fd6\", element=\"815b7c28-e94b-46fc-9f47-ac3db88f027d\")>,\n",
       " <selenium.webdriver.remote.webelement.WebElement (session=\"6fa9980b0c91c3c56e0e94fd63563fd6\", element=\"2885d566-fd40-4a0d-ae91-0f737bdb924b\")>,\n",
       " <selenium.webdriver.remote.webelement.WebElement (session=\"6fa9980b0c91c3c56e0e94fd63563fd6\", element=\"469e6f22-f10a-4798-86b7-a79856bad4f5\")>,\n",
       " <selenium.webdriver.remote.webelement.WebElement (session=\"6fa9980b0c91c3c56e0e94fd63563fd6\", element=\"483118e7-95a6-4063-89fb-124033e12ee3\")>,\n",
       " <selenium.webdriver.remote.webelement.WebElement (session=\"6fa9980b0c91c3c56e0e94fd63563fd6\", element=\"5a3e050f-02ab-4f9e-a13d-f67be2a93ee3\")>,\n",
       " <selenium.webdriver.remote.webelement.WebElement (session=\"6fa9980b0c91c3c56e0e94fd63563fd6\", element=\"470a69b0-53c1-4874-9792-69a60643b566\")>,\n",
       " <selenium.webdriver.remote.webelement.WebElement (session=\"6fa9980b0c91c3c56e0e94fd63563fd6\", element=\"cb6e446e-351e-4099-b55c-84662e22a162\")>,\n",
       " <selenium.webdriver.remote.webelement.WebElement (session=\"6fa9980b0c91c3c56e0e94fd63563fd6\", element=\"2358eaee-3a40-4367-9ac0-f848a461cec9\")>,\n",
       " <selenium.webdriver.remote.webelement.WebElement (session=\"6fa9980b0c91c3c56e0e94fd63563fd6\", element=\"e46bd25f-2380-403a-8959-233837e00357\")>,\n",
       " <selenium.webdriver.remote.webelement.WebElement (session=\"6fa9980b0c91c3c56e0e94fd63563fd6\", element=\"87ef641f-747f-4d79-beb9-6cf79a3f2b2e\")>,\n",
       " <selenium.webdriver.remote.webelement.WebElement (session=\"6fa9980b0c91c3c56e0e94fd63563fd6\", element=\"6f9e4b8a-aadf-42ef-80ab-6acdb9243b45\")>,\n",
       " <selenium.webdriver.remote.webelement.WebElement (session=\"6fa9980b0c91c3c56e0e94fd63563fd6\", element=\"6503002b-a04f-4040-a36e-d24d02d820d5\")>,\n",
       " <selenium.webdriver.remote.webelement.WebElement (session=\"6fa9980b0c91c3c56e0e94fd63563fd6\", element=\"2b7dfe5b-cb49-499a-89ac-1f520edb6c10\")>,\n",
       " <selenium.webdriver.remote.webelement.WebElement (session=\"6fa9980b0c91c3c56e0e94fd63563fd6\", element=\"77031e77-8dcf-475d-9faa-00674cea2dbd\")>,\n",
       " <selenium.webdriver.remote.webelement.WebElement (session=\"6fa9980b0c91c3c56e0e94fd63563fd6\", element=\"ff03784f-3c3c-4609-85df-b0bcae0a8aa8\")>,\n",
       " <selenium.webdriver.remote.webelement.WebElement (session=\"6fa9980b0c91c3c56e0e94fd63563fd6\", element=\"259a219e-4824-445b-97dc-160fbcc19b64\")>,\n",
       " <selenium.webdriver.remote.webelement.WebElement (session=\"6fa9980b0c91c3c56e0e94fd63563fd6\", element=\"530299e6-25e8-4b8e-b088-19bde02f05c7\")>,\n",
       " <selenium.webdriver.remote.webelement.WebElement (session=\"6fa9980b0c91c3c56e0e94fd63563fd6\", element=\"2dbbd8b1-45a7-4a6f-a7d0-dee42f918c6a\")>]"
      ]
     },
     "execution_count": 199,
     "metadata": {},
     "output_type": "execute_result"
    }
   ],
   "source": [
    "# extracting web elements\n",
    "description_tag = driver.find_elements_by_xpath(\"//a[@class='IRpwTa']\")\n",
    "description_tag"
   ]
  },
  {
   "cell_type": "code",
   "execution_count": 200,
   "metadata": {},
   "outputs": [
    {
     "data": {
      "text/plain": [
       "['Polarized, UV Protection Round Sunglasses (49)',\n",
       " 'UV Protection Retro Square Sunglasses (88)',\n",
       " 'UV Protection Wayfarer Sunglasses (Free Size)',\n",
       " 'UV Protection Rectangular Sunglasses (Free Size)',\n",
       " 'Mirrored, UV Protection Wayfarer Sunglasses (Free Size)',\n",
       " 'UV Protection, Polarized Wayfarer Sunglasses (56)',\n",
       " 'UV Protection Aviator Sunglasses (54)',\n",
       " 'UV Protection Over-sized Sunglasses (65)',\n",
       " 'UV Protection Wayfarer Sunglasses (56)',\n",
       " 'Gradient Rectangular Sunglasses (56)',\n",
       " 'UV Protection Round Sunglasses (53)',\n",
       " 'Mirrored Aviator Sunglasses (55)',\n",
       " 'UV Protection Round Sunglasses (Free Size)',\n",
       " 'UV Protection Wrap-around Sunglasses (Free Size)',\n",
       " 'UV Protection Wayfarer Sunglasses (Free Size)',\n",
       " 'UV Protection Wayfarer Sunglasses (32)',\n",
       " 'UV Protection Aviator Sunglasses (Free Size)',\n",
       " 'UV Protection Wayfarer Sunglasses (Free Size)',\n",
       " 'UV Protection Retro Square Sunglasses (Free Size)',\n",
       " 'UV Protection, Gradient Butterfly, Retro Square Sunglas...',\n",
       " 'Mirrored, UV Protection Wayfarer Sunglasses (Free Size)',\n",
       " 'UV Protection Aviator Sunglasses (61)',\n",
       " 'UV Protection Aviator Sunglasses (58)',\n",
       " 'Others Wayfarer Sunglasses (Free Size)',\n",
       " 'UV Protection Retro Square Sunglasses (Free Size)',\n",
       " 'UV Protection Aviator Sunglasses (57)',\n",
       " 'UV Protection Round Sunglasses (54)',\n",
       " 'UV Protection Rectangular Sunglasses (Free Size)',\n",
       " 'Gradient, UV Protection Wayfarer Sunglasses (Free Size)',\n",
       " 'UV Protection Aviator, Wayfarer Sunglasses (Free Size)',\n",
       " 'UV Protection Aviator Sunglasses (Free Size)',\n",
       " 'UV Protection Aviator Sunglasses (54)',\n",
       " 'Gradient Aviator Sunglasses (Free Size)',\n",
       " 'UV Protection Aviator Sunglasses (58)',\n",
       " 'UV Protection Aviator Sunglasses (58)',\n",
       " 'Polarized, UV Protection Round Sunglasses (53)',\n",
       " 'UV Protection Aviator Sunglasses (58)',\n",
       " 'UV Protection Sports Sunglasses (Free Size)',\n",
       " 'UV Protection Rectangular Sunglasses (55)',\n",
       " 'Polarized, UV Protection Retro Square Sunglasses (53)']"
      ]
     },
     "execution_count": 200,
     "metadata": {},
     "output_type": "execute_result"
    }
   ],
   "source": [
    "description = []\n",
    "for i in description_tag:\n",
    "    description.append(i.text)\n",
    "    \n",
    "description"
   ]
  },
  {
   "cell_type": "code",
   "execution_count": 201,
   "metadata": {},
   "outputs": [],
   "source": [
    "next_page = driver.find_element_by_xpath(\"//a[@class='ge-49M']\")\n",
    "next_page.click()"
   ]
  },
  {
   "cell_type": "code",
   "execution_count": 202,
   "metadata": {},
   "outputs": [
    {
     "data": {
      "text/plain": [
       "[<selenium.webdriver.remote.webelement.WebElement (session=\"6fa9980b0c91c3c56e0e94fd63563fd6\", element=\"edd5edb7-81e2-4262-8c24-ff2403ed17b4\")>,\n",
       " <selenium.webdriver.remote.webelement.WebElement (session=\"6fa9980b0c91c3c56e0e94fd63563fd6\", element=\"7f8130b3-d7dd-4277-af76-cc786a3785e6\")>,\n",
       " <selenium.webdriver.remote.webelement.WebElement (session=\"6fa9980b0c91c3c56e0e94fd63563fd6\", element=\"026c0789-151c-4c2d-85d5-94c9a5ea96a9\")>,\n",
       " <selenium.webdriver.remote.webelement.WebElement (session=\"6fa9980b0c91c3c56e0e94fd63563fd6\", element=\"603b932f-a036-407d-ae81-2a4f633f6cbe\")>,\n",
       " <selenium.webdriver.remote.webelement.WebElement (session=\"6fa9980b0c91c3c56e0e94fd63563fd6\", element=\"d14404ab-9d9f-4fa1-9d57-756bc754e37f\")>,\n",
       " <selenium.webdriver.remote.webelement.WebElement (session=\"6fa9980b0c91c3c56e0e94fd63563fd6\", element=\"2d6b99b4-8c8b-48e2-813e-0ff1cefb224d\")>,\n",
       " <selenium.webdriver.remote.webelement.WebElement (session=\"6fa9980b0c91c3c56e0e94fd63563fd6\", element=\"19b6d5b8-c026-43c2-86c5-bf17aca0a9a8\")>,\n",
       " <selenium.webdriver.remote.webelement.WebElement (session=\"6fa9980b0c91c3c56e0e94fd63563fd6\", element=\"3d3a5437-8d8e-4567-b35a-d34800834572\")>,\n",
       " <selenium.webdriver.remote.webelement.WebElement (session=\"6fa9980b0c91c3c56e0e94fd63563fd6\", element=\"b08d33b3-b0e6-4837-bfd1-0e483e91614c\")>,\n",
       " <selenium.webdriver.remote.webelement.WebElement (session=\"6fa9980b0c91c3c56e0e94fd63563fd6\", element=\"a5037dd0-dc32-4421-ae29-2e39bbe86949\")>,\n",
       " <selenium.webdriver.remote.webelement.WebElement (session=\"6fa9980b0c91c3c56e0e94fd63563fd6\", element=\"3bf7d061-02da-4971-b7fe-b9ead0a9f9be\")>,\n",
       " <selenium.webdriver.remote.webelement.WebElement (session=\"6fa9980b0c91c3c56e0e94fd63563fd6\", element=\"cc33bf81-8997-46e6-b7d3-8e8d19eb11a5\")>,\n",
       " <selenium.webdriver.remote.webelement.WebElement (session=\"6fa9980b0c91c3c56e0e94fd63563fd6\", element=\"92c87293-89f6-4191-8b56-15d6c26c94be\")>,\n",
       " <selenium.webdriver.remote.webelement.WebElement (session=\"6fa9980b0c91c3c56e0e94fd63563fd6\", element=\"dfd3d962-bc3f-4b02-9328-43d0e3067dc8\")>,\n",
       " <selenium.webdriver.remote.webelement.WebElement (session=\"6fa9980b0c91c3c56e0e94fd63563fd6\", element=\"87510636-cf5e-43d2-8552-ec12f628269c\")>,\n",
       " <selenium.webdriver.remote.webelement.WebElement (session=\"6fa9980b0c91c3c56e0e94fd63563fd6\", element=\"4cfb79a2-8fcb-4cc5-953d-470f1a4da991\")>,\n",
       " <selenium.webdriver.remote.webelement.WebElement (session=\"6fa9980b0c91c3c56e0e94fd63563fd6\", element=\"c49e0203-b48a-4c81-9c32-ef4a46d8caa9\")>,\n",
       " <selenium.webdriver.remote.webelement.WebElement (session=\"6fa9980b0c91c3c56e0e94fd63563fd6\", element=\"3974631b-c324-4dc1-9127-fad8f4c5481a\")>,\n",
       " <selenium.webdriver.remote.webelement.WebElement (session=\"6fa9980b0c91c3c56e0e94fd63563fd6\", element=\"35c72eb3-c915-46c9-ad1f-cb117121a941\")>,\n",
       " <selenium.webdriver.remote.webelement.WebElement (session=\"6fa9980b0c91c3c56e0e94fd63563fd6\", element=\"f6ec15b0-529b-4516-a85c-43771865a597\")>,\n",
       " <selenium.webdriver.remote.webelement.WebElement (session=\"6fa9980b0c91c3c56e0e94fd63563fd6\", element=\"1db45017-42e0-481b-b6cd-7729d6b184b9\")>,\n",
       " <selenium.webdriver.remote.webelement.WebElement (session=\"6fa9980b0c91c3c56e0e94fd63563fd6\", element=\"1b2f0692-501b-4aca-86e2-d41e59cc0095\")>,\n",
       " <selenium.webdriver.remote.webelement.WebElement (session=\"6fa9980b0c91c3c56e0e94fd63563fd6\", element=\"bdc5f545-527e-4a0c-8854-03d5a6228973\")>,\n",
       " <selenium.webdriver.remote.webelement.WebElement (session=\"6fa9980b0c91c3c56e0e94fd63563fd6\", element=\"51e0e62f-9e9f-4135-a72c-1ab6f8c73441\")>,\n",
       " <selenium.webdriver.remote.webelement.WebElement (session=\"6fa9980b0c91c3c56e0e94fd63563fd6\", element=\"32dcdf1e-69e4-470c-8387-e17bac707124\")>,\n",
       " <selenium.webdriver.remote.webelement.WebElement (session=\"6fa9980b0c91c3c56e0e94fd63563fd6\", element=\"cacba67c-9486-4f66-bed7-8e940d80de1b\")>,\n",
       " <selenium.webdriver.remote.webelement.WebElement (session=\"6fa9980b0c91c3c56e0e94fd63563fd6\", element=\"9e491e1f-e501-493e-8a57-11080d928023\")>,\n",
       " <selenium.webdriver.remote.webelement.WebElement (session=\"6fa9980b0c91c3c56e0e94fd63563fd6\", element=\"5c42ae3f-be7a-4c70-b041-ac2909ab482a\")>,\n",
       " <selenium.webdriver.remote.webelement.WebElement (session=\"6fa9980b0c91c3c56e0e94fd63563fd6\", element=\"67ec48aa-1f53-4ed5-b22e-37d0d8282d2d\")>,\n",
       " <selenium.webdriver.remote.webelement.WebElement (session=\"6fa9980b0c91c3c56e0e94fd63563fd6\", element=\"8c032c15-12f9-4fd6-a058-982d6145fdbb\")>,\n",
       " <selenium.webdriver.remote.webelement.WebElement (session=\"6fa9980b0c91c3c56e0e94fd63563fd6\", element=\"185ae57c-f1ed-44d2-9cb7-6a9bee32e723\")>,\n",
       " <selenium.webdriver.remote.webelement.WebElement (session=\"6fa9980b0c91c3c56e0e94fd63563fd6\", element=\"8e532d1f-e15f-484c-9ea7-9aa7f7bc0468\")>,\n",
       " <selenium.webdriver.remote.webelement.WebElement (session=\"6fa9980b0c91c3c56e0e94fd63563fd6\", element=\"dd5566d5-f51f-4f28-90cc-76e6444b76a7\")>,\n",
       " <selenium.webdriver.remote.webelement.WebElement (session=\"6fa9980b0c91c3c56e0e94fd63563fd6\", element=\"132deb9a-9b4a-44f4-ac65-7301eca3ad50\")>,\n",
       " <selenium.webdriver.remote.webelement.WebElement (session=\"6fa9980b0c91c3c56e0e94fd63563fd6\", element=\"a1d992c5-9a51-4d3f-9936-5cabdd53559b\")>,\n",
       " <selenium.webdriver.remote.webelement.WebElement (session=\"6fa9980b0c91c3c56e0e94fd63563fd6\", element=\"76270892-e122-41c2-9363-740b5e566dcb\")>,\n",
       " <selenium.webdriver.remote.webelement.WebElement (session=\"6fa9980b0c91c3c56e0e94fd63563fd6\", element=\"45d01118-8265-46ca-8a1f-fd73ab1f6d30\")>,\n",
       " <selenium.webdriver.remote.webelement.WebElement (session=\"6fa9980b0c91c3c56e0e94fd63563fd6\", element=\"ae09969e-83f7-47a9-9cb8-4a8b9622572e\")>,\n",
       " <selenium.webdriver.remote.webelement.WebElement (session=\"6fa9980b0c91c3c56e0e94fd63563fd6\", element=\"3d9fd24d-30f8-4e12-b039-6017518ee940\")>,\n",
       " <selenium.webdriver.remote.webelement.WebElement (session=\"6fa9980b0c91c3c56e0e94fd63563fd6\", element=\"4687ffc2-8c0a-4b5c-af01-7079d0935d87\")>]"
      ]
     },
     "execution_count": 202,
     "metadata": {},
     "output_type": "execute_result"
    }
   ],
   "source": [
    "description_tags = driver.find_elements_by_xpath(\"//a[@class='IRpwTa']\")\n",
    "description_tags"
   ]
  },
  {
   "cell_type": "code",
   "execution_count": 203,
   "metadata": {},
   "outputs": [
    {
     "data": {
      "text/plain": [
       "['Polarized Rectangular Sunglasses (55)',\n",
       " 'UV Protection Rectangular Sunglasses (Free Size)',\n",
       " 'UV Protection, Gradient Rectangular Sunglasses (Free Si...',\n",
       " 'Night Vision Aviator Sunglasses (59)',\n",
       " 'UV Protection Wayfarer Sunglasses (Free Size)',\n",
       " 'UV Protection Wayfarer Sunglasses (55)',\n",
       " 'UV Protection Retro Square Sunglasses (Free Size)',\n",
       " 'Polarized, UV Protection Rectangular Sunglasses (59)',\n",
       " 'Mirrored, Riding Glasses, Others Sports Sunglasses (50)',\n",
       " 'UV Protection Round Sunglasses (Free Size)',\n",
       " 'UV Protection, Riding Glasses Rectangular Sunglasses (F...',\n",
       " 'UV Protection Retro Square Sunglasses (60)',\n",
       " 'UV Protection Aviator Sunglasses (58)',\n",
       " 'UV Protection, Mirrored Retro Square Sunglasses (53)',\n",
       " 'UV Protection, Others Aviator Sunglasses (32)',\n",
       " 'Polarized, UV Protection Aviator Sunglasses (58)',\n",
       " 'Mirrored, UV Protection, Gradient Round Sunglasses (55)',\n",
       " 'UV Protection, Gradient Rectangular Sunglasses (Free Si...',\n",
       " 'UV Protection, Gradient Round Sunglasses (Free Size)',\n",
       " 'UV Protection Over-sized Sunglasses (60)',\n",
       " 'UV Protection, Polarized, Riding Glasses Oval Sunglasse...',\n",
       " 'UV Protection, Gradient Wayfarer Sunglasses (55)',\n",
       " 'UV Protection Aviator Sunglasses (Free Size)',\n",
       " 'UV Protection Wayfarer Sunglasses (Free Size)',\n",
       " 'UV Protection, Mirrored Wayfarer Sunglasses (53)',\n",
       " 'UV Protection Wrap-around Sunglasses (Free Size)',\n",
       " 'Mirrored, Gradient, Riding Glasses Round Sunglasses (55...',\n",
       " 'UV Protection Aviator Sunglasses (Free Size)',\n",
       " 'Mirrored Aviator Sunglasses (53)',\n",
       " 'UV Protection Rectangular Sunglasses (59)',\n",
       " 'UV Protection Clubmaster Sunglasses (Free Size)',\n",
       " 'Polarized, UV Protection, Mirrored Aviator Sunglasses (...',\n",
       " 'UV Protection Rectangular Sunglasses (58)',\n",
       " 'UV Protection, Gradient, Mirrored, Riding Glasses Recta...',\n",
       " 'UV Protection Wayfarer Sunglasses (Free Size)',\n",
       " 'Others Retro Square Sunglasses (Free Size)',\n",
       " 'UV Protection Round Sunglasses (Free Size)',\n",
       " 'UV Protection Wrap-around Sunglasses (Free Size)',\n",
       " 'UV Protection Aviator Sunglasses (54)',\n",
       " 'UV Protection Oval Sunglasses (63)']"
      ]
     },
     "execution_count": 203,
     "metadata": {},
     "output_type": "execute_result"
    }
   ],
   "source": [
    "descriptions = []\n",
    "for i in description_tags:\n",
    "    descriptions.append(i.text)\n",
    "    \n",
    "descriptions"
   ]
  },
  {
   "cell_type": "code",
   "execution_count": 204,
   "metadata": {},
   "outputs": [],
   "source": [
    "#scrapping the required details\n",
    "\n",
    "start=0\n",
    "\n",
    "end=2\n",
    "\n",
    "for page in range(start,end):\n",
    "\n",
    "    descriptions=driver.find_elements_by_class_name('IRpwTa')\n",
    "\n",
    "    for i in descriptions:\n",
    "\n",
    "        description.append(i.text)"
   ]
  },
  {
   "cell_type": "code",
   "execution_count": 205,
   "metadata": {},
   "outputs": [
    {
     "data": {
      "text/plain": [
       "120"
      ]
     },
     "execution_count": 205,
     "metadata": {},
     "output_type": "execute_result"
    }
   ],
   "source": [
    "len(description)"
   ]
  },
  {
   "cell_type": "code",
   "execution_count": 206,
   "metadata": {},
   "outputs": [],
   "source": [
    "flipkart=pd.DataFrame({})            # making dataframe\n",
    "flipkart['Brand']=brand[:100]\n",
    "flipkart['Product Description']=description[:100]\n",
    "flipkart['Price']=price[:100]\n",
    "flipkart['Discount%']=discount[:100]"
   ]
  },
  {
   "cell_type": "code",
   "execution_count": 207,
   "metadata": {},
   "outputs": [
    {
     "data": {
      "text/html": [
       "<div>\n",
       "<style scoped>\n",
       "    .dataframe tbody tr th:only-of-type {\n",
       "        vertical-align: middle;\n",
       "    }\n",
       "\n",
       "    .dataframe tbody tr th {\n",
       "        vertical-align: top;\n",
       "    }\n",
       "\n",
       "    .dataframe thead th {\n",
       "        text-align: right;\n",
       "    }\n",
       "</style>\n",
       "<table border=\"1\" class=\"dataframe\">\n",
       "  <thead>\n",
       "    <tr style=\"text-align: right;\">\n",
       "      <th></th>\n",
       "      <th>Brand</th>\n",
       "      <th>Product Description</th>\n",
       "      <th>Price</th>\n",
       "      <th>Discount%</th>\n",
       "    </tr>\n",
       "  </thead>\n",
       "  <tbody>\n",
       "    <tr>\n",
       "      <th>0</th>\n",
       "      <td>ROYAL SON</td>\n",
       "      <td>Polarized, UV Protection Round Sunglasses (49)</td>\n",
       "      <td>₹599</td>\n",
       "      <td>66% off</td>\n",
       "    </tr>\n",
       "    <tr>\n",
       "      <th>1</th>\n",
       "      <td>VINCENT CHASE</td>\n",
       "      <td>UV Protection Retro Square Sunglasses (88)</td>\n",
       "      <td>₹1,344</td>\n",
       "      <td>53% off</td>\n",
       "    </tr>\n",
       "    <tr>\n",
       "      <th>2</th>\n",
       "      <td>Fastrack</td>\n",
       "      <td>UV Protection Wayfarer Sunglasses (Free Size)</td>\n",
       "      <td>₹299</td>\n",
       "      <td>24% off</td>\n",
       "    </tr>\n",
       "    <tr>\n",
       "      <th>3</th>\n",
       "      <td>Fastrack</td>\n",
       "      <td>UV Protection Rectangular Sunglasses (Free Size)</td>\n",
       "      <td>₹682</td>\n",
       "      <td>35% off</td>\n",
       "    </tr>\n",
       "    <tr>\n",
       "      <th>4</th>\n",
       "      <td>kingsunglasses</td>\n",
       "      <td>Mirrored, UV Protection Wayfarer Sunglasses (F...</td>\n",
       "      <td>₹513</td>\n",
       "      <td>88% off</td>\n",
       "    </tr>\n",
       "    <tr>\n",
       "      <th>...</th>\n",
       "      <td>...</td>\n",
       "      <td>...</td>\n",
       "      <td>...</td>\n",
       "      <td>...</td>\n",
       "    </tr>\n",
       "    <tr>\n",
       "      <th>95</th>\n",
       "      <td>VINCENT CHASE</td>\n",
       "      <td>Polarized, UV Protection Aviator Sunglasses (58)</td>\n",
       "      <td>₹252</td>\n",
       "      <td>80% off</td>\n",
       "    </tr>\n",
       "    <tr>\n",
       "      <th>96</th>\n",
       "      <td>Fastrack</td>\n",
       "      <td>Mirrored, UV Protection, Gradient Round Sungla...</td>\n",
       "      <td>₹379</td>\n",
       "      <td>65% off</td>\n",
       "    </tr>\n",
       "    <tr>\n",
       "      <th>97</th>\n",
       "      <td>Fastrack</td>\n",
       "      <td>UV Protection, Gradient Rectangular Sunglasses...</td>\n",
       "      <td>₹379</td>\n",
       "      <td>87% off</td>\n",
       "    </tr>\n",
       "    <tr>\n",
       "      <th>98</th>\n",
       "      <td>kingsunglasses</td>\n",
       "      <td>UV Protection, Gradient Round Sunglasses (Free...</td>\n",
       "      <td>₹331</td>\n",
       "      <td>81% off</td>\n",
       "    </tr>\n",
       "    <tr>\n",
       "      <th>99</th>\n",
       "      <td>Villain</td>\n",
       "      <td>UV Protection Over-sized Sunglasses (60)</td>\n",
       "      <td>₹217</td>\n",
       "      <td>83% off</td>\n",
       "    </tr>\n",
       "  </tbody>\n",
       "</table>\n",
       "<p>100 rows × 4 columns</p>\n",
       "</div>"
      ],
      "text/plain": [
       "             Brand                                Product Description   Price  \\\n",
       "0        ROYAL SON     Polarized, UV Protection Round Sunglasses (49)    ₹599   \n",
       "1    VINCENT CHASE         UV Protection Retro Square Sunglasses (88)  ₹1,344   \n",
       "2         Fastrack      UV Protection Wayfarer Sunglasses (Free Size)    ₹299   \n",
       "3         Fastrack   UV Protection Rectangular Sunglasses (Free Size)    ₹682   \n",
       "4   kingsunglasses  Mirrored, UV Protection Wayfarer Sunglasses (F...    ₹513   \n",
       "..             ...                                                ...     ...   \n",
       "95   VINCENT CHASE   Polarized, UV Protection Aviator Sunglasses (58)    ₹252   \n",
       "96        Fastrack  Mirrored, UV Protection, Gradient Round Sungla...    ₹379   \n",
       "97        Fastrack  UV Protection, Gradient Rectangular Sunglasses...    ₹379   \n",
       "98  kingsunglasses  UV Protection, Gradient Round Sunglasses (Free...    ₹331   \n",
       "99         Villain           UV Protection Over-sized Sunglasses (60)    ₹217   \n",
       "\n",
       "   Discount%  \n",
       "0    66% off  \n",
       "1    53% off  \n",
       "2    24% off  \n",
       "3    35% off  \n",
       "4    88% off  \n",
       "..       ...  \n",
       "95   80% off  \n",
       "96   65% off  \n",
       "97   87% off  \n",
       "98   81% off  \n",
       "99   83% off  \n",
       "\n",
       "[100 rows x 4 columns]"
      ]
     },
     "execution_count": 207,
     "metadata": {},
     "output_type": "execute_result"
    }
   ],
   "source": [
    "flipkart"
   ]
  },
  {
   "cell_type": "code",
   "execution_count": 10,
   "metadata": {},
   "outputs": [],
   "source": [
    "driver.close()"
   ]
  },
  {
   "cell_type": "code",
   "execution_count": null,
   "metadata": {},
   "outputs": [],
   "source": []
  },
  {
   "cell_type": "markdown",
   "metadata": {},
   "source": [
    "# Q-7 ) Scrape 100 reviews data from flipkart.com for iphone11 phone."
   ]
  },
  {
   "cell_type": "code",
   "execution_count": 11,
   "metadata": {},
   "outputs": [],
   "source": [
    "# connecting to webdriver\n",
    "driver = webdriver.Chrome(r\"C:\\Users\\Nitish\\Downloads\\Compressed\\chromedriver.exe\")"
   ]
  },
  {
   "cell_type": "code",
   "execution_count": 12,
   "metadata": {},
   "outputs": [],
   "source": [
    "# send get request to the webpage server to get the source code of the page\n",
    "url = 'https://www.flipkart.com/apple-iphone-11-black-64-gb-includesearpods-poweradapter/p/itm0f37c2240b217?pid=MOBFKCTSVZAXUHGR&lid=LSTMOBFKCTSVZAXUHGREPBFGI&marketplace.'\n",
    "driver.get(url) "
   ]
  },
  {
   "cell_type": "code",
   "execution_count": 13,
   "metadata": {},
   "outputs": [],
   "source": [
    "allreviews_filter = driver.find_element_by_xpath(\"//div[@class='_3UAT2v _16PBlm']\")\n",
    "allreviews_filter.click()"
   ]
  },
  {
   "cell_type": "code",
   "execution_count": 14,
   "metadata": {},
   "outputs": [
    {
     "data": {
      "text/plain": [
       "[<selenium.webdriver.remote.webelement.WebElement (session=\"b41385af44f19bfe98f6fa28b8f59d17\", element=\"2dd658ca-7efc-4140-ad15-921c7f250f7b\")>,\n",
       " <selenium.webdriver.remote.webelement.WebElement (session=\"b41385af44f19bfe98f6fa28b8f59d17\", element=\"6c6ca03f-b4d5-4bf4-9379-4e2a36f69edd\")>,\n",
       " <selenium.webdriver.remote.webelement.WebElement (session=\"b41385af44f19bfe98f6fa28b8f59d17\", element=\"d33da76e-1203-4ef2-b67e-0f25132e7a1d\")>,\n",
       " <selenium.webdriver.remote.webelement.WebElement (session=\"b41385af44f19bfe98f6fa28b8f59d17\", element=\"8ea41371-452e-455c-8b5f-fc31382117bc\")>,\n",
       " <selenium.webdriver.remote.webelement.WebElement (session=\"b41385af44f19bfe98f6fa28b8f59d17\", element=\"748d8f69-b0fc-41d1-a38f-6692e0396742\")>,\n",
       " <selenium.webdriver.remote.webelement.WebElement (session=\"b41385af44f19bfe98f6fa28b8f59d17\", element=\"04baaa00-dec6-4fa2-973c-e3ad18ce6cac\")>,\n",
       " <selenium.webdriver.remote.webelement.WebElement (session=\"b41385af44f19bfe98f6fa28b8f59d17\", element=\"dcad4851-59b9-4931-a297-815e2a795b27\")>,\n",
       " <selenium.webdriver.remote.webelement.WebElement (session=\"b41385af44f19bfe98f6fa28b8f59d17\", element=\"2c30141e-1aa2-4b12-924c-73ba4c720c1b\")>,\n",
       " <selenium.webdriver.remote.webelement.WebElement (session=\"b41385af44f19bfe98f6fa28b8f59d17\", element=\"3003ff2f-8579-4cc8-91f0-08654cb32bce\")>,\n",
       " <selenium.webdriver.remote.webelement.WebElement (session=\"b41385af44f19bfe98f6fa28b8f59d17\", element=\"7fa6ae63-adf2-4fb9-b1bc-e6657d03fd29\")>]"
      ]
     },
     "execution_count": 14,
     "metadata": {},
     "output_type": "execute_result"
    }
   ],
   "source": [
    "review_tag = driver.find_elements_by_xpath(\"//p[@class='_2-N8zT']\")\n",
    "review_tag"
   ]
  },
  {
   "cell_type": "code",
   "execution_count": 15,
   "metadata": {},
   "outputs": [
    {
     "data": {
      "text/plain": [
       "['Brilliant',\n",
       " 'Perfect product!',\n",
       " 'Worth every penny',\n",
       " 'Fabulous!',\n",
       " 'Great product',\n",
       " 'Simply awesome',\n",
       " 'Good choice',\n",
       " 'Worth every penny',\n",
       " 'Highly recommended',\n",
       " 'Perfect product!']"
      ]
     },
     "execution_count": 15,
     "metadata": {},
     "output_type": "execute_result"
    }
   ],
   "source": [
    "review = [] # to store empty values\n",
    "for i in review_tag: # to run the loop\n",
    "    review.append(i.text)\n",
    "review"
   ]
  },
  {
   "cell_type": "code",
   "execution_count": 16,
   "metadata": {},
   "outputs": [],
   "source": [
    "# using xpath to go next page by copying fullxpath \n",
    "next_page = driver.find_element_by_xpath(\"/html/body/div[1]/div/div[3]/div/div/div[2]/div[13]/div/div/nav/a[2]\")\n",
    "next_page.click()"
   ]
  },
  {
   "cell_type": "code",
   "execution_count": 17,
   "metadata": {},
   "outputs": [
    {
     "data": {
      "text/plain": [
       "[<selenium.webdriver.remote.webelement.WebElement (session=\"b41385af44f19bfe98f6fa28b8f59d17\", element=\"fa97cadf-0be1-40b1-aecb-07ded8b8e898\")>,\n",
       " <selenium.webdriver.remote.webelement.WebElement (session=\"b41385af44f19bfe98f6fa28b8f59d17\", element=\"4203dfe1-03c6-44af-8f40-b1f9f7e768a9\")>,\n",
       " <selenium.webdriver.remote.webelement.WebElement (session=\"b41385af44f19bfe98f6fa28b8f59d17\", element=\"3b51b343-71e4-4c5b-8115-be747d1b4c3b\")>,\n",
       " <selenium.webdriver.remote.webelement.WebElement (session=\"b41385af44f19bfe98f6fa28b8f59d17\", element=\"e60f2f9a-c79b-4f10-acc8-5b8d58560912\")>,\n",
       " <selenium.webdriver.remote.webelement.WebElement (session=\"b41385af44f19bfe98f6fa28b8f59d17\", element=\"8d603260-cd06-44c2-879f-f339c2d77034\")>,\n",
       " <selenium.webdriver.remote.webelement.WebElement (session=\"b41385af44f19bfe98f6fa28b8f59d17\", element=\"ee36b43d-86c3-40af-b060-1ee0e1d8303f\")>,\n",
       " <selenium.webdriver.remote.webelement.WebElement (session=\"b41385af44f19bfe98f6fa28b8f59d17\", element=\"75fededa-ee40-4bb7-b639-c2da492e3578\")>,\n",
       " <selenium.webdriver.remote.webelement.WebElement (session=\"b41385af44f19bfe98f6fa28b8f59d17\", element=\"07a5b099-2063-4a46-9de3-02c25aec03c3\")>,\n",
       " <selenium.webdriver.remote.webelement.WebElement (session=\"b41385af44f19bfe98f6fa28b8f59d17\", element=\"eb4df352-70c4-45f8-a6f9-9ae279be1375\")>,\n",
       " <selenium.webdriver.remote.webelement.WebElement (session=\"b41385af44f19bfe98f6fa28b8f59d17\", element=\"906eecb7-dc44-41c0-b27c-aa705e40f7a2\")>]"
      ]
     },
     "execution_count": 17,
     "metadata": {},
     "output_type": "execute_result"
    }
   ],
   "source": [
    "review_tags = driver.find_elements_by_xpath(\"//p[@class='_2-N8zT']\")\n",
    "review_tags"
   ]
  },
  {
   "cell_type": "code",
   "execution_count": 18,
   "metadata": {},
   "outputs": [
    {
     "data": {
      "text/plain": [
       "['Perfect product!',\n",
       " 'Worth every penny',\n",
       " 'Perfect product!',\n",
       " 'Highly recommended',\n",
       " 'Worth every penny',\n",
       " 'Simply awesome',\n",
       " 'Terrific',\n",
       " 'Highly recommended',\n",
       " 'Nice product',\n",
       " 'Classy product']"
      ]
     },
     "execution_count": 18,
     "metadata": {},
     "output_type": "execute_result"
    }
   ],
   "source": [
    "reviews = [] # to store empty values\n",
    "for i in review_tags:\n",
    "    reviews.append(i.text)\n",
    "reviews"
   ]
  },
  {
   "cell_type": "code",
   "execution_count": 19,
   "metadata": {},
   "outputs": [],
   "source": [
    "#scrapping the required details\n",
    "\n",
    "start=0\n",
    "\n",
    "end=9\n",
    "\n",
    "for page in range(start,end):#for loop for scrapping 9 page\n",
    "\n",
    "    reviews=driver.find_elements_by_class_name('_2-N8zT')\n",
    "\n",
    "    for i in reviews:\n",
    "\n",
    "        review.append(i.text)#appending the text in description list"
   ]
  },
  {
   "cell_type": "code",
   "execution_count": 20,
   "metadata": {},
   "outputs": [
    {
     "data": {
      "text/plain": [
       "['Brilliant',\n",
       " 'Perfect product!',\n",
       " 'Worth every penny',\n",
       " 'Fabulous!',\n",
       " 'Great product',\n",
       " 'Simply awesome',\n",
       " 'Good choice',\n",
       " 'Worth every penny',\n",
       " 'Highly recommended',\n",
       " 'Perfect product!',\n",
       " 'Perfect product!',\n",
       " 'Worth every penny',\n",
       " 'Perfect product!',\n",
       " 'Highly recommended',\n",
       " 'Worth every penny',\n",
       " 'Simply awesome',\n",
       " 'Terrific',\n",
       " 'Highly recommended',\n",
       " 'Nice product',\n",
       " 'Classy product',\n",
       " 'Perfect product!',\n",
       " 'Worth every penny',\n",
       " 'Perfect product!',\n",
       " 'Highly recommended',\n",
       " 'Worth every penny',\n",
       " 'Simply awesome',\n",
       " 'Terrific',\n",
       " 'Highly recommended',\n",
       " 'Nice product',\n",
       " 'Classy product',\n",
       " 'Perfect product!',\n",
       " 'Worth every penny',\n",
       " 'Perfect product!',\n",
       " 'Highly recommended',\n",
       " 'Worth every penny',\n",
       " 'Simply awesome',\n",
       " 'Terrific',\n",
       " 'Highly recommended',\n",
       " 'Nice product',\n",
       " 'Classy product',\n",
       " 'Perfect product!',\n",
       " 'Worth every penny',\n",
       " 'Perfect product!',\n",
       " 'Highly recommended',\n",
       " 'Worth every penny',\n",
       " 'Simply awesome',\n",
       " 'Terrific',\n",
       " 'Highly recommended',\n",
       " 'Nice product',\n",
       " 'Classy product',\n",
       " 'Perfect product!',\n",
       " 'Worth every penny',\n",
       " 'Perfect product!',\n",
       " 'Highly recommended',\n",
       " 'Worth every penny',\n",
       " 'Simply awesome',\n",
       " 'Terrific',\n",
       " 'Highly recommended',\n",
       " 'Nice product',\n",
       " 'Classy product',\n",
       " 'Perfect product!',\n",
       " 'Worth every penny',\n",
       " 'Perfect product!',\n",
       " 'Highly recommended',\n",
       " 'Worth every penny',\n",
       " 'Simply awesome',\n",
       " 'Terrific',\n",
       " 'Highly recommended',\n",
       " 'Nice product',\n",
       " 'Classy product',\n",
       " 'Perfect product!',\n",
       " 'Worth every penny',\n",
       " 'Perfect product!',\n",
       " 'Highly recommended',\n",
       " 'Worth every penny',\n",
       " 'Simply awesome',\n",
       " 'Terrific',\n",
       " 'Highly recommended',\n",
       " 'Nice product',\n",
       " 'Classy product',\n",
       " 'Perfect product!',\n",
       " 'Worth every penny',\n",
       " 'Perfect product!',\n",
       " 'Highly recommended',\n",
       " 'Worth every penny',\n",
       " 'Simply awesome',\n",
       " 'Terrific',\n",
       " 'Highly recommended',\n",
       " 'Nice product',\n",
       " 'Classy product',\n",
       " 'Perfect product!',\n",
       " 'Worth every penny',\n",
       " 'Perfect product!',\n",
       " 'Highly recommended',\n",
       " 'Worth every penny',\n",
       " 'Simply awesome',\n",
       " 'Terrific',\n",
       " 'Highly recommended',\n",
       " 'Nice product',\n",
       " 'Classy product']"
      ]
     },
     "execution_count": 20,
     "metadata": {},
     "output_type": "execute_result"
    }
   ],
   "source": [
    "review"
   ]
  },
  {
   "cell_type": "code",
   "execution_count": 21,
   "metadata": {},
   "outputs": [
    {
     "data": {
      "text/plain": [
       "100"
      ]
     },
     "execution_count": 21,
     "metadata": {},
     "output_type": "execute_result"
    }
   ],
   "source": [
    "len(review)"
   ]
  },
  {
   "cell_type": "code",
   "execution_count": 23,
   "metadata": {},
   "outputs": [],
   "source": [
    "previous_page = driver.find_element_by_xpath(\"/html/body/div[1]/div/div[3]/div/div/div[2]/div[13]/div/div/nav/a[2]\")\n",
    "previous_page.click()"
   ]
  },
  {
   "cell_type": "code",
   "execution_count": 24,
   "metadata": {},
   "outputs": [
    {
     "data": {
      "text/plain": [
       "[<selenium.webdriver.remote.webelement.WebElement (session=\"b41385af44f19bfe98f6fa28b8f59d17\", element=\"1fb21ea6-5274-4c30-a7b2-d70c1a9aa1c4\")>,\n",
       " <selenium.webdriver.remote.webelement.WebElement (session=\"b41385af44f19bfe98f6fa28b8f59d17\", element=\"21bfb748-27dc-46e9-b63e-6efdce44af51\")>,\n",
       " <selenium.webdriver.remote.webelement.WebElement (session=\"b41385af44f19bfe98f6fa28b8f59d17\", element=\"ef6a6774-b5eb-4d56-9278-0f6fb0abd87e\")>,\n",
       " <selenium.webdriver.remote.webelement.WebElement (session=\"b41385af44f19bfe98f6fa28b8f59d17\", element=\"b1160901-f015-4bf9-b474-259d6dfb941d\")>,\n",
       " <selenium.webdriver.remote.webelement.WebElement (session=\"b41385af44f19bfe98f6fa28b8f59d17\", element=\"d814565d-6f40-4c99-a0f0-2b7743bf4184\")>,\n",
       " <selenium.webdriver.remote.webelement.WebElement (session=\"b41385af44f19bfe98f6fa28b8f59d17\", element=\"d19b9641-3891-4b04-b968-b79bf74854ee\")>,\n",
       " <selenium.webdriver.remote.webelement.WebElement (session=\"b41385af44f19bfe98f6fa28b8f59d17\", element=\"a3e36586-bec6-4462-be42-e591ded63a6a\")>,\n",
       " <selenium.webdriver.remote.webelement.WebElement (session=\"b41385af44f19bfe98f6fa28b8f59d17\", element=\"edd5d29f-4b27-4007-a932-cfcf0006707d\")>,\n",
       " <selenium.webdriver.remote.webelement.WebElement (session=\"b41385af44f19bfe98f6fa28b8f59d17\", element=\"6e326eee-981d-46d7-be8c-825eca400cc6\")>,\n",
       " <selenium.webdriver.remote.webelement.WebElement (session=\"b41385af44f19bfe98f6fa28b8f59d17\", element=\"38a309b9-0e66-4008-afa9-b0958335fe64\")>]"
      ]
     },
     "execution_count": 24,
     "metadata": {},
     "output_type": "execute_result"
    }
   ],
   "source": [
    "fulldescp_tag = driver.find_elements_by_xpath(\"//div[@class='t-ZTKy']\")\n",
    "fulldescp_tag"
   ]
  },
  {
   "cell_type": "code",
   "execution_count": 25,
   "metadata": {},
   "outputs": [
    {
     "data": {
      "text/plain": [
       "['The Best Phone for the Money\\n\\nThe iPhone 11 offers superb cameras, a more durable design and excellent battery life for an affordable price.\\n\\nCompelling ultra-wide camera\\nNew Night mode is excellent\\nLong battery life',\n",
       " 'Amazing phone with great cameras and better battery which gives you the best performance. I just love the camera .',\n",
       " 'Previously I was using one plus 3t it was a great phone\\nAnd then I decided to upgrade I am stuck between Samsung s10 plus or iPhone 11\\nI have seen the specs and everything were good except the display it’s somewhere between 720-1080 and it’s not even an amoled it’s an LCD display\\nBut I decided to go with iPhone because I have never used an IOS device I have Been an android user from the past 9 years I ordered IPhone 11 (128gb) product red\\nMy experience after using 3 weeks\\n1. The delivery ...\\nREAD MORE',\n",
       " 'This is my first iOS phone. I am very happy with this product. Very much satisfied with this. I love this phone.',\n",
       " 'Amazing Powerful and Durable Gadget.\\n\\nI’m am very happy with the camera picture quality, Amazing face id unlocked in dark room, Strong battery with perfect screen size as you can carry easily in pocket. This is my third iPhone.\\n\\nI shifted from android Samsung Note series to iPhone because of the strong build quality and peace of mind for next 3-4 years.\\n\\nDon’t think to much just go for it and I suggest you to go for minimum 128gb variant or more 256gb.\\n\\nI’ve attached my puppy pics and no fi...\\nREAD MORE',\n",
       " 'Really satisfied with the Product I received... It’s totally genuine and the packaging was also really good so if ur planning to buy just go for it.',\n",
       " 'So far it’s been an AMAZING experience coming back to iOS after nearly a decade but it’s not as versatile as android though phone is sturdy dropped it accidentally a couple of times and nothing happened fortunately camera is awesome',\n",
       " 'i11 is worthy to buy, too much happy with the product. Thank u flipkart I received the item on time..loved it..',\n",
       " 'iphone 11 is a very good phone to buy only if you can compromise for the display. The display on this is device is pretty good but you can get other options with better displays in this price segment.\\nIf you can survive with an HD+ LCD panel with thicker bezels and a notch up top then this is a very good phone for you.\\nCameras are awesome, battery backup excellent, great performance and a decent premium look. Good job Apple !',\n",
       " 'It’s a must buy who is looking for an upgrade from previous generation of iPhones. If you are using XR then still you can hold on for sometime and upgrade to 2020 model else this phone is a must buy . Camera quality is amazing and wide angle is something to count upon. Performance wise it’s amazing and feels premium while holding in hand. So a big YES for this device. Go for 128 GB variant as the 4K videos will occupy lots of space and the storage can get over very quickly. Try to buy it with...\\nREAD MORE']"
      ]
     },
     "execution_count": 25,
     "metadata": {},
     "output_type": "execute_result"
    }
   ],
   "source": [
    "full_description = [] # creating empty list to store values\n",
    "for i in fulldescp_tag:   # running loop\n",
    "    full_description.append(i.text)\n",
    "    \n",
    "full_description"
   ]
  },
  {
   "cell_type": "code",
   "execution_count": 26,
   "metadata": {},
   "outputs": [],
   "source": [
    "next_page = driver.find_element_by_xpath(\"/html/body/div[1]/div/div[3]/div/div/div[2]/div[13]/div/div/nav/a[2]\")\n",
    "next_page.click()"
   ]
  },
  {
   "cell_type": "code",
   "execution_count": 27,
   "metadata": {},
   "outputs": [
    {
     "data": {
      "text/plain": [
       "[<selenium.webdriver.remote.webelement.WebElement (session=\"b41385af44f19bfe98f6fa28b8f59d17\", element=\"e3694d51-8f91-4a3c-90fc-1a982b10e281\")>,\n",
       " <selenium.webdriver.remote.webelement.WebElement (session=\"b41385af44f19bfe98f6fa28b8f59d17\", element=\"704fc5a8-af3e-42ae-af3e-b427a934c06e\")>,\n",
       " <selenium.webdriver.remote.webelement.WebElement (session=\"b41385af44f19bfe98f6fa28b8f59d17\", element=\"33c7609b-51ff-43ae-8007-15d2dcec39ea\")>,\n",
       " <selenium.webdriver.remote.webelement.WebElement (session=\"b41385af44f19bfe98f6fa28b8f59d17\", element=\"f44b3bfd-1f85-47b8-973c-02883c8d6013\")>,\n",
       " <selenium.webdriver.remote.webelement.WebElement (session=\"b41385af44f19bfe98f6fa28b8f59d17\", element=\"8a503d7e-af19-4533-b321-a1958d66ef3f\")>,\n",
       " <selenium.webdriver.remote.webelement.WebElement (session=\"b41385af44f19bfe98f6fa28b8f59d17\", element=\"1d8111dc-bb18-45ba-b0be-be4c6edd6230\")>,\n",
       " <selenium.webdriver.remote.webelement.WebElement (session=\"b41385af44f19bfe98f6fa28b8f59d17\", element=\"796124eb-b32e-472f-a86d-63b3915a9616\")>,\n",
       " <selenium.webdriver.remote.webelement.WebElement (session=\"b41385af44f19bfe98f6fa28b8f59d17\", element=\"c30b2dbc-4df2-46e5-a9ee-085392702cc7\")>,\n",
       " <selenium.webdriver.remote.webelement.WebElement (session=\"b41385af44f19bfe98f6fa28b8f59d17\", element=\"5e2fb09c-2d20-4a7e-9386-9866f0613ca6\")>,\n",
       " <selenium.webdriver.remote.webelement.WebElement (session=\"b41385af44f19bfe98f6fa28b8f59d17\", element=\"a075e667-7690-4e7e-8ba1-886cde3805df\")>]"
      ]
     },
     "execution_count": 27,
     "metadata": {},
     "output_type": "execute_result"
    }
   ],
   "source": [
    "fulldescp_tags = driver.find_elements_by_xpath(\"//div[@class='t-ZTKy']\")\n",
    "fulldescp_tags"
   ]
  },
  {
   "cell_type": "code",
   "execution_count": 28,
   "metadata": {},
   "outputs": [
    {
     "data": {
      "text/plain": [
       "['Value for money❤️❤️\\nIts awesome mobile phone in the world ...\\nDisplay was very good and bright ..\\nTrust me freinds you r never regret after Buying..\\nJust go for it....\\nI love this phone and i switch to iphone x to 11',\n",
       " 'Best budget Iphone till date ❤️ go for it guys without second thought. Let me explain you guys about Camera, Display, battery, and performance.\\n\\nCamera: at this price range there is no comparison of camera, you’ll love the picture quality as well as video quality. I am a Vlogger I wanted an iPhone with 4k video by front camera and I got this phone and I am more than happy 😃\\n\\nBattery: I use this phone roughly as I am active social media person and I have a youtube channel. so the battery ba...\\nREAD MORE',\n",
       " \"Iphone is just awesome.. battery backup is very very nice.. continuously for 10 hours we can use it.camera is just awesome.. display is just fab.i love it alot..i had to wait 15 days for it as i pre ordered it..overalll it's worth the price..these all images are clicked by my iPhone..and i love it.\",\n",
       " 'What a camera .....just awesome ..you can feel this iPhone just awesome . Good for gaming also ...try pubg in hd it’s just wow',\n",
       " 'It’s been almost a month since I have been using this phone. I upgraded from an iPhone 8. The main issue with my 8 was battery and this phone is just awesome when it comes to battery. It lasts a day and a half for me with my regular use , internet connected always with 4g\\nCan’t move forward without saying this. Battery of this phone is a life saver when I am traveling or at work when I don’t get the option to charge\\nCamera is superb. Front cam selfies and back cam photos are just awesome.\\n...\\nREAD MORE',\n",
       " 'Excellent camera, good performance, no lag. The lcd display is also good.. but difference come when we watch movie in prime and Netflix, the colours are not vibrant.. as we see in amoled display.. and the charger in box is of 5 watts.. takes more than 3 hours to charge from 0 to 100.. so guys be prepare to buy 18 watts charger . Finally I am an android user, it was my first Iapple phone, I promise u guys the iOS is so smooth.. overall the phone is damn good.... close eyes to buy it.. thanks t...\\nREAD MORE',\n",
       " 'Really worth of money. i just love it. It is the best phone ever.',\n",
       " \"It's my first time to use iOS phone and I am loving my upgradation 😍😍 I love the color, I love the assebility of the phone....I need to learn more about its functionality, but as far as I have seen, it's quite easy and it has a lot of functions to work on, specially if you are a content writer or a blogger you get a lot of content creation platforms and they are really amazing.\\n\\nThis phone not only for good quality photography but a lot of other task too.😍💯\",\n",
       " 'Awesome Phone. Slightly high price but worth. Better than iPhone XR.\\nCamera is superb and wide angle camera is very clear.\\n12MP selfie camera is also very good.\\nA13 Chip gives a very good and smooth performance.',\n",
       " 'Superb Product !!!\\nA big and worthy upgrade from mi 3S to iphone 11 .\\nTotally loved it !']"
      ]
     },
     "execution_count": 28,
     "metadata": {},
     "output_type": "execute_result"
    }
   ],
   "source": [
    "full_descriptions = []\n",
    "for i in fulldescp_tags:\n",
    "    full_descriptions.append(i.text)\n",
    "full_descriptions"
   ]
  },
  {
   "cell_type": "code",
   "execution_count": 29,
   "metadata": {},
   "outputs": [],
   "source": [
    "#scrapping the required details\n",
    "\n",
    "start=0\n",
    "\n",
    "end=9\n",
    "\n",
    "for page in range(start,end):#for loop for scrapping 9 pages\n",
    "\n",
    "    full_descriptions=driver.find_elements_by_class_name('t-ZTKy')#scraping brands name by class name='_2WkVRV'\n",
    "\n",
    "    for i in full_descriptions:\n",
    "\n",
    "        full_description.append(i.text)#appending the text in Brand list"
   ]
  },
  {
   "cell_type": "code",
   "execution_count": 30,
   "metadata": {},
   "outputs": [
    {
     "data": {
      "text/plain": [
       "100"
      ]
     },
     "execution_count": 30,
     "metadata": {},
     "output_type": "execute_result"
    }
   ],
   "source": [
    "len(full_description)"
   ]
  },
  {
   "cell_type": "code",
   "execution_count": 31,
   "metadata": {},
   "outputs": [],
   "source": [
    "previous_page = driver.find_element_by_xpath(\"/html/body/div[1]/div/div[3]/div/div/div[2]/div[13]/div/div/nav/a[2]\")\n",
    "previous_page.click()"
   ]
  },
  {
   "cell_type": "code",
   "execution_count": 32,
   "metadata": {},
   "outputs": [
    {
     "data": {
      "text/plain": [
       "['5',\n",
       " '5',\n",
       " '5',\n",
       " '5',\n",
       " '5',\n",
       " '5',\n",
       " '5',\n",
       " '5',\n",
       " '4',\n",
       " '5',\n",
       " '5',\n",
       " '5',\n",
       " '5',\n",
       " '5',\n",
       " '5',\n",
       " '5',\n",
       " '4',\n",
       " '5',\n",
       " '5',\n",
       " '5',\n",
       " '5',\n",
       " '5',\n",
       " '5',\n",
       " '5',\n",
       " '5',\n",
       " '5',\n",
       " '5',\n",
       " '5',\n",
       " '4',\n",
       " '5',\n",
       " '5',\n",
       " '5',\n",
       " '5',\n",
       " '5',\n",
       " '5',\n",
       " '5',\n",
       " '4',\n",
       " '5',\n",
       " '5',\n",
       " '5',\n",
       " '5',\n",
       " '5',\n",
       " '5',\n",
       " '5',\n",
       " '5',\n",
       " '5',\n",
       " '5',\n",
       " '5',\n",
       " '4',\n",
       " '5',\n",
       " '5',\n",
       " '5',\n",
       " '5',\n",
       " '5',\n",
       " '5',\n",
       " '5',\n",
       " '4',\n",
       " '5',\n",
       " '5',\n",
       " '5',\n",
       " '5',\n",
       " '5',\n",
       " '5',\n",
       " '5',\n",
       " '5',\n",
       " '5',\n",
       " '5',\n",
       " '5',\n",
       " '4',\n",
       " '5',\n",
       " '5',\n",
       " '5',\n",
       " '5',\n",
       " '5',\n",
       " '5',\n",
       " '5',\n",
       " '4',\n",
       " '5',\n",
       " '5',\n",
       " '5',\n",
       " '5',\n",
       " '5',\n",
       " '5',\n",
       " '5',\n",
       " '5',\n",
       " '5',\n",
       " '5',\n",
       " '5',\n",
       " '4',\n",
       " '5',\n",
       " '5',\n",
       " '5',\n",
       " '5',\n",
       " '5',\n",
       " '5',\n",
       " '5',\n",
       " '4',\n",
       " '5',\n",
       " '5',\n",
       " '5']"
      ]
     },
     "execution_count": 32,
     "metadata": {},
     "output_type": "execute_result"
    }
   ],
   "source": [
    "# Creating empty list\n",
    "urls=[]\n",
    "stars=[]\n",
    "\n",
    "#Taking 10 pages into consideration using for loop\n",
    "for i in range(10):\n",
    "    url=driver.find_element_by_xpath(\"//a[@class='ge-49M']\").get_attribute('href')\n",
    "    driver.get(url)\n",
    "    #for scrapping the number of stars\n",
    "    for j in driver.find_elements_by_xpath(\"//div[@class='_3LWZlK _1BLPMq']\"):\n",
    "        stars.append(j.text)\n",
    "        \n",
    "stars"
   ]
  },
  {
   "cell_type": "code",
   "execution_count": 33,
   "metadata": {},
   "outputs": [
    {
     "data": {
      "text/plain": [
       "100"
      ]
     },
     "execution_count": 33,
     "metadata": {},
     "output_type": "execute_result"
    }
   ],
   "source": [
    "len(stars)"
   ]
  },
  {
   "cell_type": "code",
   "execution_count": 34,
   "metadata": {},
   "outputs": [],
   "source": [
    "iphone=pd.DataFrame({})            # making dataframe\n",
    "iphone['Rating']=stars\n",
    "iphone['Review_summary']=review\n",
    "iphone['Full review']= full_description"
   ]
  },
  {
   "cell_type": "code",
   "execution_count": 35,
   "metadata": {},
   "outputs": [
    {
     "data": {
      "text/html": [
       "<div>\n",
       "<style scoped>\n",
       "    .dataframe tbody tr th:only-of-type {\n",
       "        vertical-align: middle;\n",
       "    }\n",
       "\n",
       "    .dataframe tbody tr th {\n",
       "        vertical-align: top;\n",
       "    }\n",
       "\n",
       "    .dataframe thead th {\n",
       "        text-align: right;\n",
       "    }\n",
       "</style>\n",
       "<table border=\"1\" class=\"dataframe\">\n",
       "  <thead>\n",
       "    <tr style=\"text-align: right;\">\n",
       "      <th></th>\n",
       "      <th>Rating</th>\n",
       "      <th>Review_summary</th>\n",
       "      <th>Full review</th>\n",
       "    </tr>\n",
       "  </thead>\n",
       "  <tbody>\n",
       "    <tr>\n",
       "      <th>0</th>\n",
       "      <td>5</td>\n",
       "      <td>Brilliant</td>\n",
       "      <td>The Best Phone for the Money\\n\\nThe iPhone 11 ...</td>\n",
       "    </tr>\n",
       "    <tr>\n",
       "      <th>1</th>\n",
       "      <td>5</td>\n",
       "      <td>Perfect product!</td>\n",
       "      <td>Amazing phone with great cameras and better ba...</td>\n",
       "    </tr>\n",
       "    <tr>\n",
       "      <th>2</th>\n",
       "      <td>5</td>\n",
       "      <td>Worth every penny</td>\n",
       "      <td>Previously I was using one plus 3t it was a gr...</td>\n",
       "    </tr>\n",
       "    <tr>\n",
       "      <th>3</th>\n",
       "      <td>5</td>\n",
       "      <td>Fabulous!</td>\n",
       "      <td>This is my first iOS phone. I am very happy wi...</td>\n",
       "    </tr>\n",
       "    <tr>\n",
       "      <th>4</th>\n",
       "      <td>5</td>\n",
       "      <td>Great product</td>\n",
       "      <td>Amazing Powerful and Durable Gadget.\\n\\nI’m am...</td>\n",
       "    </tr>\n",
       "    <tr>\n",
       "      <th>...</th>\n",
       "      <td>...</td>\n",
       "      <td>...</td>\n",
       "      <td>...</td>\n",
       "    </tr>\n",
       "    <tr>\n",
       "      <th>95</th>\n",
       "      <td>5</td>\n",
       "      <td>Simply awesome</td>\n",
       "      <td>Excellent camera, good performance, no lag. Th...</td>\n",
       "    </tr>\n",
       "    <tr>\n",
       "      <th>96</th>\n",
       "      <td>4</td>\n",
       "      <td>Terrific</td>\n",
       "      <td>Really worth of money. i just love it. It is t...</td>\n",
       "    </tr>\n",
       "    <tr>\n",
       "      <th>97</th>\n",
       "      <td>5</td>\n",
       "      <td>Highly recommended</td>\n",
       "      <td>It's my first time to use iOS phone and I am l...</td>\n",
       "    </tr>\n",
       "    <tr>\n",
       "      <th>98</th>\n",
       "      <td>5</td>\n",
       "      <td>Nice product</td>\n",
       "      <td>Awesome Phone. Slightly high price but worth. ...</td>\n",
       "    </tr>\n",
       "    <tr>\n",
       "      <th>99</th>\n",
       "      <td>5</td>\n",
       "      <td>Classy product</td>\n",
       "      <td>Superb Product !!!\\nA big and worthy upgrade f...</td>\n",
       "    </tr>\n",
       "  </tbody>\n",
       "</table>\n",
       "<p>100 rows × 3 columns</p>\n",
       "</div>"
      ],
      "text/plain": [
       "   Rating      Review_summary  \\\n",
       "0       5           Brilliant   \n",
       "1       5    Perfect product!   \n",
       "2       5   Worth every penny   \n",
       "3       5           Fabulous!   \n",
       "4       5       Great product   \n",
       "..    ...                 ...   \n",
       "95      5      Simply awesome   \n",
       "96      4            Terrific   \n",
       "97      5  Highly recommended   \n",
       "98      5        Nice product   \n",
       "99      5      Classy product   \n",
       "\n",
       "                                          Full review  \n",
       "0   The Best Phone for the Money\\n\\nThe iPhone 11 ...  \n",
       "1   Amazing phone with great cameras and better ba...  \n",
       "2   Previously I was using one plus 3t it was a gr...  \n",
       "3   This is my first iOS phone. I am very happy wi...  \n",
       "4   Amazing Powerful and Durable Gadget.\\n\\nI’m am...  \n",
       "..                                                ...  \n",
       "95  Excellent camera, good performance, no lag. Th...  \n",
       "96  Really worth of money. i just love it. It is t...  \n",
       "97  It's my first time to use iOS phone and I am l...  \n",
       "98  Awesome Phone. Slightly high price but worth. ...  \n",
       "99  Superb Product !!!\\nA big and worthy upgrade f...  \n",
       "\n",
       "[100 rows x 3 columns]"
      ]
     },
     "execution_count": 35,
     "metadata": {},
     "output_type": "execute_result"
    }
   ],
   "source": [
    "iphone"
   ]
  },
  {
   "cell_type": "code",
   "execution_count": 36,
   "metadata": {},
   "outputs": [],
   "source": [
    "driver.close()"
   ]
  },
  {
   "cell_type": "code",
   "execution_count": null,
   "metadata": {},
   "outputs": [],
   "source": []
  },
  {
   "cell_type": "markdown",
   "metadata": {},
   "source": [
    "# Q8: Scrape data for first 100 sneakers you find when you visit flipkart.com and search for “sneakers” in the search field."
   ]
  },
  {
   "cell_type": "code",
   "execution_count": 160,
   "metadata": {},
   "outputs": [],
   "source": [
    "# connecting to web driver\n",
    "driver = webdriver.Chrome(r\"C:\\Users\\Nitish\\Downloads\\Compressed\\chromedriver.exe\")"
   ]
  },
  {
   "cell_type": "code",
   "execution_count": 161,
   "metadata": {},
   "outputs": [],
   "source": [
    "# send get request to the webpage server to get the source code of the page\n",
    "url = 'https://www.flipkart.com/'\n",
    "driver.get(url) "
   ]
  },
  {
   "cell_type": "code",
   "execution_count": 162,
   "metadata": {},
   "outputs": [
    {
     "data": {
      "text/plain": [
       "<selenium.webdriver.remote.webelement.WebElement (session=\"1eac8ba0d18696da1845465653989864\", element=\"7f2cdbc7-345d-4862-b66d-f18589194ed3\")>"
      ]
     },
     "execution_count": 162,
     "metadata": {},
     "output_type": "execute_result"
    }
   ],
   "source": [
    "search_product = driver.find_element_by_xpath('/html/body/div[1]/div/div[1]/div[1]/div[2]/div[2]/form/div/div/input')\n",
    "search_product"
   ]
  },
  {
   "cell_type": "code",
   "execution_count": 163,
   "metadata": {},
   "outputs": [],
   "source": [
    "# write on search bar\n",
    "search_product.send_keys(\"sneakers\")"
   ]
  },
  {
   "cell_type": "code",
   "execution_count": 164,
   "metadata": {},
   "outputs": [],
   "source": [
    "search_btn = driver.find_element_by_xpath(\"//button[@class='L0Z3Pu']\")\n",
    "search_btn.click()"
   ]
  },
  {
   "cell_type": "code",
   "execution_count": 165,
   "metadata": {},
   "outputs": [
    {
     "data": {
      "text/plain": [
       "[<selenium.webdriver.remote.webelement.WebElement (session=\"1eac8ba0d18696da1845465653989864\", element=\"9b9a6aa0-7da1-4c8a-bd18-4e8649c2bcc5\")>,\n",
       " <selenium.webdriver.remote.webelement.WebElement (session=\"1eac8ba0d18696da1845465653989864\", element=\"0c6c4600-8511-4f0b-ada6-ad58a936061b\")>,\n",
       " <selenium.webdriver.remote.webelement.WebElement (session=\"1eac8ba0d18696da1845465653989864\", element=\"bbface4a-27b5-4c7d-a9f0-e969896842fd\")>,\n",
       " <selenium.webdriver.remote.webelement.WebElement (session=\"1eac8ba0d18696da1845465653989864\", element=\"d7b35bcd-6c41-49e7-925c-2bd63f45cffa\")>,\n",
       " <selenium.webdriver.remote.webelement.WebElement (session=\"1eac8ba0d18696da1845465653989864\", element=\"cbe34f40-de0a-4431-bb92-5d8d3f074c06\")>,\n",
       " <selenium.webdriver.remote.webelement.WebElement (session=\"1eac8ba0d18696da1845465653989864\", element=\"351aecd6-ed74-4d54-a203-92098d480a56\")>,\n",
       " <selenium.webdriver.remote.webelement.WebElement (session=\"1eac8ba0d18696da1845465653989864\", element=\"81949250-87e9-4bfe-9cab-329550ee6294\")>,\n",
       " <selenium.webdriver.remote.webelement.WebElement (session=\"1eac8ba0d18696da1845465653989864\", element=\"0392cd8c-a559-4e71-8a7b-401d4d3e8abb\")>,\n",
       " <selenium.webdriver.remote.webelement.WebElement (session=\"1eac8ba0d18696da1845465653989864\", element=\"573f820f-46f6-4d7c-88cf-c0cffe65088c\")>,\n",
       " <selenium.webdriver.remote.webelement.WebElement (session=\"1eac8ba0d18696da1845465653989864\", element=\"3ef8bf43-b1e3-485b-9456-7b5b1360e082\")>,\n",
       " <selenium.webdriver.remote.webelement.WebElement (session=\"1eac8ba0d18696da1845465653989864\", element=\"ec6464f5-b18e-4170-a1c9-305ebc3b98d6\")>,\n",
       " <selenium.webdriver.remote.webelement.WebElement (session=\"1eac8ba0d18696da1845465653989864\", element=\"3db434cc-0ed0-4677-bc43-5818c3fe521e\")>,\n",
       " <selenium.webdriver.remote.webelement.WebElement (session=\"1eac8ba0d18696da1845465653989864\", element=\"86d5fda7-e658-4998-a0d9-17879853928a\")>,\n",
       " <selenium.webdriver.remote.webelement.WebElement (session=\"1eac8ba0d18696da1845465653989864\", element=\"bdad8c77-1817-45ad-a41f-5ac7494949a3\")>,\n",
       " <selenium.webdriver.remote.webelement.WebElement (session=\"1eac8ba0d18696da1845465653989864\", element=\"16b5e44d-b662-41d8-81ab-d8eebeb1b288\")>,\n",
       " <selenium.webdriver.remote.webelement.WebElement (session=\"1eac8ba0d18696da1845465653989864\", element=\"e077162f-b8fc-4b3b-b95f-ba8363692be1\")>,\n",
       " <selenium.webdriver.remote.webelement.WebElement (session=\"1eac8ba0d18696da1845465653989864\", element=\"8aec9283-67cd-4b91-a0b3-f2e66c057430\")>,\n",
       " <selenium.webdriver.remote.webelement.WebElement (session=\"1eac8ba0d18696da1845465653989864\", element=\"b719fd88-bd00-4ddf-935d-ede5db172c1f\")>,\n",
       " <selenium.webdriver.remote.webelement.WebElement (session=\"1eac8ba0d18696da1845465653989864\", element=\"9bc489ec-d241-490f-a069-4dc0a2a59725\")>,\n",
       " <selenium.webdriver.remote.webelement.WebElement (session=\"1eac8ba0d18696da1845465653989864\", element=\"25975817-7ba6-4839-83bd-e959f38c898a\")>,\n",
       " <selenium.webdriver.remote.webelement.WebElement (session=\"1eac8ba0d18696da1845465653989864\", element=\"f8d71931-8e0f-4868-b5fe-f3ad4be6ee2a\")>,\n",
       " <selenium.webdriver.remote.webelement.WebElement (session=\"1eac8ba0d18696da1845465653989864\", element=\"3c5885f1-55f6-4242-83f6-218ce59dcd64\")>,\n",
       " <selenium.webdriver.remote.webelement.WebElement (session=\"1eac8ba0d18696da1845465653989864\", element=\"10319584-ae00-494c-9690-7e5f9e670925\")>,\n",
       " <selenium.webdriver.remote.webelement.WebElement (session=\"1eac8ba0d18696da1845465653989864\", element=\"23e9b554-9766-4d7d-9824-77b834bf63f0\")>,\n",
       " <selenium.webdriver.remote.webelement.WebElement (session=\"1eac8ba0d18696da1845465653989864\", element=\"cf7bf14a-244c-4403-8628-9cfd43f3d11e\")>,\n",
       " <selenium.webdriver.remote.webelement.WebElement (session=\"1eac8ba0d18696da1845465653989864\", element=\"310955c0-8136-4590-a2a2-7cf2a73d057f\")>,\n",
       " <selenium.webdriver.remote.webelement.WebElement (session=\"1eac8ba0d18696da1845465653989864\", element=\"c9847b01-ca1a-4e8d-a057-12f5df0174dd\")>,\n",
       " <selenium.webdriver.remote.webelement.WebElement (session=\"1eac8ba0d18696da1845465653989864\", element=\"568a4082-27b0-4114-8f4b-7688a5c7d38d\")>,\n",
       " <selenium.webdriver.remote.webelement.WebElement (session=\"1eac8ba0d18696da1845465653989864\", element=\"7bf92288-bfd7-4e53-911a-c2d80a5d0b18\")>,\n",
       " <selenium.webdriver.remote.webelement.WebElement (session=\"1eac8ba0d18696da1845465653989864\", element=\"62eb95bb-16bb-43dc-8834-0c1838307c26\")>,\n",
       " <selenium.webdriver.remote.webelement.WebElement (session=\"1eac8ba0d18696da1845465653989864\", element=\"52d56a56-6a1c-42f4-b243-655fffd25402\")>,\n",
       " <selenium.webdriver.remote.webelement.WebElement (session=\"1eac8ba0d18696da1845465653989864\", element=\"f0c08006-86da-4c5f-8240-78db7f7b1cf5\")>,\n",
       " <selenium.webdriver.remote.webelement.WebElement (session=\"1eac8ba0d18696da1845465653989864\", element=\"4ec3c5d7-9881-412d-bb13-54e33bfab0d1\")>,\n",
       " <selenium.webdriver.remote.webelement.WebElement (session=\"1eac8ba0d18696da1845465653989864\", element=\"2d0f3637-d4e2-4289-9dd2-c17a6a9bb661\")>,\n",
       " <selenium.webdriver.remote.webelement.WebElement (session=\"1eac8ba0d18696da1845465653989864\", element=\"a9a7fa5f-d320-4ed1-9d49-e2be20f38911\")>,\n",
       " <selenium.webdriver.remote.webelement.WebElement (session=\"1eac8ba0d18696da1845465653989864\", element=\"5f26631c-129d-4c0a-864c-0da4dd3b8150\")>,\n",
       " <selenium.webdriver.remote.webelement.WebElement (session=\"1eac8ba0d18696da1845465653989864\", element=\"f3da14e8-d39f-4e2c-b372-a3f7838291eb\")>,\n",
       " <selenium.webdriver.remote.webelement.WebElement (session=\"1eac8ba0d18696da1845465653989864\", element=\"778fba7c-f967-4248-80b0-d18024697ca2\")>,\n",
       " <selenium.webdriver.remote.webelement.WebElement (session=\"1eac8ba0d18696da1845465653989864\", element=\"118ead6c-05f5-4ef9-a888-076062284025\")>,\n",
       " <selenium.webdriver.remote.webelement.WebElement (session=\"1eac8ba0d18696da1845465653989864\", element=\"55a39f51-2721-4fae-a92c-940872dd6e1e\")>]"
      ]
     },
     "execution_count": 165,
     "metadata": {},
     "output_type": "execute_result"
    }
   ],
   "source": [
    "brand_tags = driver.find_elements_by_xpath(\"//div[@class='_2WkVRV']\")\n",
    "brand_tags"
   ]
  },
  {
   "cell_type": "code",
   "execution_count": 166,
   "metadata": {},
   "outputs": [
    {
     "data": {
      "text/plain": [
       "['BRUTON',\n",
       " 'DUCATI',\n",
       " 'Robbie jones',\n",
       " 'CALCADOS',\n",
       " 'Shoes Bank',\n",
       " 'Robbie jones',\n",
       " 'World Wear Footwear',\n",
       " 'DUCATI',\n",
       " 'Robbie jones',\n",
       " 'ASTEROID',\n",
       " 'Nilatin',\n",
       " 'French Connection',\n",
       " 'ESSENCE',\n",
       " 'PEHANOSA',\n",
       " 'Numenzo',\n",
       " 'Birde',\n",
       " 'Stefano Rads',\n",
       " 'Birde',\n",
       " 'KULP',\n",
       " 'U.S. POLO ASSN.',\n",
       " 'Chevit',\n",
       " 'bluemaker',\n",
       " 'Robbie jones',\n",
       " 'Robbie jones',\n",
       " 'BRUTON',\n",
       " 'Robbie jones',\n",
       " 'Kraasa',\n",
       " 'Robbie jones',\n",
       " 'Robbie jones',\n",
       " 'Chevit',\n",
       " 'SCATCHITE',\n",
       " 'Robbie jones',\n",
       " 'D-SNEAKERZ',\n",
       " 'Chevit',\n",
       " 'India hub',\n",
       " 'DUCATI',\n",
       " 'Magnolia',\n",
       " 'HOTSTYLE',\n",
       " 'Robbie jones',\n",
       " 'AMICO']"
      ]
     },
     "execution_count": 166,
     "metadata": {},
     "output_type": "execute_result"
    }
   ],
   "source": [
    "brand = [] # creating empty list to store values\n",
    "for i in brand_tags:   # running loop\n",
    "    brand.append(i.text)\n",
    "    \n",
    "brand "
   ]
  },
  {
   "cell_type": "code",
   "execution_count": 167,
   "metadata": {},
   "outputs": [
    {
     "data": {
      "text/plain": [
       "40"
      ]
     },
     "execution_count": 167,
     "metadata": {},
     "output_type": "execute_result"
    }
   ],
   "source": [
    "len(brand)"
   ]
  },
  {
   "cell_type": "code",
   "execution_count": 168,
   "metadata": {},
   "outputs": [],
   "source": [
    "# to go to next page by xpath function\n",
    "next_page = driver.find_element_by_xpath(\"//a[@class='_1LKTO3']\")\n",
    "next_page.click()"
   ]
  },
  {
   "cell_type": "code",
   "execution_count": 169,
   "metadata": {},
   "outputs": [
    {
     "data": {
      "text/plain": [
       "[<selenium.webdriver.remote.webelement.WebElement (session=\"1eac8ba0d18696da1845465653989864\", element=\"9145ca78-149f-4801-8b54-5d48cff504d4\")>,\n",
       " <selenium.webdriver.remote.webelement.WebElement (session=\"1eac8ba0d18696da1845465653989864\", element=\"da4a1247-857d-467e-9e92-ace94ef6c4b2\")>,\n",
       " <selenium.webdriver.remote.webelement.WebElement (session=\"1eac8ba0d18696da1845465653989864\", element=\"efef9109-e016-4364-ae4e-d95b6cdd3a31\")>,\n",
       " <selenium.webdriver.remote.webelement.WebElement (session=\"1eac8ba0d18696da1845465653989864\", element=\"bd36e151-38e0-4bd9-ab10-c9076b20a032\")>,\n",
       " <selenium.webdriver.remote.webelement.WebElement (session=\"1eac8ba0d18696da1845465653989864\", element=\"01024e3f-78d7-4b97-88cc-a2eaf533bc3e\")>,\n",
       " <selenium.webdriver.remote.webelement.WebElement (session=\"1eac8ba0d18696da1845465653989864\", element=\"9433f95f-6f57-4b5f-8ada-c52caa571d49\")>,\n",
       " <selenium.webdriver.remote.webelement.WebElement (session=\"1eac8ba0d18696da1845465653989864\", element=\"b13af10b-6eb0-40f4-82d0-f8cbd34e24a4\")>,\n",
       " <selenium.webdriver.remote.webelement.WebElement (session=\"1eac8ba0d18696da1845465653989864\", element=\"dca78675-3d0a-4700-aae6-06c7ae3e4c83\")>,\n",
       " <selenium.webdriver.remote.webelement.WebElement (session=\"1eac8ba0d18696da1845465653989864\", element=\"aea884f7-78b7-4c8d-a4ba-5579fe71739a\")>,\n",
       " <selenium.webdriver.remote.webelement.WebElement (session=\"1eac8ba0d18696da1845465653989864\", element=\"bb0dd49d-e336-411d-96c6-27014634be43\")>,\n",
       " <selenium.webdriver.remote.webelement.WebElement (session=\"1eac8ba0d18696da1845465653989864\", element=\"1500c8fa-97cb-46f4-9b67-be4287d4cd6b\")>,\n",
       " <selenium.webdriver.remote.webelement.WebElement (session=\"1eac8ba0d18696da1845465653989864\", element=\"256dffad-be2a-4a0c-b58e-baecaf6c3421\")>,\n",
       " <selenium.webdriver.remote.webelement.WebElement (session=\"1eac8ba0d18696da1845465653989864\", element=\"d231ea2c-3031-42ad-a765-1ba2e04e4d6e\")>,\n",
       " <selenium.webdriver.remote.webelement.WebElement (session=\"1eac8ba0d18696da1845465653989864\", element=\"c77a9e6c-f54c-4287-8fe6-74da410c03b1\")>,\n",
       " <selenium.webdriver.remote.webelement.WebElement (session=\"1eac8ba0d18696da1845465653989864\", element=\"383c1022-bc65-4465-b462-afd7e455b746\")>,\n",
       " <selenium.webdriver.remote.webelement.WebElement (session=\"1eac8ba0d18696da1845465653989864\", element=\"261d2b59-7b48-4656-a2d2-7ce150001deb\")>,\n",
       " <selenium.webdriver.remote.webelement.WebElement (session=\"1eac8ba0d18696da1845465653989864\", element=\"a4bfd02b-3976-41e6-86c4-58912b06011d\")>,\n",
       " <selenium.webdriver.remote.webelement.WebElement (session=\"1eac8ba0d18696da1845465653989864\", element=\"2eb6b47f-4ffc-4deb-becf-9a202269bea3\")>,\n",
       " <selenium.webdriver.remote.webelement.WebElement (session=\"1eac8ba0d18696da1845465653989864\", element=\"6e1d8af1-f6dc-42ec-a4d6-4ec08faa8db8\")>,\n",
       " <selenium.webdriver.remote.webelement.WebElement (session=\"1eac8ba0d18696da1845465653989864\", element=\"0f787fdf-71a1-4f3e-8c48-977f5926fa89\")>,\n",
       " <selenium.webdriver.remote.webelement.WebElement (session=\"1eac8ba0d18696da1845465653989864\", element=\"6380be7c-48b0-45a3-b027-54eb183eb292\")>,\n",
       " <selenium.webdriver.remote.webelement.WebElement (session=\"1eac8ba0d18696da1845465653989864\", element=\"f65d7f71-6d42-44e8-bd3f-29054e465a7b\")>,\n",
       " <selenium.webdriver.remote.webelement.WebElement (session=\"1eac8ba0d18696da1845465653989864\", element=\"8e010b86-7196-4faa-ab3f-c84d41e21e3f\")>,\n",
       " <selenium.webdriver.remote.webelement.WebElement (session=\"1eac8ba0d18696da1845465653989864\", element=\"644588b7-86cc-4669-9812-eadec0ee1087\")>,\n",
       " <selenium.webdriver.remote.webelement.WebElement (session=\"1eac8ba0d18696da1845465653989864\", element=\"d585fb01-ac8d-41de-9013-bdbf395e625f\")>,\n",
       " <selenium.webdriver.remote.webelement.WebElement (session=\"1eac8ba0d18696da1845465653989864\", element=\"04af0132-0362-4ca6-9860-ce3b45b55d06\")>,\n",
       " <selenium.webdriver.remote.webelement.WebElement (session=\"1eac8ba0d18696da1845465653989864\", element=\"ba94c0f6-f58f-49d7-b146-c06665806e4d\")>,\n",
       " <selenium.webdriver.remote.webelement.WebElement (session=\"1eac8ba0d18696da1845465653989864\", element=\"8f1e0357-6125-4732-ad04-fff63c4f932d\")>,\n",
       " <selenium.webdriver.remote.webelement.WebElement (session=\"1eac8ba0d18696da1845465653989864\", element=\"f85484a9-6d4f-422c-b74d-42b52e5642f3\")>,\n",
       " <selenium.webdriver.remote.webelement.WebElement (session=\"1eac8ba0d18696da1845465653989864\", element=\"ce4b1efb-a651-4f70-9702-04c5cf0d49bb\")>,\n",
       " <selenium.webdriver.remote.webelement.WebElement (session=\"1eac8ba0d18696da1845465653989864\", element=\"41b71497-09c4-4d59-b89b-f6c6995bd604\")>,\n",
       " <selenium.webdriver.remote.webelement.WebElement (session=\"1eac8ba0d18696da1845465653989864\", element=\"69b7eb11-699b-465f-be4b-a7f8c4f9360d\")>,\n",
       " <selenium.webdriver.remote.webelement.WebElement (session=\"1eac8ba0d18696da1845465653989864\", element=\"7747c329-7958-4bfa-953d-795f9b386acc\")>,\n",
       " <selenium.webdriver.remote.webelement.WebElement (session=\"1eac8ba0d18696da1845465653989864\", element=\"4416acd9-8a42-4b47-96cf-4788b6923ea8\")>,\n",
       " <selenium.webdriver.remote.webelement.WebElement (session=\"1eac8ba0d18696da1845465653989864\", element=\"923993ba-b1f5-4cdc-9b24-2733cb38cf4c\")>,\n",
       " <selenium.webdriver.remote.webelement.WebElement (session=\"1eac8ba0d18696da1845465653989864\", element=\"bb5fc0f9-b504-4541-8745-57c04d756e0e\")>,\n",
       " <selenium.webdriver.remote.webelement.WebElement (session=\"1eac8ba0d18696da1845465653989864\", element=\"14330925-637b-470f-acc2-e76c94259fb7\")>,\n",
       " <selenium.webdriver.remote.webelement.WebElement (session=\"1eac8ba0d18696da1845465653989864\", element=\"04391366-a535-4a46-b9d0-b42673853b9e\")>,\n",
       " <selenium.webdriver.remote.webelement.WebElement (session=\"1eac8ba0d18696da1845465653989864\", element=\"58d02a4c-9ca7-478c-9855-797afb3d8ac1\")>,\n",
       " <selenium.webdriver.remote.webelement.WebElement (session=\"1eac8ba0d18696da1845465653989864\", element=\"e2d7caf4-d7f4-4772-9727-962ccba19d86\")>]"
      ]
     },
     "execution_count": 169,
     "metadata": {},
     "output_type": "execute_result"
    }
   ],
   "source": [
    "brands_tags = driver.find_elements_by_xpath(\"//div[@class='_2WkVRV']\")\n",
    "brands_tags"
   ]
  },
  {
   "cell_type": "code",
   "execution_count": 170,
   "metadata": {},
   "outputs": [
    {
     "data": {
      "text/plain": [
       "['Robbie jones',\n",
       " 'believe',\n",
       " 'Numenzo',\n",
       " 'Chevit',\n",
       " 'T-ROCK',\n",
       " 'Arohi',\n",
       " '3SIX5',\n",
       " 'Chevit',\n",
       " 'kardam&sons',\n",
       " 'Alfiya',\n",
       " 'Jokatoo',\n",
       " 'BRUTON',\n",
       " 'World Wear Footwear',\n",
       " 'bluemaker',\n",
       " 'World Wear Footwear',\n",
       " 'bluemaker',\n",
       " 'Fzzirok',\n",
       " 'Robbie jones',\n",
       " 'Absolute comfort',\n",
       " 'Echor',\n",
       " 'SPARX',\n",
       " 'World Wear Footwear',\n",
       " 'Ktiz',\n",
       " 'bluemaker',\n",
       " 'restinfoot',\n",
       " 'Chevit',\n",
       " 'WRIZT',\n",
       " 'bluemaker',\n",
       " 'ESSENCE',\n",
       " 'Robbie jones',\n",
       " 'ESSENCE',\n",
       " 'Aircum',\n",
       " 'SPARX',\n",
       " 'HOTSTYLE',\n",
       " 'Fzzirok',\n",
       " 'SHOELIFE',\n",
       " 'Bonexy',\n",
       " 'World Wear Footwear',\n",
       " 'ESSENCE',\n",
       " 'Youthfashionhub']"
      ]
     },
     "execution_count": 170,
     "metadata": {},
     "output_type": "execute_result"
    }
   ],
   "source": [
    "brands = [] # creating empty list to store values\n",
    "for i in brands_tags:   # running loop\n",
    "    brands.append(i.text)\n",
    "    \n",
    "brands"
   ]
  },
  {
   "cell_type": "code",
   "execution_count": 171,
   "metadata": {},
   "outputs": [],
   "source": [
    "#scrapping the required details\n",
    "\n",
    "start=0\n",
    "\n",
    "end=4\n",
    "\n",
    "for page in range(start,end):#for loop for scrapping 4 page\n",
    "\n",
    "    brands=driver.find_elements_by_class_name('_2WkVRV')#scraping brands name by class name='_2WkVRV'\n",
    "\n",
    "    for i in brands:\n",
    "\n",
    "        brand.append(i.text)#appending the text in Brand list"
   ]
  },
  {
   "cell_type": "code",
   "execution_count": 172,
   "metadata": {},
   "outputs": [
    {
     "data": {
      "text/plain": [
       "['BRUTON',\n",
       " 'DUCATI',\n",
       " 'Robbie jones',\n",
       " 'CALCADOS',\n",
       " 'Shoes Bank',\n",
       " 'Robbie jones',\n",
       " 'World Wear Footwear',\n",
       " 'DUCATI',\n",
       " 'Robbie jones',\n",
       " 'ASTEROID',\n",
       " 'Nilatin',\n",
       " 'French Connection',\n",
       " 'ESSENCE',\n",
       " 'PEHANOSA',\n",
       " 'Numenzo',\n",
       " 'Birde',\n",
       " 'Stefano Rads',\n",
       " 'Birde',\n",
       " 'KULP',\n",
       " 'U.S. POLO ASSN.',\n",
       " 'Chevit',\n",
       " 'bluemaker',\n",
       " 'Robbie jones',\n",
       " 'Robbie jones',\n",
       " 'BRUTON',\n",
       " 'Robbie jones',\n",
       " 'Kraasa',\n",
       " 'Robbie jones',\n",
       " 'Robbie jones',\n",
       " 'Chevit',\n",
       " 'SCATCHITE',\n",
       " 'Robbie jones',\n",
       " 'D-SNEAKERZ',\n",
       " 'Chevit',\n",
       " 'India hub',\n",
       " 'DUCATI',\n",
       " 'Magnolia',\n",
       " 'HOTSTYLE',\n",
       " 'Robbie jones',\n",
       " 'AMICO',\n",
       " 'Robbie jones',\n",
       " 'believe',\n",
       " 'Numenzo',\n",
       " 'Chevit',\n",
       " 'T-ROCK',\n",
       " 'Arohi',\n",
       " '3SIX5',\n",
       " 'Chevit',\n",
       " 'kardam&sons',\n",
       " 'Alfiya',\n",
       " 'Jokatoo',\n",
       " 'BRUTON',\n",
       " 'World Wear Footwear',\n",
       " 'bluemaker',\n",
       " 'World Wear Footwear',\n",
       " 'bluemaker',\n",
       " 'Fzzirok',\n",
       " 'Robbie jones',\n",
       " 'Absolute comfort',\n",
       " 'Echor',\n",
       " 'SPARX',\n",
       " 'World Wear Footwear',\n",
       " 'Ktiz',\n",
       " 'bluemaker',\n",
       " 'restinfoot',\n",
       " 'Chevit',\n",
       " 'WRIZT',\n",
       " 'bluemaker',\n",
       " 'ESSENCE',\n",
       " 'Robbie jones',\n",
       " 'ESSENCE',\n",
       " 'Aircum',\n",
       " 'SPARX',\n",
       " 'HOTSTYLE',\n",
       " 'Fzzirok',\n",
       " 'SHOELIFE',\n",
       " 'Bonexy',\n",
       " 'World Wear Footwear',\n",
       " 'ESSENCE',\n",
       " 'Youthfashionhub',\n",
       " 'Robbie jones',\n",
       " 'believe',\n",
       " 'Numenzo',\n",
       " 'Chevit',\n",
       " 'T-ROCK',\n",
       " 'Arohi',\n",
       " '3SIX5',\n",
       " 'Chevit',\n",
       " 'kardam&sons',\n",
       " 'Alfiya',\n",
       " 'Jokatoo',\n",
       " 'BRUTON',\n",
       " 'World Wear Footwear',\n",
       " 'bluemaker',\n",
       " 'World Wear Footwear',\n",
       " 'bluemaker',\n",
       " 'Fzzirok',\n",
       " 'Robbie jones',\n",
       " 'Absolute comfort',\n",
       " 'Echor']"
      ]
     },
     "execution_count": 172,
     "metadata": {},
     "output_type": "execute_result"
    }
   ],
   "source": [
    "brand[:100]"
   ]
  },
  {
   "cell_type": "code",
   "execution_count": 173,
   "metadata": {},
   "outputs": [],
   "source": [
    "previous_page = driver.find_element_by_xpath(\"//a[@class='_1LKTO3']\")\n",
    "previous_page.click()"
   ]
  },
  {
   "cell_type": "code",
   "execution_count": 174,
   "metadata": {},
   "outputs": [
    {
     "data": {
      "text/plain": [
       "[<selenium.webdriver.remote.webelement.WebElement (session=\"1eac8ba0d18696da1845465653989864\", element=\"0ee13d08-e061-464a-8e07-1234da5f9bde\")>,\n",
       " <selenium.webdriver.remote.webelement.WebElement (session=\"1eac8ba0d18696da1845465653989864\", element=\"2993b2ca-bc3d-4a80-a881-2e819612069b\")>,\n",
       " <selenium.webdriver.remote.webelement.WebElement (session=\"1eac8ba0d18696da1845465653989864\", element=\"2bf4d21d-7c6d-4ade-bda3-f5a49029944a\")>,\n",
       " <selenium.webdriver.remote.webelement.WebElement (session=\"1eac8ba0d18696da1845465653989864\", element=\"f5a40813-7bef-43b3-b4ed-533845dbbeee\")>,\n",
       " <selenium.webdriver.remote.webelement.WebElement (session=\"1eac8ba0d18696da1845465653989864\", element=\"3a3a73fa-fc11-4f8d-a68d-cb8702bc159a\")>,\n",
       " <selenium.webdriver.remote.webelement.WebElement (session=\"1eac8ba0d18696da1845465653989864\", element=\"b2cf515d-72fb-433f-a0cd-aeee23dad010\")>,\n",
       " <selenium.webdriver.remote.webelement.WebElement (session=\"1eac8ba0d18696da1845465653989864\", element=\"a3f698fa-cf1c-4df0-a628-2ab10e5000d5\")>,\n",
       " <selenium.webdriver.remote.webelement.WebElement (session=\"1eac8ba0d18696da1845465653989864\", element=\"f47a189b-1cec-4880-b000-83c19546085e\")>,\n",
       " <selenium.webdriver.remote.webelement.WebElement (session=\"1eac8ba0d18696da1845465653989864\", element=\"3d04b8a4-d7f5-44d9-aabe-51e3d6af7524\")>,\n",
       " <selenium.webdriver.remote.webelement.WebElement (session=\"1eac8ba0d18696da1845465653989864\", element=\"12ccaef1-d845-4f86-8bc1-16cc042ffdf1\")>,\n",
       " <selenium.webdriver.remote.webelement.WebElement (session=\"1eac8ba0d18696da1845465653989864\", element=\"54abde93-1dd1-46b1-a0de-f19038123d9c\")>,\n",
       " <selenium.webdriver.remote.webelement.WebElement (session=\"1eac8ba0d18696da1845465653989864\", element=\"bd5545e4-c916-467b-b598-046d8f0e6bd1\")>,\n",
       " <selenium.webdriver.remote.webelement.WebElement (session=\"1eac8ba0d18696da1845465653989864\", element=\"7430ed95-6e68-4e33-8ff4-8bdbb458bd38\")>,\n",
       " <selenium.webdriver.remote.webelement.WebElement (session=\"1eac8ba0d18696da1845465653989864\", element=\"5c2673ea-fb41-49c4-9f96-3e3619fb00ed\")>,\n",
       " <selenium.webdriver.remote.webelement.WebElement (session=\"1eac8ba0d18696da1845465653989864\", element=\"348620cf-160c-4c50-a30d-372498be70e5\")>,\n",
       " <selenium.webdriver.remote.webelement.WebElement (session=\"1eac8ba0d18696da1845465653989864\", element=\"86087517-2904-4427-98d3-a2b70a4b7a79\")>,\n",
       " <selenium.webdriver.remote.webelement.WebElement (session=\"1eac8ba0d18696da1845465653989864\", element=\"3ce03045-f8e8-4890-8592-7824fb1e426e\")>,\n",
       " <selenium.webdriver.remote.webelement.WebElement (session=\"1eac8ba0d18696da1845465653989864\", element=\"8ca32fcd-4a4f-472f-b5b3-d791ce218846\")>,\n",
       " <selenium.webdriver.remote.webelement.WebElement (session=\"1eac8ba0d18696da1845465653989864\", element=\"98a31d18-813c-4d1e-aef8-5a204ebb6d2d\")>,\n",
       " <selenium.webdriver.remote.webelement.WebElement (session=\"1eac8ba0d18696da1845465653989864\", element=\"1733547e-867b-4851-aed6-61da44a33e8b\")>,\n",
       " <selenium.webdriver.remote.webelement.WebElement (session=\"1eac8ba0d18696da1845465653989864\", element=\"5d42ebcf-6972-4e05-8506-132018bf65f0\")>,\n",
       " <selenium.webdriver.remote.webelement.WebElement (session=\"1eac8ba0d18696da1845465653989864\", element=\"b47a1640-db0e-405f-8681-a1a20f745d92\")>,\n",
       " <selenium.webdriver.remote.webelement.WebElement (session=\"1eac8ba0d18696da1845465653989864\", element=\"3fae6c5f-53f6-4ed1-8ae9-417d2056dcc1\")>,\n",
       " <selenium.webdriver.remote.webelement.WebElement (session=\"1eac8ba0d18696da1845465653989864\", element=\"58176297-ca11-407a-89d7-2aa87b22812a\")>,\n",
       " <selenium.webdriver.remote.webelement.WebElement (session=\"1eac8ba0d18696da1845465653989864\", element=\"2e25dc75-44a1-488d-809e-db53dc48da3b\")>,\n",
       " <selenium.webdriver.remote.webelement.WebElement (session=\"1eac8ba0d18696da1845465653989864\", element=\"d942b134-743c-42b7-982e-ed20ab22c69e\")>,\n",
       " <selenium.webdriver.remote.webelement.WebElement (session=\"1eac8ba0d18696da1845465653989864\", element=\"49448340-c483-4bac-b9f5-9fdc468b3b58\")>,\n",
       " <selenium.webdriver.remote.webelement.WebElement (session=\"1eac8ba0d18696da1845465653989864\", element=\"366a429e-cdbc-47ea-9dc8-8a3f71699883\")>,\n",
       " <selenium.webdriver.remote.webelement.WebElement (session=\"1eac8ba0d18696da1845465653989864\", element=\"24fbc3bb-4fdb-4dfb-8a47-23e2dffea860\")>,\n",
       " <selenium.webdriver.remote.webelement.WebElement (session=\"1eac8ba0d18696da1845465653989864\", element=\"bda6a8f0-ed53-4939-a165-71677f1c382f\")>,\n",
       " <selenium.webdriver.remote.webelement.WebElement (session=\"1eac8ba0d18696da1845465653989864\", element=\"44f16672-522c-42e2-a092-126c1681180b\")>,\n",
       " <selenium.webdriver.remote.webelement.WebElement (session=\"1eac8ba0d18696da1845465653989864\", element=\"67f3c5da-43bc-4421-b95b-b17eaba2449d\")>,\n",
       " <selenium.webdriver.remote.webelement.WebElement (session=\"1eac8ba0d18696da1845465653989864\", element=\"c35b6c4d-9acc-47bd-91fe-db30df6577cf\")>,\n",
       " <selenium.webdriver.remote.webelement.WebElement (session=\"1eac8ba0d18696da1845465653989864\", element=\"bfe45dfd-1a45-4adb-b375-a5dd77a97b96\")>,\n",
       " <selenium.webdriver.remote.webelement.WebElement (session=\"1eac8ba0d18696da1845465653989864\", element=\"ad53b0b2-4629-4d47-8d1e-5dd1fedf26b3\")>,\n",
       " <selenium.webdriver.remote.webelement.WebElement (session=\"1eac8ba0d18696da1845465653989864\", element=\"33c361de-469a-4aa7-b515-060777f00aae\")>,\n",
       " <selenium.webdriver.remote.webelement.WebElement (session=\"1eac8ba0d18696da1845465653989864\", element=\"57526777-b43b-49f8-9043-c30bb2559d4c\")>]"
      ]
     },
     "execution_count": 174,
     "metadata": {},
     "output_type": "execute_result"
    }
   ],
   "source": [
    "product_desc = driver.find_elements_by_xpath(\"//a[@class='IRpwTa']\")\n",
    "product_desc"
   ]
  },
  {
   "cell_type": "code",
   "execution_count": 175,
   "metadata": {},
   "outputs": [
    {
     "data": {
      "text/plain": [
       "['Combo Pack Of 4 Casual Shoes Loafer Shoes Sneakers For ...',\n",
       " 'Sneakers For Men',\n",
       " 'Casual Sneakers Shoes For Men Sneakers For Men',\n",
       " \"White Sneaker For Men's/Boy's Sneakers For Men\",\n",
       " '5011-Latest Collection Stylish Casual Loafer Sneakers S...',\n",
       " 'Casual Sneakers Green Shoes For Men And Boys Sneakers F...',\n",
       " 'DTSS18FT-002 Sneakers For Men',\n",
       " 'Casual Sneakers Green Shoes For Men And Boys Sneakers F...',\n",
       " \"Original Luxury Branded Fashionable Men's Casual Walkin...\",\n",
       " 'Black Sneaker For Men Sneakers For Men',\n",
       " 'Combo Pack of 5 Casual Shoes Loafers Sneakers For Men',\n",
       " 'Casuals Sneakers For Men',\n",
       " 'Sneakers For Men',\n",
       " 'Sneakers For Men',\n",
       " 'LEBRON 2.0 Sneakers For Men',\n",
       " 'heart beat Sneakers For Men',\n",
       " 'Combo Pack of 4 Casual Shoes Sneakers For Men',\n",
       " 'Casual Sneakers Shoes For Men And Boys Sneakers For Men',\n",
       " 'Super Stylish & Trendy Combo Pack of 02 Pairs Sneakers ...',\n",
       " 'Sneakers For Men',\n",
       " 'Combo Pack Of 4 Casual Sneakers For Men',\n",
       " 'Casual Sneakers Shoes For Men Sneakers For Men',\n",
       " 'casual for men (blue 10) Sneakers For Men',\n",
       " 'Casual Sneakers Green Shoes For Men And Boys Sneakers F...',\n",
       " 'Series 7 Sneakers For Men',\n",
       " 'Sneakers For Men',\n",
       " 'Sneakers For Men',\n",
       " 'Sneakers Sneakers For Men',\n",
       " 'Unique & Perfect Collection Combo Pack of 02 Shoes for ...',\n",
       " 'Sneakers For Men',\n",
       " 'Fashionable casual sneakers shoes Sneakers For Men',\n",
       " \"Casual , Partywear Sneakers Shoes For Men's And Boys Wh...\",\n",
       " 'Speed Set of 5 Pairs Sneakers Outdoors Casuals for Men ...',\n",
       " 'Designer Printed Casual Sneakers Shoes Sneakers For Men',\n",
       " 'Sneakers For Men',\n",
       " 'Sneakers Sneakers For Men',\n",
       " 'X-Ray 2 Square Sneakers For Men']"
      ]
     },
     "execution_count": 175,
     "metadata": {},
     "output_type": "execute_result"
    }
   ],
   "source": [
    "description = [] # creating empty list to store values\n",
    "for i in product_desc:   # running loop\n",
    "    description.append(i.text)\n",
    "    \n",
    "description"
   ]
  },
  {
   "cell_type": "code",
   "execution_count": 176,
   "metadata": {},
   "outputs": [
    {
     "data": {
      "text/plain": [
       "37"
      ]
     },
     "execution_count": 176,
     "metadata": {},
     "output_type": "execute_result"
    }
   ],
   "source": [
    "len(description)"
   ]
  },
  {
   "cell_type": "code",
   "execution_count": 177,
   "metadata": {},
   "outputs": [],
   "source": [
    "next_page = driver.find_element_by_xpath(\"//a[@class='_1LKTO3']\")\n",
    "next_page.click()"
   ]
  },
  {
   "cell_type": "code",
   "execution_count": 178,
   "metadata": {},
   "outputs": [
    {
     "data": {
      "text/plain": [
       "[<selenium.webdriver.remote.webelement.WebElement (session=\"1eac8ba0d18696da1845465653989864\", element=\"f6b3b6b4-c4bc-4a26-8928-9f14819c9774\")>,\n",
       " <selenium.webdriver.remote.webelement.WebElement (session=\"1eac8ba0d18696da1845465653989864\", element=\"4d946ed0-e60f-4975-84a8-5dd8299075d4\")>,\n",
       " <selenium.webdriver.remote.webelement.WebElement (session=\"1eac8ba0d18696da1845465653989864\", element=\"8d3f8f3f-003f-4824-87ef-5b24eba43dce\")>,\n",
       " <selenium.webdriver.remote.webelement.WebElement (session=\"1eac8ba0d18696da1845465653989864\", element=\"9dfbed87-282c-42bc-8f43-3c5fc01d5455\")>,\n",
       " <selenium.webdriver.remote.webelement.WebElement (session=\"1eac8ba0d18696da1845465653989864\", element=\"ddf97491-a56e-4c27-b9ae-ea9e25cb081f\")>,\n",
       " <selenium.webdriver.remote.webelement.WebElement (session=\"1eac8ba0d18696da1845465653989864\", element=\"9d30067c-f62f-41ee-afc8-4c605677e5ba\")>,\n",
       " <selenium.webdriver.remote.webelement.WebElement (session=\"1eac8ba0d18696da1845465653989864\", element=\"e5cb1ab6-502d-4771-a009-5bbcb0e347ca\")>,\n",
       " <selenium.webdriver.remote.webelement.WebElement (session=\"1eac8ba0d18696da1845465653989864\", element=\"ee193768-cb19-46bd-bbdd-0eb3b36c9082\")>,\n",
       " <selenium.webdriver.remote.webelement.WebElement (session=\"1eac8ba0d18696da1845465653989864\", element=\"ae2a8b0e-74d4-48e4-b7bd-b07a0fe39350\")>,\n",
       " <selenium.webdriver.remote.webelement.WebElement (session=\"1eac8ba0d18696da1845465653989864\", element=\"3945c2cb-c0e8-4d18-9080-604f267cddce\")>,\n",
       " <selenium.webdriver.remote.webelement.WebElement (session=\"1eac8ba0d18696da1845465653989864\", element=\"c05866fe-002c-416b-9052-0a293a50e286\")>,\n",
       " <selenium.webdriver.remote.webelement.WebElement (session=\"1eac8ba0d18696da1845465653989864\", element=\"a3ee6677-2960-4410-9012-f627d24b25ce\")>,\n",
       " <selenium.webdriver.remote.webelement.WebElement (session=\"1eac8ba0d18696da1845465653989864\", element=\"7cf8519e-d31c-44e2-8a6f-0679c6771fa6\")>,\n",
       " <selenium.webdriver.remote.webelement.WebElement (session=\"1eac8ba0d18696da1845465653989864\", element=\"8eba1b15-ab6c-4aaf-a36b-701534d34648\")>,\n",
       " <selenium.webdriver.remote.webelement.WebElement (session=\"1eac8ba0d18696da1845465653989864\", element=\"dc44dfc6-3402-4e44-a2bc-de6d61909977\")>,\n",
       " <selenium.webdriver.remote.webelement.WebElement (session=\"1eac8ba0d18696da1845465653989864\", element=\"cb08e27f-d0d6-41c2-8ecd-d1a0b0e8ffae\")>,\n",
       " <selenium.webdriver.remote.webelement.WebElement (session=\"1eac8ba0d18696da1845465653989864\", element=\"623cdbcc-9d24-47f2-b5ef-b84ec849e8ff\")>,\n",
       " <selenium.webdriver.remote.webelement.WebElement (session=\"1eac8ba0d18696da1845465653989864\", element=\"80c8eb01-6aad-44c8-8c47-73a5f8c8ac19\")>,\n",
       " <selenium.webdriver.remote.webelement.WebElement (session=\"1eac8ba0d18696da1845465653989864\", element=\"7bd6a5b8-5f4d-47fe-8f7c-f695e1e4d345\")>,\n",
       " <selenium.webdriver.remote.webelement.WebElement (session=\"1eac8ba0d18696da1845465653989864\", element=\"a4530f5a-77c1-47f4-9eaa-eff956a02a59\")>,\n",
       " <selenium.webdriver.remote.webelement.WebElement (session=\"1eac8ba0d18696da1845465653989864\", element=\"00b5fef5-e03f-4c67-911e-860b31e40a4d\")>,\n",
       " <selenium.webdriver.remote.webelement.WebElement (session=\"1eac8ba0d18696da1845465653989864\", element=\"a4bdf2ca-13e4-471a-8997-84c8bb55d051\")>,\n",
       " <selenium.webdriver.remote.webelement.WebElement (session=\"1eac8ba0d18696da1845465653989864\", element=\"cb09aae1-7f4e-42dc-9574-b1e862454995\")>,\n",
       " <selenium.webdriver.remote.webelement.WebElement (session=\"1eac8ba0d18696da1845465653989864\", element=\"aeb35e6d-5053-48ee-a754-fb7ec648dca4\")>,\n",
       " <selenium.webdriver.remote.webelement.WebElement (session=\"1eac8ba0d18696da1845465653989864\", element=\"50b9d4a3-4b15-4519-91d3-fecfb5acfdfd\")>,\n",
       " <selenium.webdriver.remote.webelement.WebElement (session=\"1eac8ba0d18696da1845465653989864\", element=\"0a64115d-829b-4c5a-ac5a-01d801fd71b9\")>,\n",
       " <selenium.webdriver.remote.webelement.WebElement (session=\"1eac8ba0d18696da1845465653989864\", element=\"75edc080-f8e9-4ccf-bb62-e98240222af9\")>,\n",
       " <selenium.webdriver.remote.webelement.WebElement (session=\"1eac8ba0d18696da1845465653989864\", element=\"96e55f33-e237-412c-aa86-922e6f15ad71\")>,\n",
       " <selenium.webdriver.remote.webelement.WebElement (session=\"1eac8ba0d18696da1845465653989864\", element=\"af29a179-52e2-4a5a-8cf5-b0fe3b31a3af\")>,\n",
       " <selenium.webdriver.remote.webelement.WebElement (session=\"1eac8ba0d18696da1845465653989864\", element=\"62a03536-5735-49e5-80b0-912e61140b9a\")>,\n",
       " <selenium.webdriver.remote.webelement.WebElement (session=\"1eac8ba0d18696da1845465653989864\", element=\"65d23b33-fe80-4ae0-aef3-94e55592bdc9\")>,\n",
       " <selenium.webdriver.remote.webelement.WebElement (session=\"1eac8ba0d18696da1845465653989864\", element=\"781d4066-f7a8-467a-b44b-7dfd06a694c0\")>]"
      ]
     },
     "execution_count": 178,
     "metadata": {},
     "output_type": "execute_result"
    }
   ],
   "source": [
    "descriptions_tags = driver.find_elements_by_xpath(\"//a[@class='IRpwTa']\")\n",
    "descriptions_tags"
   ]
  },
  {
   "cell_type": "code",
   "execution_count": 179,
   "metadata": {},
   "outputs": [
    {
     "data": {
      "text/plain": [
       "['Sneakers for men(black_6) Sneakers For Men',\n",
       " 'Sneakers For Men',\n",
       " 'DTSS18FT-002 Sneakers For Men',\n",
       " 'Synthetic Leather Casual Partywear Wedding Sneakers Sho...',\n",
       " 'Sneakers For Men',\n",
       " 'Combo Pack of 5 Casual Shoes Loafers Sneakers For Men',\n",
       " 'Fashionable casual sneaker shoes Sneakers For Men',\n",
       " 'Latest Collection-1227 Stylish Casual Sports Sneakers F...',\n",
       " 'LEBRON 2.0 Sneakers For Men',\n",
       " 'Shoes in Black Color Party wear/OutShoes in Black Color...',\n",
       " 'Men 5014 Latest Collection Stylish Casual Sports Loafer...',\n",
       " 'Designer Printed Casual Sneakers Shoes Sneakers For Men',\n",
       " 'casual for men (beige 06) Sneakers For Men',\n",
       " 'Casual Sneakers White Shoes For Men Sneakers For Men',\n",
       " 'SM-322 Sneakers For Men',\n",
       " 'Sneakers For Men',\n",
       " 'Combo Pack of 4 Latest Collection Stylish Casual Loafer...',\n",
       " \"Casual shoes,Sneakers for men's,shoes for men's Sneaker...\",\n",
       " 'Sneakers For Men',\n",
       " 'Rockstyle Trending Multicolor Ultralight canvas Sport/ ...',\n",
       " 'Super 445 Fashion Sneakers For Men',\n",
       " 'Combo Pack of 4 Casual Sneakers With Sneakers For Men',\n",
       " 'Sneakers For Men',\n",
       " 'Sneakers Sneakers For Men',\n",
       " \"Super & Trendy Men's Pack of 02 Pair Shoes for Boys Cas...\",\n",
       " 'Trendy Sneakers For Men',\n",
       " 'Sneakers For Men',\n",
       " 'Trendy Sneakers For Men',\n",
       " 'Trendy Fashion Sports Combo Pack Of 3 Pairs Outdoor Run...',\n",
       " 'Sneakers For Men',\n",
       " 'Speeder DP Sneakers For Men',\n",
       " 'Sneakers For Men']"
      ]
     },
     "execution_count": 179,
     "metadata": {},
     "output_type": "execute_result"
    }
   ],
   "source": [
    "descriptions = [] # creating empty list to store values\n",
    "for i in descriptions_tags:   # running loop\n",
    "    descriptions.append(i.text)\n",
    "    \n",
    "descriptions"
   ]
  },
  {
   "cell_type": "code",
   "execution_count": 180,
   "metadata": {},
   "outputs": [],
   "source": [
    "#scrapping the required details\n",
    "\n",
    "start=0\n",
    "\n",
    "end=4\n",
    "\n",
    "for page in range(start,end):#for loop for scrapping 4 page\n",
    "\n",
    "    descriptions=driver.find_elements_by_class_name('IRpwTa')#scraping descriptions name by class name='IRpwTa'\n",
    "\n",
    "    for i in descriptions:\n",
    "\n",
    "        description.append(i.text)#appending the text in description list"
   ]
  },
  {
   "cell_type": "code",
   "execution_count": 181,
   "metadata": {},
   "outputs": [
    {
     "data": {
      "text/plain": [
       "['Combo Pack Of 4 Casual Shoes Loafer Shoes Sneakers For ...',\n",
       " 'Sneakers For Men',\n",
       " 'Casual Sneakers Shoes For Men Sneakers For Men',\n",
       " \"White Sneaker For Men's/Boy's Sneakers For Men\",\n",
       " '5011-Latest Collection Stylish Casual Loafer Sneakers S...',\n",
       " 'Casual Sneakers Green Shoes For Men And Boys Sneakers F...',\n",
       " 'DTSS18FT-002 Sneakers For Men',\n",
       " 'Casual Sneakers Green Shoes For Men And Boys Sneakers F...',\n",
       " \"Original Luxury Branded Fashionable Men's Casual Walkin...\",\n",
       " 'Black Sneaker For Men Sneakers For Men',\n",
       " 'Combo Pack of 5 Casual Shoes Loafers Sneakers For Men',\n",
       " 'Casuals Sneakers For Men',\n",
       " 'Sneakers For Men',\n",
       " 'Sneakers For Men',\n",
       " 'LEBRON 2.0 Sneakers For Men',\n",
       " 'heart beat Sneakers For Men',\n",
       " 'Combo Pack of 4 Casual Shoes Sneakers For Men',\n",
       " 'Casual Sneakers Shoes For Men And Boys Sneakers For Men',\n",
       " 'Super Stylish & Trendy Combo Pack of 02 Pairs Sneakers ...',\n",
       " 'Sneakers For Men',\n",
       " 'Combo Pack Of 4 Casual Sneakers For Men',\n",
       " 'Casual Sneakers Shoes For Men Sneakers For Men',\n",
       " 'casual for men (blue 10) Sneakers For Men',\n",
       " 'Casual Sneakers Green Shoes For Men And Boys Sneakers F...',\n",
       " 'Series 7 Sneakers For Men',\n",
       " 'Sneakers For Men',\n",
       " 'Sneakers For Men',\n",
       " 'Sneakers Sneakers For Men',\n",
       " 'Unique & Perfect Collection Combo Pack of 02 Shoes for ...',\n",
       " 'Sneakers For Men',\n",
       " 'Fashionable casual sneakers shoes Sneakers For Men',\n",
       " \"Casual , Partywear Sneakers Shoes For Men's And Boys Wh...\",\n",
       " 'Speed Set of 5 Pairs Sneakers Outdoors Casuals for Men ...',\n",
       " 'Designer Printed Casual Sneakers Shoes Sneakers For Men',\n",
       " 'Sneakers For Men',\n",
       " 'Sneakers Sneakers For Men',\n",
       " 'X-Ray 2 Square Sneakers For Men',\n",
       " 'Sneakers For Men',\n",
       " 'Sneakers for men(black_6) Sneakers For Men',\n",
       " 'Sneakers For Men',\n",
       " 'DTSS18FT-002 Sneakers For Men',\n",
       " 'Synthetic Leather Casual Partywear Wedding Sneakers Sho...',\n",
       " 'Sneakers For Men',\n",
       " 'Sneakers For Men',\n",
       " 'Combo Pack of 5 Casual Shoes Loafers Sneakers For Men',\n",
       " 'Fashionable casual sneaker shoes Sneakers For Men',\n",
       " 'Latest Collection-1227 Stylish Casual Sports Sneakers F...',\n",
       " 'casual sneaker shoes and partywear shoes Casuals For Me...',\n",
       " 'LEBRON 2.0 Sneakers For Men',\n",
       " 'Shoes in Black Color Party wear/OutShoes in Black Color...',\n",
       " 'Premium quality Sneakers For Men',\n",
       " 'Men 5014 Latest Collection Stylish Casual Sports Loafer...',\n",
       " 'Designer Printed Casual Sneakers Shoes Sneakers For Men',\n",
       " 'casual for men (beige 06) Sneakers For Men',\n",
       " 'Casual Sneakers White Shoes For Men Sneakers For Men',\n",
       " 'SM-322 Sneakers For Men',\n",
       " 'Sneakers For Men',\n",
       " 'Combo Pack of 4 Latest Collection Stylish Casual Loafer...',\n",
       " 'REDT Sneakers For Men',\n",
       " \"Casual shoes,Sneakers for men's,shoes for men's Sneaker...\",\n",
       " 'Sneakers For Men',\n",
       " 'Rockstyle Trending Multicolor Ultralight canvas Sport/ ...',\n",
       " 'Super 445 Fashion Sneakers For Men',\n",
       " 'SM439G Sneakers For Men',\n",
       " 'Combo Pack of 4 Casual Sneakers With Sneakers For Men',\n",
       " 'Casual Sneakers,dancing, walking Sneakers For Men',\n",
       " 'Sneakers For Men',\n",
       " 'Sneakers Sneakers For Men',\n",
       " \"Super & Trendy Men's Pack of 02 Pair Shoes for Boys Cas...\",\n",
       " 'Trendy Sneakers For Men',\n",
       " 'Sneakers For Men',\n",
       " 'Trendy Sneakers For Men',\n",
       " 'Trendy Fashion Sports Combo Pack Of 3 Pairs Outdoor Run...',\n",
       " 'Sneakers For Men',\n",
       " 'Sneakers For Men',\n",
       " 'Speeder DP Sneakers For Men',\n",
       " 'Sneakers For Men',\n",
       " 'Sneakers For Men',\n",
       " 'Sneakers for men(black_6) Sneakers For Men',\n",
       " 'Sneakers For Men',\n",
       " 'DTSS18FT-002 Sneakers For Men',\n",
       " 'Synthetic Leather Casual Partywear Wedding Sneakers Sho...',\n",
       " 'Sneakers For Men',\n",
       " 'Sneakers For Men',\n",
       " 'Combo Pack of 5 Casual Shoes Loafers Sneakers For Men',\n",
       " 'Fashionable casual sneaker shoes Sneakers For Men',\n",
       " 'Latest Collection-1227 Stylish Casual Sports Sneakers F...',\n",
       " 'casual sneaker shoes and partywear shoes Casuals For Me...',\n",
       " 'LEBRON 2.0 Sneakers For Men',\n",
       " 'Shoes in Black Color Party wear/OutShoes in Black Color...',\n",
       " 'Premium quality Sneakers For Men',\n",
       " 'Men 5014 Latest Collection Stylish Casual Sports Loafer...',\n",
       " 'Designer Printed Casual Sneakers Shoes Sneakers For Men',\n",
       " 'casual for men (beige 06) Sneakers For Men',\n",
       " 'Casual Sneakers White Shoes For Men Sneakers For Men',\n",
       " 'SM-322 Sneakers For Men',\n",
       " 'Sneakers For Men',\n",
       " 'Combo Pack of 4 Latest Collection Stylish Casual Loafer...',\n",
       " 'REDT Sneakers For Men',\n",
       " \"Casual shoes,Sneakers for men's,shoes for men's Sneaker...\"]"
      ]
     },
     "execution_count": 181,
     "metadata": {},
     "output_type": "execute_result"
    }
   ],
   "source": [
    "description[:100]"
   ]
  },
  {
   "cell_type": "code",
   "execution_count": 182,
   "metadata": {},
   "outputs": [],
   "source": [
    "previous_page = driver.find_element_by_xpath(\"//a[@class='_1LKTO3']\")\n",
    "previous_page.click()"
   ]
  },
  {
   "cell_type": "code",
   "execution_count": 183,
   "metadata": {},
   "outputs": [
    {
     "data": {
      "text/plain": [
       "[<selenium.webdriver.remote.webelement.WebElement (session=\"1eac8ba0d18696da1845465653989864\", element=\"d7aaa68f-20c3-4b86-b673-d9dd2ac469f3\")>,\n",
       " <selenium.webdriver.remote.webelement.WebElement (session=\"1eac8ba0d18696da1845465653989864\", element=\"c3f827ff-665d-499c-a249-6d0a42497aff\")>,\n",
       " <selenium.webdriver.remote.webelement.WebElement (session=\"1eac8ba0d18696da1845465653989864\", element=\"55881b7e-3464-4631-bc4f-fe7fd01c67ca\")>,\n",
       " <selenium.webdriver.remote.webelement.WebElement (session=\"1eac8ba0d18696da1845465653989864\", element=\"8e8b5e14-f462-42a2-9cf3-e764d35dba77\")>,\n",
       " <selenium.webdriver.remote.webelement.WebElement (session=\"1eac8ba0d18696da1845465653989864\", element=\"ed7b8df4-8f39-4c48-8f80-a15593a66f2a\")>,\n",
       " <selenium.webdriver.remote.webelement.WebElement (session=\"1eac8ba0d18696da1845465653989864\", element=\"1669cc29-a6c9-43bd-a475-5327327be403\")>,\n",
       " <selenium.webdriver.remote.webelement.WebElement (session=\"1eac8ba0d18696da1845465653989864\", element=\"85d8b1f0-34fd-430c-998c-6e37ec296f39\")>,\n",
       " <selenium.webdriver.remote.webelement.WebElement (session=\"1eac8ba0d18696da1845465653989864\", element=\"93dc2e95-3774-4861-a76e-cebc4068f141\")>,\n",
       " <selenium.webdriver.remote.webelement.WebElement (session=\"1eac8ba0d18696da1845465653989864\", element=\"9fe73fe5-d970-4c40-84c0-e2297ad5f4b1\")>,\n",
       " <selenium.webdriver.remote.webelement.WebElement (session=\"1eac8ba0d18696da1845465653989864\", element=\"66b2599b-abd7-44e5-bcf2-5bd18042314d\")>,\n",
       " <selenium.webdriver.remote.webelement.WebElement (session=\"1eac8ba0d18696da1845465653989864\", element=\"8880db29-5cc8-417f-802f-84607e7d2d51\")>,\n",
       " <selenium.webdriver.remote.webelement.WebElement (session=\"1eac8ba0d18696da1845465653989864\", element=\"6d3afe7b-df23-4504-b87e-82550a675fea\")>,\n",
       " <selenium.webdriver.remote.webelement.WebElement (session=\"1eac8ba0d18696da1845465653989864\", element=\"bda68b2d-e750-4288-97ab-063fd2edb13f\")>,\n",
       " <selenium.webdriver.remote.webelement.WebElement (session=\"1eac8ba0d18696da1845465653989864\", element=\"317862fb-7e0a-4802-a451-3c31fdfe3c5b\")>,\n",
       " <selenium.webdriver.remote.webelement.WebElement (session=\"1eac8ba0d18696da1845465653989864\", element=\"fb1b04a5-557f-43cb-8a57-1da61ddf4343\")>,\n",
       " <selenium.webdriver.remote.webelement.WebElement (session=\"1eac8ba0d18696da1845465653989864\", element=\"71454066-fac9-43a2-bb21-b474068ab6e9\")>,\n",
       " <selenium.webdriver.remote.webelement.WebElement (session=\"1eac8ba0d18696da1845465653989864\", element=\"83c37b9c-2f33-43f9-9be5-024cc2da0075\")>,\n",
       " <selenium.webdriver.remote.webelement.WebElement (session=\"1eac8ba0d18696da1845465653989864\", element=\"3c8f6069-530f-4268-8ae9-9108f7f29dee\")>,\n",
       " <selenium.webdriver.remote.webelement.WebElement (session=\"1eac8ba0d18696da1845465653989864\", element=\"0398c2b9-38dd-4683-976e-418622f0c0c2\")>,\n",
       " <selenium.webdriver.remote.webelement.WebElement (session=\"1eac8ba0d18696da1845465653989864\", element=\"7b362382-ff03-4fd9-89b6-a65fafd97090\")>,\n",
       " <selenium.webdriver.remote.webelement.WebElement (session=\"1eac8ba0d18696da1845465653989864\", element=\"3258b493-624d-4482-9be5-ef648af72fd2\")>,\n",
       " <selenium.webdriver.remote.webelement.WebElement (session=\"1eac8ba0d18696da1845465653989864\", element=\"68e048dd-29ee-414c-9da5-29b8df4bb21a\")>,\n",
       " <selenium.webdriver.remote.webelement.WebElement (session=\"1eac8ba0d18696da1845465653989864\", element=\"e9c88b1e-876a-4f61-831b-5877e87ca10a\")>,\n",
       " <selenium.webdriver.remote.webelement.WebElement (session=\"1eac8ba0d18696da1845465653989864\", element=\"70c771c6-b570-41de-aaa9-b4daa7e718ff\")>,\n",
       " <selenium.webdriver.remote.webelement.WebElement (session=\"1eac8ba0d18696da1845465653989864\", element=\"acd4e82a-c14f-400e-b867-d113b639e117\")>,\n",
       " <selenium.webdriver.remote.webelement.WebElement (session=\"1eac8ba0d18696da1845465653989864\", element=\"41bc5a2e-5b02-43a4-acfa-f55b96c98997\")>,\n",
       " <selenium.webdriver.remote.webelement.WebElement (session=\"1eac8ba0d18696da1845465653989864\", element=\"e3f2524e-f050-44d1-b6eb-42027272b0f2\")>,\n",
       " <selenium.webdriver.remote.webelement.WebElement (session=\"1eac8ba0d18696da1845465653989864\", element=\"4030890d-5bc0-47d4-b57b-ed000cb40c76\")>,\n",
       " <selenium.webdriver.remote.webelement.WebElement (session=\"1eac8ba0d18696da1845465653989864\", element=\"4cb4e704-6183-42b6-9659-e274cf6a5fa4\")>,\n",
       " <selenium.webdriver.remote.webelement.WebElement (session=\"1eac8ba0d18696da1845465653989864\", element=\"9f9220a2-0c43-4245-a5f3-889241ab8214\")>,\n",
       " <selenium.webdriver.remote.webelement.WebElement (session=\"1eac8ba0d18696da1845465653989864\", element=\"59f94072-4039-43bd-8095-52780ad9c144\")>,\n",
       " <selenium.webdriver.remote.webelement.WebElement (session=\"1eac8ba0d18696da1845465653989864\", element=\"94588138-1309-4696-add7-7f79902e3087\")>,\n",
       " <selenium.webdriver.remote.webelement.WebElement (session=\"1eac8ba0d18696da1845465653989864\", element=\"28a06c20-d3ef-4e02-a0fb-2fca983550a4\")>,\n",
       " <selenium.webdriver.remote.webelement.WebElement (session=\"1eac8ba0d18696da1845465653989864\", element=\"4e4c8e87-d2f3-43f4-b46e-490c062e57b4\")>,\n",
       " <selenium.webdriver.remote.webelement.WebElement (session=\"1eac8ba0d18696da1845465653989864\", element=\"ed244f16-f5d0-43ec-b294-2f3b26936b5a\")>,\n",
       " <selenium.webdriver.remote.webelement.WebElement (session=\"1eac8ba0d18696da1845465653989864\", element=\"4017129f-841c-47fe-b557-2faf4de2ec12\")>,\n",
       " <selenium.webdriver.remote.webelement.WebElement (session=\"1eac8ba0d18696da1845465653989864\", element=\"c908b0a2-3740-4e6a-b9d2-b4eed6eb5b90\")>,\n",
       " <selenium.webdriver.remote.webelement.WebElement (session=\"1eac8ba0d18696da1845465653989864\", element=\"1c4e9ec8-d06e-481b-8548-0d8de7f5ccde\")>,\n",
       " <selenium.webdriver.remote.webelement.WebElement (session=\"1eac8ba0d18696da1845465653989864\", element=\"129f70f1-3c7a-4eb7-b774-3778b98c9a9e\")>,\n",
       " <selenium.webdriver.remote.webelement.WebElement (session=\"1eac8ba0d18696da1845465653989864\", element=\"f60efa14-8753-410d-8a98-c7f66f3017ca\")>]"
      ]
     },
     "execution_count": 183,
     "metadata": {},
     "output_type": "execute_result"
    }
   ],
   "source": [
    "# extracting tags havings brands\n",
    "price_tags = driver.find_elements_by_xpath(\"//div[@class='_30jeq3']\")\n",
    "price_tags"
   ]
  },
  {
   "cell_type": "code",
   "execution_count": 184,
   "metadata": {},
   "outputs": [
    {
     "data": {
      "text/plain": [
       "['₹474',\n",
       " '₹1,369',\n",
       " '₹379',\n",
       " '₹748',\n",
       " '₹349',\n",
       " '₹240',\n",
       " '₹499',\n",
       " '₹488',\n",
       " '₹499',\n",
       " '₹499',\n",
       " '₹449',\n",
       " '₹474',\n",
       " '₹359',\n",
       " '₹499',\n",
       " '₹378',\n",
       " '₹3,709',\n",
       " '₹242',\n",
       " '₹399',\n",
       " '₹588',\n",
       " '₹647',\n",
       " '₹599',\n",
       " '₹474',\n",
       " '₹474',\n",
       " '₹1,479',\n",
       " '₹424',\n",
       " '₹499',\n",
       " '₹471',\n",
       " '₹399',\n",
       " '₹449',\n",
       " '₹398',\n",
       " '₹425',\n",
       " '₹499',\n",
       " '₹369',\n",
       " '₹365',\n",
       " '₹683',\n",
       " '₹380',\n",
       " '₹199',\n",
       " '₹398',\n",
       " '₹283',\n",
       " '₹424']"
      ]
     },
     "execution_count": 184,
     "metadata": {},
     "output_type": "execute_result"
    }
   ],
   "source": [
    "price = [] # creating empty list to store values\n",
    "for i in price_tags:   # running loop\n",
    "    price.append(i.text)\n",
    "    \n",
    "price"
   ]
  },
  {
   "cell_type": "code",
   "execution_count": 185,
   "metadata": {},
   "outputs": [],
   "source": [
    "next_page = driver.find_element_by_xpath(\"//a[@class='_1LKTO3']\")\n",
    "next_page.click()"
   ]
  },
  {
   "cell_type": "code",
   "execution_count": 186,
   "metadata": {},
   "outputs": [
    {
     "data": {
      "text/plain": [
       "[<selenium.webdriver.remote.webelement.WebElement (session=\"1eac8ba0d18696da1845465653989864\", element=\"fc821587-86fc-4cf6-9f9f-399a08257586\")>,\n",
       " <selenium.webdriver.remote.webelement.WebElement (session=\"1eac8ba0d18696da1845465653989864\", element=\"744e83c8-a68d-4d37-b965-daca0265096b\")>,\n",
       " <selenium.webdriver.remote.webelement.WebElement (session=\"1eac8ba0d18696da1845465653989864\", element=\"a0dec8ab-a4c9-41c9-82e5-44ef4c4994f0\")>,\n",
       " <selenium.webdriver.remote.webelement.WebElement (session=\"1eac8ba0d18696da1845465653989864\", element=\"82b9a15e-4c5d-4fe6-8231-71aa4bad07f1\")>,\n",
       " <selenium.webdriver.remote.webelement.WebElement (session=\"1eac8ba0d18696da1845465653989864\", element=\"b10cc8db-4c29-4be0-876e-5c709451eb1c\")>,\n",
       " <selenium.webdriver.remote.webelement.WebElement (session=\"1eac8ba0d18696da1845465653989864\", element=\"a4d55534-5fac-44b3-bc1c-2e694313cecb\")>,\n",
       " <selenium.webdriver.remote.webelement.WebElement (session=\"1eac8ba0d18696da1845465653989864\", element=\"5700362d-8710-490b-b0d2-ca2e4b1fb841\")>,\n",
       " <selenium.webdriver.remote.webelement.WebElement (session=\"1eac8ba0d18696da1845465653989864\", element=\"fe00a07f-abe9-4fb6-885c-01cd6eebfbbe\")>,\n",
       " <selenium.webdriver.remote.webelement.WebElement (session=\"1eac8ba0d18696da1845465653989864\", element=\"94c1507d-26c8-4f10-89d1-83adf0f842e1\")>,\n",
       " <selenium.webdriver.remote.webelement.WebElement (session=\"1eac8ba0d18696da1845465653989864\", element=\"7ee2ed1a-4a28-4297-a753-0cded4c583f8\")>,\n",
       " <selenium.webdriver.remote.webelement.WebElement (session=\"1eac8ba0d18696da1845465653989864\", element=\"582c4db1-936e-4257-8281-0bb6efef18f3\")>,\n",
       " <selenium.webdriver.remote.webelement.WebElement (session=\"1eac8ba0d18696da1845465653989864\", element=\"171ecc2e-dfb2-4189-8a85-c46982725f5d\")>,\n",
       " <selenium.webdriver.remote.webelement.WebElement (session=\"1eac8ba0d18696da1845465653989864\", element=\"85d45c82-2d37-4154-b964-a00f1078eaa2\")>,\n",
       " <selenium.webdriver.remote.webelement.WebElement (session=\"1eac8ba0d18696da1845465653989864\", element=\"c447280c-e994-4638-9322-1946923a506a\")>,\n",
       " <selenium.webdriver.remote.webelement.WebElement (session=\"1eac8ba0d18696da1845465653989864\", element=\"089ca778-ebc2-44d1-8641-22c9dea171c4\")>,\n",
       " <selenium.webdriver.remote.webelement.WebElement (session=\"1eac8ba0d18696da1845465653989864\", element=\"a3da6b9b-c085-4000-a7e9-a3d3f9b171d0\")>,\n",
       " <selenium.webdriver.remote.webelement.WebElement (session=\"1eac8ba0d18696da1845465653989864\", element=\"a2301cd1-24ad-420f-bc44-9af6c84f7e63\")>,\n",
       " <selenium.webdriver.remote.webelement.WebElement (session=\"1eac8ba0d18696da1845465653989864\", element=\"e7435859-4d06-40d6-bfdb-8286c151db3c\")>,\n",
       " <selenium.webdriver.remote.webelement.WebElement (session=\"1eac8ba0d18696da1845465653989864\", element=\"31c9145c-75a9-4544-a004-12d0a6592bda\")>,\n",
       " <selenium.webdriver.remote.webelement.WebElement (session=\"1eac8ba0d18696da1845465653989864\", element=\"239ba3d0-b6d5-46ff-8f6d-35dc0230f833\")>,\n",
       " <selenium.webdriver.remote.webelement.WebElement (session=\"1eac8ba0d18696da1845465653989864\", element=\"01cd3e8e-0b7b-4a15-a2db-a44edefe18ce\")>,\n",
       " <selenium.webdriver.remote.webelement.WebElement (session=\"1eac8ba0d18696da1845465653989864\", element=\"76bcb0aa-a116-48b8-80be-5c690fa7e716\")>,\n",
       " <selenium.webdriver.remote.webelement.WebElement (session=\"1eac8ba0d18696da1845465653989864\", element=\"373c2a70-2e4e-4685-9e4b-21f9a4f37f09\")>,\n",
       " <selenium.webdriver.remote.webelement.WebElement (session=\"1eac8ba0d18696da1845465653989864\", element=\"6fd06532-25ba-432b-91a2-1b0749c65ee4\")>,\n",
       " <selenium.webdriver.remote.webelement.WebElement (session=\"1eac8ba0d18696da1845465653989864\", element=\"d7984f15-0a34-4583-88f6-424e12cbfcd5\")>,\n",
       " <selenium.webdriver.remote.webelement.WebElement (session=\"1eac8ba0d18696da1845465653989864\", element=\"1c4392de-28ad-4c29-ac73-c7197ef5a160\")>,\n",
       " <selenium.webdriver.remote.webelement.WebElement (session=\"1eac8ba0d18696da1845465653989864\", element=\"b3372a49-bad6-4de7-bf82-b93ff11046d4\")>,\n",
       " <selenium.webdriver.remote.webelement.WebElement (session=\"1eac8ba0d18696da1845465653989864\", element=\"9996f350-cb1e-4afc-a67f-80631cca645b\")>,\n",
       " <selenium.webdriver.remote.webelement.WebElement (session=\"1eac8ba0d18696da1845465653989864\", element=\"cfcb52a7-9b51-44f7-bec9-86657222d6a8\")>,\n",
       " <selenium.webdriver.remote.webelement.WebElement (session=\"1eac8ba0d18696da1845465653989864\", element=\"4752a5e7-929e-4250-badf-c2c91af8f215\")>,\n",
       " <selenium.webdriver.remote.webelement.WebElement (session=\"1eac8ba0d18696da1845465653989864\", element=\"d46a4c5c-3c8a-4811-8a31-c0e63d23ddca\")>,\n",
       " <selenium.webdriver.remote.webelement.WebElement (session=\"1eac8ba0d18696da1845465653989864\", element=\"74bb3ae6-b89f-4863-896c-9b29b915a873\")>,\n",
       " <selenium.webdriver.remote.webelement.WebElement (session=\"1eac8ba0d18696da1845465653989864\", element=\"7a5e732c-91f5-49d5-8334-124ab416af58\")>,\n",
       " <selenium.webdriver.remote.webelement.WebElement (session=\"1eac8ba0d18696da1845465653989864\", element=\"54a98fc1-aa40-469b-948c-238b841d123d\")>,\n",
       " <selenium.webdriver.remote.webelement.WebElement (session=\"1eac8ba0d18696da1845465653989864\", element=\"4582aa03-1741-4f7e-b81c-cf909a00bca9\")>,\n",
       " <selenium.webdriver.remote.webelement.WebElement (session=\"1eac8ba0d18696da1845465653989864\", element=\"198e6ada-1f35-4211-8b43-616f0574243e\")>,\n",
       " <selenium.webdriver.remote.webelement.WebElement (session=\"1eac8ba0d18696da1845465653989864\", element=\"ce037503-e164-4bef-b48e-cff8b4d3db5c\")>,\n",
       " <selenium.webdriver.remote.webelement.WebElement (session=\"1eac8ba0d18696da1845465653989864\", element=\"32414afb-d20b-4fc4-bddc-7a473c4e779a\")>,\n",
       " <selenium.webdriver.remote.webelement.WebElement (session=\"1eac8ba0d18696da1845465653989864\", element=\"ba347146-d1f8-4163-b05f-bcc08cb931e6\")>,\n",
       " <selenium.webdriver.remote.webelement.WebElement (session=\"1eac8ba0d18696da1845465653989864\", element=\"c06e8255-7ff5-43e2-892a-9898c4aa064a\")>]"
      ]
     },
     "execution_count": 186,
     "metadata": {},
     "output_type": "execute_result"
    }
   ],
   "source": [
    "prices_tags = driver.find_elements_by_xpath(\"//div[@class='_30jeq3']\")\n",
    "prices_tags"
   ]
  },
  {
   "cell_type": "code",
   "execution_count": 187,
   "metadata": {},
   "outputs": [
    {
     "data": {
      "text/plain": [
       "['₹499',\n",
       " '₹399',\n",
       " '₹449',\n",
       " '₹859',\n",
       " '₹378',\n",
       " '₹439',\n",
       " '₹464',\n",
       " '₹588',\n",
       " '₹419',\n",
       " '₹373',\n",
       " '₹418',\n",
       " '₹2,199',\n",
       " '₹240',\n",
       " '₹379',\n",
       " '₹240',\n",
       " '₹464',\n",
       " '₹349',\n",
       " '₹474',\n",
       " '₹189',\n",
       " '₹969',\n",
       " '₹769',\n",
       " '₹499',\n",
       " '₹474',\n",
       " '₹1,409',\n",
       " '₹379',\n",
       " '₹350',\n",
       " '₹279',\n",
       " '₹474',\n",
       " '₹399',\n",
       " '₹499',\n",
       " '₹442',\n",
       " '₹470',\n",
       " '₹649',\n",
       " '₹283',\n",
       " '₹399',\n",
       " '₹499',\n",
       " '₹449',\n",
       " '₹240',\n",
       " '₹442',\n",
       " '₹424']"
      ]
     },
     "execution_count": 187,
     "metadata": {},
     "output_type": "execute_result"
    }
   ],
   "source": [
    "prices = [] # creating empty list to store values\n",
    "for i in prices_tags:   # running loop\n",
    "    prices.append(i.text)\n",
    "    \n",
    "prices"
   ]
  },
  {
   "cell_type": "code",
   "execution_count": 188,
   "metadata": {},
   "outputs": [],
   "source": [
    "#scrapping the required details\n",
    "\n",
    "start=0\n",
    "\n",
    "end=4\n",
    "\n",
    "for page in range(start,end):#for loop for scrapping 4 page\n",
    "\n",
    "    prices=driver.find_elements_by_class_name('_30jeq3')#scraping brands name by class name='_30jeq3'\n",
    "\n",
    "    for i in prices:\n",
    "\n",
    "        price.append(i.text)#appending the text "
   ]
  },
  {
   "cell_type": "code",
   "execution_count": 189,
   "metadata": {},
   "outputs": [
    {
     "data": {
      "text/plain": [
       "['₹474',\n",
       " '₹1,369',\n",
       " '₹379',\n",
       " '₹748',\n",
       " '₹349',\n",
       " '₹240',\n",
       " '₹499',\n",
       " '₹488',\n",
       " '₹499',\n",
       " '₹499',\n",
       " '₹449',\n",
       " '₹474',\n",
       " '₹359',\n",
       " '₹499',\n",
       " '₹378',\n",
       " '₹3,709',\n",
       " '₹242',\n",
       " '₹399',\n",
       " '₹588',\n",
       " '₹647',\n",
       " '₹599',\n",
       " '₹474',\n",
       " '₹474',\n",
       " '₹1,479',\n",
       " '₹424',\n",
       " '₹499',\n",
       " '₹471',\n",
       " '₹399',\n",
       " '₹449',\n",
       " '₹398',\n",
       " '₹425',\n",
       " '₹499',\n",
       " '₹369',\n",
       " '₹365',\n",
       " '₹683',\n",
       " '₹380',\n",
       " '₹199',\n",
       " '₹398',\n",
       " '₹283',\n",
       " '₹424',\n",
       " '₹499',\n",
       " '₹399',\n",
       " '₹449',\n",
       " '₹859',\n",
       " '₹378',\n",
       " '₹439',\n",
       " '₹464',\n",
       " '₹588',\n",
       " '₹419',\n",
       " '₹373',\n",
       " '₹418',\n",
       " '₹2,199',\n",
       " '₹240',\n",
       " '₹379',\n",
       " '₹240',\n",
       " '₹464',\n",
       " '₹349',\n",
       " '₹474',\n",
       " '₹189',\n",
       " '₹969',\n",
       " '₹769',\n",
       " '₹499',\n",
       " '₹474',\n",
       " '₹1,409',\n",
       " '₹379',\n",
       " '₹350',\n",
       " '₹279',\n",
       " '₹474',\n",
       " '₹399',\n",
       " '₹499',\n",
       " '₹442',\n",
       " '₹470',\n",
       " '₹649',\n",
       " '₹283',\n",
       " '₹399',\n",
       " '₹499',\n",
       " '₹449',\n",
       " '₹240',\n",
       " '₹442',\n",
       " '₹424',\n",
       " '₹471',\n",
       " '₹859',\n",
       " '₹474',\n",
       " '₹359',\n",
       " '₹499',\n",
       " '₹499',\n",
       " '₹399',\n",
       " '₹449',\n",
       " '₹859',\n",
       " '₹378',\n",
       " '₹439',\n",
       " '₹464',\n",
       " '₹588',\n",
       " '₹419',\n",
       " '₹373',\n",
       " '₹418',\n",
       " '₹2,199',\n",
       " '₹240',\n",
       " '₹379',\n",
       " '₹240']"
      ]
     },
     "execution_count": 189,
     "metadata": {},
     "output_type": "execute_result"
    }
   ],
   "source": [
    "price[:100]"
   ]
  },
  {
   "cell_type": "code",
   "execution_count": 190,
   "metadata": {},
   "outputs": [],
   "source": [
    "previous_page = driver.find_element_by_xpath(\"//a[@class='_1LKTO3']\")\n",
    "previous_page.click()"
   ]
  },
  {
   "cell_type": "code",
   "execution_count": 191,
   "metadata": {},
   "outputs": [
    {
     "data": {
      "text/plain": [
       "[<selenium.webdriver.remote.webelement.WebElement (session=\"1eac8ba0d18696da1845465653989864\", element=\"38f65f88-c12f-4200-abaf-4fc0ddde0aa6\")>,\n",
       " <selenium.webdriver.remote.webelement.WebElement (session=\"1eac8ba0d18696da1845465653989864\", element=\"eaef753e-8d31-4604-9efa-12fe166799cf\")>,\n",
       " <selenium.webdriver.remote.webelement.WebElement (session=\"1eac8ba0d18696da1845465653989864\", element=\"935031d0-b7d0-4457-99d5-0eb2c2f7a85a\")>,\n",
       " <selenium.webdriver.remote.webelement.WebElement (session=\"1eac8ba0d18696da1845465653989864\", element=\"d42e2b2b-cc76-45c7-9aa1-88d6a48207e1\")>,\n",
       " <selenium.webdriver.remote.webelement.WebElement (session=\"1eac8ba0d18696da1845465653989864\", element=\"83af28b9-7cfc-4b73-8f62-ad0fdd918de1\")>,\n",
       " <selenium.webdriver.remote.webelement.WebElement (session=\"1eac8ba0d18696da1845465653989864\", element=\"6b605a47-30fa-471f-93b0-a21b14eb71d4\")>,\n",
       " <selenium.webdriver.remote.webelement.WebElement (session=\"1eac8ba0d18696da1845465653989864\", element=\"8dd8c1fe-e322-4f84-befb-4d0b3e163323\")>,\n",
       " <selenium.webdriver.remote.webelement.WebElement (session=\"1eac8ba0d18696da1845465653989864\", element=\"1405be09-6364-418f-80a2-0aeeec8d2079\")>,\n",
       " <selenium.webdriver.remote.webelement.WebElement (session=\"1eac8ba0d18696da1845465653989864\", element=\"2c3b4740-8601-4f71-815b-301466d54003\")>,\n",
       " <selenium.webdriver.remote.webelement.WebElement (session=\"1eac8ba0d18696da1845465653989864\", element=\"9627ccf0-4818-4320-a574-2acc374c15c8\")>,\n",
       " <selenium.webdriver.remote.webelement.WebElement (session=\"1eac8ba0d18696da1845465653989864\", element=\"ed799b79-72c0-4a33-b923-a3e312b40132\")>,\n",
       " <selenium.webdriver.remote.webelement.WebElement (session=\"1eac8ba0d18696da1845465653989864\", element=\"671987ac-6634-4e90-a3ea-6f301e24036c\")>,\n",
       " <selenium.webdriver.remote.webelement.WebElement (session=\"1eac8ba0d18696da1845465653989864\", element=\"050bd7e9-924f-4882-9e5f-953888cfdc74\")>,\n",
       " <selenium.webdriver.remote.webelement.WebElement (session=\"1eac8ba0d18696da1845465653989864\", element=\"debf9f67-b1dc-4687-b99e-9e838a07a87f\")>,\n",
       " <selenium.webdriver.remote.webelement.WebElement (session=\"1eac8ba0d18696da1845465653989864\", element=\"084d2c3b-00c6-4cc2-9614-c6ab548c38d1\")>,\n",
       " <selenium.webdriver.remote.webelement.WebElement (session=\"1eac8ba0d18696da1845465653989864\", element=\"8ce9dade-0270-44c4-b01e-fa352a9b6dd9\")>,\n",
       " <selenium.webdriver.remote.webelement.WebElement (session=\"1eac8ba0d18696da1845465653989864\", element=\"a11f3db5-5728-456d-a4c2-68edfff4d455\")>,\n",
       " <selenium.webdriver.remote.webelement.WebElement (session=\"1eac8ba0d18696da1845465653989864\", element=\"5f89cd89-933c-42be-9675-7ab71984d32b\")>,\n",
       " <selenium.webdriver.remote.webelement.WebElement (session=\"1eac8ba0d18696da1845465653989864\", element=\"5f038338-eb8e-48e8-aeee-c0e08b8c0339\")>,\n",
       " <selenium.webdriver.remote.webelement.WebElement (session=\"1eac8ba0d18696da1845465653989864\", element=\"185cd617-f819-4463-8ec9-d6d8e2bc8684\")>,\n",
       " <selenium.webdriver.remote.webelement.WebElement (session=\"1eac8ba0d18696da1845465653989864\", element=\"5cddbd7d-1b22-4260-9149-878a9a9adac1\")>,\n",
       " <selenium.webdriver.remote.webelement.WebElement (session=\"1eac8ba0d18696da1845465653989864\", element=\"1c009a73-a363-4437-b04c-536511c3db40\")>,\n",
       " <selenium.webdriver.remote.webelement.WebElement (session=\"1eac8ba0d18696da1845465653989864\", element=\"35e18de9-b051-4d6e-abb6-135d3f510eb9\")>,\n",
       " <selenium.webdriver.remote.webelement.WebElement (session=\"1eac8ba0d18696da1845465653989864\", element=\"7b676888-550c-4d15-b4b6-1f844f68b44b\")>,\n",
       " <selenium.webdriver.remote.webelement.WebElement (session=\"1eac8ba0d18696da1845465653989864\", element=\"ad988e3a-dde1-4afc-8908-b8cf35e3e59c\")>,\n",
       " <selenium.webdriver.remote.webelement.WebElement (session=\"1eac8ba0d18696da1845465653989864\", element=\"f12a0bb8-15f4-4980-a86a-02956112aa03\")>,\n",
       " <selenium.webdriver.remote.webelement.WebElement (session=\"1eac8ba0d18696da1845465653989864\", element=\"2cba650b-7832-4e04-addf-787524ae571d\")>,\n",
       " <selenium.webdriver.remote.webelement.WebElement (session=\"1eac8ba0d18696da1845465653989864\", element=\"cf3058f1-4c00-4806-a3f1-277a674e27de\")>,\n",
       " <selenium.webdriver.remote.webelement.WebElement (session=\"1eac8ba0d18696da1845465653989864\", element=\"c16a9088-2acb-49c0-9a47-58fee9cbd171\")>,\n",
       " <selenium.webdriver.remote.webelement.WebElement (session=\"1eac8ba0d18696da1845465653989864\", element=\"6ca2efc8-a627-46dd-8743-a938146d4c8f\")>,\n",
       " <selenium.webdriver.remote.webelement.WebElement (session=\"1eac8ba0d18696da1845465653989864\", element=\"252ce906-4c75-4e86-a805-2bf32fbb79ed\")>,\n",
       " <selenium.webdriver.remote.webelement.WebElement (session=\"1eac8ba0d18696da1845465653989864\", element=\"eb324ae5-ae86-4fb4-a5a8-eedb942bcefc\")>,\n",
       " <selenium.webdriver.remote.webelement.WebElement (session=\"1eac8ba0d18696da1845465653989864\", element=\"d9d4f586-dd55-432e-87c9-b7487df79139\")>,\n",
       " <selenium.webdriver.remote.webelement.WebElement (session=\"1eac8ba0d18696da1845465653989864\", element=\"bf71f309-a408-4453-8109-2c707c633245\")>,\n",
       " <selenium.webdriver.remote.webelement.WebElement (session=\"1eac8ba0d18696da1845465653989864\", element=\"dc641a2e-1093-4f22-99ee-b2e9701100ff\")>,\n",
       " <selenium.webdriver.remote.webelement.WebElement (session=\"1eac8ba0d18696da1845465653989864\", element=\"b4680ebe-94b7-4ae5-a922-b03e50a44f81\")>,\n",
       " <selenium.webdriver.remote.webelement.WebElement (session=\"1eac8ba0d18696da1845465653989864\", element=\"803c9f8f-878f-4857-9899-5c982cfacbcc\")>,\n",
       " <selenium.webdriver.remote.webelement.WebElement (session=\"1eac8ba0d18696da1845465653989864\", element=\"6cd0fc71-c5a2-44b8-a136-a067f7a19988\")>,\n",
       " <selenium.webdriver.remote.webelement.WebElement (session=\"1eac8ba0d18696da1845465653989864\", element=\"411c1d23-e167-4139-b194-566d0e0b4e22\")>,\n",
       " <selenium.webdriver.remote.webelement.WebElement (session=\"1eac8ba0d18696da1845465653989864\", element=\"1c89491d-dd3f-4a23-8af6-3e91a05522d5\")>]"
      ]
     },
     "execution_count": 191,
     "metadata": {},
     "output_type": "execute_result"
    }
   ],
   "source": [
    "discount_tags = driver.find_elements_by_xpath(\"//div[@class='_3Ay6Sb']\")\n",
    "discount_tags"
   ]
  },
  {
   "cell_type": "code",
   "execution_count": 192,
   "metadata": {},
   "outputs": [
    {
     "data": {
      "text/plain": [
       "['86% off',\n",
       " '62% off',\n",
       " '62% off',\n",
       " '62% off',\n",
       " '65% off',\n",
       " '51% off',\n",
       " '50% off',\n",
       " '52% off',\n",
       " '50% off',\n",
       " '75% off',\n",
       " '65% off',\n",
       " '62% off',\n",
       " '64% off',\n",
       " '50% off',\n",
       " '62% off',\n",
       " '52% off',\n",
       " '65% off',\n",
       " '60% off',\n",
       " '70% off',\n",
       " '61% off',\n",
       " '62% off',\n",
       " '52% off',\n",
       " '88% off',\n",
       " '46% off',\n",
       " '57% off',\n",
       " '50% off',\n",
       " '52% off',\n",
       " '51% off',\n",
       " '55% off',\n",
       " '60% off',\n",
       " '71% off',\n",
       " '61% off',\n",
       " '87% off',\n",
       " '44% off',\n",
       " '72% off',\n",
       " '84% off',\n",
       " '60% off',\n",
       " '60% off',\n",
       " '43% off',\n",
       " '47% off']"
      ]
     },
     "execution_count": 192,
     "metadata": {},
     "output_type": "execute_result"
    }
   ],
   "source": [
    "discount = [] # creating empty list to store values\n",
    "for i in discount_tags:   # running loop\n",
    "    discount.append(i.text)\n",
    "    \n",
    "discount"
   ]
  },
  {
   "cell_type": "code",
   "execution_count": 193,
   "metadata": {},
   "outputs": [],
   "source": [
    "next_page = driver.find_element_by_xpath(\"//a[@class='_1LKTO3']\")\n",
    "next_page.click()"
   ]
  },
  {
   "cell_type": "code",
   "execution_count": 194,
   "metadata": {},
   "outputs": [
    {
     "data": {
      "text/plain": [
       "[<selenium.webdriver.remote.webelement.WebElement (session=\"1eac8ba0d18696da1845465653989864\", element=\"9e093fce-b149-471f-a16e-f693a5326c48\")>,\n",
       " <selenium.webdriver.remote.webelement.WebElement (session=\"1eac8ba0d18696da1845465653989864\", element=\"1fe3066b-53de-49a6-a14d-3463dc155381\")>,\n",
       " <selenium.webdriver.remote.webelement.WebElement (session=\"1eac8ba0d18696da1845465653989864\", element=\"77d2f452-1c9f-4e9f-854d-f51b9c61d095\")>,\n",
       " <selenium.webdriver.remote.webelement.WebElement (session=\"1eac8ba0d18696da1845465653989864\", element=\"f495c1c3-3aae-46a6-a821-9807ec22730d\")>,\n",
       " <selenium.webdriver.remote.webelement.WebElement (session=\"1eac8ba0d18696da1845465653989864\", element=\"ddf25426-fce4-4c08-bf4d-945de3746930\")>,\n",
       " <selenium.webdriver.remote.webelement.WebElement (session=\"1eac8ba0d18696da1845465653989864\", element=\"cf7d354f-39bb-46a4-88f5-afa7661fc271\")>,\n",
       " <selenium.webdriver.remote.webelement.WebElement (session=\"1eac8ba0d18696da1845465653989864\", element=\"8b2dd529-a193-4f1e-84b5-52bb5873e90e\")>,\n",
       " <selenium.webdriver.remote.webelement.WebElement (session=\"1eac8ba0d18696da1845465653989864\", element=\"b478e4d9-d698-4c0b-8428-da394d934b2e\")>,\n",
       " <selenium.webdriver.remote.webelement.WebElement (session=\"1eac8ba0d18696da1845465653989864\", element=\"2f7d999d-081d-4273-b178-226b06a2ac83\")>,\n",
       " <selenium.webdriver.remote.webelement.WebElement (session=\"1eac8ba0d18696da1845465653989864\", element=\"6af62cd3-d2a0-428c-8afe-8e1e9f345909\")>,\n",
       " <selenium.webdriver.remote.webelement.WebElement (session=\"1eac8ba0d18696da1845465653989864\", element=\"a046d1d4-b803-4866-aed2-975c336f3cd1\")>,\n",
       " <selenium.webdriver.remote.webelement.WebElement (session=\"1eac8ba0d18696da1845465653989864\", element=\"8a7cef6a-8cf4-4560-ab12-50f8d755afce\")>,\n",
       " <selenium.webdriver.remote.webelement.WebElement (session=\"1eac8ba0d18696da1845465653989864\", element=\"84b7b531-309b-4a93-af2a-afeea10d2090\")>,\n",
       " <selenium.webdriver.remote.webelement.WebElement (session=\"1eac8ba0d18696da1845465653989864\", element=\"ea7b1893-ee16-4967-8310-f731b30332ba\")>,\n",
       " <selenium.webdriver.remote.webelement.WebElement (session=\"1eac8ba0d18696da1845465653989864\", element=\"3b6a1e24-c289-4a15-bb62-b00c779aaf43\")>,\n",
       " <selenium.webdriver.remote.webelement.WebElement (session=\"1eac8ba0d18696da1845465653989864\", element=\"3e24f231-2823-4578-8862-ccac54fa95be\")>,\n",
       " <selenium.webdriver.remote.webelement.WebElement (session=\"1eac8ba0d18696da1845465653989864\", element=\"39ed360b-8c9e-481b-982d-857b05e2b197\")>,\n",
       " <selenium.webdriver.remote.webelement.WebElement (session=\"1eac8ba0d18696da1845465653989864\", element=\"d9390db4-2549-4b19-a7a9-9b672933bd32\")>,\n",
       " <selenium.webdriver.remote.webelement.WebElement (session=\"1eac8ba0d18696da1845465653989864\", element=\"9cba7566-7d67-490b-8603-7af22c8e4725\")>,\n",
       " <selenium.webdriver.remote.webelement.WebElement (session=\"1eac8ba0d18696da1845465653989864\", element=\"93e7cad0-1777-4370-a881-15301f810b1e\")>,\n",
       " <selenium.webdriver.remote.webelement.WebElement (session=\"1eac8ba0d18696da1845465653989864\", element=\"83aa64a8-070a-46b3-92f3-51a858ebe694\")>,\n",
       " <selenium.webdriver.remote.webelement.WebElement (session=\"1eac8ba0d18696da1845465653989864\", element=\"dfaf7bf7-4cac-4be8-9490-91e774ead895\")>,\n",
       " <selenium.webdriver.remote.webelement.WebElement (session=\"1eac8ba0d18696da1845465653989864\", element=\"89c08cb8-7122-4293-9906-bf1a67d1b937\")>,\n",
       " <selenium.webdriver.remote.webelement.WebElement (session=\"1eac8ba0d18696da1845465653989864\", element=\"f3c721a5-67d3-4d00-a3ff-f8a5f941018f\")>,\n",
       " <selenium.webdriver.remote.webelement.WebElement (session=\"1eac8ba0d18696da1845465653989864\", element=\"f7a5653c-8269-4553-bf9a-a8426943aeba\")>,\n",
       " <selenium.webdriver.remote.webelement.WebElement (session=\"1eac8ba0d18696da1845465653989864\", element=\"f0fb8fbc-d64e-46d5-9612-24090201de3d\")>,\n",
       " <selenium.webdriver.remote.webelement.WebElement (session=\"1eac8ba0d18696da1845465653989864\", element=\"a124c976-aeb1-4445-899c-0161f25b7437\")>,\n",
       " <selenium.webdriver.remote.webelement.WebElement (session=\"1eac8ba0d18696da1845465653989864\", element=\"a83e7c1c-1244-4626-9d4e-91c544512271\")>,\n",
       " <selenium.webdriver.remote.webelement.WebElement (session=\"1eac8ba0d18696da1845465653989864\", element=\"30e5a6f6-7c5f-442c-bcfc-d69306dceb21\")>,\n",
       " <selenium.webdriver.remote.webelement.WebElement (session=\"1eac8ba0d18696da1845465653989864\", element=\"96802bd7-6a24-46ae-982b-f2fb8696a8fe\")>,\n",
       " <selenium.webdriver.remote.webelement.WebElement (session=\"1eac8ba0d18696da1845465653989864\", element=\"170008c6-33b6-4154-8bc8-9010c799e9cc\")>,\n",
       " <selenium.webdriver.remote.webelement.WebElement (session=\"1eac8ba0d18696da1845465653989864\", element=\"68a4e3e6-09b9-4a6f-937f-aaddfcedfa44\")>,\n",
       " <selenium.webdriver.remote.webelement.WebElement (session=\"1eac8ba0d18696da1845465653989864\", element=\"d452efda-ccdb-4245-8d15-9a91751b4870\")>,\n",
       " <selenium.webdriver.remote.webelement.WebElement (session=\"1eac8ba0d18696da1845465653989864\", element=\"c4c274ed-c157-45cf-a77c-a196192e3196\")>,\n",
       " <selenium.webdriver.remote.webelement.WebElement (session=\"1eac8ba0d18696da1845465653989864\", element=\"023f94f5-a001-40b2-8a76-8cdbf399adff\")>,\n",
       " <selenium.webdriver.remote.webelement.WebElement (session=\"1eac8ba0d18696da1845465653989864\", element=\"d3e07ccd-b052-4155-9a04-556f1d5ce87e\")>,\n",
       " <selenium.webdriver.remote.webelement.WebElement (session=\"1eac8ba0d18696da1845465653989864\", element=\"031b9b0d-94ef-4e73-b343-ea37cab8e7a2\")>,\n",
       " <selenium.webdriver.remote.webelement.WebElement (session=\"1eac8ba0d18696da1845465653989864\", element=\"da57695e-f9f5-4976-be50-e719d056e9a8\")>,\n",
       " <selenium.webdriver.remote.webelement.WebElement (session=\"1eac8ba0d18696da1845465653989864\", element=\"68fbd563-2dbf-4a37-be95-8225cf2b564b\")>,\n",
       " <selenium.webdriver.remote.webelement.WebElement (session=\"1eac8ba0d18696da1845465653989864\", element=\"fede7584-0bf7-4186-bcf0-dd4185316253\")>]"
      ]
     },
     "execution_count": 194,
     "metadata": {},
     "output_type": "execute_result"
    }
   ],
   "source": [
    "discounts_tags = driver.find_elements_by_xpath(\"//div[@class='_3Ay6Sb']\")\n",
    "discounts_tags"
   ]
  },
  {
   "cell_type": "code",
   "execution_count": 195,
   "metadata": {},
   "outputs": [
    {
     "data": {
      "text/plain": [
       "['43% off',\n",
       " '52% off',\n",
       " '50% off',\n",
       " '60% off',\n",
       " '77% off',\n",
       " '56% off',\n",
       " '62% off',\n",
       " '76% off',\n",
       " '59% off',\n",
       " '79% off',\n",
       " '62% off',\n",
       " '45% off',\n",
       " '29% off',\n",
       " '81% off',\n",
       " '51% off',\n",
       " '52% off',\n",
       " '71% off',\n",
       " '65% off',\n",
       " '51% off',\n",
       " '53% off',\n",
       " '62% off',\n",
       " '62% off',\n",
       " '23% off',\n",
       " '61% off',\n",
       " '63% off',\n",
       " '62% off',\n",
       " '82% off',\n",
       " '76% off',\n",
       " '7% off',\n",
       " '72% off',\n",
       " '60% off',\n",
       " '76% off',\n",
       " '34% off',\n",
       " '55% off',\n",
       " '43% off',\n",
       " '83% off',\n",
       " '55% off',\n",
       " '60% off',\n",
       " '51% off',\n",
       " '57% off']"
      ]
     },
     "execution_count": 195,
     "metadata": {},
     "output_type": "execute_result"
    }
   ],
   "source": [
    "discounts = [] # creating empty list to store values\n",
    "for i in discounts_tags:   # running loop\n",
    "    discounts.append(i.text)\n",
    "    \n",
    "discounts"
   ]
  },
  {
   "cell_type": "code",
   "execution_count": 196,
   "metadata": {},
   "outputs": [],
   "source": [
    "#scrapping the required details\n",
    "\n",
    "start=0\n",
    "\n",
    "end=4\n",
    "\n",
    "for page in range(start,end):#for loop for scrapping 4 page\n",
    "\n",
    "    discounts=driver.find_elements_by_class_name('_3Ay6Sb')#scraping discounts name by class name='_3Ay6Sb'\n",
    "\n",
    "    for i in discounts:\n",
    "\n",
    "        discount.append(i.text)#appending the text in discount list"
   ]
  },
  {
   "cell_type": "code",
   "execution_count": 197,
   "metadata": {},
   "outputs": [
    {
     "data": {
      "text/plain": [
       "['86% off',\n",
       " '62% off',\n",
       " '62% off',\n",
       " '62% off',\n",
       " '65% off',\n",
       " '51% off',\n",
       " '50% off',\n",
       " '52% off',\n",
       " '50% off',\n",
       " '75% off',\n",
       " '65% off',\n",
       " '62% off',\n",
       " '64% off',\n",
       " '50% off',\n",
       " '62% off',\n",
       " '52% off',\n",
       " '65% off',\n",
       " '60% off',\n",
       " '70% off',\n",
       " '61% off',\n",
       " '62% off',\n",
       " '52% off',\n",
       " '88% off',\n",
       " '46% off',\n",
       " '57% off',\n",
       " '50% off',\n",
       " '52% off',\n",
       " '51% off',\n",
       " '55% off',\n",
       " '60% off',\n",
       " '71% off',\n",
       " '61% off',\n",
       " '87% off',\n",
       " '44% off',\n",
       " '72% off',\n",
       " '84% off',\n",
       " '60% off',\n",
       " '60% off',\n",
       " '43% off',\n",
       " '47% off',\n",
       " '43% off',\n",
       " '52% off',\n",
       " '50% off',\n",
       " '60% off',\n",
       " '77% off',\n",
       " '56% off',\n",
       " '62% off',\n",
       " '76% off',\n",
       " '59% off',\n",
       " '79% off',\n",
       " '62% off',\n",
       " '45% off',\n",
       " '29% off',\n",
       " '81% off',\n",
       " '51% off',\n",
       " '52% off',\n",
       " '71% off',\n",
       " '65% off',\n",
       " '51% off',\n",
       " '53% off',\n",
       " '62% off',\n",
       " '62% off',\n",
       " '23% off',\n",
       " '61% off',\n",
       " '63% off',\n",
       " '62% off',\n",
       " '82% off',\n",
       " '76% off',\n",
       " '7% off',\n",
       " '72% off',\n",
       " '60% off',\n",
       " '76% off',\n",
       " '34% off',\n",
       " '55% off',\n",
       " '43% off',\n",
       " '83% off',\n",
       " '55% off',\n",
       " '60% off',\n",
       " '51% off',\n",
       " '57% off',\n",
       " '52% off',\n",
       " '60% off',\n",
       " '86% off',\n",
       " '64% off',\n",
       " '50% off',\n",
       " '43% off',\n",
       " '52% off',\n",
       " '50% off',\n",
       " '60% off',\n",
       " '77% off',\n",
       " '56% off',\n",
       " '62% off',\n",
       " '76% off',\n",
       " '59% off',\n",
       " '79% off',\n",
       " '62% off',\n",
       " '45% off',\n",
       " '29% off',\n",
       " '81% off',\n",
       " '51% off']"
      ]
     },
     "execution_count": 197,
     "metadata": {},
     "output_type": "execute_result"
    }
   ],
   "source": [
    "discount[:100]"
   ]
  },
  {
   "cell_type": "code",
   "execution_count": 198,
   "metadata": {},
   "outputs": [],
   "source": [
    "sneakers=pd.DataFrame({})            # making dataframe\n",
    "sneakers['Brand']=brand[:100]\n",
    "sneakers['Description']=description[:100]\n",
    "sneakers['Price']=price[:100]\n",
    "sneakers['Discount']=discount[:100]"
   ]
  },
  {
   "cell_type": "code",
   "execution_count": 199,
   "metadata": {},
   "outputs": [
    {
     "data": {
      "text/html": [
       "<div>\n",
       "<style scoped>\n",
       "    .dataframe tbody tr th:only-of-type {\n",
       "        vertical-align: middle;\n",
       "    }\n",
       "\n",
       "    .dataframe tbody tr th {\n",
       "        vertical-align: top;\n",
       "    }\n",
       "\n",
       "    .dataframe thead th {\n",
       "        text-align: right;\n",
       "    }\n",
       "</style>\n",
       "<table border=\"1\" class=\"dataframe\">\n",
       "  <thead>\n",
       "    <tr style=\"text-align: right;\">\n",
       "      <th></th>\n",
       "      <th>Brand</th>\n",
       "      <th>Description</th>\n",
       "      <th>Price</th>\n",
       "      <th>Discount</th>\n",
       "    </tr>\n",
       "  </thead>\n",
       "  <tbody>\n",
       "    <tr>\n",
       "      <th>0</th>\n",
       "      <td>BRUTON</td>\n",
       "      <td>Combo Pack Of 4 Casual Shoes Loafer Shoes Snea...</td>\n",
       "      <td>₹474</td>\n",
       "      <td>86% off</td>\n",
       "    </tr>\n",
       "    <tr>\n",
       "      <th>1</th>\n",
       "      <td>DUCATI</td>\n",
       "      <td>Sneakers For Men</td>\n",
       "      <td>₹1,369</td>\n",
       "      <td>62% off</td>\n",
       "    </tr>\n",
       "    <tr>\n",
       "      <th>2</th>\n",
       "      <td>Robbie jones</td>\n",
       "      <td>Casual Sneakers Shoes For Men Sneakers For Men</td>\n",
       "      <td>₹379</td>\n",
       "      <td>62% off</td>\n",
       "    </tr>\n",
       "    <tr>\n",
       "      <th>3</th>\n",
       "      <td>CALCADOS</td>\n",
       "      <td>White Sneaker For Men's/Boy's Sneakers For Men</td>\n",
       "      <td>₹748</td>\n",
       "      <td>62% off</td>\n",
       "    </tr>\n",
       "    <tr>\n",
       "      <th>4</th>\n",
       "      <td>Shoes Bank</td>\n",
       "      <td>5011-Latest Collection Stylish Casual Loafer S...</td>\n",
       "      <td>₹349</td>\n",
       "      <td>65% off</td>\n",
       "    </tr>\n",
       "    <tr>\n",
       "      <th>...</th>\n",
       "      <td>...</td>\n",
       "      <td>...</td>\n",
       "      <td>...</td>\n",
       "      <td>...</td>\n",
       "    </tr>\n",
       "    <tr>\n",
       "      <th>95</th>\n",
       "      <td>bluemaker</td>\n",
       "      <td>SM-322 Sneakers For Men</td>\n",
       "      <td>₹418</td>\n",
       "      <td>62% off</td>\n",
       "    </tr>\n",
       "    <tr>\n",
       "      <th>96</th>\n",
       "      <td>Fzzirok</td>\n",
       "      <td>Sneakers For Men</td>\n",
       "      <td>₹2,199</td>\n",
       "      <td>45% off</td>\n",
       "    </tr>\n",
       "    <tr>\n",
       "      <th>97</th>\n",
       "      <td>Robbie jones</td>\n",
       "      <td>Combo Pack of 4 Latest Collection Stylish Casu...</td>\n",
       "      <td>₹240</td>\n",
       "      <td>29% off</td>\n",
       "    </tr>\n",
       "    <tr>\n",
       "      <th>98</th>\n",
       "      <td>Absolute comfort</td>\n",
       "      <td>REDT Sneakers For Men</td>\n",
       "      <td>₹379</td>\n",
       "      <td>81% off</td>\n",
       "    </tr>\n",
       "    <tr>\n",
       "      <th>99</th>\n",
       "      <td>Echor</td>\n",
       "      <td>Casual shoes,Sneakers for men's,shoes for men'...</td>\n",
       "      <td>₹240</td>\n",
       "      <td>51% off</td>\n",
       "    </tr>\n",
       "  </tbody>\n",
       "</table>\n",
       "<p>100 rows × 4 columns</p>\n",
       "</div>"
      ],
      "text/plain": [
       "               Brand                                        Description  \\\n",
       "0             BRUTON  Combo Pack Of 4 Casual Shoes Loafer Shoes Snea...   \n",
       "1             DUCATI                                   Sneakers For Men   \n",
       "2       Robbie jones     Casual Sneakers Shoes For Men Sneakers For Men   \n",
       "3           CALCADOS     White Sneaker For Men's/Boy's Sneakers For Men   \n",
       "4         Shoes Bank  5011-Latest Collection Stylish Casual Loafer S...   \n",
       "..               ...                                                ...   \n",
       "95         bluemaker                            SM-322 Sneakers For Men   \n",
       "96           Fzzirok                                   Sneakers For Men   \n",
       "97      Robbie jones  Combo Pack of 4 Latest Collection Stylish Casu...   \n",
       "98  Absolute comfort                              REDT Sneakers For Men   \n",
       "99             Echor  Casual shoes,Sneakers for men's,shoes for men'...   \n",
       "\n",
       "     Price Discount  \n",
       "0     ₹474  86% off  \n",
       "1   ₹1,369  62% off  \n",
       "2     ₹379  62% off  \n",
       "3     ₹748  62% off  \n",
       "4     ₹349  65% off  \n",
       "..     ...      ...  \n",
       "95    ₹418  62% off  \n",
       "96  ₹2,199  45% off  \n",
       "97    ₹240  29% off  \n",
       "98    ₹379  81% off  \n",
       "99    ₹240  51% off  \n",
       "\n",
       "[100 rows x 4 columns]"
      ]
     },
     "execution_count": 199,
     "metadata": {},
     "output_type": "execute_result"
    }
   ],
   "source": [
    "sneakers"
   ]
  },
  {
   "cell_type": "code",
   "execution_count": 200,
   "metadata": {},
   "outputs": [],
   "source": [
    "driver.close()"
   ]
  },
  {
   "cell_type": "code",
   "execution_count": null,
   "metadata": {},
   "outputs": [],
   "source": []
  },
  {
   "cell_type": "markdown",
   "metadata": {},
   "source": [
    "# Q9: Scrape details from website Myntra for 100 shoes"
   ]
  },
  {
   "cell_type": "code",
   "execution_count": 201,
   "metadata": {},
   "outputs": [],
   "source": [
    "# connecting to web driver\n",
    "driver = webdriver.Chrome(r\"C:\\Users\\Nitish\\Downloads\\Compressed\\chromedriver.exe\")"
   ]
  },
  {
   "cell_type": "code",
   "execution_count": 202,
   "metadata": {},
   "outputs": [],
   "source": [
    "# send get request to the webpage server to get the source code of the page\n",
    "url = 'https://www.myntra.com/shoes'\n",
    "driver.get(url) "
   ]
  },
  {
   "cell_type": "code",
   "execution_count": 203,
   "metadata": {},
   "outputs": [],
   "source": [
    "# applying colour filter by copying fullxpath \n",
    "colour_filter = driver.find_element_by_xpath(\"/html/body/div[2]/div/div[1]/main/div[3]/div[1]/section/div/div[6]/ul/li[1]/label/div\").click()"
   ]
  },
  {
   "cell_type": "code",
   "execution_count": 204,
   "metadata": {},
   "outputs": [],
   "source": [
    "# applying price filter by copying fullxpath \n",
    "price_filter = driver.find_element_by_xpath(\"/html/body/div[2]/div/div[1]/main/div[3]/div[1]/section/div/div[5]/ul/li[2]/label/div\").click()"
   ]
  },
  {
   "cell_type": "code",
   "execution_count": 205,
   "metadata": {},
   "outputs": [
    {
     "data": {
      "text/plain": [
       "[<selenium.webdriver.remote.webelement.WebElement (session=\"b4f6839d2c007c99bfe08632c58c3160\", element=\"1bb4b34e-1801-4db8-b30b-4d38ee1fd46a\")>,\n",
       " <selenium.webdriver.remote.webelement.WebElement (session=\"b4f6839d2c007c99bfe08632c58c3160\", element=\"f6848281-8b81-43a9-95c8-093667499eda\")>,\n",
       " <selenium.webdriver.remote.webelement.WebElement (session=\"b4f6839d2c007c99bfe08632c58c3160\", element=\"239b56b9-0bb7-4e61-a491-5146e0350753\")>,\n",
       " <selenium.webdriver.remote.webelement.WebElement (session=\"b4f6839d2c007c99bfe08632c58c3160\", element=\"b9664211-8d74-441b-b2da-480d22c0396b\")>,\n",
       " <selenium.webdriver.remote.webelement.WebElement (session=\"b4f6839d2c007c99bfe08632c58c3160\", element=\"8d5d73c3-a1d2-4dbc-b46a-6fcbaf4fd74c\")>,\n",
       " <selenium.webdriver.remote.webelement.WebElement (session=\"b4f6839d2c007c99bfe08632c58c3160\", element=\"a9c5b170-5f22-4a1f-a9f7-73ba07d6eebb\")>,\n",
       " <selenium.webdriver.remote.webelement.WebElement (session=\"b4f6839d2c007c99bfe08632c58c3160\", element=\"c3c17746-de9d-4b10-8fee-3c14ad03aa3e\")>,\n",
       " <selenium.webdriver.remote.webelement.WebElement (session=\"b4f6839d2c007c99bfe08632c58c3160\", element=\"67708b67-62bc-4f8b-aa63-5279dce651c7\")>,\n",
       " <selenium.webdriver.remote.webelement.WebElement (session=\"b4f6839d2c007c99bfe08632c58c3160\", element=\"338dd05c-1b12-4f32-945f-5d79156ac378\")>,\n",
       " <selenium.webdriver.remote.webelement.WebElement (session=\"b4f6839d2c007c99bfe08632c58c3160\", element=\"c8df39eb-6091-44a0-9cac-f8b46594d36f\")>,\n",
       " <selenium.webdriver.remote.webelement.WebElement (session=\"b4f6839d2c007c99bfe08632c58c3160\", element=\"c4064c36-9b42-4242-84e8-128ec77178d4\")>,\n",
       " <selenium.webdriver.remote.webelement.WebElement (session=\"b4f6839d2c007c99bfe08632c58c3160\", element=\"34520e40-b21e-49d7-bc67-bf7a86b931d8\")>,\n",
       " <selenium.webdriver.remote.webelement.WebElement (session=\"b4f6839d2c007c99bfe08632c58c3160\", element=\"5684c568-2790-444f-a3a8-6f683cb6402c\")>,\n",
       " <selenium.webdriver.remote.webelement.WebElement (session=\"b4f6839d2c007c99bfe08632c58c3160\", element=\"c268005f-9820-4c8f-888b-ed02de187a99\")>,\n",
       " <selenium.webdriver.remote.webelement.WebElement (session=\"b4f6839d2c007c99bfe08632c58c3160\", element=\"09a3503f-2029-458b-8b46-a240164f3959\")>,\n",
       " <selenium.webdriver.remote.webelement.WebElement (session=\"b4f6839d2c007c99bfe08632c58c3160\", element=\"8903f212-6231-405f-94bf-4067f74e95e4\")>,\n",
       " <selenium.webdriver.remote.webelement.WebElement (session=\"b4f6839d2c007c99bfe08632c58c3160\", element=\"69aefc57-8b47-4b31-9a67-5a6a807e3eac\")>,\n",
       " <selenium.webdriver.remote.webelement.WebElement (session=\"b4f6839d2c007c99bfe08632c58c3160\", element=\"525951ba-8e47-48da-bf46-bee00b1807b2\")>,\n",
       " <selenium.webdriver.remote.webelement.WebElement (session=\"b4f6839d2c007c99bfe08632c58c3160\", element=\"ab237a5a-17cd-4cfb-8eca-b581653899f9\")>,\n",
       " <selenium.webdriver.remote.webelement.WebElement (session=\"b4f6839d2c007c99bfe08632c58c3160\", element=\"5016b15f-0d4f-4ebb-af28-f7d138ce0de9\")>,\n",
       " <selenium.webdriver.remote.webelement.WebElement (session=\"b4f6839d2c007c99bfe08632c58c3160\", element=\"8443e286-c920-4790-8e17-54ef3fe223b3\")>,\n",
       " <selenium.webdriver.remote.webelement.WebElement (session=\"b4f6839d2c007c99bfe08632c58c3160\", element=\"2483c046-7885-4e3a-adf0-a83bc9487485\")>,\n",
       " <selenium.webdriver.remote.webelement.WebElement (session=\"b4f6839d2c007c99bfe08632c58c3160\", element=\"35e309c3-bb89-4c91-9d0f-be826f57b67f\")>,\n",
       " <selenium.webdriver.remote.webelement.WebElement (session=\"b4f6839d2c007c99bfe08632c58c3160\", element=\"04d46fb8-aedf-4640-a334-ec92e99a5201\")>,\n",
       " <selenium.webdriver.remote.webelement.WebElement (session=\"b4f6839d2c007c99bfe08632c58c3160\", element=\"64b0a875-09fa-4560-9676-e00e64aacd79\")>,\n",
       " <selenium.webdriver.remote.webelement.WebElement (session=\"b4f6839d2c007c99bfe08632c58c3160\", element=\"ed027654-9cbd-4e04-a3ac-b4b347fd679d\")>,\n",
       " <selenium.webdriver.remote.webelement.WebElement (session=\"b4f6839d2c007c99bfe08632c58c3160\", element=\"3e8983fb-16c2-4c26-9b1f-065aaa4479d7\")>,\n",
       " <selenium.webdriver.remote.webelement.WebElement (session=\"b4f6839d2c007c99bfe08632c58c3160\", element=\"49a3b49c-1588-4f76-8409-ba6973a2ba3b\")>,\n",
       " <selenium.webdriver.remote.webelement.WebElement (session=\"b4f6839d2c007c99bfe08632c58c3160\", element=\"81de1cd1-9162-4a52-adb7-886088497d14\")>,\n",
       " <selenium.webdriver.remote.webelement.WebElement (session=\"b4f6839d2c007c99bfe08632c58c3160\", element=\"a6aefecd-68cd-42b5-8b09-d9ba38be0934\")>,\n",
       " <selenium.webdriver.remote.webelement.WebElement (session=\"b4f6839d2c007c99bfe08632c58c3160\", element=\"e517b839-aa59-4cb0-9c45-6e35ba1c2c65\")>,\n",
       " <selenium.webdriver.remote.webelement.WebElement (session=\"b4f6839d2c007c99bfe08632c58c3160\", element=\"be97040e-d7ce-489e-b8c7-2b46b1dca393\")>,\n",
       " <selenium.webdriver.remote.webelement.WebElement (session=\"b4f6839d2c007c99bfe08632c58c3160\", element=\"5765fc9b-4dbb-4c44-a0eb-fc0b9f1583e2\")>,\n",
       " <selenium.webdriver.remote.webelement.WebElement (session=\"b4f6839d2c007c99bfe08632c58c3160\", element=\"56047662-bfca-4324-8dea-3b62cb7141e5\")>,\n",
       " <selenium.webdriver.remote.webelement.WebElement (session=\"b4f6839d2c007c99bfe08632c58c3160\", element=\"a7190eae-2588-4fb7-b58c-014a35da4da7\")>,\n",
       " <selenium.webdriver.remote.webelement.WebElement (session=\"b4f6839d2c007c99bfe08632c58c3160\", element=\"2bd2fa49-586e-48ba-b590-403b80cc992c\")>,\n",
       " <selenium.webdriver.remote.webelement.WebElement (session=\"b4f6839d2c007c99bfe08632c58c3160\", element=\"bc63641a-a9cc-4414-b67a-1dcde9bd25fa\")>,\n",
       " <selenium.webdriver.remote.webelement.WebElement (session=\"b4f6839d2c007c99bfe08632c58c3160\", element=\"3e1bf747-f670-42d1-8425-b43aae2b98b0\")>,\n",
       " <selenium.webdriver.remote.webelement.WebElement (session=\"b4f6839d2c007c99bfe08632c58c3160\", element=\"a8d7ee85-98c6-45c5-839e-6573a49f97b6\")>,\n",
       " <selenium.webdriver.remote.webelement.WebElement (session=\"b4f6839d2c007c99bfe08632c58c3160\", element=\"440c713a-948b-4510-b572-9e4a2f93bffc\")>,\n",
       " <selenium.webdriver.remote.webelement.WebElement (session=\"b4f6839d2c007c99bfe08632c58c3160\", element=\"20e8e1e4-8a43-40a0-a2ed-3e81a6e802e4\")>,\n",
       " <selenium.webdriver.remote.webelement.WebElement (session=\"b4f6839d2c007c99bfe08632c58c3160\", element=\"8935d623-75f6-4638-96a8-1386df2f3fd9\")>,\n",
       " <selenium.webdriver.remote.webelement.WebElement (session=\"b4f6839d2c007c99bfe08632c58c3160\", element=\"5d051c65-e2e1-47cc-bfa8-665be8243f8c\")>,\n",
       " <selenium.webdriver.remote.webelement.WebElement (session=\"b4f6839d2c007c99bfe08632c58c3160\", element=\"a92a23b5-19d8-4192-bf37-26945b690676\")>,\n",
       " <selenium.webdriver.remote.webelement.WebElement (session=\"b4f6839d2c007c99bfe08632c58c3160\", element=\"b462d90a-3011-4039-90ac-7da1915aeb4f\")>,\n",
       " <selenium.webdriver.remote.webelement.WebElement (session=\"b4f6839d2c007c99bfe08632c58c3160\", element=\"40a90efd-bd73-4707-8a38-a06dacf2d1aa\")>,\n",
       " <selenium.webdriver.remote.webelement.WebElement (session=\"b4f6839d2c007c99bfe08632c58c3160\", element=\"d9a9129d-da82-48b3-bdef-9e3200fb7c9b\")>,\n",
       " <selenium.webdriver.remote.webelement.WebElement (session=\"b4f6839d2c007c99bfe08632c58c3160\", element=\"9d59c601-5d7c-4587-8406-00305862e375\")>,\n",
       " <selenium.webdriver.remote.webelement.WebElement (session=\"b4f6839d2c007c99bfe08632c58c3160\", element=\"1dc25d40-9332-400d-b6ef-135e136affa9\")>,\n",
       " <selenium.webdriver.remote.webelement.WebElement (session=\"b4f6839d2c007c99bfe08632c58c3160\", element=\"30284252-56b2-40d8-af60-0609551694a0\")>]"
      ]
     },
     "execution_count": 205,
     "metadata": {},
     "output_type": "execute_result"
    }
   ],
   "source": [
    "# extracting tags havings brands name\n",
    "brand_tags = driver.find_elements_by_xpath(\"//h3[@class='product-brand']\")\n",
    "brand_tags"
   ]
  },
  {
   "cell_type": "code",
   "execution_count": 206,
   "metadata": {},
   "outputs": [
    {
     "data": {
      "text/plain": [
       "['Nike',\n",
       " 'Nike',\n",
       " 'ALDO',\n",
       " 'Nike',\n",
       " 'Nike',\n",
       " 'Nike',\n",
       " 'FORCLAZ By Decathlon',\n",
       " 'Puma',\n",
       " 'PUMA Hoops',\n",
       " 'Puma',\n",
       " 'Kalenji By Decathlon',\n",
       " 'UNDER ARMOUR',\n",
       " 'UNDER ARMOUR',\n",
       " 'UNDER ARMOUR',\n",
       " 'ASICS',\n",
       " 'Hush Puppies',\n",
       " 'Nike',\n",
       " 'UNDER ARMOUR',\n",
       " 'Hush Puppies',\n",
       " 'Geox',\n",
       " 'Puma',\n",
       " 'Quechua By Decathlon',\n",
       " 'Hush Puppies',\n",
       " 'ASICS',\n",
       " 'Puma',\n",
       " 'Hush Puppies',\n",
       " 'Cole Haan',\n",
       " 'Ruosh',\n",
       " 'Geox',\n",
       " 'J.FONTINI',\n",
       " 'Hush Puppies',\n",
       " 'Lacoste',\n",
       " 'J.FONTINI',\n",
       " 'Geox',\n",
       " 'Hush Puppies',\n",
       " 'RARE RABBIT',\n",
       " 'Skechers',\n",
       " 'Nike',\n",
       " 'Skechers',\n",
       " 'UNDER ARMOUR',\n",
       " 'KIPRUN By Decathlon',\n",
       " 'ALDO',\n",
       " 'Hush Puppies',\n",
       " 'ALDO',\n",
       " 'DAVINCHI',\n",
       " 'Geox',\n",
       " 'Puma',\n",
       " 'Geox',\n",
       " 'Heel & Buckle London',\n",
       " 'Geox']"
      ]
     },
     "execution_count": 206,
     "metadata": {},
     "output_type": "execute_result"
    }
   ],
   "source": [
    "brand = [] # empty list\n",
    "for i in brand_tags: # to run loop\n",
    "    brand.append(i.text) # appending the text \n",
    "    \n",
    "brand"
   ]
  },
  {
   "cell_type": "code",
   "execution_count": 207,
   "metadata": {},
   "outputs": [
    {
     "data": {
      "text/plain": [
       "50"
      ]
     },
     "execution_count": 207,
     "metadata": {},
     "output_type": "execute_result"
    }
   ],
   "source": [
    "len (brand)"
   ]
  },
  {
   "cell_type": "code",
   "execution_count": 208,
   "metadata": {},
   "outputs": [],
   "source": [
    "next_page = driver.find_element_by_xpath(\"/html/body/div[2]/div/div[1]/main/div[3]/div[2]/div/div[2]/section/div[2]/ul/li[12]\")\n",
    "next_page.click()"
   ]
  },
  {
   "cell_type": "code",
   "execution_count": 209,
   "metadata": {},
   "outputs": [
    {
     "data": {
      "text/plain": [
       "[<selenium.webdriver.remote.webelement.WebElement (session=\"b4f6839d2c007c99bfe08632c58c3160\", element=\"30284252-56b2-40d8-af60-0609551694a0\")>,\n",
       " <selenium.webdriver.remote.webelement.WebElement (session=\"b4f6839d2c007c99bfe08632c58c3160\", element=\"1dc25d40-9332-400d-b6ef-135e136affa9\")>,\n",
       " <selenium.webdriver.remote.webelement.WebElement (session=\"b4f6839d2c007c99bfe08632c58c3160\", element=\"363d56e6-0d6e-46a8-8954-ed4f5040af3d\")>,\n",
       " <selenium.webdriver.remote.webelement.WebElement (session=\"b4f6839d2c007c99bfe08632c58c3160\", element=\"42d2a1a5-8d26-4acf-b03f-bb8806cd40a9\")>,\n",
       " <selenium.webdriver.remote.webelement.WebElement (session=\"b4f6839d2c007c99bfe08632c58c3160\", element=\"6534b396-be4c-430e-85e8-c88f98a11087\")>,\n",
       " <selenium.webdriver.remote.webelement.WebElement (session=\"b4f6839d2c007c99bfe08632c58c3160\", element=\"db565cee-6771-40d8-9756-be63cc8f07d7\")>,\n",
       " <selenium.webdriver.remote.webelement.WebElement (session=\"b4f6839d2c007c99bfe08632c58c3160\", element=\"f2831e4a-b07d-405b-9817-a5197c9d2d9a\")>,\n",
       " <selenium.webdriver.remote.webelement.WebElement (session=\"b4f6839d2c007c99bfe08632c58c3160\", element=\"2afdef1c-7b72-4481-a3ed-4f634db1afec\")>,\n",
       " <selenium.webdriver.remote.webelement.WebElement (session=\"b4f6839d2c007c99bfe08632c58c3160\", element=\"5025fe18-a1e2-47dd-ab20-977b8aed0fe2\")>,\n",
       " <selenium.webdriver.remote.webelement.WebElement (session=\"b4f6839d2c007c99bfe08632c58c3160\", element=\"c299581e-9fb5-49e2-af05-10f8cc35e2bc\")>,\n",
       " <selenium.webdriver.remote.webelement.WebElement (session=\"b4f6839d2c007c99bfe08632c58c3160\", element=\"2d4a35a9-199c-4058-9d8e-9dd0c015a891\")>,\n",
       " <selenium.webdriver.remote.webelement.WebElement (session=\"b4f6839d2c007c99bfe08632c58c3160\", element=\"d6e6db5b-e617-4d02-8ce0-476f43475634\")>,\n",
       " <selenium.webdriver.remote.webelement.WebElement (session=\"b4f6839d2c007c99bfe08632c58c3160\", element=\"8b154699-ca2d-4393-adee-959cf4d7b47e\")>,\n",
       " <selenium.webdriver.remote.webelement.WebElement (session=\"b4f6839d2c007c99bfe08632c58c3160\", element=\"56ade427-0a2e-4e3d-8cd4-5a3efc1a4676\")>,\n",
       " <selenium.webdriver.remote.webelement.WebElement (session=\"b4f6839d2c007c99bfe08632c58c3160\", element=\"54199826-758c-4550-b08a-c359e06f3978\")>,\n",
       " <selenium.webdriver.remote.webelement.WebElement (session=\"b4f6839d2c007c99bfe08632c58c3160\", element=\"9d6f58e6-1e90-4e6c-a9eb-db2aafd10168\")>,\n",
       " <selenium.webdriver.remote.webelement.WebElement (session=\"b4f6839d2c007c99bfe08632c58c3160\", element=\"509c9652-760b-4113-8d34-cfefd949ad3d\")>,\n",
       " <selenium.webdriver.remote.webelement.WebElement (session=\"b4f6839d2c007c99bfe08632c58c3160\", element=\"c4f3ddb4-3abd-4934-8488-df9766b3d48b\")>,\n",
       " <selenium.webdriver.remote.webelement.WebElement (session=\"b4f6839d2c007c99bfe08632c58c3160\", element=\"541fbc93-9f47-4be4-943a-046d3dd14280\")>,\n",
       " <selenium.webdriver.remote.webelement.WebElement (session=\"b4f6839d2c007c99bfe08632c58c3160\", element=\"59febb60-898f-444e-904e-752e6e1c033b\")>,\n",
       " <selenium.webdriver.remote.webelement.WebElement (session=\"b4f6839d2c007c99bfe08632c58c3160\", element=\"77699741-2344-434b-ada9-afdd0fb6f141\")>,\n",
       " <selenium.webdriver.remote.webelement.WebElement (session=\"b4f6839d2c007c99bfe08632c58c3160\", element=\"d92614dc-a52d-49a3-b1f3-596de3bf716c\")>,\n",
       " <selenium.webdriver.remote.webelement.WebElement (session=\"b4f6839d2c007c99bfe08632c58c3160\", element=\"5fe584c7-017a-428a-9fe0-2da58ff3ea1c\")>,\n",
       " <selenium.webdriver.remote.webelement.WebElement (session=\"b4f6839d2c007c99bfe08632c58c3160\", element=\"c39335c5-99d8-4e26-9e05-0e70d0c2fdf0\")>,\n",
       " <selenium.webdriver.remote.webelement.WebElement (session=\"b4f6839d2c007c99bfe08632c58c3160\", element=\"4abe4352-9479-4992-8af2-7ae489c5968a\")>,\n",
       " <selenium.webdriver.remote.webelement.WebElement (session=\"b4f6839d2c007c99bfe08632c58c3160\", element=\"90caa402-35cf-4f6d-a3de-b5113e0c1c87\")>,\n",
       " <selenium.webdriver.remote.webelement.WebElement (session=\"b4f6839d2c007c99bfe08632c58c3160\", element=\"a3764343-bd04-4dbf-a226-1f5b85777227\")>,\n",
       " <selenium.webdriver.remote.webelement.WebElement (session=\"b4f6839d2c007c99bfe08632c58c3160\", element=\"6c1805de-e92d-4c1a-801c-9e4c3568c554\")>,\n",
       " <selenium.webdriver.remote.webelement.WebElement (session=\"b4f6839d2c007c99bfe08632c58c3160\", element=\"ffcb292c-00bc-4af2-8c6e-042c18f58c56\")>,\n",
       " <selenium.webdriver.remote.webelement.WebElement (session=\"b4f6839d2c007c99bfe08632c58c3160\", element=\"b1d8cf37-884b-44bc-9ebd-8e767e0f5d93\")>,\n",
       " <selenium.webdriver.remote.webelement.WebElement (session=\"b4f6839d2c007c99bfe08632c58c3160\", element=\"158a897d-ffc1-42a1-9d0e-9ac6ae9ed085\")>,\n",
       " <selenium.webdriver.remote.webelement.WebElement (session=\"b4f6839d2c007c99bfe08632c58c3160\", element=\"116c68d9-010d-4c9b-9dc2-eb272bec0556\")>,\n",
       " <selenium.webdriver.remote.webelement.WebElement (session=\"b4f6839d2c007c99bfe08632c58c3160\", element=\"49feaec9-a52b-46a9-8ab8-2620f467ea11\")>,\n",
       " <selenium.webdriver.remote.webelement.WebElement (session=\"b4f6839d2c007c99bfe08632c58c3160\", element=\"d7477063-5dbf-484f-b4b8-5c901e3346f4\")>,\n",
       " <selenium.webdriver.remote.webelement.WebElement (session=\"b4f6839d2c007c99bfe08632c58c3160\", element=\"92b9a1f7-3de9-4362-88f6-d1f7489316cf\")>,\n",
       " <selenium.webdriver.remote.webelement.WebElement (session=\"b4f6839d2c007c99bfe08632c58c3160\", element=\"8d2b3141-6dfc-4b76-ae49-3f035759bcd9\")>,\n",
       " <selenium.webdriver.remote.webelement.WebElement (session=\"b4f6839d2c007c99bfe08632c58c3160\", element=\"a89bdea1-763e-47ce-8d67-b1f4c1a7ff00\")>,\n",
       " <selenium.webdriver.remote.webelement.WebElement (session=\"b4f6839d2c007c99bfe08632c58c3160\", element=\"fb422c10-1bcf-4cf8-8fd3-1aba27ccd17d\")>,\n",
       " <selenium.webdriver.remote.webelement.WebElement (session=\"b4f6839d2c007c99bfe08632c58c3160\", element=\"5fccf970-997d-44f8-b013-6989f6f11a3e\")>,\n",
       " <selenium.webdriver.remote.webelement.WebElement (session=\"b4f6839d2c007c99bfe08632c58c3160\", element=\"a274177b-b6b0-4912-b060-21a0bc39a230\")>,\n",
       " <selenium.webdriver.remote.webelement.WebElement (session=\"b4f6839d2c007c99bfe08632c58c3160\", element=\"6f82311c-1f8c-45b5-a326-411cc979686e\")>,\n",
       " <selenium.webdriver.remote.webelement.WebElement (session=\"b4f6839d2c007c99bfe08632c58c3160\", element=\"86e47b4b-b228-4f76-b7e5-e1a50422d5ea\")>,\n",
       " <selenium.webdriver.remote.webelement.WebElement (session=\"b4f6839d2c007c99bfe08632c58c3160\", element=\"57a6dd23-71f3-4c00-abac-94a7c31f7692\")>,\n",
       " <selenium.webdriver.remote.webelement.WebElement (session=\"b4f6839d2c007c99bfe08632c58c3160\", element=\"cea6a260-0f2b-4262-9d42-8aa3260a453d\")>,\n",
       " <selenium.webdriver.remote.webelement.WebElement (session=\"b4f6839d2c007c99bfe08632c58c3160\", element=\"039a00d2-69bd-464a-a927-dd4dd48f3de3\")>,\n",
       " <selenium.webdriver.remote.webelement.WebElement (session=\"b4f6839d2c007c99bfe08632c58c3160\", element=\"5fd086bd-5809-404f-8a1b-d75a83445843\")>,\n",
       " <selenium.webdriver.remote.webelement.WebElement (session=\"b4f6839d2c007c99bfe08632c58c3160\", element=\"20255a67-c2ef-4b5e-9f0f-d1b2775c22de\")>,\n",
       " <selenium.webdriver.remote.webelement.WebElement (session=\"b4f6839d2c007c99bfe08632c58c3160\", element=\"8ab4e163-dc96-49fe-9952-298abdbe9ce3\")>,\n",
       " <selenium.webdriver.remote.webelement.WebElement (session=\"b4f6839d2c007c99bfe08632c58c3160\", element=\"ea955b9f-4173-429e-ae9f-29fe1765ebd9\")>,\n",
       " <selenium.webdriver.remote.webelement.WebElement (session=\"b4f6839d2c007c99bfe08632c58c3160\", element=\"b97c1f96-5473-48c0-9533-7210000b7ca7\")>]"
      ]
     },
     "execution_count": 209,
     "metadata": {},
     "output_type": "execute_result"
    }
   ],
   "source": [
    "brands_tag = driver.find_elements_by_xpath(\"//h3[@class='product-brand']\")\n",
    "brands_tag"
   ]
  },
  {
   "cell_type": "code",
   "execution_count": 210,
   "metadata": {},
   "outputs": [
    {
     "data": {
      "text/plain": [
       "['Geox',\n",
       " 'Heel & Buckle London',\n",
       " 'Florsheim',\n",
       " 'Nike',\n",
       " 'Nike',\n",
       " 'RARE RABBIT',\n",
       " 'Nike',\n",
       " 'Geox',\n",
       " 'UNDER ARMOUR',\n",
       " 'Cole Haan',\n",
       " 'Cole Haan',\n",
       " 'Geox',\n",
       " 'ADIDAS',\n",
       " 'VIONIC',\n",
       " 'J.FONTINI',\n",
       " 'J.FONTINI',\n",
       " 'Hush Puppies',\n",
       " 'Kenneth Cole',\n",
       " 'KLEAT',\n",
       " 'Hush Puppies',\n",
       " 'Reebok',\n",
       " 'ADIDAS',\n",
       " 'Lacoste',\n",
       " 'Cole Haan',\n",
       " 'KLEAT',\n",
       " 'Geox',\n",
       " 'Geox',\n",
       " 'Cole Haan',\n",
       " 'Heel & Buckle London',\n",
       " 'Heel & Buckle London',\n",
       " 'Heel & Buckle London',\n",
       " 'Saint G',\n",
       " 'FILA',\n",
       " 'Geox',\n",
       " 'Geox',\n",
       " 'Cole Haan',\n",
       " 'Cole Haan',\n",
       " 'Cole Haan',\n",
       " 'Geox',\n",
       " 'Geox',\n",
       " 'Ruosh',\n",
       " 'ALDO',\n",
       " 'ASICS',\n",
       " 'Heel & Buckle London',\n",
       " 'Nike',\n",
       " 'Skechers',\n",
       " 'Florsheim',\n",
       " 'Kenneth Cole',\n",
       " 'Bugatti',\n",
       " 'UNDER ARMOUR']"
      ]
     },
     "execution_count": 210,
     "metadata": {},
     "output_type": "execute_result"
    }
   ],
   "source": [
    "brands = [] # empty list\n",
    "for i in brands_tag:\n",
    "    brands.append(i.text)\n",
    "    \n",
    "brands"
   ]
  },
  {
   "cell_type": "code",
   "execution_count": 211,
   "metadata": {},
   "outputs": [],
   "source": [
    "brands=driver.find_elements_by_class_name('product-brand')\n",
    "for i in brands:\n",
    "    brand.append(i.text)#appending the text in brands list"
   ]
  },
  {
   "cell_type": "code",
   "execution_count": 212,
   "metadata": {},
   "outputs": [
    {
     "data": {
      "text/plain": [
       "['Nike',\n",
       " 'Nike',\n",
       " 'ALDO',\n",
       " 'Nike',\n",
       " 'Nike',\n",
       " 'Nike',\n",
       " 'FORCLAZ By Decathlon',\n",
       " 'Puma',\n",
       " 'PUMA Hoops',\n",
       " 'Puma',\n",
       " 'Kalenji By Decathlon',\n",
       " 'UNDER ARMOUR',\n",
       " 'UNDER ARMOUR',\n",
       " 'UNDER ARMOUR',\n",
       " 'ASICS',\n",
       " 'Hush Puppies',\n",
       " 'Nike',\n",
       " 'UNDER ARMOUR',\n",
       " 'Hush Puppies',\n",
       " 'Geox',\n",
       " 'Puma',\n",
       " 'Quechua By Decathlon',\n",
       " 'Hush Puppies',\n",
       " 'ASICS',\n",
       " 'Puma',\n",
       " 'Hush Puppies',\n",
       " 'Cole Haan',\n",
       " 'Ruosh',\n",
       " 'Geox',\n",
       " 'J.FONTINI',\n",
       " 'Hush Puppies',\n",
       " 'Lacoste',\n",
       " 'J.FONTINI',\n",
       " 'Geox',\n",
       " 'Hush Puppies',\n",
       " 'RARE RABBIT',\n",
       " 'Skechers',\n",
       " 'Nike',\n",
       " 'Skechers',\n",
       " 'UNDER ARMOUR',\n",
       " 'KIPRUN By Decathlon',\n",
       " 'ALDO',\n",
       " 'Hush Puppies',\n",
       " 'ALDO',\n",
       " 'DAVINCHI',\n",
       " 'Geox',\n",
       " 'Puma',\n",
       " 'Geox',\n",
       " 'Heel & Buckle London',\n",
       " 'Geox',\n",
       " 'Geox',\n",
       " 'Heel & Buckle London',\n",
       " 'Florsheim',\n",
       " 'Nike',\n",
       " 'Nike',\n",
       " 'RARE RABBIT',\n",
       " 'Nike',\n",
       " 'Geox',\n",
       " 'UNDER ARMOUR',\n",
       " 'Cole Haan',\n",
       " 'Cole Haan',\n",
       " 'Geox',\n",
       " 'ADIDAS',\n",
       " 'VIONIC',\n",
       " 'J.FONTINI',\n",
       " 'J.FONTINI',\n",
       " 'Hush Puppies',\n",
       " 'Kenneth Cole',\n",
       " 'KLEAT',\n",
       " 'Hush Puppies',\n",
       " 'Reebok',\n",
       " 'ADIDAS',\n",
       " 'Lacoste',\n",
       " 'Cole Haan',\n",
       " 'KLEAT',\n",
       " 'Geox',\n",
       " 'Geox',\n",
       " 'Cole Haan',\n",
       " 'Heel & Buckle London',\n",
       " 'Heel & Buckle London',\n",
       " 'Heel & Buckle London',\n",
       " 'Saint G',\n",
       " 'FILA',\n",
       " 'Geox',\n",
       " 'Geox',\n",
       " 'Cole Haan',\n",
       " 'Cole Haan',\n",
       " 'Cole Haan',\n",
       " 'Geox',\n",
       " 'Geox',\n",
       " 'Ruosh',\n",
       " 'ALDO',\n",
       " 'ASICS',\n",
       " 'Heel & Buckle London',\n",
       " 'Nike',\n",
       " 'Skechers',\n",
       " 'Florsheim',\n",
       " 'Kenneth Cole',\n",
       " 'Bugatti',\n",
       " 'UNDER ARMOUR']"
      ]
     },
     "execution_count": 212,
     "metadata": {},
     "output_type": "execute_result"
    }
   ],
   "source": [
    "brand"
   ]
  },
  {
   "cell_type": "code",
   "execution_count": 213,
   "metadata": {},
   "outputs": [
    {
     "data": {
      "text/plain": [
       "100"
      ]
     },
     "execution_count": 213,
     "metadata": {},
     "output_type": "execute_result"
    }
   ],
   "source": [
    "len(brand)"
   ]
  },
  {
   "cell_type": "code",
   "execution_count": 214,
   "metadata": {},
   "outputs": [],
   "source": [
    "previous_page = driver.find_element_by_xpath(\"//li[@class='pagination-prev']\")\n",
    "previous_page.click()"
   ]
  },
  {
   "cell_type": "code",
   "execution_count": 215,
   "metadata": {},
   "outputs": [
    {
     "data": {
      "text/plain": [
       "[<selenium.webdriver.remote.webelement.WebElement (session=\"b4f6839d2c007c99bfe08632c58c3160\", element=\"7f1dcdb8-caf7-44ba-9f81-02c903d991ef\")>,\n",
       " <selenium.webdriver.remote.webelement.WebElement (session=\"b4f6839d2c007c99bfe08632c58c3160\", element=\"a0eada50-e7f5-4a14-97d4-6327696a4158\")>,\n",
       " <selenium.webdriver.remote.webelement.WebElement (session=\"b4f6839d2c007c99bfe08632c58c3160\", element=\"35dcd426-b3ac-423d-9f0b-7c8584a6f864\")>,\n",
       " <selenium.webdriver.remote.webelement.WebElement (session=\"b4f6839d2c007c99bfe08632c58c3160\", element=\"b3479443-4c0a-475b-a6be-5f820b225d0b\")>,\n",
       " <selenium.webdriver.remote.webelement.WebElement (session=\"b4f6839d2c007c99bfe08632c58c3160\", element=\"e98df0fb-266e-43c9-ac95-06159d3e1c2f\")>,\n",
       " <selenium.webdriver.remote.webelement.WebElement (session=\"b4f6839d2c007c99bfe08632c58c3160\", element=\"2b848fc6-1efb-4529-86c0-29b65344e44e\")>,\n",
       " <selenium.webdriver.remote.webelement.WebElement (session=\"b4f6839d2c007c99bfe08632c58c3160\", element=\"b6e6cfb7-d7eb-46b8-9b3f-8abcc25be9ea\")>,\n",
       " <selenium.webdriver.remote.webelement.WebElement (session=\"b4f6839d2c007c99bfe08632c58c3160\", element=\"6cb75912-59df-4715-a7ae-95ae6ae66d61\")>,\n",
       " <selenium.webdriver.remote.webelement.WebElement (session=\"b4f6839d2c007c99bfe08632c58c3160\", element=\"95861c1c-79bf-4091-bde5-6994857a081f\")>,\n",
       " <selenium.webdriver.remote.webelement.WebElement (session=\"b4f6839d2c007c99bfe08632c58c3160\", element=\"40690238-15dd-49ad-a9fc-6df22f934d1f\")>,\n",
       " <selenium.webdriver.remote.webelement.WebElement (session=\"b4f6839d2c007c99bfe08632c58c3160\", element=\"25f8a6c6-502e-4c0e-86d7-4237bf0bcfef\")>,\n",
       " <selenium.webdriver.remote.webelement.WebElement (session=\"b4f6839d2c007c99bfe08632c58c3160\", element=\"2ba850d4-c3f8-4261-94d8-eb0aa5db4cfa\")>,\n",
       " <selenium.webdriver.remote.webelement.WebElement (session=\"b4f6839d2c007c99bfe08632c58c3160\", element=\"fa8e76bb-a983-43a6-8833-55f279d094ce\")>,\n",
       " <selenium.webdriver.remote.webelement.WebElement (session=\"b4f6839d2c007c99bfe08632c58c3160\", element=\"b868fbb1-f3ce-4617-8da2-a0f81135ba40\")>,\n",
       " <selenium.webdriver.remote.webelement.WebElement (session=\"b4f6839d2c007c99bfe08632c58c3160\", element=\"4b1c2007-d68e-4e4b-995a-c897439be675\")>,\n",
       " <selenium.webdriver.remote.webelement.WebElement (session=\"b4f6839d2c007c99bfe08632c58c3160\", element=\"57ab2a43-7053-428f-a91d-2146f34a6405\")>,\n",
       " <selenium.webdriver.remote.webelement.WebElement (session=\"b4f6839d2c007c99bfe08632c58c3160\", element=\"35dc6d43-1b51-4949-a6f6-baa8ff575838\")>,\n",
       " <selenium.webdriver.remote.webelement.WebElement (session=\"b4f6839d2c007c99bfe08632c58c3160\", element=\"0327a43b-99c6-4747-93bf-b1dbf0b16046\")>,\n",
       " <selenium.webdriver.remote.webelement.WebElement (session=\"b4f6839d2c007c99bfe08632c58c3160\", element=\"e4cbb32e-01dd-4612-a1ac-dcc37b06d074\")>,\n",
       " <selenium.webdriver.remote.webelement.WebElement (session=\"b4f6839d2c007c99bfe08632c58c3160\", element=\"b627ec6a-89e7-41a2-8b06-b330af223eda\")>,\n",
       " <selenium.webdriver.remote.webelement.WebElement (session=\"b4f6839d2c007c99bfe08632c58c3160\", element=\"25d0b76e-4507-49dc-9b00-f923ee9fad13\")>,\n",
       " <selenium.webdriver.remote.webelement.WebElement (session=\"b4f6839d2c007c99bfe08632c58c3160\", element=\"39c48168-2429-4c8d-8e28-2253c7c93912\")>,\n",
       " <selenium.webdriver.remote.webelement.WebElement (session=\"b4f6839d2c007c99bfe08632c58c3160\", element=\"db235a96-d07b-4ea6-8e4c-27750086c2e3\")>,\n",
       " <selenium.webdriver.remote.webelement.WebElement (session=\"b4f6839d2c007c99bfe08632c58c3160\", element=\"d5f7ca77-2d6a-40ef-b7af-3813f9f5531a\")>,\n",
       " <selenium.webdriver.remote.webelement.WebElement (session=\"b4f6839d2c007c99bfe08632c58c3160\", element=\"9a7f1f5f-9f7c-4c82-9c4d-e65c0ded95e2\")>,\n",
       " <selenium.webdriver.remote.webelement.WebElement (session=\"b4f6839d2c007c99bfe08632c58c3160\", element=\"778fc6f5-ad90-407b-8841-c8f4327c17aa\")>,\n",
       " <selenium.webdriver.remote.webelement.WebElement (session=\"b4f6839d2c007c99bfe08632c58c3160\", element=\"6fe5afad-83cd-4e76-83c7-42157faff2f0\")>,\n",
       " <selenium.webdriver.remote.webelement.WebElement (session=\"b4f6839d2c007c99bfe08632c58c3160\", element=\"45f0224d-2419-4371-a222-983b85fc8eac\")>,\n",
       " <selenium.webdriver.remote.webelement.WebElement (session=\"b4f6839d2c007c99bfe08632c58c3160\", element=\"b3940182-a7ba-44d5-a6b5-ef4d22d23b77\")>,\n",
       " <selenium.webdriver.remote.webelement.WebElement (session=\"b4f6839d2c007c99bfe08632c58c3160\", element=\"b4052bbc-3da7-4f86-8eec-977aac995490\")>,\n",
       " <selenium.webdriver.remote.webelement.WebElement (session=\"b4f6839d2c007c99bfe08632c58c3160\", element=\"a97033b6-a862-4fd3-9791-dcdf4709f6db\")>,\n",
       " <selenium.webdriver.remote.webelement.WebElement (session=\"b4f6839d2c007c99bfe08632c58c3160\", element=\"604a1b4f-e3be-4de7-a4bc-ac587f4b61c8\")>,\n",
       " <selenium.webdriver.remote.webelement.WebElement (session=\"b4f6839d2c007c99bfe08632c58c3160\", element=\"c741f00f-442a-4f20-b3b2-a6c097746150\")>,\n",
       " <selenium.webdriver.remote.webelement.WebElement (session=\"b4f6839d2c007c99bfe08632c58c3160\", element=\"06b7cb28-0944-4a22-aef8-64d825e5a43b\")>,\n",
       " <selenium.webdriver.remote.webelement.WebElement (session=\"b4f6839d2c007c99bfe08632c58c3160\", element=\"4c5d0b57-bc7a-4541-a059-95d33e0044fb\")>,\n",
       " <selenium.webdriver.remote.webelement.WebElement (session=\"b4f6839d2c007c99bfe08632c58c3160\", element=\"6143f09b-994e-4ca1-b85d-e20e7b8d358c\")>,\n",
       " <selenium.webdriver.remote.webelement.WebElement (session=\"b4f6839d2c007c99bfe08632c58c3160\", element=\"849cc3c8-c66d-474f-b0c6-ccc77e04cb08\")>,\n",
       " <selenium.webdriver.remote.webelement.WebElement (session=\"b4f6839d2c007c99bfe08632c58c3160\", element=\"90ccab39-5333-4c1b-b67a-6058f6f3aa6a\")>,\n",
       " <selenium.webdriver.remote.webelement.WebElement (session=\"b4f6839d2c007c99bfe08632c58c3160\", element=\"f87505cc-bb1c-4b57-81b4-5b0730acb370\")>,\n",
       " <selenium.webdriver.remote.webelement.WebElement (session=\"b4f6839d2c007c99bfe08632c58c3160\", element=\"07837bc0-2de3-499d-87f0-6aa4e8c2c9be\")>,\n",
       " <selenium.webdriver.remote.webelement.WebElement (session=\"b4f6839d2c007c99bfe08632c58c3160\", element=\"61319434-9339-4bd0-a8f3-05d08268073b\")>,\n",
       " <selenium.webdriver.remote.webelement.WebElement (session=\"b4f6839d2c007c99bfe08632c58c3160\", element=\"6d098f40-d925-4880-a7e9-f78ef22d1999\")>,\n",
       " <selenium.webdriver.remote.webelement.WebElement (session=\"b4f6839d2c007c99bfe08632c58c3160\", element=\"3e3f5cb7-26a0-4b32-b5b5-9a1d256586df\")>,\n",
       " <selenium.webdriver.remote.webelement.WebElement (session=\"b4f6839d2c007c99bfe08632c58c3160\", element=\"d59a2ad3-6e7c-4565-aa29-c2e86c7f7808\")>,\n",
       " <selenium.webdriver.remote.webelement.WebElement (session=\"b4f6839d2c007c99bfe08632c58c3160\", element=\"134ec05b-e397-489a-b645-0ff946caf487\")>,\n",
       " <selenium.webdriver.remote.webelement.WebElement (session=\"b4f6839d2c007c99bfe08632c58c3160\", element=\"0bb66acd-d6e3-4b23-b054-2458872594dd\")>,\n",
       " <selenium.webdriver.remote.webelement.WebElement (session=\"b4f6839d2c007c99bfe08632c58c3160\", element=\"020add38-3748-4661-9262-6950ff10a3a6\")>,\n",
       " <selenium.webdriver.remote.webelement.WebElement (session=\"b4f6839d2c007c99bfe08632c58c3160\", element=\"becb0472-0870-4f70-bc54-39bf613d118e\")>,\n",
       " <selenium.webdriver.remote.webelement.WebElement (session=\"b4f6839d2c007c99bfe08632c58c3160\", element=\"0af6f6e1-5506-4956-998c-4783d5bd1fe7\")>,\n",
       " <selenium.webdriver.remote.webelement.WebElement (session=\"b4f6839d2c007c99bfe08632c58c3160\", element=\"0c506898-d9f8-41eb-848d-1bfffa5d3694\")>]"
      ]
     },
     "execution_count": 215,
     "metadata": {},
     "output_type": "execute_result"
    }
   ],
   "source": [
    "description = driver.find_elements_by_xpath(\"//h4[@class='product-product']\")\n",
    "description"
   ]
  },
  {
   "cell_type": "code",
   "execution_count": 216,
   "metadata": {},
   "outputs": [
    {
     "data": {
      "text/plain": [
       "['',\n",
       " 'AIR ZOOM PEGASUS Running Shoes',\n",
       " 'Men Driving Shoes',\n",
       " 'Men KD13 EP Basketball Shoes',\n",
       " 'Men AIR ZOOM Running Shoes',\n",
       " 'Men AIR ZOOM PEGASUS 38 Run',\n",
       " 'TREKKING 100 Boots',\n",
       " 'Women Deviate Nitro Running',\n",
       " 'Unisex Clyde Basketball Shoes',\n",
       " 'Men Deviate Nitro Running Shoe',\n",
       " 'Men KD500 Running Shoe',\n",
       " 'Men HOVR Infinite Running',\n",
       " 'HOVR Sonic 3 Running Shoes',\n",
       " 'HOVR Sonic 3 Running Shoes',\n",
       " 'Men Running Shoes',\n",
       " 'Men Leather Slip-On Sneakers',\n",
       " 'Men JORDAN DELTA Sneakers',\n",
       " 'Women HOVR Rise 2 Training',\n",
       " 'Men Leather Slip-On Shoes',\n",
       " 'Men Leather Driving Shoes',\n",
       " 'Women Velocity Nitro Running',\n",
       " 'Men Trekking Shoes',\n",
       " 'Men Solid Leather Formal Slip-Ons',\n",
       " 'Women Running Shoes',\n",
       " 'Men IGNITE Dual Running Shoes',\n",
       " 'Men Formal Derbys',\n",
       " 'Leather Sneakers',\n",
       " 'Men Solid Leather Formal Oxfords',\n",
       " 'Men Leather Semiformal Driving',\n",
       " 'Men Textured Leather Loafers',\n",
       " 'Men Solid Leather Formal Derbys',\n",
       " 'Men Woven Design Sneakers',\n",
       " 'Men Solid Loafers',\n",
       " 'Men Leather Formal Slip-Ons',\n",
       " 'Men Leather Slip-On Sneakers',\n",
       " 'Men Leather Loafers',\n",
       " 'Women AIR ELEMENT 2 Sneakers',\n",
       " 'Women AIR MAX VIVA Sneakers',\n",
       " 'Men Flex Advantage 4.0Upstream',\n",
       " 'GS SC 3Zero IV Basketball',\n",
       " 'Women Running Shoes',\n",
       " 'Women Solid Leather Pumps',\n",
       " 'Men Solid Leather Formal Slip-Ons',\n",
       " 'Women Sandals',\n",
       " 'Men Textured Formal Leather Loafers',\n",
       " 'Men Leather Formal Derbys',\n",
       " 'Men Football Shoes',\n",
       " 'Men Leather Formal Slip Ons',\n",
       " 'Women Peep Toe Heels',\n",
       " 'Men Leather Formal Derbyacs']"
      ]
     },
     "execution_count": 216,
     "metadata": {},
     "output_type": "execute_result"
    }
   ],
   "source": [
    "product_desc = [] # empty list\n",
    "for i in description:\n",
    "    product_desc.append(i.text)\n",
    "    \n",
    "product_desc"
   ]
  },
  {
   "cell_type": "code",
   "execution_count": 217,
   "metadata": {},
   "outputs": [
    {
     "data": {
      "text/plain": [
       "50"
      ]
     },
     "execution_count": 217,
     "metadata": {},
     "output_type": "execute_result"
    }
   ],
   "source": [
    "len(product_desc)"
   ]
  },
  {
   "cell_type": "code",
   "execution_count": 218,
   "metadata": {},
   "outputs": [],
   "source": [
    "next_page = driver.find_element_by_xpath(\"//li[@class='pagination-next']\")\n",
    "next_page.click()"
   ]
  },
  {
   "cell_type": "code",
   "execution_count": 219,
   "metadata": {},
   "outputs": [
    {
     "data": {
      "text/plain": [
       "[<selenium.webdriver.remote.webelement.WebElement (session=\"b4f6839d2c007c99bfe08632c58c3160\", element=\"0c506898-d9f8-41eb-848d-1bfffa5d3694\")>,\n",
       " <selenium.webdriver.remote.webelement.WebElement (session=\"b4f6839d2c007c99bfe08632c58c3160\", element=\"0af6f6e1-5506-4956-998c-4783d5bd1fe7\")>,\n",
       " <selenium.webdriver.remote.webelement.WebElement (session=\"b4f6839d2c007c99bfe08632c58c3160\", element=\"a3631501-a41a-4191-af47-880931f1ff18\")>,\n",
       " <selenium.webdriver.remote.webelement.WebElement (session=\"b4f6839d2c007c99bfe08632c58c3160\", element=\"3339e2d7-9558-4e0f-8d29-3226970ef4fc\")>,\n",
       " <selenium.webdriver.remote.webelement.WebElement (session=\"b4f6839d2c007c99bfe08632c58c3160\", element=\"8c58017b-2667-4ab4-a3b8-7b1c2244894a\")>,\n",
       " <selenium.webdriver.remote.webelement.WebElement (session=\"b4f6839d2c007c99bfe08632c58c3160\", element=\"245cf995-bda5-4471-ba30-236e33033848\")>,\n",
       " <selenium.webdriver.remote.webelement.WebElement (session=\"b4f6839d2c007c99bfe08632c58c3160\", element=\"43d71aed-ee70-420f-b970-0398f6ca0b35\")>,\n",
       " <selenium.webdriver.remote.webelement.WebElement (session=\"b4f6839d2c007c99bfe08632c58c3160\", element=\"2d30c321-0ac2-45b7-b94a-5df37afd421d\")>,\n",
       " <selenium.webdriver.remote.webelement.WebElement (session=\"b4f6839d2c007c99bfe08632c58c3160\", element=\"cf00f97a-acea-43af-8b83-990f1369e2d2\")>,\n",
       " <selenium.webdriver.remote.webelement.WebElement (session=\"b4f6839d2c007c99bfe08632c58c3160\", element=\"a4e7fb09-f4e4-4103-b3a7-8a80cd91cbf9\")>,\n",
       " <selenium.webdriver.remote.webelement.WebElement (session=\"b4f6839d2c007c99bfe08632c58c3160\", element=\"8ab4fc4f-ef03-4a39-82a6-3e2a284cbae9\")>,\n",
       " <selenium.webdriver.remote.webelement.WebElement (session=\"b4f6839d2c007c99bfe08632c58c3160\", element=\"af47ba9a-f9cb-415b-a898-4114553bda9b\")>,\n",
       " <selenium.webdriver.remote.webelement.WebElement (session=\"b4f6839d2c007c99bfe08632c58c3160\", element=\"ff1208e7-3cfd-410d-afa0-8ff99de50178\")>,\n",
       " <selenium.webdriver.remote.webelement.WebElement (session=\"b4f6839d2c007c99bfe08632c58c3160\", element=\"a66b7277-dea0-413f-97d6-8c6fa4717de4\")>,\n",
       " <selenium.webdriver.remote.webelement.WebElement (session=\"b4f6839d2c007c99bfe08632c58c3160\", element=\"389aacb6-6ae3-4f90-a8ff-a27143e20f0f\")>,\n",
       " <selenium.webdriver.remote.webelement.WebElement (session=\"b4f6839d2c007c99bfe08632c58c3160\", element=\"2c3d4dbc-099a-48ce-9e42-a7eac22fb9fc\")>,\n",
       " <selenium.webdriver.remote.webelement.WebElement (session=\"b4f6839d2c007c99bfe08632c58c3160\", element=\"c8a1f2a5-8817-4f34-bc4e-346016a551f3\")>,\n",
       " <selenium.webdriver.remote.webelement.WebElement (session=\"b4f6839d2c007c99bfe08632c58c3160\", element=\"fe09b658-86bc-4b2f-8671-b78d8304b594\")>,\n",
       " <selenium.webdriver.remote.webelement.WebElement (session=\"b4f6839d2c007c99bfe08632c58c3160\", element=\"87c513c8-1cda-4749-adf6-677ca488db77\")>,\n",
       " <selenium.webdriver.remote.webelement.WebElement (session=\"b4f6839d2c007c99bfe08632c58c3160\", element=\"33b0b415-0d56-4309-93c1-d54af32da81e\")>,\n",
       " <selenium.webdriver.remote.webelement.WebElement (session=\"b4f6839d2c007c99bfe08632c58c3160\", element=\"4e695f95-f36f-4420-a9d8-bc28954b7fab\")>,\n",
       " <selenium.webdriver.remote.webelement.WebElement (session=\"b4f6839d2c007c99bfe08632c58c3160\", element=\"55a8e306-3f8b-4795-a409-68470755e4b2\")>,\n",
       " <selenium.webdriver.remote.webelement.WebElement (session=\"b4f6839d2c007c99bfe08632c58c3160\", element=\"ff14a7c9-2785-4dbb-b299-0c82a782bf87\")>,\n",
       " <selenium.webdriver.remote.webelement.WebElement (session=\"b4f6839d2c007c99bfe08632c58c3160\", element=\"8043abf9-29a9-4af8-b48f-3c8284b4c309\")>,\n",
       " <selenium.webdriver.remote.webelement.WebElement (session=\"b4f6839d2c007c99bfe08632c58c3160\", element=\"14bf400e-0ae0-4f9f-95bc-090fc7dae949\")>,\n",
       " <selenium.webdriver.remote.webelement.WebElement (session=\"b4f6839d2c007c99bfe08632c58c3160\", element=\"092fd616-a0ec-472c-92c6-55a379489cde\")>,\n",
       " <selenium.webdriver.remote.webelement.WebElement (session=\"b4f6839d2c007c99bfe08632c58c3160\", element=\"5fc32b28-a17a-465b-8044-6c54e2c60edf\")>,\n",
       " <selenium.webdriver.remote.webelement.WebElement (session=\"b4f6839d2c007c99bfe08632c58c3160\", element=\"f72d4585-f048-4152-8be3-317386947891\")>,\n",
       " <selenium.webdriver.remote.webelement.WebElement (session=\"b4f6839d2c007c99bfe08632c58c3160\", element=\"fe086c21-6597-401b-8f04-eea5d8b21231\")>,\n",
       " <selenium.webdriver.remote.webelement.WebElement (session=\"b4f6839d2c007c99bfe08632c58c3160\", element=\"6c2c2efd-72bb-4d70-bcf7-b18571dddad9\")>,\n",
       " <selenium.webdriver.remote.webelement.WebElement (session=\"b4f6839d2c007c99bfe08632c58c3160\", element=\"b58cebc0-210d-4a8d-8db4-dcaa29464688\")>,\n",
       " <selenium.webdriver.remote.webelement.WebElement (session=\"b4f6839d2c007c99bfe08632c58c3160\", element=\"e7e8c99b-e4a4-434c-b6fb-19aa9c18ea0b\")>,\n",
       " <selenium.webdriver.remote.webelement.WebElement (session=\"b4f6839d2c007c99bfe08632c58c3160\", element=\"caa32742-769b-40c0-88f6-69a75c7ca819\")>,\n",
       " <selenium.webdriver.remote.webelement.WebElement (session=\"b4f6839d2c007c99bfe08632c58c3160\", element=\"09754beb-f5a2-42a2-ae60-ffa567fbdc69\")>,\n",
       " <selenium.webdriver.remote.webelement.WebElement (session=\"b4f6839d2c007c99bfe08632c58c3160\", element=\"82148af6-762d-4ec5-83ac-1126c08e0879\")>,\n",
       " <selenium.webdriver.remote.webelement.WebElement (session=\"b4f6839d2c007c99bfe08632c58c3160\", element=\"ce3dbf99-4a44-4ee6-8420-aa427bc9a72f\")>,\n",
       " <selenium.webdriver.remote.webelement.WebElement (session=\"b4f6839d2c007c99bfe08632c58c3160\", element=\"89ef1f6b-07cc-45d2-894d-ce025ee81278\")>,\n",
       " <selenium.webdriver.remote.webelement.WebElement (session=\"b4f6839d2c007c99bfe08632c58c3160\", element=\"aeaa1fcf-fd6e-4dd1-b542-ce4711fca24c\")>,\n",
       " <selenium.webdriver.remote.webelement.WebElement (session=\"b4f6839d2c007c99bfe08632c58c3160\", element=\"6b083492-9729-4a8a-a1af-dbaeb86f1e4a\")>,\n",
       " <selenium.webdriver.remote.webelement.WebElement (session=\"b4f6839d2c007c99bfe08632c58c3160\", element=\"a2aac4ba-472d-40af-8abd-7bcec9ea0c03\")>,\n",
       " <selenium.webdriver.remote.webelement.WebElement (session=\"b4f6839d2c007c99bfe08632c58c3160\", element=\"bfe388fe-f159-47bd-87e9-f0d94978db02\")>,\n",
       " <selenium.webdriver.remote.webelement.WebElement (session=\"b4f6839d2c007c99bfe08632c58c3160\", element=\"1b2cb7e6-ee9b-416a-95b5-0c8436afafb8\")>,\n",
       " <selenium.webdriver.remote.webelement.WebElement (session=\"b4f6839d2c007c99bfe08632c58c3160\", element=\"99beedb5-77f8-4758-b29b-7f17e479e2ee\")>,\n",
       " <selenium.webdriver.remote.webelement.WebElement (session=\"b4f6839d2c007c99bfe08632c58c3160\", element=\"1f770aff-e879-45ab-93cf-6399dd423a43\")>,\n",
       " <selenium.webdriver.remote.webelement.WebElement (session=\"b4f6839d2c007c99bfe08632c58c3160\", element=\"ab620180-01e2-4e66-a87a-c93d7706e1c6\")>,\n",
       " <selenium.webdriver.remote.webelement.WebElement (session=\"b4f6839d2c007c99bfe08632c58c3160\", element=\"fb33ce53-b81f-427d-a28c-6cabb84ee351\")>,\n",
       " <selenium.webdriver.remote.webelement.WebElement (session=\"b4f6839d2c007c99bfe08632c58c3160\", element=\"4a443812-8347-4f4f-a7f4-2959d105093e\")>,\n",
       " <selenium.webdriver.remote.webelement.WebElement (session=\"b4f6839d2c007c99bfe08632c58c3160\", element=\"e85b6329-33ed-40ef-b901-c895149eb4ef\")>,\n",
       " <selenium.webdriver.remote.webelement.WebElement (session=\"b4f6839d2c007c99bfe08632c58c3160\", element=\"7615843c-a768-4acc-b2b5-a468a770293a\")>,\n",
       " <selenium.webdriver.remote.webelement.WebElement (session=\"b4f6839d2c007c99bfe08632c58c3160\", element=\"2ca5495c-acf1-4ef6-9ab0-7be5b3e8e705\")>]"
      ]
     },
     "execution_count": 219,
     "metadata": {},
     "output_type": "execute_result"
    }
   ],
   "source": [
    "descriptions = driver.find_elements_by_xpath(\"//h4[@class='product-product']\")\n",
    "descriptions"
   ]
  },
  {
   "cell_type": "code",
   "execution_count": 220,
   "metadata": {},
   "outputs": [
    {
     "data": {
      "text/plain": [
       "['Men Leather Formal Derbyacs',\n",
       " 'Women Peep Toe Heels',\n",
       " '',\n",
       " 'Men AIR ZOOM PEGASUS 38 Run',\n",
       " 'Men JORDAN ONE TAKE II Shoes',\n",
       " 'Men Perforations Leather Brogues',\n",
       " 'Men RENEW FUSION Running Shoes',\n",
       " 'Men Leather Driving Shoes',\n",
       " 'Men HOVR Rise 2 Training Shoes',\n",
       " 'Men Wingtip Oxford Sneakers',\n",
       " 'Men GENERATION ZEROGRAND STITCHLITE',\n",
       " 'Men Leather Slip-On Sneakers',\n",
       " 'Men Ultraboost DNA CC_1 Shoes',\n",
       " 'Men Textured Sneakers',\n",
       " 'Men Textured Leather Loafers',\n",
       " 'Men Textured Leather Loafers',\n",
       " 'Men Textured Oxfords',\n",
       " 'Men Solid Leather Sneakers',\n",
       " 'Men Woven Design Loafers',\n",
       " 'Men Leather Formal Derbys',\n",
       " 'Unisex Zig Kinetica II Running',\n",
       " 'Men Running Shoes',\n",
       " 'Woven Design Casual Sneakers',\n",
       " 'Women Open Toe Flats',\n",
       " 'Men Woven Design Sneakers',\n",
       " 'Men Leather Formal Monks',\n",
       " 'Women Solid Leather Loafers',\n",
       " 'Women Solid Leather Ballerinas',\n",
       " 'Women Solid Leather Gladiators',\n",
       " 'Men Leather Formal Oxfords',\n",
       " 'Women Solid Leather Heels',\n",
       " 'Women Heeled Boots',\n",
       " 'Women Sneakers',\n",
       " 'Women Woven Design Slip-On Sneakers',\n",
       " 'Women Leather Ballerinas',\n",
       " 'Women Woven Design Slip-On Sneakers',\n",
       " 'Women Woven Design Sneakers',\n",
       " 'Women Leather Heels',\n",
       " 'Women Solid Leather Pumps',\n",
       " 'Women Leather Solid Pumps',\n",
       " 'Men Formal Leather Brogues',\n",
       " 'Women Woven Design Sneakers',\n",
       " 'Men Running Shoes',\n",
       " 'Women Leather Pumps',\n",
       " 'Men REACT MILER 2 Running',\n",
       " 'Men MAX ROAD 4 Running Shoes',\n",
       " 'Men Solid Leather Formal Derbys',\n",
       " 'Women Solid Flat Boots',\n",
       " 'Women Solid Block Heels',\n",
       " 'HOVR Infinite 2 Running Shoes']"
      ]
     },
     "execution_count": 220,
     "metadata": {},
     "output_type": "execute_result"
    }
   ],
   "source": [
    "products_desc = [] # empty list\n",
    "for i in descriptions:\n",
    "    products_desc.append(i.text)\n",
    "    \n",
    "products_desc"
   ]
  },
  {
   "cell_type": "code",
   "execution_count": 221,
   "metadata": {},
   "outputs": [],
   "source": [
    "products_desc=driver.find_elements_by_class_name('product-product')\n",
    "for i in products_desc:\n",
    "    product_desc.append(i.text)#appending the text in products_desc"
   ]
  },
  {
   "cell_type": "code",
   "execution_count": 222,
   "metadata": {},
   "outputs": [
    {
     "data": {
      "text/plain": [
       "['',\n",
       " 'AIR ZOOM PEGASUS Running Shoes',\n",
       " 'Men Driving Shoes',\n",
       " 'Men KD13 EP Basketball Shoes',\n",
       " 'Men AIR ZOOM Running Shoes',\n",
       " 'Men AIR ZOOM PEGASUS 38 Run',\n",
       " 'TREKKING 100 Boots',\n",
       " 'Women Deviate Nitro Running',\n",
       " 'Unisex Clyde Basketball Shoes',\n",
       " 'Men Deviate Nitro Running Shoe',\n",
       " 'Men KD500 Running Shoe',\n",
       " 'Men HOVR Infinite Running',\n",
       " 'HOVR Sonic 3 Running Shoes',\n",
       " 'HOVR Sonic 3 Running Shoes',\n",
       " 'Men Running Shoes',\n",
       " 'Men Leather Slip-On Sneakers',\n",
       " 'Men JORDAN DELTA Sneakers',\n",
       " 'Women HOVR Rise 2 Training',\n",
       " 'Men Leather Slip-On Shoes',\n",
       " 'Men Leather Driving Shoes',\n",
       " 'Women Velocity Nitro Running',\n",
       " 'Men Trekking Shoes',\n",
       " 'Men Solid Leather Formal Slip-Ons',\n",
       " 'Women Running Shoes',\n",
       " 'Men IGNITE Dual Running Shoes',\n",
       " 'Men Formal Derbys',\n",
       " 'Leather Sneakers',\n",
       " 'Men Solid Leather Formal Oxfords',\n",
       " 'Men Leather Semiformal Driving',\n",
       " 'Men Textured Leather Loafers',\n",
       " 'Men Solid Leather Formal Derbys',\n",
       " 'Men Woven Design Sneakers',\n",
       " 'Men Solid Loafers',\n",
       " 'Men Leather Formal Slip-Ons',\n",
       " 'Men Leather Slip-On Sneakers',\n",
       " 'Men Leather Loafers',\n",
       " 'Women AIR ELEMENT 2 Sneakers',\n",
       " 'Women AIR MAX VIVA Sneakers',\n",
       " 'Men Flex Advantage 4.0Upstream',\n",
       " 'GS SC 3Zero IV Basketball',\n",
       " 'Women Running Shoes',\n",
       " 'Women Solid Leather Pumps',\n",
       " 'Men Solid Leather Formal Slip-Ons',\n",
       " 'Women Sandals',\n",
       " 'Men Textured Formal Leather Loafers',\n",
       " 'Men Leather Formal Derbys',\n",
       " 'Men Football Shoes',\n",
       " 'Men Leather Formal Slip Ons',\n",
       " 'Women Peep Toe Heels',\n",
       " 'Men Leather Formal Derbyacs',\n",
       " 'Men Leather Formal Derbyacs',\n",
       " 'Women Peep Toe Heels',\n",
       " '',\n",
       " 'Men AIR ZOOM PEGASUS 38 Run',\n",
       " 'Men JORDAN ONE TAKE II Shoes',\n",
       " 'Men Perforations Leather Brogues',\n",
       " 'Men RENEW FUSION Running Shoes',\n",
       " 'Men Leather Driving Shoes',\n",
       " 'Men HOVR Rise 2 Training Shoes',\n",
       " 'Men Wingtip Oxford Sneakers',\n",
       " 'Men GENERATION ZEROGRAND STITCHLITE',\n",
       " 'Men Leather Slip-On Sneakers',\n",
       " 'Men Ultraboost DNA CC_1 Shoes',\n",
       " 'Men Textured Sneakers',\n",
       " 'Men Textured Leather Loafers',\n",
       " 'Men Textured Leather Loafers',\n",
       " 'Men Textured Oxfords',\n",
       " 'Men Solid Leather Sneakers',\n",
       " 'Men Woven Design Loafers',\n",
       " 'Men Leather Formal Derbys',\n",
       " 'Unisex Zig Kinetica II Running',\n",
       " 'Men Running Shoes',\n",
       " 'Woven Design Casual Sneakers',\n",
       " 'Women Open Toe Flats',\n",
       " 'Men Woven Design Sneakers',\n",
       " 'Men Leather Formal Monks',\n",
       " 'Women Solid Leather Loafers',\n",
       " 'Women Solid Leather Ballerinas',\n",
       " 'Women Solid Leather Gladiators',\n",
       " 'Men Leather Formal Oxfords',\n",
       " 'Women Solid Leather Heels',\n",
       " 'Women Heeled Boots',\n",
       " 'Women Sneakers',\n",
       " 'Women Woven Design Slip-On Sneakers',\n",
       " 'Women Leather Ballerinas',\n",
       " 'Women Woven Design Slip-On Sneakers',\n",
       " 'Women Woven Design Sneakers',\n",
       " 'Women Leather Heels',\n",
       " 'Women Solid Leather Pumps',\n",
       " 'Women Leather Solid Pumps',\n",
       " 'Men Formal Leather Brogues',\n",
       " 'Women Woven Design Sneakers',\n",
       " 'Men Running Shoes',\n",
       " 'Women Leather Pumps',\n",
       " 'Men REACT MILER 2 Running',\n",
       " 'Men MAX ROAD 4 Running Shoes',\n",
       " 'Men Solid Leather Formal Derbys',\n",
       " 'Women Solid Flat Boots',\n",
       " 'Women Solid Block Heels',\n",
       " 'HOVR Infinite 2 Running Shoes']"
      ]
     },
     "execution_count": 222,
     "metadata": {},
     "output_type": "execute_result"
    }
   ],
   "source": [
    "product_desc"
   ]
  },
  {
   "cell_type": "code",
   "execution_count": 223,
   "metadata": {},
   "outputs": [
    {
     "data": {
      "text/plain": [
       "100"
      ]
     },
     "execution_count": 223,
     "metadata": {},
     "output_type": "execute_result"
    }
   ],
   "source": [
    "len(product_desc)"
   ]
  },
  {
   "cell_type": "code",
   "execution_count": 224,
   "metadata": {},
   "outputs": [],
   "source": [
    "previous_page = driver.find_element_by_xpath(\"//li[@class='pagination-prev']\")\n",
    "previous_page.click()"
   ]
  },
  {
   "cell_type": "code",
   "execution_count": 225,
   "metadata": {},
   "outputs": [
    {
     "data": {
      "text/plain": [
       "[<selenium.webdriver.remote.webelement.WebElement (session=\"b4f6839d2c007c99bfe08632c58c3160\", element=\"f2d5d4c7-112c-4332-b3d3-54a14e1f7726\")>,\n",
       " <selenium.webdriver.remote.webelement.WebElement (session=\"b4f6839d2c007c99bfe08632c58c3160\", element=\"9927e881-19e9-4fc4-bf75-1775b6a5416e\")>,\n",
       " <selenium.webdriver.remote.webelement.WebElement (session=\"b4f6839d2c007c99bfe08632c58c3160\", element=\"a2891130-127b-470d-8cf9-abdd1d940826\")>,\n",
       " <selenium.webdriver.remote.webelement.WebElement (session=\"b4f6839d2c007c99bfe08632c58c3160\", element=\"3a3f3021-e534-4112-9ebf-909cde2d2c58\")>,\n",
       " <selenium.webdriver.remote.webelement.WebElement (session=\"b4f6839d2c007c99bfe08632c58c3160\", element=\"7f357818-fbb3-45bf-9318-6492acc9e71c\")>,\n",
       " <selenium.webdriver.remote.webelement.WebElement (session=\"b4f6839d2c007c99bfe08632c58c3160\", element=\"ef2bc741-9636-48dd-9d79-6c1983c070d5\")>,\n",
       " <selenium.webdriver.remote.webelement.WebElement (session=\"b4f6839d2c007c99bfe08632c58c3160\", element=\"ec50c689-a873-4a8a-b4f4-f8cb0e5b60c9\")>,\n",
       " <selenium.webdriver.remote.webelement.WebElement (session=\"b4f6839d2c007c99bfe08632c58c3160\", element=\"6d9b99d4-0eba-4556-aa46-2a21a47e7850\")>,\n",
       " <selenium.webdriver.remote.webelement.WebElement (session=\"b4f6839d2c007c99bfe08632c58c3160\", element=\"88fc4f9c-8103-42a3-b1b0-a9d7db5114c2\")>,\n",
       " <selenium.webdriver.remote.webelement.WebElement (session=\"b4f6839d2c007c99bfe08632c58c3160\", element=\"0a3f697a-439c-4009-84d5-dff1df8b0cc0\")>,\n",
       " <selenium.webdriver.remote.webelement.WebElement (session=\"b4f6839d2c007c99bfe08632c58c3160\", element=\"2e83bbdf-b33e-4eda-81a0-060283b26f07\")>,\n",
       " <selenium.webdriver.remote.webelement.WebElement (session=\"b4f6839d2c007c99bfe08632c58c3160\", element=\"fbe9352e-8cbe-4015-96e6-3323ecbae6db\")>,\n",
       " <selenium.webdriver.remote.webelement.WebElement (session=\"b4f6839d2c007c99bfe08632c58c3160\", element=\"1d0e5709-c311-4ee9-af7c-9582eaf91605\")>,\n",
       " <selenium.webdriver.remote.webelement.WebElement (session=\"b4f6839d2c007c99bfe08632c58c3160\", element=\"ab0d21c3-866a-42f3-b701-97f41975f78b\")>,\n",
       " <selenium.webdriver.remote.webelement.WebElement (session=\"b4f6839d2c007c99bfe08632c58c3160\", element=\"637a1afd-9c49-477c-93a2-d6a1b8198f60\")>,\n",
       " <selenium.webdriver.remote.webelement.WebElement (session=\"b4f6839d2c007c99bfe08632c58c3160\", element=\"e696c203-0c3f-4c5d-be5a-08a7b708b8c4\")>,\n",
       " <selenium.webdriver.remote.webelement.WebElement (session=\"b4f6839d2c007c99bfe08632c58c3160\", element=\"322abd7f-c1af-4075-b02b-133ae7bfb3d4\")>,\n",
       " <selenium.webdriver.remote.webelement.WebElement (session=\"b4f6839d2c007c99bfe08632c58c3160\", element=\"8317c99d-0f50-4c92-863e-d0e83028fd26\")>,\n",
       " <selenium.webdriver.remote.webelement.WebElement (session=\"b4f6839d2c007c99bfe08632c58c3160\", element=\"0d6ff31c-4642-4de1-beda-091f7a713e97\")>,\n",
       " <selenium.webdriver.remote.webelement.WebElement (session=\"b4f6839d2c007c99bfe08632c58c3160\", element=\"69513920-7214-4ca2-b3cc-f4779211706d\")>,\n",
       " <selenium.webdriver.remote.webelement.WebElement (session=\"b4f6839d2c007c99bfe08632c58c3160\", element=\"117a43cd-0490-45bc-b89a-464fccf52826\")>,\n",
       " <selenium.webdriver.remote.webelement.WebElement (session=\"b4f6839d2c007c99bfe08632c58c3160\", element=\"f4c0ccb8-ed3f-4e6d-9ac8-425a3025b72b\")>,\n",
       " <selenium.webdriver.remote.webelement.WebElement (session=\"b4f6839d2c007c99bfe08632c58c3160\", element=\"43b72416-f34b-4eae-87cf-9b69b31c60d0\")>,\n",
       " <selenium.webdriver.remote.webelement.WebElement (session=\"b4f6839d2c007c99bfe08632c58c3160\", element=\"815ccaae-bda7-450a-8425-6b31830cafec\")>,\n",
       " <selenium.webdriver.remote.webelement.WebElement (session=\"b4f6839d2c007c99bfe08632c58c3160\", element=\"a659a5f7-c162-4bf0-b2bd-799567c311e1\")>,\n",
       " <selenium.webdriver.remote.webelement.WebElement (session=\"b4f6839d2c007c99bfe08632c58c3160\", element=\"c1c4e2d9-c0a7-4fb8-bee3-5cd137503e8b\")>,\n",
       " <selenium.webdriver.remote.webelement.WebElement (session=\"b4f6839d2c007c99bfe08632c58c3160\", element=\"05cbcf80-4aed-4813-9a74-df217f7914bd\")>,\n",
       " <selenium.webdriver.remote.webelement.WebElement (session=\"b4f6839d2c007c99bfe08632c58c3160\", element=\"b9f8898d-b068-41b8-962c-de8f6ccb6be3\")>,\n",
       " <selenium.webdriver.remote.webelement.WebElement (session=\"b4f6839d2c007c99bfe08632c58c3160\", element=\"bc1849e5-4cde-4154-a48b-4612f7720217\")>,\n",
       " <selenium.webdriver.remote.webelement.WebElement (session=\"b4f6839d2c007c99bfe08632c58c3160\", element=\"d6cdab69-ef42-4998-9615-149fb405a1be\")>,\n",
       " <selenium.webdriver.remote.webelement.WebElement (session=\"b4f6839d2c007c99bfe08632c58c3160\", element=\"3f2b53a1-f9d5-48bf-b936-de8202adf38b\")>,\n",
       " <selenium.webdriver.remote.webelement.WebElement (session=\"b4f6839d2c007c99bfe08632c58c3160\", element=\"49f19487-802f-41f6-af8c-2c736d077350\")>,\n",
       " <selenium.webdriver.remote.webelement.WebElement (session=\"b4f6839d2c007c99bfe08632c58c3160\", element=\"5f243d09-cc17-4abb-aead-094c10a9d142\")>,\n",
       " <selenium.webdriver.remote.webelement.WebElement (session=\"b4f6839d2c007c99bfe08632c58c3160\", element=\"2fea5080-40a8-4533-9c8e-9466775414c7\")>,\n",
       " <selenium.webdriver.remote.webelement.WebElement (session=\"b4f6839d2c007c99bfe08632c58c3160\", element=\"57d5aa76-f5e6-4e8d-a0f2-cc3734802298\")>,\n",
       " <selenium.webdriver.remote.webelement.WebElement (session=\"b4f6839d2c007c99bfe08632c58c3160\", element=\"2e1c1fa3-2ebc-4390-91b4-fda86d37e139\")>,\n",
       " <selenium.webdriver.remote.webelement.WebElement (session=\"b4f6839d2c007c99bfe08632c58c3160\", element=\"77f14fa9-c72f-45df-8e02-c1adcd044a65\")>,\n",
       " <selenium.webdriver.remote.webelement.WebElement (session=\"b4f6839d2c007c99bfe08632c58c3160\", element=\"0a403004-9375-4369-92bc-8e09304bdf3f\")>,\n",
       " <selenium.webdriver.remote.webelement.WebElement (session=\"b4f6839d2c007c99bfe08632c58c3160\", element=\"b09c6d45-97f0-4ae4-a582-aa235962da85\")>,\n",
       " <selenium.webdriver.remote.webelement.WebElement (session=\"b4f6839d2c007c99bfe08632c58c3160\", element=\"7c7dc1ca-1f1c-4256-b826-7f29dbdae447\")>,\n",
       " <selenium.webdriver.remote.webelement.WebElement (session=\"b4f6839d2c007c99bfe08632c58c3160\", element=\"ffb0427e-2f7c-4c09-9ed0-1e0e2f22f79f\")>,\n",
       " <selenium.webdriver.remote.webelement.WebElement (session=\"b4f6839d2c007c99bfe08632c58c3160\", element=\"48a99006-fa86-4e0b-8cfe-2264ec9506e9\")>,\n",
       " <selenium.webdriver.remote.webelement.WebElement (session=\"b4f6839d2c007c99bfe08632c58c3160\", element=\"5d5da7db-33a3-4b4a-b1f5-61e6620e82bb\")>,\n",
       " <selenium.webdriver.remote.webelement.WebElement (session=\"b4f6839d2c007c99bfe08632c58c3160\", element=\"39f8cfbb-53bb-48de-a8ca-27244bdf701b\")>,\n",
       " <selenium.webdriver.remote.webelement.WebElement (session=\"b4f6839d2c007c99bfe08632c58c3160\", element=\"d821aef8-d67b-43d9-b4cc-dfde5e03df0b\")>,\n",
       " <selenium.webdriver.remote.webelement.WebElement (session=\"b4f6839d2c007c99bfe08632c58c3160\", element=\"a2ea439c-7809-45ca-aa70-c700854cb7ca\")>,\n",
       " <selenium.webdriver.remote.webelement.WebElement (session=\"b4f6839d2c007c99bfe08632c58c3160\", element=\"7e2f8f14-2d20-40c4-9756-64ae425ee79e\")>,\n",
       " <selenium.webdriver.remote.webelement.WebElement (session=\"b4f6839d2c007c99bfe08632c58c3160\", element=\"8fc49bd1-5e2e-4a4f-81f2-05277b8cfe0a\")>,\n",
       " <selenium.webdriver.remote.webelement.WebElement (session=\"b4f6839d2c007c99bfe08632c58c3160\", element=\"a45aba8e-1357-45ea-a425-0f62503093bd\")>,\n",
       " <selenium.webdriver.remote.webelement.WebElement (session=\"b4f6839d2c007c99bfe08632c58c3160\", element=\"20e59b39-da36-4a2f-bb87-0982475eb506\")>]"
      ]
     },
     "execution_count": 225,
     "metadata": {},
     "output_type": "execute_result"
    }
   ],
   "source": [
    "# extracting web elements\n",
    "price_tags = driver.find_elements_by_xpath(\"//div[@class='product-price']\")\n",
    "price_tags"
   ]
  },
  {
   "cell_type": "code",
   "execution_count": 226,
   "metadata": {},
   "outputs": [
    {
     "data": {
      "text/plain": [
       "['Rs. 10496Rs. 14995(30% OFF)',\n",
       " 'Rs. 11495',\n",
       " 'Rs. 11999',\n",
       " 'Rs. 12995',\n",
       " 'Rs. 8236Rs. 10295(20% OFF)',\n",
       " 'Rs. 9995',\n",
       " 'Rs. 6999',\n",
       " 'Rs. 9749Rs. 14999(35% OFF)',\n",
       " 'Rs. 7699Rs. 10999(30% OFF)',\n",
       " 'Rs. 9749Rs. 14999(35% OFF)',\n",
       " 'Rs. 7857Rs. 8449(7% OFF)',\n",
       " 'Rs. 11999',\n",
       " 'Rs. 10999',\n",
       " 'Rs. 10999',\n",
       " 'Rs. 6999Rs. 9999(30% OFF)',\n",
       " 'Rs. 6999Rs. 9999(30% OFF)',\n",
       " 'Rs. 10995',\n",
       " 'Rs. 9999',\n",
       " 'Rs. 6999',\n",
       " 'Rs. 9990',\n",
       " 'Rs. 7149Rs. 10999(35% OFF)',\n",
       " 'Rs. 9999',\n",
       " 'Rs. 8999',\n",
       " 'Rs. 9799Rs. 13999(30% OFF)',\n",
       " 'Rs. 6999',\n",
       " 'Rs. 9999',\n",
       " 'Rs. 10999',\n",
       " 'Rs. 8094Rs. 13490(40% OFF)',\n",
       " 'Rs. 10490',\n",
       " 'Rs. 6990',\n",
       " 'Rs. 9999',\n",
       " 'Rs. 8500',\n",
       " 'Rs. 7990',\n",
       " 'Rs. 7495Rs. 14990(50% OFF)',\n",
       " 'Rs. 6999',\n",
       " 'Rs. 8499',\n",
       " 'Rs. 7999',\n",
       " 'Rs. 12495',\n",
       " 'Rs. 6999',\n",
       " 'Rs. 7499',\n",
       " 'Rs. 7006Rs. 7149(2% OFF)',\n",
       " 'Rs. 9999',\n",
       " 'Rs. 9999',\n",
       " 'Rs. 8999',\n",
       " 'Rs. 8990',\n",
       " 'Rs. 7349Rs. 10499(30% OFF)',\n",
       " 'Rs. 8499Rs. 16999(50% OFF)',\n",
       " 'Rs. 8999',\n",
       " 'Rs. 7192Rs. 8990(20% OFF)',\n",
       " 'Rs. 7495Rs. 14990(50% OFF)']"
      ]
     },
     "execution_count": 226,
     "metadata": {},
     "output_type": "execute_result"
    }
   ],
   "source": [
    "price = [] # empty list\n",
    "for i in price_tags: # running loop\n",
    "    price.append(i.text)\n",
    "    \n",
    "price"
   ]
  },
  {
   "cell_type": "code",
   "execution_count": 227,
   "metadata": {},
   "outputs": [],
   "source": [
    "next_page = driver.find_element_by_xpath(\"//li[@class='pagination-next']\")\n",
    "next_page.click()"
   ]
  },
  {
   "cell_type": "code",
   "execution_count": 228,
   "metadata": {},
   "outputs": [
    {
     "data": {
      "text/plain": [
       "[<selenium.webdriver.remote.webelement.WebElement (session=\"b4f6839d2c007c99bfe08632c58c3160\", element=\"20e59b39-da36-4a2f-bb87-0982475eb506\")>,\n",
       " <selenium.webdriver.remote.webelement.WebElement (session=\"b4f6839d2c007c99bfe08632c58c3160\", element=\"a45aba8e-1357-45ea-a425-0f62503093bd\")>,\n",
       " <selenium.webdriver.remote.webelement.WebElement (session=\"b4f6839d2c007c99bfe08632c58c3160\", element=\"71af207e-e90b-4269-88f1-5cfb33b107e0\")>,\n",
       " <selenium.webdriver.remote.webelement.WebElement (session=\"b4f6839d2c007c99bfe08632c58c3160\", element=\"835c38e7-b83c-4721-b747-2cd093bc0adc\")>,\n",
       " <selenium.webdriver.remote.webelement.WebElement (session=\"b4f6839d2c007c99bfe08632c58c3160\", element=\"1df631f9-2bdf-4262-92ca-5862cb7666aa\")>,\n",
       " <selenium.webdriver.remote.webelement.WebElement (session=\"b4f6839d2c007c99bfe08632c58c3160\", element=\"6094c8e4-8189-4589-9884-efeee66221db\")>,\n",
       " <selenium.webdriver.remote.webelement.WebElement (session=\"b4f6839d2c007c99bfe08632c58c3160\", element=\"e888e99f-4bd5-48e3-8bd9-e00d600d76a8\")>,\n",
       " <selenium.webdriver.remote.webelement.WebElement (session=\"b4f6839d2c007c99bfe08632c58c3160\", element=\"b842531e-772f-4591-9d57-f32665453b23\")>,\n",
       " <selenium.webdriver.remote.webelement.WebElement (session=\"b4f6839d2c007c99bfe08632c58c3160\", element=\"14922a52-691b-487a-b6b3-eabdc71a63de\")>,\n",
       " <selenium.webdriver.remote.webelement.WebElement (session=\"b4f6839d2c007c99bfe08632c58c3160\", element=\"89afd955-4195-41eb-96ef-1ca61c8b212a\")>,\n",
       " <selenium.webdriver.remote.webelement.WebElement (session=\"b4f6839d2c007c99bfe08632c58c3160\", element=\"54193422-7558-424e-af63-98c624607ec4\")>,\n",
       " <selenium.webdriver.remote.webelement.WebElement (session=\"b4f6839d2c007c99bfe08632c58c3160\", element=\"ed650a10-1f97-47b8-9699-ff0b76a15013\")>,\n",
       " <selenium.webdriver.remote.webelement.WebElement (session=\"b4f6839d2c007c99bfe08632c58c3160\", element=\"d8eefb54-f20c-4d9c-9847-b43e576b33e6\")>,\n",
       " <selenium.webdriver.remote.webelement.WebElement (session=\"b4f6839d2c007c99bfe08632c58c3160\", element=\"faf5556b-7172-41ab-8079-1df8cecb7c2f\")>,\n",
       " <selenium.webdriver.remote.webelement.WebElement (session=\"b4f6839d2c007c99bfe08632c58c3160\", element=\"463d807b-a738-4bb3-a1c2-0b4d35b561f1\")>,\n",
       " <selenium.webdriver.remote.webelement.WebElement (session=\"b4f6839d2c007c99bfe08632c58c3160\", element=\"497f7057-7a1b-4764-800a-0bfaf144dcaa\")>,\n",
       " <selenium.webdriver.remote.webelement.WebElement (session=\"b4f6839d2c007c99bfe08632c58c3160\", element=\"ccb074c5-95a9-4c00-bf86-84c48f6d4329\")>,\n",
       " <selenium.webdriver.remote.webelement.WebElement (session=\"b4f6839d2c007c99bfe08632c58c3160\", element=\"4391f732-c5af-4241-b28e-a55ab80feb97\")>,\n",
       " <selenium.webdriver.remote.webelement.WebElement (session=\"b4f6839d2c007c99bfe08632c58c3160\", element=\"514b05af-a980-4d76-af9f-a2f1cd36f6b0\")>,\n",
       " <selenium.webdriver.remote.webelement.WebElement (session=\"b4f6839d2c007c99bfe08632c58c3160\", element=\"4cf5c2b4-c380-434c-8ac2-24a16bc45bc0\")>,\n",
       " <selenium.webdriver.remote.webelement.WebElement (session=\"b4f6839d2c007c99bfe08632c58c3160\", element=\"0a23879a-3f8c-4406-a7e1-fc21b88b149a\")>,\n",
       " <selenium.webdriver.remote.webelement.WebElement (session=\"b4f6839d2c007c99bfe08632c58c3160\", element=\"1483008e-bbd3-40a3-b0cb-9fb98ee43829\")>,\n",
       " <selenium.webdriver.remote.webelement.WebElement (session=\"b4f6839d2c007c99bfe08632c58c3160\", element=\"9ba0b434-5ef5-4a35-9a83-2bbee639a358\")>,\n",
       " <selenium.webdriver.remote.webelement.WebElement (session=\"b4f6839d2c007c99bfe08632c58c3160\", element=\"423802e6-2729-4854-8ee6-2d55ab1f2c3b\")>,\n",
       " <selenium.webdriver.remote.webelement.WebElement (session=\"b4f6839d2c007c99bfe08632c58c3160\", element=\"b16ea084-2ba8-49ae-8cb1-a19aacb1ef4b\")>,\n",
       " <selenium.webdriver.remote.webelement.WebElement (session=\"b4f6839d2c007c99bfe08632c58c3160\", element=\"9364d946-9541-45dc-b3fa-d5e69ff6772a\")>,\n",
       " <selenium.webdriver.remote.webelement.WebElement (session=\"b4f6839d2c007c99bfe08632c58c3160\", element=\"5049d63a-f94d-48df-a1f3-21f07823b107\")>,\n",
       " <selenium.webdriver.remote.webelement.WebElement (session=\"b4f6839d2c007c99bfe08632c58c3160\", element=\"098d8a62-777e-4704-af6a-8d5be90bf92b\")>,\n",
       " <selenium.webdriver.remote.webelement.WebElement (session=\"b4f6839d2c007c99bfe08632c58c3160\", element=\"65ca63a5-bb2e-44b0-ba03-ff80dfaadddc\")>,\n",
       " <selenium.webdriver.remote.webelement.WebElement (session=\"b4f6839d2c007c99bfe08632c58c3160\", element=\"cc853b0f-a16f-4b26-b709-c695063fdeba\")>,\n",
       " <selenium.webdriver.remote.webelement.WebElement (session=\"b4f6839d2c007c99bfe08632c58c3160\", element=\"f078b1ea-cff8-4c0b-a010-8b5eb59185ca\")>,\n",
       " <selenium.webdriver.remote.webelement.WebElement (session=\"b4f6839d2c007c99bfe08632c58c3160\", element=\"c4164024-4957-4407-9d5a-4036836975f0\")>,\n",
       " <selenium.webdriver.remote.webelement.WebElement (session=\"b4f6839d2c007c99bfe08632c58c3160\", element=\"d7c498a6-fecf-420e-85f2-40aaf7e2848f\")>,\n",
       " <selenium.webdriver.remote.webelement.WebElement (session=\"b4f6839d2c007c99bfe08632c58c3160\", element=\"2fc193e0-a549-4938-a9b9-275dc53150c5\")>,\n",
       " <selenium.webdriver.remote.webelement.WebElement (session=\"b4f6839d2c007c99bfe08632c58c3160\", element=\"bbfc704e-0153-4300-a6ea-4227ae133a19\")>,\n",
       " <selenium.webdriver.remote.webelement.WebElement (session=\"b4f6839d2c007c99bfe08632c58c3160\", element=\"053d81f5-23ba-4fdd-835b-1b4bf15309d9\")>,\n",
       " <selenium.webdriver.remote.webelement.WebElement (session=\"b4f6839d2c007c99bfe08632c58c3160\", element=\"1e9df128-5d58-4553-9e90-db502221c1d1\")>,\n",
       " <selenium.webdriver.remote.webelement.WebElement (session=\"b4f6839d2c007c99bfe08632c58c3160\", element=\"7d155071-6a1b-46ee-9cd9-b829b4e08518\")>,\n",
       " <selenium.webdriver.remote.webelement.WebElement (session=\"b4f6839d2c007c99bfe08632c58c3160\", element=\"6317153a-7f7a-4296-ac82-2ba693bc7727\")>,\n",
       " <selenium.webdriver.remote.webelement.WebElement (session=\"b4f6839d2c007c99bfe08632c58c3160\", element=\"c39645be-d5c2-4ef5-a9a7-300f76b052e4\")>,\n",
       " <selenium.webdriver.remote.webelement.WebElement (session=\"b4f6839d2c007c99bfe08632c58c3160\", element=\"36636f97-d384-4648-aadc-6a7f97e29ae5\")>,\n",
       " <selenium.webdriver.remote.webelement.WebElement (session=\"b4f6839d2c007c99bfe08632c58c3160\", element=\"9bbb3deb-128e-44eb-91aa-875e39b4c6ba\")>,\n",
       " <selenium.webdriver.remote.webelement.WebElement (session=\"b4f6839d2c007c99bfe08632c58c3160\", element=\"a1f71ecb-5824-465d-ad2e-e30b27284695\")>,\n",
       " <selenium.webdriver.remote.webelement.WebElement (session=\"b4f6839d2c007c99bfe08632c58c3160\", element=\"a346af85-57e6-4738-b6bb-de445d2dd60d\")>,\n",
       " <selenium.webdriver.remote.webelement.WebElement (session=\"b4f6839d2c007c99bfe08632c58c3160\", element=\"4e2a7b49-be05-4483-a556-bbf6e0ef1a06\")>,\n",
       " <selenium.webdriver.remote.webelement.WebElement (session=\"b4f6839d2c007c99bfe08632c58c3160\", element=\"3f2c22c5-1b56-443d-abe7-0f7047beed39\")>,\n",
       " <selenium.webdriver.remote.webelement.WebElement (session=\"b4f6839d2c007c99bfe08632c58c3160\", element=\"7ba5dfed-bedc-4418-b41a-c89ef107ec06\")>,\n",
       " <selenium.webdriver.remote.webelement.WebElement (session=\"b4f6839d2c007c99bfe08632c58c3160\", element=\"ccd33306-e19e-4b60-985f-2c4db61beef0\")>,\n",
       " <selenium.webdriver.remote.webelement.WebElement (session=\"b4f6839d2c007c99bfe08632c58c3160\", element=\"e3a590db-c818-478d-b9ce-a9ee3b80fc66\")>,\n",
       " <selenium.webdriver.remote.webelement.WebElement (session=\"b4f6839d2c007c99bfe08632c58c3160\", element=\"3507d4b2-4811-482d-8a51-43a14c6805da\")>]"
      ]
     },
     "execution_count": 228,
     "metadata": {},
     "output_type": "execute_result"
    }
   ],
   "source": [
    "prices_tags = driver.find_elements_by_xpath(\"//div[@class='product-price']\")\n",
    "prices_tags"
   ]
  },
  {
   "cell_type": "code",
   "execution_count": 229,
   "metadata": {},
   "outputs": [
    {
     "data": {
      "text/plain": [
       "['Rs. 7495Rs. 14990(50% OFF)',\n",
       " 'Rs. 7192Rs. 8990(20% OFF)',\n",
       " 'Rs. 6995',\n",
       " 'Rs. 9995',\n",
       " 'Rs. 8295',\n",
       " 'Rs. 6999',\n",
       " 'Rs. 6995',\n",
       " 'Rs. 9999',\n",
       " 'Rs. 9999',\n",
       " 'Rs. 12999',\n",
       " 'Rs. 11999',\n",
       " 'Rs. 9490',\n",
       " 'Rs. 10199Rs. 16999(40% OFF)',\n",
       " 'Rs. 7039Rs. 10999(36% OFF)',\n",
       " 'Rs. 7690',\n",
       " 'Rs. 6990',\n",
       " 'Rs. 6999',\n",
       " 'Rs. 7413Rs. 10590(30% OFF)',\n",
       " 'Rs. 7999',\n",
       " 'Rs. 6999',\n",
       " 'Rs. 9999',\n",
       " 'Rs. 10449Rs. 18999(45% OFF)',\n",
       " 'Rs. 7595Rs. 10850(30% OFF)',\n",
       " 'Rs. 8399Rs. 11999(30% OFF)',\n",
       " 'Rs. 7999',\n",
       " 'Rs. 7999Rs. 15999(50% OFF)',\n",
       " 'Rs. 7999',\n",
       " 'Rs. 9799Rs. 13999(30% OFF)',\n",
       " 'Rs. 6993Rs. 9990(30% OFF)',\n",
       " 'Rs. 7693Rs. 10990(30% OFF)',\n",
       " 'Rs. 6993Rs. 9990(30% OFF)',\n",
       " 'Rs. 7440Rs. 8000(7% OFF)',\n",
       " 'Rs. 8999',\n",
       " 'Rs. 11990',\n",
       " 'Rs. 9490',\n",
       " 'Rs. 6749Rs. 14999(55% OFF)',\n",
       " 'Rs. 6749Rs. 14999(55% OFF)',\n",
       " 'Rs. 6749Rs. 14999(55% OFF)',\n",
       " 'Rs. 10990',\n",
       " 'Rs. 11990',\n",
       " 'Rs. 7490',\n",
       " 'Rs. 8999',\n",
       " 'Rs. 11999',\n",
       " 'Rs. 7192Rs. 8990(20% OFF)',\n",
       " 'Rs. 11495',\n",
       " 'Rs. 10999',\n",
       " 'Rs. 6995',\n",
       " 'Rs. 9513Rs. 13590(30% OFF)',\n",
       " 'Rs. 6799Rs. 8499(20% OFF)',\n",
       " 'Rs. 11999']"
      ]
     },
     "execution_count": 229,
     "metadata": {},
     "output_type": "execute_result"
    }
   ],
   "source": [
    "prices = [] # empty list\n",
    "for i in prices_tags:\n",
    "    prices.append(i.text)\n",
    "    \n",
    "prices"
   ]
  },
  {
   "cell_type": "code",
   "execution_count": 230,
   "metadata": {},
   "outputs": [],
   "source": [
    "prices=driver.find_elements_by_class_name(\"product-price\")\n",
    "for i in prices:\n",
    "    price.append(i.text)"
   ]
  },
  {
   "cell_type": "code",
   "execution_count": 231,
   "metadata": {},
   "outputs": [
    {
     "data": {
      "text/plain": [
       "100"
      ]
     },
     "execution_count": 231,
     "metadata": {},
     "output_type": "execute_result"
    }
   ],
   "source": [
    "len(price)"
   ]
  },
  {
   "cell_type": "code",
   "execution_count": 232,
   "metadata": {},
   "outputs": [
    {
     "data": {
      "text/plain": [
       "['Rs. 10496Rs. 14995(30% OFF)',\n",
       " 'Rs. 11495',\n",
       " 'Rs. 11999',\n",
       " 'Rs. 12995',\n",
       " 'Rs. 8236Rs. 10295(20% OFF)',\n",
       " 'Rs. 9995',\n",
       " 'Rs. 6999',\n",
       " 'Rs. 9749Rs. 14999(35% OFF)',\n",
       " 'Rs. 7699Rs. 10999(30% OFF)',\n",
       " 'Rs. 9749Rs. 14999(35% OFF)',\n",
       " 'Rs. 7857Rs. 8449(7% OFF)',\n",
       " 'Rs. 11999',\n",
       " 'Rs. 10999',\n",
       " 'Rs. 10999',\n",
       " 'Rs. 6999Rs. 9999(30% OFF)',\n",
       " 'Rs. 6999Rs. 9999(30% OFF)',\n",
       " 'Rs. 10995',\n",
       " 'Rs. 9999',\n",
       " 'Rs. 6999',\n",
       " 'Rs. 9990',\n",
       " 'Rs. 7149Rs. 10999(35% OFF)',\n",
       " 'Rs. 9999',\n",
       " 'Rs. 8999',\n",
       " 'Rs. 9799Rs. 13999(30% OFF)',\n",
       " 'Rs. 6999',\n",
       " 'Rs. 9999',\n",
       " 'Rs. 10999',\n",
       " 'Rs. 8094Rs. 13490(40% OFF)',\n",
       " 'Rs. 10490',\n",
       " 'Rs. 6990',\n",
       " 'Rs. 9999',\n",
       " 'Rs. 8500',\n",
       " 'Rs. 7990',\n",
       " 'Rs. 7495Rs. 14990(50% OFF)',\n",
       " 'Rs. 6999',\n",
       " 'Rs. 8499',\n",
       " 'Rs. 7999',\n",
       " 'Rs. 12495',\n",
       " 'Rs. 6999',\n",
       " 'Rs. 7499',\n",
       " 'Rs. 7006Rs. 7149(2% OFF)',\n",
       " 'Rs. 9999',\n",
       " 'Rs. 9999',\n",
       " 'Rs. 8999',\n",
       " 'Rs. 8990',\n",
       " 'Rs. 7349Rs. 10499(30% OFF)',\n",
       " 'Rs. 8499Rs. 16999(50% OFF)',\n",
       " 'Rs. 8999',\n",
       " 'Rs. 7192Rs. 8990(20% OFF)',\n",
       " 'Rs. 7495Rs. 14990(50% OFF)',\n",
       " 'Rs. 7495Rs. 14990(50% OFF)',\n",
       " 'Rs. 7192Rs. 8990(20% OFF)',\n",
       " 'Rs. 6995',\n",
       " 'Rs. 9995',\n",
       " 'Rs. 8295',\n",
       " 'Rs. 6999',\n",
       " 'Rs. 6995',\n",
       " 'Rs. 9999',\n",
       " 'Rs. 9999',\n",
       " 'Rs. 12999',\n",
       " 'Rs. 11999',\n",
       " 'Rs. 9490',\n",
       " 'Rs. 10199Rs. 16999(40% OFF)',\n",
       " 'Rs. 7039Rs. 10999(36% OFF)',\n",
       " 'Rs. 7690',\n",
       " 'Rs. 6990',\n",
       " 'Rs. 6999',\n",
       " 'Rs. 7413Rs. 10590(30% OFF)',\n",
       " 'Rs. 7999',\n",
       " 'Rs. 6999',\n",
       " 'Rs. 9999',\n",
       " 'Rs. 10449Rs. 18999(45% OFF)',\n",
       " 'Rs. 7595Rs. 10850(30% OFF)',\n",
       " 'Rs. 8399Rs. 11999(30% OFF)',\n",
       " 'Rs. 7999',\n",
       " 'Rs. 7999Rs. 15999(50% OFF)',\n",
       " 'Rs. 7999',\n",
       " 'Rs. 9799Rs. 13999(30% OFF)',\n",
       " 'Rs. 6993Rs. 9990(30% OFF)',\n",
       " 'Rs. 7693Rs. 10990(30% OFF)',\n",
       " 'Rs. 6993Rs. 9990(30% OFF)',\n",
       " 'Rs. 7440Rs. 8000(7% OFF)',\n",
       " 'Rs. 8999',\n",
       " 'Rs. 11990',\n",
       " 'Rs. 9490',\n",
       " 'Rs. 6749Rs. 14999(55% OFF)',\n",
       " 'Rs. 6749Rs. 14999(55% OFF)',\n",
       " 'Rs. 6749Rs. 14999(55% OFF)',\n",
       " 'Rs. 10990',\n",
       " 'Rs. 11990',\n",
       " 'Rs. 7490',\n",
       " 'Rs. 8999',\n",
       " 'Rs. 11999',\n",
       " 'Rs. 7192Rs. 8990(20% OFF)',\n",
       " 'Rs. 11495',\n",
       " 'Rs. 10999',\n",
       " 'Rs. 6995',\n",
       " 'Rs. 9513Rs. 13590(30% OFF)',\n",
       " 'Rs. 6799Rs. 8499(20% OFF)',\n",
       " 'Rs. 11999']"
      ]
     },
     "execution_count": 232,
     "metadata": {},
     "output_type": "execute_result"
    }
   ],
   "source": [
    "price"
   ]
  },
  {
   "cell_type": "code",
   "execution_count": 233,
   "metadata": {},
   "outputs": [],
   "source": [
    "import pandas as pd              # making dataframe\n",
    "myntra=pd.DataFrame({})\n",
    "myntra['Brand of the shoes']=brand\n",
    "myntra['Short Shoe Description']=product_desc\n",
    "myntra['price']=price"
   ]
  },
  {
   "cell_type": "code",
   "execution_count": 234,
   "metadata": {},
   "outputs": [
    {
     "data": {
      "text/html": [
       "<div>\n",
       "<style scoped>\n",
       "    .dataframe tbody tr th:only-of-type {\n",
       "        vertical-align: middle;\n",
       "    }\n",
       "\n",
       "    .dataframe tbody tr th {\n",
       "        vertical-align: top;\n",
       "    }\n",
       "\n",
       "    .dataframe thead th {\n",
       "        text-align: right;\n",
       "    }\n",
       "</style>\n",
       "<table border=\"1\" class=\"dataframe\">\n",
       "  <thead>\n",
       "    <tr style=\"text-align: right;\">\n",
       "      <th></th>\n",
       "      <th>Brand of the shoes</th>\n",
       "      <th>Short Shoe Description</th>\n",
       "      <th>price</th>\n",
       "    </tr>\n",
       "  </thead>\n",
       "  <tbody>\n",
       "    <tr>\n",
       "      <th>0</th>\n",
       "      <td>Nike</td>\n",
       "      <td></td>\n",
       "      <td>Rs. 10496Rs. 14995(30% OFF)</td>\n",
       "    </tr>\n",
       "    <tr>\n",
       "      <th>1</th>\n",
       "      <td>Nike</td>\n",
       "      <td>AIR ZOOM PEGASUS Running Shoes</td>\n",
       "      <td>Rs. 11495</td>\n",
       "    </tr>\n",
       "    <tr>\n",
       "      <th>2</th>\n",
       "      <td>ALDO</td>\n",
       "      <td>Men Driving Shoes</td>\n",
       "      <td>Rs. 11999</td>\n",
       "    </tr>\n",
       "    <tr>\n",
       "      <th>3</th>\n",
       "      <td>Nike</td>\n",
       "      <td>Men KD13 EP Basketball Shoes</td>\n",
       "      <td>Rs. 12995</td>\n",
       "    </tr>\n",
       "    <tr>\n",
       "      <th>4</th>\n",
       "      <td>Nike</td>\n",
       "      <td>Men AIR ZOOM Running Shoes</td>\n",
       "      <td>Rs. 8236Rs. 10295(20% OFF)</td>\n",
       "    </tr>\n",
       "    <tr>\n",
       "      <th>...</th>\n",
       "      <td>...</td>\n",
       "      <td>...</td>\n",
       "      <td>...</td>\n",
       "    </tr>\n",
       "    <tr>\n",
       "      <th>95</th>\n",
       "      <td>Skechers</td>\n",
       "      <td>Men MAX ROAD 4 Running Shoes</td>\n",
       "      <td>Rs. 10999</td>\n",
       "    </tr>\n",
       "    <tr>\n",
       "      <th>96</th>\n",
       "      <td>Florsheim</td>\n",
       "      <td>Men Solid Leather Formal Derbys</td>\n",
       "      <td>Rs. 6995</td>\n",
       "    </tr>\n",
       "    <tr>\n",
       "      <th>97</th>\n",
       "      <td>Kenneth Cole</td>\n",
       "      <td>Women Solid Flat Boots</td>\n",
       "      <td>Rs. 9513Rs. 13590(30% OFF)</td>\n",
       "    </tr>\n",
       "    <tr>\n",
       "      <th>98</th>\n",
       "      <td>Bugatti</td>\n",
       "      <td>Women Solid Block Heels</td>\n",
       "      <td>Rs. 6799Rs. 8499(20% OFF)</td>\n",
       "    </tr>\n",
       "    <tr>\n",
       "      <th>99</th>\n",
       "      <td>UNDER ARMOUR</td>\n",
       "      <td>HOVR Infinite 2 Running Shoes</td>\n",
       "      <td>Rs. 11999</td>\n",
       "    </tr>\n",
       "  </tbody>\n",
       "</table>\n",
       "<p>100 rows × 3 columns</p>\n",
       "</div>"
      ],
      "text/plain": [
       "   Brand of the shoes           Short Shoe Description  \\\n",
       "0                Nike                                    \n",
       "1                Nike   AIR ZOOM PEGASUS Running Shoes   \n",
       "2                ALDO                Men Driving Shoes   \n",
       "3                Nike     Men KD13 EP Basketball Shoes   \n",
       "4                Nike       Men AIR ZOOM Running Shoes   \n",
       "..                ...                              ...   \n",
       "95           Skechers     Men MAX ROAD 4 Running Shoes   \n",
       "96          Florsheim  Men Solid Leather Formal Derbys   \n",
       "97       Kenneth Cole           Women Solid Flat Boots   \n",
       "98            Bugatti          Women Solid Block Heels   \n",
       "99       UNDER ARMOUR    HOVR Infinite 2 Running Shoes   \n",
       "\n",
       "                          price  \n",
       "0   Rs. 10496Rs. 14995(30% OFF)  \n",
       "1                     Rs. 11495  \n",
       "2                     Rs. 11999  \n",
       "3                     Rs. 12995  \n",
       "4    Rs. 8236Rs. 10295(20% OFF)  \n",
       "..                          ...  \n",
       "95                    Rs. 10999  \n",
       "96                     Rs. 6995  \n",
       "97   Rs. 9513Rs. 13590(30% OFF)  \n",
       "98    Rs. 6799Rs. 8499(20% OFF)  \n",
       "99                    Rs. 11999  \n",
       "\n",
       "[100 rows x 3 columns]"
      ]
     },
     "execution_count": 234,
     "metadata": {},
     "output_type": "execute_result"
    }
   ],
   "source": [
    "myntra"
   ]
  },
  {
   "cell_type": "code",
   "execution_count": 235,
   "metadata": {},
   "outputs": [],
   "source": [
    "driver.close()"
   ]
  },
  {
   "cell_type": "code",
   "execution_count": null,
   "metadata": {},
   "outputs": [],
   "source": []
  },
  {
   "cell_type": "markdown",
   "metadata": {},
   "source": [
    "# Q 10- Scrape data from amazon for laptops"
   ]
  },
  {
   "cell_type": "code",
   "execution_count": 271,
   "metadata": {},
   "outputs": [],
   "source": [
    "import time\n",
    "from selenium.common.exceptions import NoSuchElementException"
   ]
  },
  {
   "cell_type": "code",
   "execution_count": 272,
   "metadata": {},
   "outputs": [],
   "source": [
    "# connecting to web driver\n",
    "driver = webdriver.Chrome(r\"C:\\Users\\Nitish\\Downloads\\Compressed\\chromedriver.exe\")"
   ]
  },
  {
   "cell_type": "code",
   "execution_count": 273,
   "metadata": {},
   "outputs": [],
   "source": [
    "# send get request to the webpage server to get the source code of the page\n",
    "url = 'https://www.amazon.in/'\n",
    "driver.get(url) "
   ]
  },
  {
   "cell_type": "code",
   "execution_count": 274,
   "metadata": {},
   "outputs": [
    {
     "data": {
      "text/plain": [
       "<selenium.webdriver.remote.webelement.WebElement (session=\"7d432669da9f994ec55993b96d22adfa\", element=\"a0dd6fd1-bfb5-4b61-a257-757cf7eb67bd\")>"
      ]
     },
     "execution_count": 274,
     "metadata": {},
     "output_type": "execute_result"
    }
   ],
   "source": [
    "search_product = driver.find_element_by_id(\"twotabsearchtextbox\")\n",
    "search_product"
   ]
  },
  {
   "cell_type": "code",
   "execution_count": 275,
   "metadata": {},
   "outputs": [],
   "source": [
    "# write on search bar\n",
    "search_product.send_keys(\"Laptop\")"
   ]
  },
  {
   "cell_type": "code",
   "execution_count": 276,
   "metadata": {},
   "outputs": [],
   "source": [
    "search_btn = driver.find_element_by_id(\"nav-search-submit-button\").click()"
   ]
  },
  {
   "cell_type": "code",
   "execution_count": 277,
   "metadata": {},
   "outputs": [],
   "source": [
    "# Selecting filter Intel Core i7\n",
    "cpu_filter = driver.find_element_by_xpath(\"/html/body/div[1]/div[2]/div[1]/div/div[2]/div/div[3]/span/div[1]/span/div/div/div[5]/ul[1]/li[26]/span/a/div/label/i\")\n",
    "cpu_filter.click()"
   ]
  },
  {
   "cell_type": "code",
   "execution_count": 278,
   "metadata": {},
   "outputs": [],
   "source": [
    "# Selecting filter Intel Core i9\n",
    "cpu_filters = driver.find_element_by_xpath(\"/html/body/div[1]/div[2]/div[1]/div/div[2]/div/div[3]/span/div[1]/span/div/div/div[5]/ul[1]/li[28]/span/a/div/label/i\")\n",
    "cpu_filters.click()"
   ]
  },
  {
   "cell_type": "code",
   "execution_count": 279,
   "metadata": {},
   "outputs": [],
   "source": [
    "# Selecting rating filter as some of the products does not have rating\n",
    "rating_filters = driver.find_element_by_xpath(\"/html/body/div[1]/div[2]/div[1]/div/div[2]/div/div[3]/span/div[1]/span/div/div/div[2]/ul/li[2]/span/a/section/i\")\n",
    "rating_filters.click()"
   ]
  },
  {
   "cell_type": "code",
   "execution_count": 280,
   "metadata": {},
   "outputs": [
    {
     "data": {
      "text/plain": [
       "[<selenium.webdriver.remote.webelement.WebElement (session=\"7d432669da9f994ec55993b96d22adfa\", element=\"e8ae6173-ae37-4e51-abe4-33b79a0b5629\")>,\n",
       " <selenium.webdriver.remote.webelement.WebElement (session=\"7d432669da9f994ec55993b96d22adfa\", element=\"d8252641-c523-41e5-b292-321a8d3b9755\")>,\n",
       " <selenium.webdriver.remote.webelement.WebElement (session=\"7d432669da9f994ec55993b96d22adfa\", element=\"102991f4-f8c3-44e1-9ba8-6b4b8f5ede8b\")>,\n",
       " <selenium.webdriver.remote.webelement.WebElement (session=\"7d432669da9f994ec55993b96d22adfa\", element=\"a2a30f8f-9d04-4ba2-be0d-59735cbe4ab6\")>,\n",
       " <selenium.webdriver.remote.webelement.WebElement (session=\"7d432669da9f994ec55993b96d22adfa\", element=\"253d7469-1acb-42fb-9d53-9ea0e14b67f8\")>,\n",
       " <selenium.webdriver.remote.webelement.WebElement (session=\"7d432669da9f994ec55993b96d22adfa\", element=\"35ffeabe-9031-4f0b-9801-c98182190867\")>,\n",
       " <selenium.webdriver.remote.webelement.WebElement (session=\"7d432669da9f994ec55993b96d22adfa\", element=\"3a8d622e-b324-46b2-ab09-200b83790699\")>,\n",
       " <selenium.webdriver.remote.webelement.WebElement (session=\"7d432669da9f994ec55993b96d22adfa\", element=\"22bc8f95-d738-4499-9f3e-c35242b17e33\")>,\n",
       " <selenium.webdriver.remote.webelement.WebElement (session=\"7d432669da9f994ec55993b96d22adfa\", element=\"81690226-565e-4907-8bef-a8bfcef16667\")>,\n",
       " <selenium.webdriver.remote.webelement.WebElement (session=\"7d432669da9f994ec55993b96d22adfa\", element=\"74b9bf8c-a104-441b-9cc4-dc0b6090bd61\")>]"
      ]
     },
     "execution_count": 280,
     "metadata": {},
     "output_type": "execute_result"
    }
   ],
   "source": [
    "# extracting web elements\n",
    "title_tags = driver.find_elements_by_xpath(\"//span[@class='a-size-medium a-color-base a-text-normal']\")\n",
    "title_tags[:10]"
   ]
  },
  {
   "cell_type": "code",
   "execution_count": 281,
   "metadata": {},
   "outputs": [
    {
     "data": {
      "text/plain": [
       "['HP Pavilion (2021) Thin & Light 11th Gen Core i7 Laptop, 16 GB RAM, 1TB SSD, Iris Xe Graphics, 14\" (35.56cms) FHD Screen, Windows 10, MS Office, Backlit Keyboard (14-dv0058TU)',\n",
       " 'HP Pavilion x360 (2021) 14\" (35.56cms) FHD Touchscreen Laptop, 11th Gen Core i7, 8 GB RAM, 512GB SSD, 2-in-1 Convertible, Windows 10, MS Office, Finger Print Reader (14-dw1040TU)',\n",
       " 'Mi Notebook Horizon Edition 14 Intel Core i7-10510U 10th Gen 14-inch (35.56 cms) Thin and Light Laptop(8GB/512GB SSD/Windows 10/Nvidia MX350 2GB Graphics/Grey/1.35Kg), XMA1904-AF+Webcam',\n",
       " 'Dell Inspiron 5410 14\" FHD Touch Display 2in1 Laptop (i7-1165G7 / 16GB / 512GB SSD / Integrated Graphics / Win 10 + MSO / Backlit KB + FPR + Active Pen / Silver Metal Color) D560469WIN9S',\n",
       " 'HP Pavilion Gaming 10th Gen Intel Core i7 Processor 15.6-inch FHD Gaming Laptop (16GB/512GB SSD + 32GB Intel Optane/Windows 10/NVIDIA 1650Ti 4GB/Shadow Black), 15-dk1509TX',\n",
       " 'HP 14 Thin & Light 14\" (35.56cms) FHD Laptop (11th Gen Intel i7-1165G7/8GB/512GB SSD/Windows 10/MS Office 2019/Alexa Built-in/Pale Gold/1.47 kg), 14s-dr2007TU',\n",
       " 'ASUS VivoBook S S14 Intel Core i7-1165G7 11th Gen 14-inch FHD Thin and Light Laptop (8GB RAM/512GB SSD + 32GB Optane Memory/Windows 10/Office 2019/Iris X Graphics ;Dreamy White;1.4 Kg), S433EA-AM702TS',\n",
       " 'ASUS TUF Gaming F15, 15.6\" FHD 144Hz, Intel Core i7-10870H 10th Gen, GTX 1650 Ti GDDR6 4GB Graphics, Gaming Laptop (16GB RAM/1TB HDD + 256GB SSD/Windows 10/Fortress Gray/2.3 Kg), FX566LI-HN133T',\n",
       " 'Life Digital Laptop 15.6-inch (39.62 cms) (Intel Core i7, 4GB RAM, 256GB SSD, Windows 10), ZED AIR CX7',\n",
       " 'HP Pavilion Gaming(2021) 10th Gen Intel Core i7 15.6-inch(39.6 cm) FHD IPS 144Hz Gaming Laptop (16GB/512GB SSD + 32GB Intel Optane/NVIDIA GTX 1650Ti 4GB/Win 10/MS Office/Shadow Black), 15-DK1511TX']"
      ]
     },
     "execution_count": 281,
     "metadata": {},
     "output_type": "execute_result"
    }
   ],
   "source": [
    "title = [] # empty list\n",
    "for i in title_tags:\n",
    "    title.append(i.text)\n",
    "    \n",
    "title[:10]"
   ]
  },
  {
   "cell_type": "code",
   "execution_count": 282,
   "metadata": {},
   "outputs": [
    {
     "data": {
      "text/plain": [
       "[<selenium.webdriver.remote.webelement.WebElement (session=\"7d432669da9f994ec55993b96d22adfa\", element=\"be2c5ad4-cb33-48c0-8d79-527cddb501d7\")>,\n",
       " <selenium.webdriver.remote.webelement.WebElement (session=\"7d432669da9f994ec55993b96d22adfa\", element=\"fb242856-268e-4d3f-99f1-4c4fd4c16314\")>,\n",
       " <selenium.webdriver.remote.webelement.WebElement (session=\"7d432669da9f994ec55993b96d22adfa\", element=\"7dff1f9f-0da4-417f-b872-5449c7ef8856\")>,\n",
       " <selenium.webdriver.remote.webelement.WebElement (session=\"7d432669da9f994ec55993b96d22adfa\", element=\"f4ee1c01-00fb-40f8-bcf6-940d304cf2f0\")>,\n",
       " <selenium.webdriver.remote.webelement.WebElement (session=\"7d432669da9f994ec55993b96d22adfa\", element=\"b2c1779e-9293-460f-9d03-bb698e75f38e\")>,\n",
       " <selenium.webdriver.remote.webelement.WebElement (session=\"7d432669da9f994ec55993b96d22adfa\", element=\"8e446851-0b7f-478d-bfe5-c761e58b7572\")>,\n",
       " <selenium.webdriver.remote.webelement.WebElement (session=\"7d432669da9f994ec55993b96d22adfa\", element=\"1f02b081-c594-41e0-a31b-0d885d57a9ca\")>,\n",
       " <selenium.webdriver.remote.webelement.WebElement (session=\"7d432669da9f994ec55993b96d22adfa\", element=\"4c53124f-3003-4644-bb9c-a2d393671ccf\")>,\n",
       " <selenium.webdriver.remote.webelement.WebElement (session=\"7d432669da9f994ec55993b96d22adfa\", element=\"21808b85-7e80-4b8d-a905-f30c630ad38b\")>,\n",
       " <selenium.webdriver.remote.webelement.WebElement (session=\"7d432669da9f994ec55993b96d22adfa\", element=\"27468d6c-3a52-442c-b2af-ce465a5b1f3c\")>]"
      ]
     },
     "execution_count": 282,
     "metadata": {},
     "output_type": "execute_result"
    }
   ],
   "source": [
    "# extracting web elements\n",
    "price_tags = driver.find_elements_by_xpath(\"//span[@class='a-price-whole']\")\n",
    "price_tags[:10]"
   ]
  },
  {
   "cell_type": "code",
   "execution_count": 283,
   "metadata": {},
   "outputs": [
    {
     "data": {
      "text/plain": [
       "['84,990',\n",
       " '78,903',\n",
       " '59,999',\n",
       " '91,450',\n",
       " '86,990',\n",
       " '88,990',\n",
       " '76,990',\n",
       " '81,990',\n",
       " '40,932',\n",
       " '91,990']"
      ]
     },
     "execution_count": 283,
     "metadata": {},
     "output_type": "execute_result"
    }
   ],
   "source": [
    "price = [] # empty list\n",
    "for i in price_tags:\n",
    "    price.append(i.text)\n",
    "    \n",
    "price[:10]"
   ]
  },
  {
   "cell_type": "code",
   "execution_count": 284,
   "metadata": {},
   "outputs": [],
   "source": [
    "urls = [] # empty list\n",
    "for i in driver.find_elements_by_xpath(\"//a[@class='a-link-normal a-text-normal']\"):\n",
    "    urls.append(i.get_attribute(\"href\"))   # to get all the urls with 'href' tags"
   ]
  },
  {
   "cell_type": "code",
   "execution_count": 285,
   "metadata": {},
   "outputs": [],
   "source": [
    "rating_tags = [] # empty list"
   ]
  },
  {
   "cell_type": "code",
   "execution_count": 286,
   "metadata": {},
   "outputs": [],
   "source": [
    "for i in urls[:10]: # to scrape data from 10 pages by running the loop \n",
    "    driver.get(i)\n",
    "    time.sleep(5) \n",
    "    try:\n",
    "        rating=driver.find_element_by_xpath(\"//span[@class='a-size-medium a-color-base']\")\n",
    "        rating_tags.append(rating.text)\n",
    "    except NoSuchElementException:\n",
    "        rating_tags.append('-') # to append '-' if no text found"
   ]
  },
  {
   "cell_type": "code",
   "execution_count": 287,
   "metadata": {},
   "outputs": [
    {
     "data": {
      "text/plain": [
       "['4.5 out of 5',\n",
       " '3.9 out of 5',\n",
       " '4.4 out of 5',\n",
       " '4.5 out of 5',\n",
       " '4.2 out of 5',\n",
       " '4.6 out of 5',\n",
       " '4.4 out of 5',\n",
       " '4.5 out of 5',\n",
       " '3.7 out of 5',\n",
       " '3 out of 5']"
      ]
     },
     "execution_count": 287,
     "metadata": {},
     "output_type": "execute_result"
    }
   ],
   "source": [
    "rating_tags"
   ]
  },
  {
   "cell_type": "code",
   "execution_count": 288,
   "metadata": {},
   "outputs": [],
   "source": [
    "amazon=pd.DataFrame({})            # making dataframe\n",
    "amazon['Title']=title[:10]\n",
    "amazon['Price']=price[:10]\n",
    "amazon['Rating']=rating_tags[:10]"
   ]
  },
  {
   "cell_type": "code",
   "execution_count": 289,
   "metadata": {},
   "outputs": [
    {
     "data": {
      "text/html": [
       "<div>\n",
       "<style scoped>\n",
       "    .dataframe tbody tr th:only-of-type {\n",
       "        vertical-align: middle;\n",
       "    }\n",
       "\n",
       "    .dataframe tbody tr th {\n",
       "        vertical-align: top;\n",
       "    }\n",
       "\n",
       "    .dataframe thead th {\n",
       "        text-align: right;\n",
       "    }\n",
       "</style>\n",
       "<table border=\"1\" class=\"dataframe\">\n",
       "  <thead>\n",
       "    <tr style=\"text-align: right;\">\n",
       "      <th></th>\n",
       "      <th>Title</th>\n",
       "      <th>Price</th>\n",
       "      <th>Rating</th>\n",
       "    </tr>\n",
       "  </thead>\n",
       "  <tbody>\n",
       "    <tr>\n",
       "      <th>0</th>\n",
       "      <td>HP Pavilion (2021) Thin &amp; Light 11th Gen Core ...</td>\n",
       "      <td>84,990</td>\n",
       "      <td>4.5 out of 5</td>\n",
       "    </tr>\n",
       "    <tr>\n",
       "      <th>1</th>\n",
       "      <td>HP Pavilion x360 (2021) 14\" (35.56cms) FHD Tou...</td>\n",
       "      <td>78,903</td>\n",
       "      <td>3.9 out of 5</td>\n",
       "    </tr>\n",
       "    <tr>\n",
       "      <th>2</th>\n",
       "      <td>Mi Notebook Horizon Edition 14 Intel Core i7-1...</td>\n",
       "      <td>59,999</td>\n",
       "      <td>4.4 out of 5</td>\n",
       "    </tr>\n",
       "    <tr>\n",
       "      <th>3</th>\n",
       "      <td>Dell Inspiron 5410 14\" FHD Touch Display 2in1 ...</td>\n",
       "      <td>91,450</td>\n",
       "      <td>4.5 out of 5</td>\n",
       "    </tr>\n",
       "    <tr>\n",
       "      <th>4</th>\n",
       "      <td>HP Pavilion Gaming 10th Gen Intel Core i7 Proc...</td>\n",
       "      <td>86,990</td>\n",
       "      <td>4.2 out of 5</td>\n",
       "    </tr>\n",
       "    <tr>\n",
       "      <th>5</th>\n",
       "      <td>HP 14 Thin &amp; Light 14\" (35.56cms) FHD Laptop (...</td>\n",
       "      <td>88,990</td>\n",
       "      <td>4.6 out of 5</td>\n",
       "    </tr>\n",
       "    <tr>\n",
       "      <th>6</th>\n",
       "      <td>ASUS VivoBook S S14 Intel Core i7-1165G7 11th ...</td>\n",
       "      <td>76,990</td>\n",
       "      <td>4.4 out of 5</td>\n",
       "    </tr>\n",
       "    <tr>\n",
       "      <th>7</th>\n",
       "      <td>ASUS TUF Gaming F15, 15.6\" FHD 144Hz, Intel Co...</td>\n",
       "      <td>81,990</td>\n",
       "      <td>4.5 out of 5</td>\n",
       "    </tr>\n",
       "    <tr>\n",
       "      <th>8</th>\n",
       "      <td>Life Digital Laptop 15.6-inch (39.62 cms) (Int...</td>\n",
       "      <td>40,932</td>\n",
       "      <td>3.7 out of 5</td>\n",
       "    </tr>\n",
       "    <tr>\n",
       "      <th>9</th>\n",
       "      <td>HP Pavilion Gaming(2021) 10th Gen Intel Core i...</td>\n",
       "      <td>91,990</td>\n",
       "      <td>3 out of 5</td>\n",
       "    </tr>\n",
       "  </tbody>\n",
       "</table>\n",
       "</div>"
      ],
      "text/plain": [
       "                                               Title   Price        Rating\n",
       "0  HP Pavilion (2021) Thin & Light 11th Gen Core ...  84,990  4.5 out of 5\n",
       "1  HP Pavilion x360 (2021) 14\" (35.56cms) FHD Tou...  78,903  3.9 out of 5\n",
       "2  Mi Notebook Horizon Edition 14 Intel Core i7-1...  59,999  4.4 out of 5\n",
       "3  Dell Inspiron 5410 14\" FHD Touch Display 2in1 ...  91,450  4.5 out of 5\n",
       "4  HP Pavilion Gaming 10th Gen Intel Core i7 Proc...  86,990  4.2 out of 5\n",
       "5  HP 14 Thin & Light 14\" (35.56cms) FHD Laptop (...  88,990  4.6 out of 5\n",
       "6  ASUS VivoBook S S14 Intel Core i7-1165G7 11th ...  76,990  4.4 out of 5\n",
       "7  ASUS TUF Gaming F15, 15.6\" FHD 144Hz, Intel Co...  81,990  4.5 out of 5\n",
       "8  Life Digital Laptop 15.6-inch (39.62 cms) (Int...  40,932  3.7 out of 5\n",
       "9  HP Pavilion Gaming(2021) 10th Gen Intel Core i...  91,990    3 out of 5"
      ]
     },
     "execution_count": 289,
     "metadata": {},
     "output_type": "execute_result"
    }
   ],
   "source": [
    "amazon"
   ]
  },
  {
   "cell_type": "code",
   "execution_count": 290,
   "metadata": {},
   "outputs": [],
   "source": [
    "driver.close()"
   ]
  },
  {
   "cell_type": "code",
   "execution_count": null,
   "metadata": {},
   "outputs": [],
   "source": []
  }
 ],
 "metadata": {
  "kernelspec": {
   "display_name": "Python 3",
   "language": "python",
   "name": "python3"
  },
  "language_info": {
   "codemirror_mode": {
    "name": "ipython",
    "version": 3
   },
   "file_extension": ".py",
   "mimetype": "text/x-python",
   "name": "python",
   "nbconvert_exporter": "python",
   "pygments_lexer": "ipython3",
   "version": "3.8.5"
  }
 },
 "nbformat": 4,
 "nbformat_minor": 4
}
